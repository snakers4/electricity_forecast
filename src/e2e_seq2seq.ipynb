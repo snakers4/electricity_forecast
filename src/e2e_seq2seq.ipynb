{
 "cells": [
  {
   "cell_type": "markdown",
   "metadata": {
    "heading_collapsed": true
   },
   "source": [
    "# Prepare data"
   ]
  },
  {
   "cell_type": "code",
   "execution_count": 1,
   "metadata": {
    "ExecuteTime": {
     "end_time": "2018-03-16T15:57:29.942824Z",
     "start_time": "2018-03-16T15:54:09.291860Z"
    },
    "code_folding": [
     34
    ],
    "hidden": true
   },
   "outputs": [
    {
     "name": "stdout",
     "output_type": "stream",
     "text": [
      "Starting the ETL process\n",
      "Time taken to complete the ETL process 191.06669878959656\n"
     ]
    },
    {
     "name": "stderr",
     "output_type": "stream",
     "text": [
      " 17%|█▋        | 1/6 [00:00<00:00,  6.46it/s]"
     ]
    },
    {
     "name": "stdout",
     "output_type": "stream",
     "text": [
      "Removing drastic outliers ... \n"
     ]
    },
    {
     "name": "stderr",
     "output_type": "stream",
     "text": [
      "100%|██████████| 6/6 [00:00<00:00,  6.15it/s]\n"
     ]
    }
   ],
   "source": [
    "import tqdm\n",
    "import time\n",
    "import numpy as np\n",
    "import pandas as pd\n",
    "from math import sqrt\n",
    "from sklearn import  metrics\n",
    " \n",
    "# custom utils and random forest scripts\n",
    "from Utils import ETL_emb, count_test_period\n",
    "\n",
    "# dummy variable list            \n",
    "from holidayList import hol_list\n",
    "\n",
    "LOGNUMBER = 'e2e_seq2seq'\n",
    "\n",
    "print('Starting the ETL process')\n",
    "\n",
    "start_time = time.time()\n",
    "df_train,df_sub = ETL_emb()\n",
    "test_lengths = count_test_period(df_sub)\n",
    "elapsed_time = time.time() - start_time \n",
    "\n",
    "print('Time taken to complete the ETL process {}'.format(elapsed_time))\n",
    "\n",
    "forecast_ids = list(test_lengths.keys())\n",
    "site_ids = list(df_sub.SiteId.unique())\n",
    "\n",
    "# suppress pandas warnings\n",
    "# do not do this in production!\n",
    "pd.set_option('mode.chained_assignment', None)\n",
    "\n",
    "submission_df = pd.read_csv('../data/forecast/submission_format.csv')\n",
    "submission_df = submission_df.set_index('obs_id')\n",
    "\n",
    "def preprocess_seq2seq(df_train,df_sub):\n",
    "    # add train / test marker\n",
    "    df_train['is_train'] = 1\n",
    "    df_sub['is_train'] = 0\n",
    "\n",
    "    # merge dataframes together\n",
    "    data_df = df_train.append(df_sub)\n",
    "    del df_train,df_sub\n",
    "    \n",
    "    # sort dataframe by site_id and timestamp \n",
    "    # so that we could easily use ar features \n",
    "    # and do indexing\n",
    "    data_df['Timestamp'] = pd.to_datetime(data_df['Timestamp'] )\n",
    "    data_df = data_df.sort_values(by = ['SiteId','Timestamp'])\n",
    "    \n",
    "    # replace non-existent temperature with base temperature\n",
    "    data_df.loc[(data_df.Temperature == -1),'Temperature'] = data_df.loc[(data_df.Temperature == -1),'BaseTemperature']    \n",
    "    \n",
    "    \n",
    "    # produce future features for temperature\n",
    "    \"\"\"\n",
    "    print('Producing shifted future temperature features ...')\n",
    "    with tqdm.tqdm(total=len(site_ids)) as pbar:\n",
    "        for site_id in site_ids:\n",
    "            data_df.loc[data_df.SiteId == site_id, 'FT1'] = data_df.loc[data_df.SiteId == site_id, 'Temperature'].shift(-1)\n",
    "            data_df.loc[data_df.SiteId == site_id, 'FT5'] = data_df.loc[data_df.SiteId == site_id, 'Temperature'].shift(-5)\n",
    "            data_df.loc[data_df.SiteId == site_id, 'FT10'] = data_df.loc[data_df.SiteId == site_id, 'Temperature'].shift(-10)\n",
    "            data_df.loc[data_df.SiteId == site_id, 'FT50'] = data_df.loc[data_df.SiteId == site_id, 'Temperature'].shift(-50)\n",
    "\n",
    "            data_df.loc[data_df.SiteId == site_id, 'FT1'] = data_df.loc[data_df.SiteId == site_id, 'FT1'].fillna(method='ffill')\n",
    "            data_df.loc[data_df.SiteId == site_id, 'FT5'] = data_df.loc[data_df.SiteId == site_id, 'FT5'].fillna(method='ffill')\n",
    "            data_df.loc[data_df.SiteId == site_id, 'FT10'] = data_df.loc[data_df.SiteId == site_id, 'FT10'].fillna(method='ffill')\n",
    "            data_df.loc[data_df.SiteId == site_id, 'FT50'] = data_df.loc[data_df.SiteId == site_id, 'FT50'].fillna(method='ffill')\n",
    "\n",
    "            pbar.update(1)\n",
    "    \"\"\"\n",
    "    \n",
    "    # remove very drastic outliers \n",
    "    print('Removing drastic outliers ... ')\n",
    "    with tqdm.tqdm(total=len([1964, 1968, 1969, 4325, 5276, 5536])) as pbar:\n",
    "        for forecast_id in [1964, 1968, 1969, 4325, 5276, 5536]:\n",
    "            data_df.loc[(data_df.ForecastId == forecast_id)\n",
    "                        &(data_df.Value>10**8), 'Value'] = np.nan\n",
    "\n",
    "            data_df.loc[data_df.ForecastId == forecast_id, 'Value'] = data_df.loc[data_df.ForecastId == forecast_id, 'Value'].fillna(method='ffill')\n",
    "            data_df.loc[data_df.ForecastId == forecast_id, 'Value'] = data_df.loc[data_df.ForecastId == forecast_id, 'Value'].fillna(method='bfill')\n",
    "\n",
    "            pbar.update(1)\n",
    "            \n",
    "    return data_df\n",
    "\n",
    "data_df = preprocess_seq2seq(df_train,df_sub)\n",
    "# reset index to make sure we do not have double indexes and for easier indexing\n",
    "data_df = data_df.reset_index()\n",
    "del data_df['index']\n",
    "\n",
    "# leave only the first holiday\n",
    "data_df = data_df[(data_df['obs_id'].shift(+1) != data_df['obs_id'])]\n",
    "data_df = data_df.reset_index()\n",
    "del data_df['index']\n",
    "# fill days wo holidays with -1\n",
    "data_df['Holiday'] = data_df['Holiday'].fillna(value=-1)"
   ]
  },
  {
   "cell_type": "code",
   "execution_count": 2,
   "metadata": {
    "ExecuteTime": {
     "end_time": "2018-03-16T15:57:55.278072Z",
     "start_time": "2018-03-16T15:57:29.944283Z"
    },
    "code_folding": [],
    "hidden": true
   },
   "outputs": [],
   "source": [
    "# interpolation pipeline\n",
    "# (1) find normal series\n",
    "# (2) find series with all NaNs => mark as submit zeroes\n",
    "# (3) use linear interpolation for series with < 0.2 NaNs\n",
    "# (4) series with > 0.5 NaNs => submit averages\n",
    "# (5) series with at least one test set worth of data immediately before test set => truncate train data\n",
    "# (6) submit averages for the remaining series\n",
    "# in the end we have\n",
    "# (1) normal or interpolated series\n",
    "# (2) submit zeroes\n",
    "# (3) submit averages\n",
    "\n",
    "\n",
    "data_df['is_null'] = 0\n",
    "data_df.loc[pd.isnull(data_df.Value),'is_null'] = 1\n",
    "\n",
    "# find normal time series\n",
    "null_df = data_df[data_df.is_train == 1].groupby(['ForecastId'])['is_null'].sum()\n",
    "count_df = data_df[data_df.is_train == 1].groupby(['ForecastId'])['is_null'].count()\n",
    "stat_df = pd.DataFrame()\n",
    "stat_df['null_count'] = null_df\n",
    "stat_df['count'] = count_df\n",
    "stat_df['percent_null'] = stat_df['null_count']/stat_df['count']\n",
    "# stat_df[stat_df.percent_null>0].percent_null.plot(kind='hist')\n",
    "normal_forecast_ids = list(stat_df[(stat_df.percent_null==0)].index.values)\n",
    "\n",
    "# all non-normal series\n",
    "# that have all the train dataset values equal to NAs\n",
    "submit_zeroes = list(stat_df[(stat_df.percent_null==1)].index)\n",
    "# that have the majority of values equal to NAs\n",
    "submit_averages = list(stat_df[(stat_df.percent_null>0.5)\n",
    "                               &(stat_df.percent_null<1)].index)\n",
    "# use linear interpolation for values between 0 and 0.2\n",
    "linear_interpolation = list(stat_df[(stat_df.percent_null>0)\n",
    "                               &(stat_df.percent_null<0.2)].index)\n",
    "\n",
    "data_df.loc[data_df.ForecastId.isin(linear_interpolation),'Value'] = data_df.loc[data_df.ForecastId.isin(linear_interpolation),'Value'].interpolate(method='linear')\n",
    "\n",
    "try_truncating = list(stat_df[(stat_df.percent_null>0.2)\n",
    "                               &(stat_df.percent_null<0.5)].index)\n",
    "\n",
    "use_last_window = []\n",
    "\n",
    "for forecast_id in try_truncating:\n",
    "    test_len = data_df[(data_df.ForecastId==forecast_id)\n",
    "                        &(data_df.is_train==0)].shape[0]\n",
    "    \n",
    "    last_window = data_df[(data_df.ForecastId==forecast_id)\n",
    "                        &(data_df.is_train==1)].iloc[-test_len * 2 - 1:]\n",
    "    \n",
    "    non_blank_last_window = last_window[pd.notnull(last_window.Value)].shape[0] / last_window.shape[0]\n",
    "    \n",
    "    if (non_blank_last_window == 1):\n",
    "        use_last_window.append(forecast_id)\n",
    "    else:\n",
    "        submit_averages.append(forecast_id)\n",
    "        \n",
    "# drop non-last values for these forecast_ids\n",
    "for forecast_id in use_last_window:\n",
    "    \n",
    "    test_len = data_df[(data_df.ForecastId==forecast_id)\n",
    "                        &(data_df.is_train==0)].shape[0]\n",
    "\n",
    "    drop_index = data_df[data_df.ForecastId == forecast_id].index[:-test_len * 3 - 1]\n",
    "\n",
    "    data_df.drop(index=drop_index,inplace=True,axis=0)         \n",
    "    \n",
    "train_forecast_ids = normal_forecast_ids + linear_interpolation + use_last_window    "
   ]
  },
  {
   "cell_type": "code",
   "execution_count": 7,
   "metadata": {
    "ExecuteTime": {
     "end_time": "2018-03-17T08:27:17.896950Z",
     "start_time": "2018-03-17T08:27:17.542496Z"
    },
    "hidden": true
   },
   "outputs": [
    {
     "data": {
      "text/plain": [
       "array([-1.,  6.,  7.,  8.,  9., 11., 12., 15.,  0.,  1.,  2.,  3., 20.,\n",
       "        4.,  5., 10., 13., 14., 16., 21., 17., 26., 22., 23., 24., 25.,\n",
       "       29., 34., 35., 33., 47., 27., 53., 54., 55., 56., 48., 49., 51.,\n",
       "       50., 52., 66., 67., 68., 69., 65., 61., 62., 57., 58., 59., 60.,\n",
       "       74., 75., 70., 71., 72., 73., 81., 83., 84., 85., 76., 77., 78.,\n",
       "       79., 92., 80., 82., 88., 90., 91.])"
      ]
     },
     "execution_count": 7,
     "metadata": {},
     "output_type": "execute_result"
    }
   ],
   "source": [
    "data_df[data_df.ForecastId_type == '1_day'].Holiday.unique()"
   ]
  },
  {
   "cell_type": "markdown",
   "metadata": {
    "heading_collapsed": true
   },
   "source": [
    "# Try e2e models"
   ]
  },
  {
   "cell_type": "code",
   "execution_count": 28,
   "metadata": {
    "ExecuteTime": {
     "end_time": "2018-03-17T08:35:11.563845Z",
     "start_time": "2018-03-17T08:35:11.222606Z"
    },
    "code_folding": [
     24,
     105
    ],
    "hidden": true
   },
   "outputs": [],
   "source": [
    "import torch\n",
    "import torch.nn as nn\n",
    "import torch.nn.parallel\n",
    "import torch.backends.cudnn as cudnn\n",
    "import torch.optim\n",
    "from torch.optim.lr_scheduler import ReduceLROnPlateau,MultiStepLR\n",
    "import torch.utils.data\n",
    "import torchvision.transforms as transforms\n",
    "import torchvision.datasets as datasets\n",
    "import torchvision.models as models\n",
    "\n",
    "# custom classes\n",
    "from SDataset import S2SDataset\n",
    "from ELstm import E2ELSTM,WMSELoss,E2ELSTM_day\n",
    "\n",
    "import torch.utils.data as data\n",
    "from sklearn.preprocessing import StandardScaler\n",
    "from sklearn.model_selection import train_test_split\n",
    "from sklearn import metrics\n",
    "\n",
    "import pandas as pd\n",
    "import numpy as np\n",
    "from math import sqrt\n",
    "\n",
    "def train(train_loader,\n",
    "          model,\n",
    "          criterion,\n",
    "          optimizer,\n",
    "          epoch):\n",
    "    losses = AverageMeter()\n",
    "    # switch to train mode\n",
    "    model.train()\n",
    "\n",
    "    for i, (X_sequences_ar,X_sequences_meta,y_sequences) in enumerate(train_loader):\n",
    "        \n",
    "        # transform data from Batch x Window x Etc into Batch x Etc format\n",
    "        X_sequences_meta = X_sequences_meta.view(-1,X_sequences_meta.size(2),X_sequences_meta.size(3))\n",
    "        X_sequences_ar = X_sequences_ar.view(-1,X_sequences_ar.size(2),1).float()\n",
    "        y_sequences = y_sequences.view(-1,y_sequences.size(2)).float()\n",
    "        X_sequences_temp = X_sequences_meta[:,:,0:1].float()\n",
    "        X_sequences_meta = X_sequences_meta[:,:,1:].long()\n",
    "\n",
    "        \n",
    "        x_temp_var = torch.autograd.Variable(X_sequences_temp)\n",
    "        x_meta_var = torch.autograd.Variable(X_sequences_meta)\n",
    "        x_ar_var = torch.autograd.Variable(X_sequences_ar)\n",
    "        y_var = torch.autograd.Variable(y_sequences)\n",
    "        \n",
    "        # x_temp_var = torch.autograd.Variable(X_sequences_temp.cuda(async=True))\n",
    "        # x_meta_var = torch.autograd.Variable(X_sequences_meta.cuda(async=True))\n",
    "        # x_ar_var = torch.autograd.Variable(X_sequences_ar.cuda(async=True))\n",
    "        # y_var = torch.autograd.Variable(y_sequences.cuda(async=True))\n",
    "\n",
    "        # compute output\n",
    "        output = model(x_temp_var,x_meta_var,x_ar_var)\n",
    "        loss = criterion(output, y_var)\n",
    "\n",
    "        # measure accuracy and record loss\n",
    "        losses.update(loss.data[0], X_sequences_meta.size(0))\n",
    "\n",
    "        # compute gradient and do SGD step\n",
    "        optimizer.zero_grad()\n",
    "        loss.backward()\n",
    "        optimizer.step()\n",
    "        \n",
    "        if i % 10 == 0:\n",
    "            print('Epoch: [{0}][{1}/{2}]\\t'\n",
    "                  'Loss {loss.val:.4f} ({loss.avg:.4f})\\t'.format(\n",
    "                   epoch, i, len(train_loader), loss=losses))        \n",
    "           \n",
    "    return losses.avg\n",
    "\n",
    "def validate(val_loader, model, criterion):\n",
    "    losses = AverageMeter()\n",
    "    # switch to evaluate mode\n",
    "    model.eval()\n",
    "\n",
    "    for i, (X_sequences_ar,X_sequences_meta,y_sequences) in enumerate(val_loader):\n",
    "        \n",
    "        # transform data from Batch x Window x Etc into Batch x Etc format\n",
    "        X_sequences_meta = X_sequences_meta.view(-1,X_sequences_meta.size(2),X_sequences_meta.size(3))\n",
    "        X_sequences_ar = X_sequences_ar.view(-1,X_sequences_ar.size(2),1).float()\n",
    "        y_sequences = y_sequences.view(-1,y_sequences.size(2)).float()\n",
    "        X_sequences_temp = X_sequences_meta[:,:,0:1].float()\n",
    "        X_sequences_meta = X_sequences_meta[:,:,1:].long()\n",
    "\n",
    "        x_temp_var = torch.autograd.Variable(X_sequences_temp) # cuda(async=True))\n",
    "        x_meta_var = torch.autograd.Variable(X_sequences_meta) # cuda(async=True))\n",
    "        x_ar_var = torch.autograd.Variable(X_sequences_ar) #cuda(async=True))\n",
    "        y_var = torch.autograd.Variable(y_sequences) #.cuda(async=True))\n",
    "\n",
    "        # compute output\n",
    "        output = model(x_temp_var,x_meta_var,x_ar_var)\n",
    "        loss = criterion(output, y_var)\n",
    "        \n",
    "        # measure accuracy and record loss\n",
    "        losses.update(loss.data[0], X_sequences_meta.size(0))\n",
    "        \n",
    "        if i % 10 == 0:\n",
    "            print('Test: [{0}/{1}]\\t'\n",
    "                  'Loss {loss.val:.4f} ({loss.avg:.4f})\\t'.format(\n",
    "                   i, len(val_loader), loss=losses))      \n",
    "            \n",
    "    return losses.avg\n",
    "\n",
    "class AverageMeter(object):\n",
    "    \"\"\"Computes and stores the average and current value\"\"\"\n",
    "    def __init__(self):\n",
    "        self.reset()\n",
    "\n",
    "    def reset(self):\n",
    "        self.val = 0\n",
    "        self.avg = 0\n",
    "        self.sum = 0\n",
    "        self.count = 0\n",
    "\n",
    "    def update(self, val, n=1):\n",
    "        self.val = val\n",
    "        self.sum += val * n\n",
    "        self.count += n\n",
    "        self.avg = self.sum / self.count"
   ]
  },
  {
   "cell_type": "code",
   "execution_count": 22,
   "metadata": {
    "ExecuteTime": {
     "end_time": "2018-03-17T13:07:41.195764Z",
     "start_time": "2018-03-17T13:07:40.591080Z"
    },
    "code_folding": [
     13,
     95,
     133,
     151
    ],
    "hidden": true
   },
   "outputs": [],
   "source": [
    "import torch.utils.data as data\n",
    "from sklearn.preprocessing import StandardScaler\n",
    "from sklearn.model_selection import train_test_split \n",
    "from multiprocessing import Pool\n",
    "from Utils import process_categorical_features\n",
    "import numpy as np\n",
    "\n",
    "class S2VDataset(data.Dataset):\n",
    "    def __init__(self,\n",
    "                 ):\n",
    "        pass\n",
    "\n",
    "class S2SDataset(data.Dataset):\n",
    "    def __init__(self,\n",
    "                 df = None,\n",
    "                 series_type =  '15_mins', # '1_hour' '1_day'\n",
    "                 in_sequence_len = 192,\n",
    "                 out_sequence_len = 192,\n",
    "                 target = 'Value',\n",
    "                 mode = 'train', # train, val or test\n",
    "                 split_mode = 'random', # random or left or right\n",
    "                 predictors = []\n",
    "                 ):\n",
    "        \n",
    "        \n",
    "        print('Creating dataset object ...')\n",
    "        self.mode = mode\n",
    "        # select only one type of series\n",
    "        self.df = df[df.ForecastId_type == series_type]\n",
    "        \n",
    "        # factorize features even further\n",
    "        self.df = process_categorical_features(self.df,['Holiday','year', 'month', 'day', 'hour', 'minute','dow'])\n",
    "        \n",
    "        \n",
    "        # order of predictors is important for CNNs\n",
    "        self.predictors = predictors\n",
    "        self.in_sequence_len = in_sequence_len\n",
    "        self.out_sequence_len = out_sequence_len\n",
    "        self.target = target\n",
    "        self.mode = mode\n",
    "        self.split_mode = split_mode\n",
    "        \n",
    "        # store the selected time series' site_ids and forecast_ids\n",
    "        self.forecast_ids = list(self.df.ForecastId.unique())\n",
    "        \n",
    "        # do simple train test split based on forecast_ids\n",
    "        self.train_f_ids, self.val_f_ids = train_test_split(self.forecast_ids,\n",
    "                                                 test_size = 0.25,\n",
    "                                                 random_state = 42,\n",
    "                                                 )\n",
    "        \n",
    "        self.site_ids = list(self.df.SiteId.unique())\n",
    "        \n",
    "        # store the averages and std of series in dictionaries\n",
    "        self.mean_dict = {}\n",
    "        self.std_dict = {}\n",
    "\n",
    "        self.__normalize__()\n",
    "        \n",
    "    def __produce_idx_one__(self,\n",
    "                            forecast_id):\n",
    "\n",
    "        slice_df = self.df[self.df.ForecastId == forecast_id]\n",
    "        slice_df = slice_df.reset_index()\n",
    "\n",
    "        # how many training data we have\n",
    "        trainval_len = slice_df[slice_df.is_train == 1].shape[0]\n",
    "        # calculate how many rolling windows we have\n",
    "        trainval_window_count =  trainval_len - self.in_sequence_len - self.out_sequence_len\n",
    "\n",
    "        slice_df_predictors = slice_df[self.predictors].values\n",
    "        slice_df_targets = slice_df[self.target].values\n",
    "\n",
    "        # idx of the trainval subset\n",
    "        trainval_idx = list(slice_df[(slice_df.is_train == 1)].index)\n",
    "        # idx of the test subset\n",
    "        test_idx = list(slice_df[(slice_df.is_train == 0)].index)\n",
    "\n",
    "        # we always have enough data for several rolling windows for trainval\n",
    "        trainval_X_sequences_ar = np.asarray( [(slice_df_targets[trainval_idx[window:window+self.in_sequence_len]]) for window in range(0,trainval_window_count)] )\n",
    "        trainval_X_sequences_meta = np.asarray( [(slice_df_predictors[trainval_idx[window : window+self.in_sequence_len+self.out_sequence_len]]) for window in range(0,trainval_window_count)] ) \n",
    "        trainval_y_sequences = np.asarray( [(slice_df_targets[trainval_idx[window+self.in_sequence_len : window+self.in_sequence_len+self.out_sequence_len]]) for window in range(0,trainval_window_count)] )\n",
    "\n",
    "        len_diff = len(test_idx) - self.out_sequence_len\n",
    "        # if the test set has standard length\n",
    "        if len(test_idx) == self.out_sequence_len:\n",
    "            test_X_sequences_meta = slice_df_predictors[trainval_idx[-self.in_sequence_len:] + test_idx]\n",
    "            test_X_sequences_ar = slice_df_targets[trainval_idx[-self.in_sequence_len:]]\n",
    "        # otherwise add several points from the train dataset\n",
    "        else:\n",
    "            test_X_sequences_meta = slice_df_predictors[trainval_idx[- self.out_sequence_len - len_diff:] + test_idx]\n",
    "            test_X_sequences_ar = slice_df_targets[trainval_idx[- self.out_sequence_len - len_diff:]]         \n",
    "\n",
    "        return trainval_X_sequences_ar,trainval_X_sequences_meta,trainval_y_sequences,test_X_sequences_meta,test_X_sequences_ar,len_diff\n",
    "    \n",
    "    def __normalize__(self):\n",
    "        # normalize all series, store their means and stds\n",
    "        print('Normalizing features ...')\n",
    "        \n",
    "        self.mean_dict = self.df[self.df.is_train==1].groupby(by=['ForecastId'])['Value'].mean().to_dict()\n",
    "        self.std_dict = self.df[self.df.is_train==1].groupby(by=['ForecastId'])['Value'].std().to_dict()\n",
    "        \n",
    "        # isolate series where all values are equal to one value\n",
    "        # preprocess them separately\n",
    "        flat_forecast_ids = [(k) for k, v in self.std_dict.items() if v == 0]\n",
    "        \n",
    "        # insert means for all series\n",
    "        self.df['mean'] = self.df.ForecastId.apply(lambda x: self.mean_dict[x])\n",
    "        # std for zero-std series is 1 by default\n",
    "        self.df['std'] = 1\n",
    "        # insert stds only for other series with non-zero std\n",
    "        self.df.loc[~self.df['ForecastId'].isin(flat_forecast_ids),'std'] = self.df[~self.df['ForecastId'].isin(flat_forecast_ids)].ForecastId.apply(lambda x: self.std_dict[x])\n",
    "\n",
    "        \n",
    "        self.df['Value'] = (self.df['Value'] - self.df['mean']) / self.df['std']\n",
    "        \n",
    "        # set test set values back to 0\n",
    "        self.df.loc[self.df.is_train==0,'Value'] = 0\n",
    "            \n",
    "    def __len__(self):\n",
    "        if self.mode == 'train':\n",
    "            return len(self.train_f_ids)\n",
    "        elif self.mode == 'val':\n",
    "            return len(self.val_f_ids)\n",
    "        elif self.mode == 'test':\n",
    "            # test set length is equal to the number of forecast ids\n",
    "            return len(self.forecast_ids)\n",
    "        elif self.mode == 'evaluate_wrmse':\n",
    "            # test set length is equal to the number of forecast ids\n",
    "            return len(self.forecast_ids)        \n",
    "\n",
    "    def __getitem__(self, idx):\n",
    "        if self.split_mode in ['random']:\n",
    "            if self.mode == 'train':\n",
    "                trainval_X_sequences_ar,trainval_X_sequences_meta,trainval_y_sequences,_,_,_ = self.__produce_idx_one__(self.train_f_ids[idx])\n",
    "                # sample a random index of data, e.g. 16 sequences\n",
    "                # if we have a truncated sample, then pull the same sample 16 times\n",
    "                if trainval_X_sequences_ar.shape[0] < 16:\n",
    "                    idx = list(range(0,16))\n",
    "                    trainval_X_sequences_ar = np.vstack([trainval_X_sequences_ar] * 16)\n",
    "                    trainval_X_sequences_meta = np.vstack([trainval_X_sequences_meta] * 16)\n",
    "                    trainval_y_sequences = np.vstack([trainval_y_sequences] * 16)\n",
    "                else:\n",
    "                    idx = np.random.randint(trainval_X_sequences_ar.shape[0], size=16)                \n",
    "                \n",
    "                return trainval_X_sequences_ar[idx],trainval_X_sequences_meta[idx],trainval_y_sequences[idx]\n",
    "            elif self.mode == 'evaluate_wrmse':\n",
    "                trainval_X_sequences_ar,trainval_X_sequences_meta,trainval_y_sequences,_,_,_ = self.__produce_idx_one__(self.forecast_ids[idx])\n",
    "                idx = -1\n",
    "                # just use the last available window\n",
    "                return trainval_X_sequences_ar[idx],trainval_X_sequences_meta[idx],trainval_y_sequences[idx] \n",
    "            elif self.mode == 'val':\n",
    "                trainval_X_sequences_ar,trainval_X_sequences_meta,trainval_y_sequences,_,_,_ = self.__produce_idx_one__(self.val_f_ids[idx])\n",
    "                # sample a random index of data, e.g. 16 sequences\n",
    "                # if we have a truncated sample, then pull the same sample 16 times\n",
    "                if trainval_X_sequences_ar.shape[0] < 16:\n",
    "                    idx = list(range(0,16))\n",
    "                    trainval_X_sequences_ar = np.vstack([trainval_X_sequences_ar] * 16)\n",
    "                    trainval_X_sequences_meta = np.vstack([trainval_X_sequences_meta] * 16)\n",
    "                    trainval_y_sequences = np.vstack([trainval_y_sequences] * 16)\n",
    "                else:\n",
    "                    idx = np.random.randint(trainval_X_sequences_ar.shape[0], size=16)                \n",
    "                \n",
    "                return trainval_X_sequences_ar[idx],trainval_X_sequences_meta[idx],trainval_y_sequences[idx]\n",
    "            elif self.mode == 'test':\n",
    "                _,_,_,test_X_sequences_meta,test_X_sequences_ar,len_diff = self.__produce_idx_one__(self.forecast_ids[idx])\n",
    "                return test_X_sequences_meta,test_X_sequences_ar,len_diff\n",
    "        else:\n",
    "            raise ValueError('getitem method not implemented for this split mode {}'.format(self.split_mode))"
   ]
  },
  {
   "cell_type": "code",
   "execution_count": 30,
   "metadata": {
    "ExecuteTime": {
     "end_time": "2018-03-17T08:35:14.302357Z",
     "start_time": "2018-03-17T08:35:14.287266Z"
    },
    "hidden": true
   },
   "outputs": [],
   "source": [
    "# key params\n",
    "lr = 1e-3\n",
    "start_epoch = 0\n",
    "epochs = 40\n",
    "# 16 samples per batch\n",
    "batch_size = 20\n",
    "# lstm params\n",
    "in_sequence_len = 192\n",
    "out_sequence_len = 192\n",
    "features_meta_total = 44\n",
    "features_ar_total = 1\n",
    "meta_hidden_layer_length = 30\n",
    "ar_hidden_layer_length = 30\n",
    "meta_hidden_layers = 2\n",
    "ar_hidden_layers = 2\n",
    "lstm_dropout = 0\n",
    "# MLP model end params\n",
    "# B x meta_hidden_layer_length || B x ar_hidden_layer_length => classifier_hidden_length => out_sequence_len\n",
    "classifier_hidden_length = 256"
   ]
  },
  {
   "cell_type": "code",
   "execution_count": null,
   "metadata": {
    "ExecuteTime": {
     "end_time": "2018-03-16T14:11:35.231364Z",
     "start_time": "2018-03-16T14:11:35.214125Z"
    },
    "hidden": true
   },
   "outputs": [],
   "source": [
    "torch.cuda.empty_cache()"
   ]
  },
  {
   "cell_type": "code",
   "execution_count": 13,
   "metadata": {
    "ExecuteTime": {
     "end_time": "2018-03-16T14:07:50.256063Z",
     "start_time": "2018-03-16T14:07:49.990242Z"
    },
    "hidden": true
   },
   "outputs": [],
   "source": [
    "for i, (X_sequences_ar,X_sequences_meta,y_sequences) in enumerate(train_loader):\n",
    "    \n",
    "    break"
   ]
  },
  {
   "cell_type": "code",
   "execution_count": 15,
   "metadata": {
    "ExecuteTime": {
     "end_time": "2018-03-16T14:08:51.399296Z",
     "start_time": "2018-03-16T14:08:51.393591Z"
    },
    "hidden": true
   },
   "outputs": [],
   "source": [
    "# transform data from Batch x Window x Etc into Batch x Etc format\n",
    "X_sequences_meta = X_sequences_meta.view(-1,X_sequences_meta.size(2),X_sequences_meta.size(3))\n",
    "X_sequences_meta = X_sequences_meta[:,:,1:].long()"
   ]
  },
  {
   "cell_type": "code",
   "execution_count": 17,
   "metadata": {
    "ExecuteTime": {
     "end_time": "2018-03-16T14:09:27.567240Z",
     "start_time": "2018-03-16T14:09:27.541981Z"
    },
    "hidden": true,
    "scrolled": true
   },
   "outputs": [
    {
     "data": {
      "text/plain": [
       "\n",
       "    0     0     0  ...      0     0     0\n",
       "    0     0     0  ...      0     0     0\n",
       "    0     0     0  ...      0     0     0\n",
       "       ...          ⋱          ...       \n",
       "    1     1     1  ...      1     1     1\n",
       "    1     1     1  ...      1     1     1\n",
       "    1     1     1  ...      1     1     1\n",
       "[torch.LongTensor of size 320x60]"
      ]
     },
     "execution_count": 17,
     "metadata": {},
     "output_type": "execute_result"
    }
   ],
   "source": [
    "X_sequences_meta[:,:,5]"
   ]
  },
  {
   "cell_type": "code",
   "execution_count": 16,
   "metadata": {
    "ExecuteTime": {
     "end_time": "2018-03-16T14:09:24.908869Z",
     "start_time": "2018-03-16T14:09:24.903170Z"
    },
    "hidden": true
   },
   "outputs": [
    {
     "data": {
      "text/plain": [
       "torch.Size([20, 16, 30])"
      ]
     },
     "execution_count": 16,
     "metadata": {},
     "output_type": "execute_result"
    }
   ],
   "source": [
    "X_sequences_ar.size()"
   ]
  },
  {
   "cell_type": "code",
   "execution_count": 11,
   "metadata": {
    "ExecuteTime": {
     "end_time": "2018-03-16T13:37:57.000961Z",
     "start_time": "2018-03-16T13:37:56.991623Z"
    },
    "hidden": true
   },
   "outputs": [
    {
     "data": {
      "text/plain": [
       "[3320,\n",
       " 6152,\n",
       " 6466,\n",
       " 410,\n",
       " 650,\n",
       " 540,\n",
       " 6151,\n",
       " 6964,\n",
       " 3707,\n",
       " 6727,\n",
       " 189,\n",
       " 1905,\n",
       " 3400,\n",
       " 4294,\n",
       " 3399,\n",
       " 2358,\n",
       " 3738,\n",
       " 6462,\n",
       " 5236,\n",
       " 877,\n",
       " 413,\n",
       " 982,\n",
       " 649,\n",
       " 1390,\n",
       " 6011,\n",
       " 4394,\n",
       " 5233,\n",
       " 1534,\n",
       " 6008,\n",
       " 6972,\n",
       " 2925,\n",
       " 1319,\n",
       " 4323,\n",
       " 2977,\n",
       " 4270,\n",
       " 547,\n",
       " 5229,\n",
       " 5600,\n",
       " 4325,\n",
       " 1,\n",
       " 3,\n",
       " 2926,\n",
       " 1529,\n",
       " 6969,\n",
       " 4293,\n",
       " 4196,\n",
       " 3310,\n",
       " 3171,\n",
       " 5239,\n",
       " 6722,\n",
       " 3318,\n",
       " 983,\n",
       " 6698,\n",
       " 2264,\n",
       " 543,\n",
       " 4698,\n",
       " 3901,\n",
       " 879,\n",
       " 412,\n",
       " 6968,\n",
       " 6009,\n",
       " 190,\n",
       " 648,\n",
       " 4324,\n",
       " 6965,\n",
       " 5234,\n",
       " 41,\n",
       " 3899,\n",
       " 878,\n",
       " 4264,\n",
       " 5255,\n",
       " 5256,\n",
       " 6467,\n",
       " 2265,\n",
       " 4266,\n",
       " 6699,\n",
       " 6967,\n",
       " 2805,\n",
       " 6005,\n",
       " 2267,\n",
       " 1512,\n",
       " 5231,\n",
       " 1318,\n",
       " 3900,\n",
       " 544,\n",
       " 5599,\n",
       " 5330,\n",
       " 2980,\n",
       " 1277,\n",
       " 6256,\n",
       " 1530,\n",
       " 3314,\n",
       " 5979,\n",
       " 1391,\n",
       " 4599,\n",
       " 5235,\n",
       " 4,\n",
       " 3396,\n",
       " 1649,\n",
       " 4271,\n",
       " 6729,\n",
       " 6006,\n",
       " 6725,\n",
       " 1532,\n",
       " 2979,\n",
       " 880,\n",
       " 407,\n",
       " 3401,\n",
       " 3311,\n",
       " 3155,\n",
       " 6471,\n",
       " 6721,\n",
       " 3235,\n",
       " 408,\n",
       " 414,\n",
       " 2043,\n",
       " 6470,\n",
       " 4269,\n",
       " 514,\n",
       " 5598,\n",
       " 2807,\n",
       " 6468,\n",
       " 4292,\n",
       " 6254,\n",
       " 6723,\n",
       " 2266,\n",
       " 1650,\n",
       " 3398,\n",
       " 1533,\n",
       " 6007,\n",
       " 6970,\n",
       " 6469,\n",
       " 5601,\n",
       " 1977,\n",
       " 1531,\n",
       " 3234,\n",
       " 542,\n",
       " 1906,\n",
       " 5254,\n",
       " 6966,\n",
       " 6460,\n",
       " 6464,\n",
       " 4267,\n",
       " 1153,\n",
       " 5238,\n",
       " 6963,\n",
       " 2,\n",
       " 1535,\n",
       " 5230,\n",
       " 4268,\n",
       " 5232,\n",
       " 3338,\n",
       " 3319,\n",
       " 3708,\n",
       " 3233,\n",
       " 6720,\n",
       " 2877,\n",
       " 6728,\n",
       " 3898,\n",
       " 6973,\n",
       " 541,\n",
       " 6461,\n",
       " 2806,\n",
       " 3397,\n",
       " 415,\n",
       " 3312,\n",
       " 6149,\n",
       " 3337]"
      ]
     },
     "execution_count": 11,
     "metadata": {},
     "output_type": "execute_result"
    }
   ],
   "source": [
    "train_dataset.tra"
   ]
  },
  {
   "cell_type": "code",
   "execution_count": 15,
   "metadata": {
    "ExecuteTime": {
     "end_time": "2018-03-16T15:09:27.667272Z",
     "start_time": "2018-03-16T15:09:27.662674Z"
    },
    "hidden": true
   },
   "outputs": [
    {
     "data": {
      "text/plain": [
       "72"
      ]
     },
     "execution_count": 15,
     "metadata": {},
     "output_type": "execute_result"
    }
   ],
   "source": [
    "len(train_dataset.df.Holiday.unique())"
   ]
  },
  {
   "cell_type": "code",
   "execution_count": 23,
   "metadata": {
    "ExecuteTime": {
     "end_time": "2018-03-16T13:41:54.368159Z",
     "start_time": "2018-03-16T13:41:54.362805Z"
    },
    "hidden": true
   },
   "outputs": [
    {
     "data": {
      "text/plain": [
       "(240, 120, 8)"
      ]
     },
     "execution_count": 23,
     "metadata": {},
     "output_type": "execute_result"
    }
   ],
   "source": [
    "trainval_X_sequences_meta.shape"
   ]
  },
  {
   "cell_type": "code",
   "execution_count": 34,
   "metadata": {
    "ExecuteTime": {
     "end_time": "2018-03-16T13:45:03.263000Z",
     "start_time": "2018-03-16T13:45:03.072227Z"
    },
    "hidden": true
   },
   "outputs": [
    {
     "ename": "NameError",
     "evalue": "name 'plt' is not defined",
     "output_type": "error",
     "traceback": [
      "\u001b[0;31m---------------------------------------------------------------------------\u001b[0m",
      "\u001b[0;31mNameError\u001b[0m                                 Traceback (most recent call last)",
      "\u001b[0;32m<ipython-input-34-66cb6b251bcd>\u001b[0m in \u001b[0;36m<module>\u001b[0;34m()\u001b[0m\n\u001b[1;32m      1\u001b[0m \u001b[0mtrain_dataset\u001b[0m\u001b[0;34m.\u001b[0m\u001b[0mdf\u001b[0m\u001b[0;34m[\u001b[0m\u001b[0mtrain_dataset\u001b[0m\u001b[0;34m.\u001b[0m\u001b[0mdf\u001b[0m\u001b[0;34m.\u001b[0m\u001b[0mForecastId\u001b[0m \u001b[0;34m==\u001b[0m \u001b[0;36m6152\u001b[0m\u001b[0;34m]\u001b[0m\u001b[0;34m.\u001b[0m\u001b[0mValue\u001b[0m\u001b[0;34m.\u001b[0m\u001b[0mplot\u001b[0m\u001b[0;34m(\u001b[0m\u001b[0;34m)\u001b[0m\u001b[0;34m\u001b[0m\u001b[0m\n\u001b[0;32m----> 2\u001b[0;31m \u001b[0mplt\u001b[0m\u001b[0;34m.\u001b[0m\u001b[0mshow\u001b[0m\u001b[0;34m(\u001b[0m\u001b[0;34m)\u001b[0m\u001b[0;34m\u001b[0m\u001b[0m\n\u001b[0m",
      "\u001b[0;31mNameError\u001b[0m: name 'plt' is not defined"
     ]
    },
    {
     "data": {
      "image/png": "[encoded data removed]",
      "text/plain": [
       "<matplotlib.figure.Figure at 0x7f71b2b94ac8>"
      ]
     },
     "metadata": {},
     "output_type": "display_data"
    }
   ],
   "source": [
    "train_dataset.df[train_dataset.df.ForecastId == 6152].Value.plot()\n",
    "plt.show()"
   ]
  },
  {
   "cell_type": "code",
   "execution_count": 36,
   "metadata": {
    "ExecuteTime": {
     "end_time": "2018-03-16T13:45:26.882741Z",
     "start_time": "2018-03-16T13:45:25.758273Z"
    },
    "hidden": true
   },
   "outputs": [
    {
     "name": "stdout",
     "output_type": "stream",
     "text": [
      "3320 (300, 30) (300, 30)\n",
      "6152 (30, 30) (30, 30)\n",
      "6466 (300, 30) (300, 30)\n",
      "410 (30, 30) (30, 30)\n",
      "650 (300, 30) (300, 30)\n",
      "540 (300, 30) (300, 30)\n",
      "6151 (300, 30) (300, 30)\n",
      "6964 (300, 30) (300, 30)\n",
      "3707 (300, 30) (300, 30)\n",
      "6727 (30, 30) (30, 30)\n",
      "189 (300, 30) (300, 30)\n",
      "1905 (300, 30) (300, 30)\n",
      "3400 (300, 30) (300, 30)\n",
      "4294 (300, 30) (300, 30)\n",
      "3399 (30, 30) (30, 30)\n",
      "2358 (300, 30) (300, 30)\n",
      "3738 (30, 30) (30, 30)\n",
      "6462 (300, 30) (300, 30)\n",
      "5236 (30, 30) (30, 30)\n",
      "877 (300, 30) (300, 30)\n",
      "413 (30, 30) (30, 30)\n",
      "982 (300, 30) (300, 30)\n",
      "649 (30, 30) (30, 30)\n",
      "1390 (300, 30) (300, 30)\n",
      "6011 (30, 30) (30, 30)\n",
      "4394 (30, 30) (30, 30)\n",
      "5233 (300, 30) (300, 30)\n",
      "1534 (300, 30) (300, 30)\n",
      "6008 (300, 30) (300, 30)\n",
      "6972 (300, 30) (300, 30)\n",
      "2925 (300, 30) (300, 30)\n",
      "1319 (30, 30) (30, 30)\n",
      "4323 (300, 30) (300, 30)\n",
      "2977 (300, 30) (300, 30)\n",
      "4270 (300, 30) (300, 30)\n",
      "547 (30, 30) (30, 30)\n",
      "5229 (300, 30) (300, 30)\n",
      "5600 (300, 30) (300, 30)\n",
      "4325 (300, 30) (300, 30)\n",
      "1 (300, 30) (300, 30)\n",
      "3 (300, 30) (300, 30)\n",
      "2926 (30, 30) (30, 30)\n",
      "1529 (300, 30) (300, 30)\n",
      "6969 (30, 30) (30, 30)\n",
      "4293 (30, 30) (30, 30)\n",
      "4196 (300, 30) (300, 30)\n",
      "3310 (300, 30) (300, 30)\n",
      "3171 (30, 30) (30, 30)\n",
      "5239 (30, 30) (30, 30)\n",
      "6722 (300, 30) (300, 30)\n",
      "3318 (300, 30) (300, 30)\n",
      "983 (30, 30) (30, 30)\n",
      "6698 (300, 30) (300, 30)\n",
      "2264 (300, 30) (300, 30)\n",
      "543 (30, 30) (30, 30)\n",
      "4698 (300, 30) (300, 30)\n",
      "3901 (30, 30) (30, 30)\n",
      "879 (300, 30) (300, 30)\n",
      "412 (300, 30) (300, 30)\n",
      "6968 (300, 30) (300, 30)\n",
      "6009 (30, 30) (30, 30)\n",
      "190 (30, 30) (30, 30)\n",
      "648 (300, 30) (300, 30)\n",
      "4324 (30, 30) (30, 30)\n",
      "6965 (30, 30) (30, 30)\n",
      "5234 (30, 30) (30, 30)\n",
      "41 (300, 30) (300, 30)\n",
      "3899 (30, 30) (30, 30)\n",
      "878 (30, 30) (30, 30)\n",
      "4264 (300, 30) (300, 30)\n",
      "5255 (300, 30) (300, 30)\n",
      "5256 (30, 30) (30, 30)\n",
      "6467 (30, 30) (30, 30)\n",
      "2265 (30, 30) (30, 30)\n",
      "4266 (300, 30) (300, 30)\n",
      "6699 (30, 30) (30, 30)\n",
      "6967 (30, 30) (30, 30)\n",
      "2805 (30, 30) (30, 30)\n",
      "6005 (30, 30) (30, 30)\n",
      "2267 (30, 30) (30, 30)\n",
      "1512 (300, 30) (300, 30)\n",
      "5231 (300, 30) (300, 30)\n",
      "1318 (300, 30) (300, 30)\n",
      "3900 (300, 30) (300, 30)\n",
      "544 (300, 30) (300, 30)\n",
      "5599 (30, 30) (30, 30)\n",
      "5330 (300, 30) (300, 30)\n",
      "2980 (30, 30) (30, 30)\n",
      "1277 (30, 30) (30, 30)\n",
      "6256 (30, 30) (30, 30)\n",
      "1530 (30, 30) (30, 30)\n",
      "3314 (300, 30) (300, 30)\n",
      "5979 (300, 30) (300, 30)\n",
      "1391 (30, 30) (30, 30)\n",
      "4599 (300, 30) (300, 30)\n",
      "5235 (300, 30) (300, 30)\n",
      "4 (30, 30) (30, 30)\n",
      "3396 (300, 30) (300, 30)\n",
      "1649 (300, 30) (300, 30)\n",
      "4271 (30, 30) (30, 30)\n",
      "6729 (30, 30) (30, 30)\n",
      "6006 (300, 30) (300, 30)\n",
      "6725 (30, 30) (30, 30)\n",
      "1532 (300, 30) (300, 30)\n",
      "2979 (300, 30) (300, 30)\n",
      "880 (30, 30) (30, 30)\n",
      "407 (300, 30) (300, 30)\n",
      "3401 (30, 30) (30, 30)\n",
      "3311 (30, 30) (30, 30)\n",
      "3155 (30, 30) (30, 30)\n",
      "6471 (30, 30) (30, 30)\n",
      "6721 (30, 30) (30, 30)\n",
      "3235 (30, 30) (30, 30)\n",
      "408 (30, 30) (30, 30)\n",
      "414 (300, 30) (300, 30)\n",
      "2043 (300, 30) (300, 30)\n",
      "6470 (300, 30) (300, 30)\n",
      "4269 (30, 30) (30, 30)\n",
      "514 (300, 30) (300, 30)\n",
      "5598 (300, 30) (300, 30)\n",
      "2807 (30, 30) (30, 30)\n",
      "6468 (300, 30) (300, 30)\n",
      "4292 (300, 30) (300, 30)\n",
      "6254 (30, 30) (30, 30)\n",
      "6723 (30, 30) (30, 30)\n",
      "2266 (300, 30) (300, 30)\n",
      "1650 (300, 30) (300, 30)\n",
      "3398 (300, 30) (300, 30)\n",
      "1533 (30, 30) (30, 30)\n",
      "6007 (30, 30) (30, 30)\n",
      "6970 (300, 30) (300, 30)\n",
      "6469 (30, 30) (30, 30)\n",
      "5601 (30, 30) (30, 30)\n",
      "1977 (300, 30) (300, 30)\n",
      "1531 (300, 30) (300, 30)\n",
      "3234 (300, 30) (300, 30)\n",
      "542 (300, 30) (300, 30)\n",
      "1906 (30, 30) (30, 30)\n",
      "5254 (30, 30) (30, 30)\n",
      "6966 (300, 30) (300, 30)\n",
      "6460 (300, 30) (300, 30)\n",
      "6464 (300, 30) (300, 30)\n",
      "4267 (30, 30) (30, 30)\n",
      "1153 (300, 30) (300, 30)\n",
      "5238 (300, 30) (300, 30)\n",
      "6963 (30, 30) (30, 30)\n",
      "2 (30, 30) (30, 30)\n",
      "1535 (30, 30) (30, 30)\n",
      "5230 (30, 30) (30, 30)\n",
      "4268 (300, 30) (300, 30)\n",
      "5232 (30, 30) (30, 30)\n",
      "3338 (30, 30) (30, 30)\n",
      "3319 (30, 30) (30, 30)\n",
      "3708 (30, 30) (30, 30)\n",
      "3233 (30, 30) (30, 30)\n",
      "6720 (300, 30) (300, 30)\n",
      "2877 (30, 30) (30, 30)\n",
      "6728 (300, 30) (300, 30)\n",
      "3898 (300, 30) (300, 30)\n",
      "6973 (30, 30) (30, 30)\n",
      "541 (30, 30) (30, 30)\n",
      "6461 (30, 30) (30, 30)\n",
      "2806 (300, 30) (300, 30)\n",
      "3397 (30, 30) (30, 30)\n",
      "415 (30, 30) (30, 30)\n",
      "3312 (300, 30) (300, 30)\n",
      "6149 (300, 30) (300, 30)\n",
      "3337 (300, 30) (300, 30)\n"
     ]
    }
   ],
   "source": [
    "idx = 0\n",
    "\n",
    "for idx in train_dataset.train_f_ids:\n",
    "    trainval_X_sequences_ar,trainval_X_sequences_meta,trainval_y_sequences,_,_,_ = train_dataset.__produce_idx_one__(forecast_id=idx)\n",
    "    print(idx,trainval_y_sequences.shape,trainval_X_sequences_ar.shape)"
   ]
  },
  {
   "cell_type": "code",
   "execution_count": 22,
   "metadata": {
    "ExecuteTime": {
     "end_time": "2018-03-16T14:11:05.897278Z",
     "start_time": "2018-03-16T14:11:05.813832Z"
    },
    "hidden": true
   },
   "outputs": [
    {
     "data": {
      "text/plain": [
       "2677"
      ]
     },
     "execution_count": 22,
     "metadata": {},
     "output_type": "execute_result"
    }
   ],
   "source": [
    "import gc\n",
    "\n",
    "\n",
    "gc.collect()"
   ]
  },
  {
   "cell_type": "code",
   "execution_count": 12,
   "metadata": {
    "ExecuteTime": {
     "end_time": "2018-03-17T08:29:22.270024Z",
     "start_time": "2018-03-17T08:29:22.267302Z"
    },
    "hidden": true
   },
   "outputs": [
    {
     "data": {
      "text/plain": [
       "E2ELSTM_day(\n",
       "  (hol_emb): Embedding(200, 24)\n",
       "  (month_emb): Embedding(100, 4)\n",
       "  (day_emb): Embedding(100, 11)\n",
       "  (dow_emb): Embedding(100, 3)\n",
       "  (lstm_meta): LSTM(44, 30, num_layers=2, batch_first=True)\n",
       "  (lstm_ar): LSTM(1, 30, num_layers=2, batch_first=True)\n",
       "  (classifier): Sequential(\n",
       "    (0): Linear(in_features=60, out_features=256)\n",
       "    (1): BatchNorm2d(256, eps=1e-05, momentum=0.1, affine=True)\n",
       "    (2): ReLU(inplace)\n",
       "    (3): Dropout(p=0.5)\n",
       "    (4): Linear(in_features=256, out_features=256)\n",
       "    (5): BatchNorm2d(256, eps=1e-05, momentum=0.1, affine=True)\n",
       "    (6): ReLU(inplace)\n",
       "    (7): Dropout(p=0.5)\n",
       "    (8): Linear(in_features=256, out_features=30)\n",
       "  )\n",
       ")"
      ]
     },
     "execution_count": 12,
     "metadata": {},
     "output_type": "execute_result"
    }
   ],
   "source": [
    "model"
   ]
  },
  {
   "cell_type": "code",
   "execution_count": 200,
   "metadata": {
    "ExecuteTime": {
     "end_time": "2018-03-17T10:11:23.024457Z",
     "start_time": "2018-03-17T10:11:20.045130Z"
    },
    "hidden": true
   },
   "outputs": [
    {
     "name": "stdout",
     "output_type": "stream",
     "text": [
      "Creating dataset object ...\n",
      "Normalizing features ...\n"
     ]
    }
   ],
   "source": [
    "train_dataset = S2SDataset(df = data_df[(~data_df.ForecastId.isin(list(set(data_df.ForecastId.unique()) - set(train_forecast_ids))))],\n",
    "                     series_type = '1_hour',\n",
    "                     in_sequence_len = 192,\n",
    "                     out_sequence_len = 192,\n",
    "                     target = 'Value',\n",
    "                     mode = 'test',\n",
    "                     split_mode = 'random',\n",
    "                     predictors = predictors)\n",
    "\n",
    "train_loader = torch.utils.data.DataLoader(\n",
    "    train_dataset,\n",
    "    batch_size=1,        \n",
    "    shuffle=False,\n",
    "    num_workers=1,\n",
    "    pin_memory=False,\n",
    "    drop_last=False)\n"
   ]
  },
  {
   "cell_type": "code",
   "execution_count": 342,
   "metadata": {
    "ExecuteTime": {
     "end_time": "2018-03-17T11:19:34.860495Z",
     "start_time": "2018-03-17T11:19:34.843731Z"
    },
    "hidden": true
   },
   "outputs": [],
   "source": [
    "# key params\n",
    "lr = 1e-3\n",
    "start_epoch = 0\n",
    "epochs = 40\n",
    "# 16 samples per batch\n",
    "batch_size = 20\n",
    "# lstm params\n",
    "in_sequence_len = 30\n",
    "out_sequence_len = 30\n",
    "features_meta_total = 43\n",
    "features_ar_total = 1\n",
    "meta_hidden_layer_length = 30\n",
    "ar_hidden_layer_length = 30\n",
    "meta_hidden_layers = 3\n",
    "ar_hidden_layers = 3\n",
    "lstm_dropout = 0\n",
    "# MLP model end params\n",
    "# B x meta_hidden_layer_length || B x ar_hidden_layer_length => classifier_hidden_length => out_sequence_len\n",
    "classifier_hidden_length = 256"
   ]
  },
  {
   "cell_type": "code",
   "execution_count": 343,
   "metadata": {
    "ExecuteTime": {
     "end_time": "2018-03-17T11:19:36.508787Z",
     "start_time": "2018-03-17T11:19:36.463863Z"
    },
    "hidden": true
   },
   "outputs": [
    {
     "name": "stdout",
     "output_type": "stream",
     "text": [
      "=> loading checkpoint 'weights/bl_1d_1e2_3lyr_best.pth.tar'\n",
      "=> loaded checkpoint 'False' (epoch 80)\n"
     ]
    }
   ],
   "source": [
    "import os\n",
    "\n",
    "args = type('test', (object,), {})()\n",
    "\n",
    "args.resume = 'weights/bl_1d_1e2_3lyr_best.pth.tar'\n",
    "args.evaluate = False\n",
    "\n",
    "model = E2ELSTM_day(in_sequence_len = in_sequence_len,\n",
    "                 out_sequence_len = out_sequence_len,\n",
    "                 features_meta_total = features_meta_total,\n",
    "                 features_ar_total = features_ar_total,\n",
    "                 meta_hidden_layer_length = meta_hidden_layer_length,\n",
    "                 ar_hidden_layer_length = ar_hidden_layer_length,\n",
    "                 meta_hidden_layers = meta_hidden_layers,\n",
    "                 ar_hidden_layers = ar_hidden_layers,\n",
    "                 lstm_dropout =lstm_dropout,\n",
    "                 classifier_hidden_length = classifier_hidden_length)\n",
    "\n",
    "# optionally resume from a checkpoint\n",
    "if args.resume:\n",
    "    if os.path.isfile(args.resume):\n",
    "        print(\"=> loading checkpoint '{}'\".format(args.resume))\n",
    "        checkpoint = torch.load(args.resume)\n",
    "        args.start_epoch = checkpoint['epoch']\n",
    "        best_val_loss = checkpoint['best_val_loss']\n",
    "        model.load_state_dict(checkpoint['state_dict'])\n",
    "        print(\"=> loaded checkpoint '{}' (epoch {})\"\n",
    "              .format(args.evaluate, checkpoint['epoch']))\n",
    "    else:\n",
    "        print(\"=> no checkpoint found at '{}'\".format(args.resume))"
   ]
  },
  {
   "cell_type": "code",
   "execution_count": 344,
   "metadata": {
    "ExecuteTime": {
     "end_time": "2018-03-17T11:19:38.103996Z",
     "start_time": "2018-03-17T11:19:38.089938Z"
    },
    "hidden": true
   },
   "outputs": [
    {
     "data": {
      "text/plain": [
       "E2ELSTM_day(\n",
       "  (hol_emb): Embedding(100, 24)\n",
       "  (month_emb): Embedding(100, 4)\n",
       "  (day_emb): Embedding(100, 11)\n",
       "  (dow_emb): Embedding(100, 3)\n",
       "  (lstm_meta): LSTM(43, 30, num_layers=3, batch_first=True)\n",
       "  (lstm_ar): LSTM(1, 30, num_layers=3, batch_first=True)\n",
       "  (classifier): Sequential(\n",
       "    (0): Linear(in_features=60, out_features=256)\n",
       "    (1): BatchNorm2d(256, eps=1e-05, momentum=0.1, affine=True)\n",
       "    (2): ReLU(inplace)\n",
       "    (3): Dropout(p=0.5)\n",
       "    (4): Linear(in_features=256, out_features=256)\n",
       "    (5): BatchNorm2d(256, eps=1e-05, momentum=0.1, affine=True)\n",
       "    (6): ReLU(inplace)\n",
       "    (7): Dropout(p=0.5)\n",
       "    (8): Linear(in_features=256, out_features=30)\n",
       "  )\n",
       ")"
      ]
     },
     "execution_count": 344,
     "metadata": {},
     "output_type": "execute_result"
    }
   ],
   "source": [
    "model.cuda()"
   ]
  },
  {
   "cell_type": "code",
   "execution_count": 195,
   "metadata": {
    "ExecuteTime": {
     "end_time": "2018-03-17T10:08:58.999947Z",
     "start_time": "2018-03-17T10:08:58.476711Z"
    },
    "hidden": true
   },
   "outputs": [],
   "source": [
    "pt = pd.pivot_table(data_df[(data_df.ForecastId_type == '1_hour')\n",
    "                           & (data_df.is_train == 0)],\n",
    "               index=['ForecastId'],\n",
    "               columns=['ForecastId_type'],\n",
    "               values=['obs_id'],\n",
    "               aggfunc=[len],\n",
    "               fill_value=0)"
   ]
  },
  {
   "cell_type": "code",
   "execution_count": 125,
   "metadata": {
    "ExecuteTime": {
     "end_time": "2018-03-17T09:49:13.332493Z",
     "start_time": "2018-03-17T09:49:13.329500Z"
    },
    "hidden": true
   },
   "outputs": [
    {
     "data": {
      "text/plain": [
       "5372"
      ]
     },
     "execution_count": 125,
     "metadata": {},
     "output_type": "execute_result"
    }
   ],
   "source": [
    "len(train_dataset.forecast_ids)"
   ]
  },
  {
   "cell_type": "code",
   "execution_count": 379,
   "metadata": {
    "ExecuteTime": {
     "end_time": "2018-03-17T11:26:27.116790Z",
     "start_time": "2018-03-17T11:26:24.225430Z"
    },
    "hidden": true
   },
   "outputs": [
    {
     "name": "stdout",
     "output_type": "stream",
     "text": [
      "Creating dataset object ...\n",
      "Normalizing features ...\n",
      "Creating dataset object ...\n",
      "Normalizing features ...\n"
     ]
    },
    {
     "data": {
      "text/plain": [
       "E2ELSTM_day(\n",
       "  (hol_emb): Embedding(100, 24)\n",
       "  (month_emb): Embedding(100, 4)\n",
       "  (day_emb): Embedding(100, 11)\n",
       "  (dow_emb): Embedding(100, 3)\n",
       "  (lstm_meta): LSTM(43, 30, num_layers=3, batch_first=True)\n",
       "  (lstm_ar): LSTM(1, 30, num_layers=3, batch_first=True)\n",
       "  (classifier): Sequential(\n",
       "    (0): Linear(in_features=60, out_features=256)\n",
       "    (1): BatchNorm2d(256, eps=1e-05, momentum=0.1, affine=True)\n",
       "    (2): ReLU(inplace)\n",
       "    (3): Dropout(p=0.5)\n",
       "    (4): Linear(in_features=256, out_features=256)\n",
       "    (5): BatchNorm2d(256, eps=1e-05, momentum=0.1, affine=True)\n",
       "    (6): ReLU(inplace)\n",
       "    (7): Dropout(p=0.5)\n",
       "    (8): Linear(in_features=256, out_features=30)\n",
       "  )\n",
       ")"
      ]
     },
     "execution_count": 379,
     "metadata": {},
     "output_type": "execute_result"
    }
   ],
   "source": [
    "import random\n",
    "from Utils import WRMSE\n",
    "\n",
    "stat_cols = ['forecast_id','wrmse_val','r2_val']\n",
    "stat_df = pd.DataFrame(columns = stat_cols)\n",
    "\n",
    "predict_dataset = S2SDataset(df = data_df[(~data_df.ForecastId.isin(list(set(data_df.ForecastId.unique()) - set(train_forecast_ids))))],\n",
    "                     series_type = '1_day',\n",
    "                     in_sequence_len = 30,\n",
    "                     out_sequence_len = 30,\n",
    "                     target = 'Value',\n",
    "                     mode = 'test',\n",
    "                     split_mode = 'random',\n",
    "                     predictors = predictors)\n",
    "\n",
    "\n",
    "predict_dataset_wrmse = S2SDataset(df = data_df[(~data_df.ForecastId.isin(list(set(data_df.ForecastId.unique()) - set(train_forecast_ids))))],\n",
    "                     series_type = '1_day',\n",
    "                     in_sequence_len = 30,\n",
    "                     out_sequence_len = 30,\n",
    "                     target = 'Value',\n",
    "                     mode = 'evaluate_wrmse',\n",
    "                     split_mode = 'random',\n",
    "                     predictors = predictors)\n",
    "\n",
    "# switch to evaluate mode\n",
    "model.eval()"
   ]
  },
  {
   "cell_type": "code",
   "execution_count": 427,
   "metadata": {
    "ExecuteTime": {
     "end_time": "2018-03-17T11:42:10.950260Z",
     "start_time": "2018-03-17T11:42:10.939246Z"
    },
    "hidden": true
   },
   "outputs": [
    {
     "data": {
      "text/plain": [
       "(30, 8)"
      ]
     },
     "execution_count": 427,
     "metadata": {},
     "output_type": "execute_result"
    }
   ],
   "source": [
    "predict_dataset.df[(predict_dataset.df.ForecastId == forecast_id)\n",
    "                       & (predict_dataset.df.is_train == 0)].iloc[-30:][predictors].values.shape"
   ]
  },
  {
   "cell_type": "code",
   "execution_count": 432,
   "metadata": {
    "ExecuteTime": {
     "end_time": "2018-03-17T11:54:28.557292Z",
     "start_time": "2018-03-17T11:54:28.552877Z"
    },
    "hidden": true
   },
   "outputs": [
    {
     "data": {
      "text/plain": [
       "torch.Size([1, 58, 7])"
      ]
     },
     "execution_count": 432,
     "metadata": {},
     "output_type": "execute_result"
    }
   ],
   "source": [
    "truncate_len.shape"
   ]
  },
  {
   "cell_type": "code",
   "execution_count": 460,
   "metadata": {
    "ExecuteTime": {
     "end_time": "2018-03-17T11:57:50.028249Z",
     "start_time": "2018-03-17T11:57:49.404503Z"
    },
    "code_folding": [
     3
    ],
    "hidden": true
   },
   "outputs": [
    {
     "name": "stdout",
     "output_type": "stream",
     "text": [
      "0.190340586872203 -0.36736267021135105\n"
     ]
    },
    {
     "data": {
      "image/png": "[encoded data removed]",
      "text/plain": [
       "<matplotlib.figure.Figure at 0x7f1fcada2b70>"
      ]
     },
     "metadata": {},
     "output_type": "display_data"
    }
   ],
   "source": [
    "forecast_id_test = predict_dataset_wrmse.forecast_ids[random.randint(0,len(predict_dataset_wrmse.forecast_ids))]\n",
    "\n",
    "# forecast loop for 1 day models\n",
    "for i,forecast_id in enumerate(predict_dataset.forecast_ids):\n",
    "    forecast_id = forecast_id_test\n",
    "    i = predict_dataset.forecast_ids.index(forecast_id)\n",
    "    \n",
    "    test_X_sequences_meta,test_X_sequences_ar,len_diff = predict_dataset.__getitem__(i)\n",
    "    \n",
    "    # into PyTorch format\n",
    "    test_X_sequences_meta = torch.from_numpy(test_X_sequences_meta).view(1,-1,8)\n",
    "    test_X_sequences_ar = torch.from_numpy(test_X_sequences_ar).view(1,-1,1)    \n",
    "    \n",
    "    # transform data from Batch x Window x Etc into Batch x Etc format\n",
    "    test_X_sequences_ar = test_X_sequences_ar.float()\n",
    "    test_X_sequences_temp = test_X_sequences_meta[:,:,0:1].float()\n",
    "    test_X_sequences_meta = test_X_sequences_meta[:,:,1:].long()\n",
    "\n",
    "    x_temp_var = torch.autograd.Variable(test_X_sequences_temp).cuda(async=True)\n",
    "    x_meta_var = torch.autograd.Variable(test_X_sequences_meta).cuda(async=True)\n",
    "    x_ar_var = torch.autograd.Variable(test_X_sequences_ar).cuda(async=True)\n",
    "\n",
    "    # compute output\n",
    "    output = model(x_temp_var,x_meta_var,x_ar_var)    \n",
    "    output = output[0,:].data.cpu().numpy()\n",
    "    # predict first 30 time points\n",
    "    output1 = output\n",
    "    \n",
    "    # then predict the remaining points using data we have\n",
    "    predict_len = predict_dataset.df[(predict_dataset.df.ForecastId == forecast_id)\n",
    "                       & (predict_dataset.df.is_train == 0)].shape[0]\n",
    "    remaining_len = predict_len - len(output1)\n",
    "    \n",
    "    # use our preds as AR values for final prediction\n",
    "    # predict more values\n",
    "    test_X_sequences_ar = output1\n",
    "    test_X_sequences_meta = predict_dataset.df[(predict_dataset.df.ForecastId == forecast_id)\n",
    "                                               &(predict_dataset.df.is_train == 0)].iloc[-len(output1) * 2:][predictors].values\n",
    "    test_X_sequences_meta = test_X_sequences_meta.copy()\n",
    "    # into PyTorch format\n",
    "    test_X_sequences_meta = torch.from_numpy(test_X_sequences_meta).view(1,-1,8)\n",
    "    test_X_sequences_ar = torch.from_numpy(test_X_sequences_ar).view(1,-1,1)    \n",
    "    \n",
    "    # transform data from Batch x Window x Etc into Batch x Etc format\n",
    "    test_X_sequences_ar = test_X_sequences_ar.float()\n",
    "    test_X_sequences_temp = test_X_sequences_meta[:,:,0:1].float()\n",
    "    test_X_sequences_meta = test_X_sequences_meta[:,:,1:].long()\n",
    "\n",
    "    x_temp_var = torch.autograd.Variable(test_X_sequences_temp).cuda(async=True)\n",
    "    x_meta_var = torch.autograd.Variable(test_X_sequences_meta).cuda(async=True)\n",
    "    x_ar_var = torch.autograd.Variable(test_X_sequences_ar).cuda(async=True)    \n",
    "    \n",
    "    # compute output\n",
    "    output = model(x_temp_var,x_meta_var,x_ar_var)    \n",
    "    output = output[0,:].data.cpu().numpy()\n",
    "    # predict first 30 time points\n",
    "    output2 = output    \n",
    "    \n",
    "    truncate_len = predict_len - len(output1) - len(output2)\n",
    "    final_output = np.hstack((output1,output2[-truncate_len:]))\n",
    "    \n",
    "    final_output = final_output * predict_dataset.std_dict[forecast_id] + predict_dataset.mean_dict[forecast_id]\n",
    "    submission_df.loc[submission_df.ForecastId == forecast_id_test, 'Value'] =  final_output    \n",
    "    \n",
    "    break\n",
    "    \n",
    "import matplotlib.pyplot as plt\n",
    "\n",
    "plot_df = data_df[data_df.ForecastId == forecast_id]\n",
    "plot_df['pred'] = 0\n",
    "plot_df.loc[plot_df.is_train == 0, 'pred'] = final_output\n",
    "plot_df.Timestamp = pd.to_datetime(plot_df.Timestamp)\n",
    "     \n",
    "\n",
    "# forecast loop - evaluate on the last sequence on trainval dataset\n",
    "for i,forecast_id in enumerate(predict_dataset_wrmse.forecast_ids):\n",
    "    forecast_id = forecast_id_test\n",
    "    i = predict_dataset_wrmse.forecast_ids.index(forecast_id)\n",
    "    \n",
    "    X_sequences_ar,X_sequences_meta,y_sequences = predict_dataset_wrmse.__getitem__(i)        \n",
    "    X_sequences_meta = torch.from_numpy(X_sequences_meta).view(1,-1,8)\n",
    "    X_sequences_ar = torch.from_numpy(X_sequences_ar).view(1,-1,1)\n",
    "\n",
    "    y_true = y_sequences.reshape(-1) * predict_dataset_wrmse.std_dict[forecast_id] + predict_dataset_wrmse.mean_dict[forecast_id]\n",
    "\n",
    "    # transform data from Batch x Window x Etc into Batch x Etc format\n",
    "    X_sequences_ar = X_sequences_ar.float()\n",
    "    X_sequences_temp = X_sequences_meta[:,:,0:1].float()\n",
    "    X_sequences_meta = X_sequences_meta[:,:,1:].long()\n",
    "\n",
    "    x_temp_var = torch.autograd.Variable(test_X_sequences_temp).cuda(async=True)\n",
    "    x_meta_var = torch.autograd.Variable(test_X_sequences_meta).cuda(async=True)\n",
    "    x_ar_var = torch.autograd.Variable(test_X_sequences_ar).cuda(async=True)\n",
    "\n",
    "    # compute output\n",
    "    output = model(x_temp_var,x_meta_var,x_ar_var)    \n",
    "    output = output[0,:].data.cpu().numpy()\n",
    "    \n",
    "    output = output * predict_dataset_wrmse.std_dict[forecast_id] + predict_dataset_wrmse.mean_dict[forecast_id]\n",
    "\n",
    "    wrmse_val = WRMSE(y_true, output)\n",
    "    r2_score_val = metrics.r2_score(y_true, output)\n",
    "    stat_df = stat_df.append(pd.DataFrame([dict(zip(stat_cols,[forecast_id,r2_score_val,wrmse_val]))]))\n",
    "    \n",
    "    break    \n",
    "    \n",
    "plot_df[['Value','Timestamp','pred']].plot(x='Timestamp',figsize=(24, 8 * 1))\n",
    "print(rmse_val,r2_score_val)\n",
    "plt.show()  \n"
   ]
  },
  {
   "cell_type": "code",
   "execution_count": 469,
   "metadata": {
    "ExecuteTime": {
     "end_time": "2018-03-17T12:38:50.026826Z",
     "start_time": "2018-03-17T12:38:50.023683Z"
    },
    "hidden": true
   },
   "outputs": [
    {
     "data": {
      "text/plain": [
       "6974"
      ]
     },
     "execution_count": 469,
     "metadata": {},
     "output_type": "execute_result"
    }
   ],
   "source": [
    "len(submit_zeroes) + len(submit_averages) + len(train_forecast_ids)"
   ]
  },
  {
   "cell_type": "code",
   "execution_count": 473,
   "metadata": {
    "ExecuteTime": {
     "end_time": "2018-03-17T12:41:04.973487Z",
     "start_time": "2018-03-17T12:41:04.955171Z"
    },
    "hidden": true
   },
   "outputs": [
    {
     "data": {
      "text/plain": [
       "2888.5322610477847"
      ]
     },
     "execution_count": 473,
     "metadata": {},
     "output_type": "execute_result"
    }
   ],
   "source": [
    "data_df[data_df.ForecastId == submit_averages[0]].Value.mean()"
   ]
  },
  {
   "cell_type": "code",
   "execution_count": 487,
   "metadata": {
    "ExecuteTime": {
     "end_time": "2018-03-17T12:43:19.973637Z",
     "start_time": "2018-03-17T12:43:19.953314Z"
    },
    "hidden": true
   },
   "outputs": [
    {
     "name": "stdout",
     "output_type": "stream",
     "text": [
      "Submitting averages ... \n"
     ]
    },
    {
     "ename": "NameError",
     "evalue": "name 'wait' is not defined",
     "output_type": "error",
     "traceback": [
      "\u001b[0;31m---------------------------------------------------------------------------\u001b[0m",
      "\u001b[0;31mNameError\u001b[0m                                 Traceback (most recent call last)",
      "\u001b[0;32m<ipython-input-487-e8ab03a6bfc5>\u001b[0m in \u001b[0;36m<module>\u001b[0;34m()\u001b[0m\n\u001b[1;32m      1\u001b[0m \u001b[0mprint\u001b[0m\u001b[0;34m(\u001b[0m\u001b[0;34m'Submitting averages ... '\u001b[0m\u001b[0;34m)\u001b[0m\u001b[0;34m\u001b[0m\u001b[0m\n\u001b[0;32m----> 2\u001b[0;31m \u001b[0mwait\u001b[0m\u001b[0;34m(\u001b[0m\u001b[0;36m0.1\u001b[0m\u001b[0;34m)\u001b[0m\u001b[0;34m\u001b[0m\u001b[0m\n\u001b[0m\u001b[1;32m      3\u001b[0m \u001b[0;32mwith\u001b[0m \u001b[0mtqdm\u001b[0m\u001b[0;34m.\u001b[0m\u001b[0mtqdm\u001b[0m\u001b[0;34m(\u001b[0m\u001b[0mtotal\u001b[0m\u001b[0;34m=\u001b[0m\u001b[0mlen\u001b[0m\u001b[0;34m(\u001b[0m\u001b[0msubmit_averages\u001b[0m\u001b[0;34m)\u001b[0m\u001b[0;34m)\u001b[0m \u001b[0;32mas\u001b[0m \u001b[0mpbar\u001b[0m\u001b[0;34m:\u001b[0m\u001b[0;34m\u001b[0m\u001b[0m\n\u001b[1;32m      4\u001b[0m     \u001b[0;32mfor\u001b[0m \u001b[0mforecast_id\u001b[0m \u001b[0;32min\u001b[0m \u001b[0msubmit_averages\u001b[0m\u001b[0;34m:\u001b[0m\u001b[0;34m\u001b[0m\u001b[0m\n\u001b[1;32m      5\u001b[0m         \u001b[0msubmission_df\u001b[0m\u001b[0;34m.\u001b[0m\u001b[0mloc\u001b[0m\u001b[0;34m[\u001b[0m\u001b[0msubmission_df\u001b[0m\u001b[0;34m.\u001b[0m\u001b[0mForecastId\u001b[0m \u001b[0;34m==\u001b[0m \u001b[0mforecast_id\u001b[0m\u001b[0;34m,\u001b[0m \u001b[0;34m'Value'\u001b[0m\u001b[0;34m]\u001b[0m \u001b[0;34m=\u001b[0m \u001b[0mdata_df\u001b[0m\u001b[0;34m[\u001b[0m\u001b[0mdata_df\u001b[0m\u001b[0;34m.\u001b[0m\u001b[0mForecastId\u001b[0m \u001b[0;34m==\u001b[0m \u001b[0mforecast_id\u001b[0m\u001b[0;34m]\u001b[0m\u001b[0;34m.\u001b[0m\u001b[0mmean\u001b[0m\u001b[0;34m(\u001b[0m\u001b[0;34m)\u001b[0m\u001b[0;34m\u001b[0m\u001b[0m\n",
      "\u001b[0;31mNameError\u001b[0m: name 'wait' is not defined"
     ]
    }
   ],
   "source": [
    "print('Submitting averages ... ')\n",
    "with tqdm.tqdm(total=len(submit_averages)) as pbar:\n",
    "    for forecast_id in submit_averages:\n",
    "        submission_df.loc[submission_df.ForecastId == forecast_id, 'Value'] = data_df[data_df.ForecastId == forecast_id].mean()\n",
    "        pbar.update(1)\n",
    "        \n",
    "print('Submitting zeroes ... ')\n",
    "with tqdm.tqdm(total=len(submit_zeroes)) as pbar:\n",
    "    for forecast_id in submit_zeroes:\n",
    "        submission_df.loc[submission_df.ForecastId == forecast_id, 'Value'] = 0\n",
    "        pbar.update(1)        "
   ]
  },
  {
   "cell_type": "code",
   "execution_count": 467,
   "metadata": {
    "ExecuteTime": {
     "end_time": "2018-03-17T12:36:55.842536Z",
     "start_time": "2018-03-17T12:36:55.775489Z"
    },
    "hidden": true
   },
   "outputs": [
    {
     "name": "stderr",
     "output_type": "stream",
     "text": [
      "100%|██████████| 10/10 [00:00<00:00, 161.36it/s]"
     ]
    },
    {
     "name": "stdout",
     "output_type": "stream",
     "text": [
      "Submitting zeroes ... \n"
     ]
    },
    {
     "name": "stderr",
     "output_type": "stream",
     "text": [
      "\n"
     ]
    }
   ],
   "source": []
  },
  {
   "cell_type": "code",
   "execution_count": 462,
   "metadata": {
    "ExecuteTime": {
     "end_time": "2018-03-17T12:30:38.100628Z",
     "start_time": "2018-03-17T12:30:38.095673Z"
    },
    "hidden": true
   },
   "outputs": [
    {
     "data": {
      "text/plain": [
       "224"
      ]
     },
     "execution_count": 462,
     "metadata": {},
     "output_type": "execute_result"
    }
   ],
   "source": [
    "len(predict_dataset.forecast_ids)"
   ]
  },
  {
   "cell_type": "code",
   "execution_count": 443,
   "metadata": {
    "ExecuteTime": {
     "end_time": "2018-03-17T11:56:35.999414Z",
     "start_time": "2018-03-17T11:56:35.994303Z"
    },
    "hidden": true
   },
   "outputs": [
    {
     "data": {
      "text/plain": [
       "1981285.8"
      ]
     },
     "execution_count": 443,
     "metadata": {},
     "output_type": "execute_result"
    }
   ],
   "source": [
    "final_output[0]"
   ]
  },
  {
   "cell_type": "code",
   "execution_count": 412,
   "metadata": {
    "ExecuteTime": {
     "end_time": "2018-03-17T11:29:46.213821Z",
     "start_time": "2018-03-17T11:29:45.771187Z"
    },
    "code_folding": [
     3,
     44
    ],
    "hidden": true
   },
   "outputs": [
    {
     "name": "stdout",
     "output_type": "stream",
     "text": [
      "0.190340586872203 -0.6055050035464371\n"
     ]
    },
    {
     "data": {
      "image/png": "[encoded data removed]",
      "text/plain": [
       "<matplotlib.figure.Figure at 0x7f1ff898ff98>"
      ]
     },
     "metadata": {},
     "output_type": "display_data"
    }
   ],
   "source": [
    "forecast_id_test = predict_dataset_wrmse.forecast_ids[random.randint(0,len(predict_dataset_wrmse.forecast_ids))]\n",
    "\n",
    "# forecast loop for 15min and 1hour models\n",
    "for i,forecast_id in enumerate(predict_dataset.forecast_ids):\n",
    "    forecast_id = forecast_id_test\n",
    "    i = predict_dataset.forecast_ids.index(forecast_id)\n",
    "    \n",
    "    test_X_sequences_meta,test_X_sequences_ar,len_diff = predict_dataset.__getitem__(i)\n",
    "    \n",
    "    # into PyTorch format\n",
    "    test_X_sequences_meta = torch.from_numpy(test_X_sequences_meta).view(1,-1,8)\n",
    "    test_X_sequences_ar = torch.from_numpy(test_X_sequences_ar).view(1,-1,1)    \n",
    "    \n",
    "    # transform data from Batch x Window x Etc into Batch x Etc format\n",
    "    test_X_sequences_ar = test_X_sequences_ar.float()\n",
    "    test_X_sequences_temp = test_X_sequences_meta[:,:,0:1].float()\n",
    "    test_X_sequences_meta = test_X_sequences_meta[:,:,1:].long()\n",
    "\n",
    "    x_temp_var = torch.autograd.Variable(test_X_sequences_temp).cuda(async=True)\n",
    "    x_meta_var = torch.autograd.Variable(test_X_sequences_meta).cuda(async=True)\n",
    "    x_ar_var = torch.autograd.Variable(test_X_sequences_ar).cuda(async=True)\n",
    "\n",
    "    # compute output\n",
    "    output = model(x_temp_var,x_meta_var,x_ar_var)    \n",
    "    output = output[0,:].data.cpu().numpy()\n",
    "    # only the necessary length\n",
    "    output1 = output[-len_diff:]\n",
    "    \n",
    "    \n",
    "    \n",
    "    output = output * predict_dataset.std_dict[forecast_id] + predict_dataset.mean_dict[forecast_id]\n",
    "    submission_df.loc[submission_df.ForecastId == forecast_id_test, 'Value'] =  np.hstack((output,output))    \n",
    "    \n",
    "    break\n",
    "    \n",
    "import matplotlib.pyplot as plt\n",
    "\n",
    "plot_df = data_df[data_df.ForecastId == forecast_id]\n",
    "plot_df['pred'] = 0\n",
    "plot_df.loc[plot_df.is_train == 0, 'pred'] = np.hstack((output,output))  \n",
    "plot_df.Timestamp = pd.to_datetime(plot_df.Timestamp)\n",
    "     \n",
    "\n",
    "# forecast loop - evaluate on the last sequence on trainval dataset\n",
    "for i,forecast_id in enumerate(predict_dataset_wrmse.forecast_ids):\n",
    "    forecast_id = forecast_id_test\n",
    "    i = predict_dataset_wrmse.forecast_ids.index(forecast_id)\n",
    "    \n",
    "    X_sequences_ar,X_sequences_meta,y_sequences = predict_dataset_wrmse.__getitem__(i)        \n",
    "    X_sequences_meta = torch.from_numpy(X_sequences_meta).view(1,-1,8)\n",
    "    X_sequences_ar = torch.from_numpy(X_sequences_ar).view(1,-1,1)\n",
    "\n",
    "    y_true = y_sequences.reshape(-1) * predict_dataset_wrmse.std_dict[forecast_id] + predict_dataset_wrmse.mean_dict[forecast_id]\n",
    "\n",
    "    # transform data from Batch x Window x Etc into Batch x Etc format\n",
    "    X_sequences_ar = X_sequences_ar.float()\n",
    "    X_sequences_temp = X_sequences_meta[:,:,0:1].float()\n",
    "    X_sequences_meta = X_sequences_meta[:,:,1:].long()\n",
    "\n",
    "    x_temp_var = torch.autograd.Variable(test_X_sequences_temp).cuda(async=True)\n",
    "    x_meta_var = torch.autograd.Variable(test_X_sequences_meta).cuda(async=True)\n",
    "    x_ar_var = torch.autograd.Variable(test_X_sequences_ar).cuda(async=True)\n",
    "\n",
    "    # compute output\n",
    "    output = model(x_temp_var,x_meta_var,x_ar_var)    \n",
    "    output = output[0,:].data.cpu().numpy()\n",
    "    \n",
    "    output = output * predict_dataset_wrmse.std_dict[forecast_id] + predict_dataset_wrmse.mean_dict[forecast_id]\n",
    "\n",
    "    wrmse_val = WRMSE(y_true, output)\n",
    "    r2_score_val = metrics.r2_score(y_true, output)\n",
    "    stat_df = stat_df.append(pd.DataFrame([dict(zip(stat_cols,[forecast_id,r2_score_val,wrmse_val]))]))\n",
    "    \n",
    "    break    \n",
    "    \n",
    "plot_df['val_pred'] = 0\n",
    "plot_df.loc[plot_df.index[-plot_df[plot_df.is_train==0].shape[0]-30:-plot_df[plot_df.is_train==0].shape[0]],'val_pred'] = output\n",
    "\n",
    "plot_df[['Value','Timestamp','pred','val_pred']].plot(x='Timestamp',figsize=(24, 8 * 1))\n",
    "print(rmse_val,r2_score_val)\n",
    "plt.show()  \n",
    "\n",
    "\n"
   ]
  },
  {
   "cell_type": "code",
   "execution_count": 381,
   "metadata": {
    "ExecuteTime": {
     "end_time": "2018-03-17T11:26:33.062173Z",
     "start_time": "2018-03-17T11:26:33.056516Z"
    },
    "hidden": true
   },
   "outputs": [
    {
     "data": {
      "text/plain": [
       "(58,)"
      ]
     },
     "execution_count": 381,
     "metadata": {},
     "output_type": "execute_result"
    }
   ],
   "source": [
    "submission_df.loc[submission_df.ForecastId == forecast_id_test, 'Value'].shape"
   ]
  },
  {
   "cell_type": "code",
   "execution_count": 384,
   "metadata": {
    "ExecuteTime": {
     "end_time": "2018-03-17T11:26:44.338767Z",
     "start_time": "2018-03-17T11:26:44.335935Z"
    },
    "hidden": true
   },
   "outputs": [
    {
     "data": {
      "text/plain": [
       "(60,)"
      ]
     },
     "execution_count": 384,
     "metadata": {},
     "output_type": "execute_result"
    }
   ],
   "source": [
    "np.hstack((output,output)).shape"
   ]
  },
  {
   "cell_type": "code",
   "execution_count": 383,
   "metadata": {
    "ExecuteTime": {
     "end_time": "2018-03-17T11:26:41.789476Z",
     "start_time": "2018-03-17T11:26:41.680928Z"
    },
    "hidden": true
   },
   "outputs": [
    {
     "data": {
      "text/plain": [
       "<matplotlib.axes._subplots.AxesSubplot at 0x7f1ff94a2c88>"
      ]
     },
     "execution_count": 383,
     "metadata": {},
     "output_type": "execute_result"
    },
    {
     "data": {
      "image/png": "[encoded data removed]",
      "text/plain": [
       "<matplotlib.figure.Figure at 0x7f202af90b38>"
      ]
     },
     "metadata": {},
     "output_type": "display_data"
    }
   ],
   "source": [
    "submission_df.loc[submission_df.ForecastId == forecast_id_test][['Value','Timestamp']].plot(x='Timestamp')"
   ]
  },
  {
   "cell_type": "code",
   "execution_count": 215,
   "metadata": {
    "ExecuteTime": {
     "end_time": "2018-03-17T10:19:50.843351Z",
     "start_time": "2018-03-17T10:19:50.838883Z"
    },
    "hidden": true
   },
   "outputs": [
    {
     "data": {
      "text/plain": [
       "647"
      ]
     },
     "execution_count": 215,
     "metadata": {},
     "output_type": "execute_result"
    }
   ],
   "source": [
    "forecast_id"
   ]
  },
  {
   "cell_type": "code",
   "execution_count": 141,
   "metadata": {
    "ExecuteTime": {
     "end_time": "2018-03-17T09:51:22.597272Z",
     "start_time": "2018-03-17T09:51:22.593705Z"
    },
    "hidden": true
   },
   "outputs": [
    {
     "data": {
      "text/plain": [
       "348810.88"
      ]
     },
     "execution_count": 141,
     "metadata": {},
     "output_type": "execute_result"
    }
   ],
   "source": [
    "output.sum()"
   ]
  },
  {
   "cell_type": "code",
   "execution_count": 134,
   "metadata": {
    "ExecuteTime": {
     "end_time": "2018-03-17T09:50:00.997760Z",
     "start_time": "2018-03-17T09:50:00.993675Z"
    },
    "hidden": true
   },
   "outputs": [
    {
     "data": {
      "text/plain": [
       "(192,)"
      ]
     },
     "execution_count": 134,
     "metadata": {},
     "output_type": "execute_result"
    }
   ],
   "source": [
    "output.shape"
   ]
  },
  {
   "cell_type": "code",
   "execution_count": 137,
   "metadata": {
    "ExecuteTime": {
     "end_time": "2018-03-17T09:50:54.393179Z",
     "start_time": "2018-03-17T09:50:54.386532Z"
    },
    "hidden": true
   },
   "outputs": [
    {
     "data": {
      "text/plain": [
       "(192,)"
      ]
     },
     "execution_count": 137,
     "metadata": {},
     "output_type": "execute_result"
    }
   ],
   "source": [
    "plot_df.loc[plot_df.is_train == 0, 'pred'].shape"
   ]
  },
  {
   "cell_type": "code",
   "execution_count": 144,
   "metadata": {
    "ExecuteTime": {
     "end_time": "2018-03-17T09:53:08.090900Z",
     "start_time": "2018-03-17T09:53:07.786831Z"
    },
    "hidden": true
   },
   "outputs": [
    {
     "data": {
      "image/png": "[encoded data removed]",
      "text/plain": [
       "<matplotlib.figure.Figure at 0x7f1ff8bde278>"
      ]
     },
     "metadata": {},
     "output_type": "display_data"
    }
   ],
   "source": []
  },
  {
   "cell_type": "code",
   "execution_count": 91,
   "metadata": {
    "ExecuteTime": {
     "end_time": "2018-03-17T09:39:34.654226Z",
     "start_time": "2018-03-17T09:39:34.649497Z"
    },
    "hidden": true
   },
   "outputs": [
    {
     "data": {
      "text/plain": [
       "(192,)"
      ]
     },
     "execution_count": 91,
     "metadata": {},
     "output_type": "execute_result"
    }
   ],
   "source": [
    "output.shape"
   ]
  },
  {
   "cell_type": "code",
   "execution_count": 36,
   "metadata": {
    "ExecuteTime": {
     "end_time": "2018-03-17T09:02:49.223360Z",
     "start_time": "2018-03-17T09:02:49.219121Z"
    },
    "hidden": true
   },
   "outputs": [
    {
     "data": {
      "text/plain": [
       "269"
      ]
     },
     "execution_count": 36,
     "metadata": {},
     "output_type": "execute_result"
    }
   ],
   "source": [
    "len(train_loader)"
   ]
  },
  {
   "cell_type": "code",
   "execution_count": 31,
   "metadata": {
    "ExecuteTime": {
     "end_time": "2018-03-17T08:35:20.807132Z",
     "start_time": "2018-03-17T08:35:17.839046Z"
    },
    "code_folding": [],
    "hidden": true
   },
   "outputs": [
    {
     "name": "stdout",
     "output_type": "stream",
     "text": [
      "Creating dataset object ...\n",
      "Normalizing features ...\n",
      "Creating dataset object ...\n",
      "Normalizing features ...\n"
     ]
    }
   ],
   "source": [
    "# PyTorch training loop sugar\n",
    "\n",
    "temp_features = ['Temperature']\n",
    "hol_emb_features = ['Holiday']\n",
    "time_emb_features = ['year', 'month', 'day', 'hour', 'minute','dow']\n",
    "target = ['Value']\n",
    "predictors = temp_features + hol_emb_features + time_emb_features\n",
    "\n",
    "model = E2ELSTM_day(in_sequence_len = in_sequence_len,\n",
    "                 out_sequence_len = out_sequence_len,\n",
    "                 features_meta_total = features_meta_total,\n",
    "                 features_ar_total = features_ar_total,\n",
    "                 meta_hidden_layer_length = meta_hidden_layer_length,\n",
    "                 ar_hidden_layer_length = ar_hidden_layer_length,\n",
    "                 meta_hidden_layers = meta_hidden_layers,\n",
    "                 ar_hidden_layers = ar_hidden_layers,\n",
    "                 lstm_dropout =lstm_dropout,\n",
    "                 classifier_hidden_length = classifier_hidden_length)\n",
    "\n",
    "# model.cuda()\n",
    "\n",
    "train_dataset = S2SDataset(df = data_df[(~data_df.ForecastId.isin(list(set(data_df.ForecastId.unique()) - set(train_forecast_ids))))],\n",
    "                     series_type = '1_day',\n",
    "                     in_sequence_len = 30,\n",
    "                     out_sequence_len = 30,\n",
    "                     target = 'Value',\n",
    "                     mode = 'train',\n",
    "                     split_mode = 'random',\n",
    "                     predictors = predictors)\n",
    "\n",
    "val_dataset = S2SDataset(df = data_df[(~data_df.ForecastId.isin(list(set(data_df.ForecastId.unique()) - set(train_forecast_ids))))],\n",
    "                     series_type = '1_day',\n",
    "                     in_sequence_len = 30,\n",
    "                     out_sequence_len = 30,\n",
    "                     target = 'Value',\n",
    "                     mode = 'val',\n",
    "                     split_mode = 'random',\n",
    "                     predictors = predictors)  \n",
    "\n",
    "train_loader = torch.utils.data.DataLoader(\n",
    "    train_dataset,\n",
    "    batch_size=batch_size,        \n",
    "    shuffle=False,\n",
    "    num_workers=1,\n",
    "    pin_memory=True,\n",
    "    drop_last=False)\n",
    "\n",
    "val_loader = torch.utils.data.DataLoader(\n",
    "    val_dataset,\n",
    "    batch_size=batch_size,        \n",
    "    shuffle=True,\n",
    "    num_workers=1,\n",
    "    pin_memory=True,\n",
    "    drop_last=False)\n",
    "\n",
    "criterion = nn.MSELoss().cuda()\n",
    "\n",
    "optimizer = torch.optim.Adam(filter(lambda p: p.requires_grad, model.parameters()),\n",
    "                             lr = lr)\n",
    "\n",
    "scheduler = ReduceLROnPlateau(optimizer = optimizer,\n",
    "                                          mode = 'min',\n",
    "                                          factor = 0.1,\n",
    "                                          patience = 4,\n",
    "                                          verbose = True,\n",
    "                                          threshold = 1e-3,\n",
    "                                          min_lr = 1e-7\n",
    "                                          )"
   ]
  },
  {
   "cell_type": "code",
   "execution_count": 11,
   "metadata": {
    "ExecuteTime": {
     "end_time": "2018-03-17T08:29:12.398348Z",
     "start_time": "2018-03-17T08:29:12.388016Z"
    },
    "hidden": true
   },
   "outputs": [
    {
     "data": {
      "text/plain": [
       "array([ 0,  1,  2,  3,  4,  5,  6,  7,  8,  9, 10, 11, 12, 13, 14, 15, 16,\n",
       "       17, 18, 19, 20, 21, 22, 23, 24, 25, 26, 27, 28, 29, 30, 31, 32, 33,\n",
       "       34, 35, 36, 37, 38, 39, 40, 41, 42, 43, 44, 45, 46, 47, 48, 49, 50,\n",
       "       51, 52, 53, 54, 55, 56, 57, 58, 59, 60, 61, 62, 63, 64, 65, 66, 67,\n",
       "       68, 69, 70, 71])"
      ]
     },
     "execution_count": 11,
     "metadata": {},
     "output_type": "execute_result"
    }
   ],
   "source": [
    "train_dataset.df[train_dataset.df.ForecastId_type == '1_day'].Holiday.unique()"
   ]
  },
  {
   "cell_type": "code",
   "execution_count": 32,
   "metadata": {
    "ExecuteTime": {
     "end_time": "2018-03-17T08:38:13.487681Z",
     "start_time": "2018-03-17T08:35:20.808801Z"
    },
    "hidden": true,
    "scrolled": false
   },
   "outputs": [
    {
     "name": "stderr",
     "output_type": "stream",
     "text": [
      "\r",
      "  0%|          | 0/40 [00:00<?, ?it/s]"
     ]
    },
    {
     "name": "stdout",
     "output_type": "stream",
     "text": [
      "Epoch: [0][0/9]\tLoss 0.9040 (0.9040)\t\n",
      "Test: [0/3]\tLoss 0.8871 (0.8871)\t\n"
     ]
    },
    {
     "name": "stderr",
     "output_type": "stream",
     "text": [
      "\r",
      "Epoch [000/040]:   2%|▎         | 1/40 [00:04<03:01,  4.66s/it, train_loss=0.946, val_loss=0.923]"
     ]
    },
    {
     "name": "stdout",
     "output_type": "stream",
     "text": [
      "Epoch: [1][0/9]\tLoss 0.7825 (0.7825)\t\n",
      "Test: [0/3]\tLoss 0.9737 (0.9737)\t\n"
     ]
    },
    {
     "name": "stderr",
     "output_type": "stream",
     "text": [
      "\r",
      "Epoch [001/040]:   5%|▌         | 2/40 [00:09<02:57,  4.66s/it, train_loss=0.862, val_loss=0.93] "
     ]
    },
    {
     "name": "stdout",
     "output_type": "stream",
     "text": [
      "Epoch: [2][0/9]\tLoss 0.7229 (0.7229)\t\n",
      "Test: [0/3]\tLoss 0.9448 (0.9448)\t\n"
     ]
    },
    {
     "name": "stderr",
     "output_type": "stream",
     "text": [
      "\r",
      "Epoch [002/040]:   8%|▊         | 3/40 [00:13<02:47,  4.52s/it, train_loss=0.826, val_loss=0.941]"
     ]
    },
    {
     "name": "stdout",
     "output_type": "stream",
     "text": [
      "Epoch: [3][0/9]\tLoss 0.6982 (0.6982)\t\n",
      "Test: [0/3]\tLoss 0.7985 (0.7985)\t\n"
     ]
    },
    {
     "name": "stderr",
     "output_type": "stream",
     "text": [
      "\r",
      "Epoch [003/040]:  10%|█         | 4/40 [00:17<02:41,  4.48s/it, train_loss=0.806, val_loss=0.889]"
     ]
    },
    {
     "name": "stdout",
     "output_type": "stream",
     "text": [
      "Epoch: [4][0/9]\tLoss 0.6933 (0.6933)\t\n",
      "Test: [0/3]\tLoss 0.8713 (0.8713)\t\n"
     ]
    },
    {
     "name": "stderr",
     "output_type": "stream",
     "text": [
      "\r",
      "Epoch [004/040]:  12%|█▎        | 5/40 [00:22<02:35,  4.43s/it, train_loss=0.791, val_loss=0.865]"
     ]
    },
    {
     "name": "stdout",
     "output_type": "stream",
     "text": [
      "Epoch: [5][0/9]\tLoss 0.6720 (0.6720)\t\n",
      "Test: [0/3]\tLoss 0.9068 (0.9068)\t\n"
     ]
    },
    {
     "name": "stderr",
     "output_type": "stream",
     "text": [
      "\r",
      "Epoch [005/040]:  15%|█▌        | 6/40 [00:26<02:29,  4.39s/it, train_loss=0.771, val_loss=0.857]"
     ]
    },
    {
     "name": "stdout",
     "output_type": "stream",
     "text": [
      "Epoch: [6][0/9]\tLoss 0.6638 (0.6638)\t\n",
      "Test: [0/3]\tLoss 0.9465 (0.9465)\t\n"
     ]
    },
    {
     "name": "stderr",
     "output_type": "stream",
     "text": [
      "\r",
      "Epoch [006/040]:  18%|█▊        | 7/40 [00:30<02:22,  4.32s/it, train_loss=0.755, val_loss=0.822]"
     ]
    },
    {
     "name": "stdout",
     "output_type": "stream",
     "text": [
      "Epoch: [7][0/9]\tLoss 0.6499 (0.6499)\t\n",
      "Test: [0/3]\tLoss 0.6874 (0.6874)\t\n"
     ]
    },
    {
     "name": "stderr",
     "output_type": "stream",
     "text": [
      "\r",
      "Epoch [007/040]:  20%|██        | 8/40 [00:34<02:16,  4.27s/it, train_loss=0.739, val_loss=0.777]"
     ]
    },
    {
     "name": "stdout",
     "output_type": "stream",
     "text": [
      "Epoch: [8][0/9]\tLoss 0.6413 (0.6413)\t\n",
      "Test: [0/3]\tLoss 0.7401 (0.7401)\t\n"
     ]
    },
    {
     "name": "stderr",
     "output_type": "stream",
     "text": [
      "\r",
      "Epoch [008/040]:  22%|██▎       | 9/40 [00:39<02:13,  4.30s/it, train_loss=0.724, val_loss=0.78] "
     ]
    },
    {
     "name": "stdout",
     "output_type": "stream",
     "text": [
      "Epoch: [9][0/9]\tLoss 0.6309 (0.6309)\t\n",
      "Test: [0/3]\tLoss 0.8522 (0.8522)\t\n"
     ]
    },
    {
     "name": "stderr",
     "output_type": "stream",
     "text": [
      "\r",
      "Epoch [009/040]:  25%|██▌       | 10/40 [00:43<02:08,  4.29s/it, train_loss=0.709, val_loss=0.719]"
     ]
    },
    {
     "name": "stdout",
     "output_type": "stream",
     "text": [
      "Test: [0/3]\tLoss 0.5865 (0.5865)\t\n"
     ]
    },
    {
     "name": "stderr",
     "output_type": "stream",
     "text": [
      "\r",
      "Epoch [030/040]:  78%|███████▊  | 31/40 [02:13<00:39,  4.44s/it, train_loss=0.508, val_loss=0.555]"
     ]
    },
    {
     "name": "stdout",
     "output_type": "stream",
     "text": [
      "Epoch: [31][0/9]\tLoss 0.4544 (0.4544)\t\n",
      "Test: [0/3]\tLoss 0.5124 (0.5124)\t\n"
     ]
    },
    {
     "name": "stderr",
     "output_type": "stream",
     "text": [
      "\r",
      "Epoch [031/040]:  80%|████████  | 32/40 [02:18<00:35,  4.44s/it, train_loss=0.506, val_loss=0.587]"
     ]
    },
    {
     "name": "stdout",
     "output_type": "stream",
     "text": [
      "Epoch: [32][0/9]\tLoss 0.4609 (0.4609)\t\n",
      "Test: [0/3]\tLoss 0.5786 (0.5786)\t\n"
     ]
    },
    {
     "name": "stderr",
     "output_type": "stream",
     "text": [
      "\r",
      "Epoch [032/040]:  82%|████████▎ | 33/40 [02:22<00:30,  4.42s/it, train_loss=0.511, val_loss=0.604]"
     ]
    },
    {
     "name": "stdout",
     "output_type": "stream",
     "text": [
      "Epoch: [33][0/9]\tLoss 0.4545 (0.4545)\t\n",
      "Test: [0/3]\tLoss 0.5655 (0.5655)\t\n"
     ]
    },
    {
     "name": "stderr",
     "output_type": "stream",
     "text": [
      "\r",
      "Epoch [033/040]:  85%|████████▌ | 34/40 [02:26<00:26,  4.35s/it, train_loss=0.509, val_loss=0.571]"
     ]
    },
    {
     "name": "stdout",
     "output_type": "stream",
     "text": [
      "Epoch: [34][0/9]\tLoss 0.4491 (0.4491)\t\n",
      "Test: [0/3]\tLoss 0.5753 (0.5753)\t\n"
     ]
    },
    {
     "name": "stderr",
     "output_type": "stream",
     "text": [
      "\r",
      "Epoch [034/040]:  88%|████████▊ | 35/40 [02:30<00:21,  4.27s/it, train_loss=0.508, val_loss=0.573]"
     ]
    },
    {
     "name": "stdout",
     "output_type": "stream",
     "text": [
      "Epoch: [35][0/9]\tLoss 0.4531 (0.4531)\t\n",
      "Test: [0/3]\tLoss 0.5886 (0.5886)\t\n"
     ]
    },
    {
     "name": "stderr",
     "output_type": "stream",
     "text": [
      "\r",
      "Epoch [035/040]:  90%|█████████ | 36/40 [02:35<00:17,  4.29s/it, train_loss=0.508, val_loss=0.58] "
     ]
    },
    {
     "name": "stdout",
     "output_type": "stream",
     "text": [
      "Epoch    35: reducing learning rate of group 0 to 1.0000e-05.\n",
      "Epoch: [36][0/9]\tLoss 0.4563 (0.4563)\t\n",
      "Test: [0/3]\tLoss 0.7074 (0.7074)\t\n"
     ]
    },
    {
     "name": "stderr",
     "output_type": "stream",
     "text": [
      "\r",
      "Epoch [036/040]:  92%|█████████▎| 37/40 [02:39<00:13,  4.35s/it, train_loss=0.503, val_loss=0.558]"
     ]
    },
    {
     "name": "stdout",
     "output_type": "stream",
     "text": [
      "Epoch: [37][0/9]\tLoss 0.4569 (0.4569)\t\n",
      "Test: [0/3]\tLoss 0.5414 (0.5414)\t\n"
     ]
    },
    {
     "name": "stderr",
     "output_type": "stream",
     "text": [
      "\r",
      "Epoch [037/040]:  95%|█████████▌| 38/40 [02:43<00:08,  4.32s/it, train_loss=0.506, val_loss=0.596]"
     ]
    },
    {
     "name": "stdout",
     "output_type": "stream",
     "text": [
      "Epoch: [38][0/9]\tLoss 0.4483 (0.4483)\t\n",
      "Test: [0/3]\tLoss 0.5135 (0.5135)\t\n"
     ]
    },
    {
     "name": "stderr",
     "output_type": "stream",
     "text": [
      "\r",
      "Epoch [038/040]:  98%|█████████▊| 39/40 [02:48<00:04,  4.34s/it, train_loss=0.503, val_loss=0.582]"
     ]
    },
    {
     "name": "stdout",
     "output_type": "stream",
     "text": [
      "Epoch: [39][0/9]\tLoss 0.4438 (0.4438)\t\n",
      "Test: [0/3]\tLoss 0.6851 (0.6851)\t\n"
     ]
    },
    {
     "name": "stderr",
     "output_type": "stream",
     "text": [
      "Epoch [039/040]: 100%|██████████| 40/40 [02:52<00:00,  4.32s/it, train_loss=0.503, val_loss=0.604]\n"
     ]
    }
   ],
   "source": [
    "with tqdm.tqdm(total=epochs) as pbar:\n",
    "    for epoch in range(start_epoch, epochs):\n",
    "        # train for one epoch\n",
    "        train_loss = train(train_loader, model, criterion, optimizer, epoch)\n",
    "        # evaluate on validation set\n",
    "        val_loss = validate(val_loader, model, criterion)\n",
    "        scheduler.step(val_loss)\n",
    "        pbar.set_description('Epoch [{0}/{1}]'.format(str(epoch).zfill(3),str(epochs).zfill(3)), refresh=False)\n",
    "        pbar.set_postfix(train_loss=train_loss, val_loss=val_loss, refresh=False)\n",
    "        pbar.update(1)"
   ]
  },
  {
   "cell_type": "code",
   "execution_count": 39,
   "metadata": {
    "ExecuteTime": {
     "end_time": "2018-03-16T10:25:22.558761Z",
     "start_time": "2018-03-16T10:25:22.387797Z"
    },
    "hidden": true
   },
   "outputs": [
    {
     "data": {
      "text/plain": [
       "<matplotlib.axes._subplots.AxesSubplot at 0x7f4cd8250e48>"
      ]
     },
     "execution_count": 39,
     "metadata": {},
     "output_type": "execute_result"
    },
    {
     "data": {
      "image/png": "[encoded data removed]",
      "text/plain": [
       "<matplotlib.figure.Figure at 0x7f4cd824e630>"
      ]
     },
     "metadata": {},
     "output_type": "display_data"
    }
   ],
   "source": [
    "train_dataset.df[train_dataset.df.ForecastId == 359].Value.plot()"
   ]
  },
  {
   "cell_type": "code",
   "execution_count": 18,
   "metadata": {
    "ExecuteTime": {
     "end_time": "2018-03-16T11:10:49.066271Z",
     "start_time": "2018-03-16T11:10:49.063867Z"
    },
    "hidden": true
   },
   "outputs": [],
   "source": [
    "a = np.random.randint(1,size=(1,192))"
   ]
  },
  {
   "cell_type": "code",
   "execution_count": null,
   "metadata": {
    "hidden": true
   },
   "outputs": [],
   "source": [
    "np.vstack([a] * 16)"
   ]
  },
  {
   "cell_type": "code",
   "execution_count": 22,
   "metadata": {
    "ExecuteTime": {
     "end_time": "2018-03-16T11:11:51.283014Z",
     "start_time": "2018-03-16T11:11:51.279124Z"
    },
    "hidden": true
   },
   "outputs": [
    {
     "data": {
      "text/plain": [
       "[0, 1, 2, 3, 4, 5, 6, 7, 8, 9, 10, 11, 12, 13, 14, 15]"
      ]
     },
     "execution_count": 22,
     "metadata": {},
     "output_type": "execute_result"
    }
   ],
   "source": [
    "list(range(0,16))"
   ]
  },
  {
   "cell_type": "code",
   "execution_count": 21,
   "metadata": {
    "ExecuteTime": {
     "end_time": "2018-03-16T11:11:25.003124Z",
     "start_time": "2018-03-16T11:11:24.998206Z"
    },
    "hidden": true
   },
   "outputs": [
    {
     "data": {
      "text/plain": [
       "(16, 192)"
      ]
     },
     "execution_count": 21,
     "metadata": {},
     "output_type": "execute_result"
    }
   ],
   "source": [
    "np.vstack([a] * 16).shape"
   ]
  },
  {
   "cell_type": "code",
   "execution_count": 15,
   "metadata": {
    "ExecuteTime": {
     "end_time": "2018-03-16T10:17:45.165489Z",
     "start_time": "2018-03-16T10:17:45.160201Z"
    },
    "hidden": true
   },
   "outputs": [
    {
     "data": {
      "text/plain": [
       "((64, 192), (64, 384, 8), (64, 192))"
      ]
     },
     "execution_count": 15,
     "metadata": {},
     "output_type": "execute_result"
    }
   ],
   "source": [
    "x1.shape,x2.shape,y.shape"
   ]
  },
  {
   "cell_type": "code",
   "execution_count": 47,
   "metadata": {
    "ExecuteTime": {
     "end_time": "2018-03-16T10:27:21.247960Z",
     "start_time": "2018-03-16T10:27:21.243034Z"
    },
    "hidden": true
   },
   "outputs": [
    {
     "data": {
      "text/plain": [
       "(8,)"
      ]
     },
     "execution_count": 47,
     "metadata": {},
     "output_type": "execute_result"
    }
   ],
   "source": [
    "x2[idx,0].shape"
   ]
  },
  {
   "cell_type": "code",
   "execution_count": 48,
   "metadata": {
    "ExecuteTime": {
     "end_time": "2018-03-16T10:27:27.183309Z",
     "start_time": "2018-03-16T10:27:27.010938Z"
    },
    "hidden": true
   },
   "outputs": [
    {
     "data": {
      "image/png": "[encoded data removed]",
      "text/plain": [
       "<matplotlib.figure.Figure at 0x7f4cd82804a8>"
      ]
     },
     "metadata": {},
     "output_type": "display_data"
    }
   ],
   "source": [
    "import matplotlib.pyplot as plt\n",
    "idx = 10\n",
    "plot_df = pd.DataFrame(list(x2[idx,:,0]))\n",
    "plot_df.plot()\n",
    "plt.show()"
   ]
  },
  {
   "cell_type": "code",
   "execution_count": 35,
   "metadata": {
    "ExecuteTime": {
     "end_time": "2018-03-16T10:23:55.646343Z",
     "start_time": "2018-03-16T10:23:55.467965Z"
    },
    "hidden": true
   },
   "outputs": [
    {
     "data": {
      "image/png": "[encoded data removed]",
      "text/plain": [
       "<matplotlib.figure.Figure at 0x7f4cd827cc18>"
      ]
     },
     "metadata": {},
     "output_type": "display_data"
    }
   ],
   "source": [
    "import matplotlib.pyplot as plt\n",
    "idx = 38\n",
    "plot_df = pd.DataFrame(list(x1[idx,:])+list(y[idx+10,:]))\n",
    "plot_df.plot()\n",
    "plt.show()"
   ]
  },
  {
   "cell_type": "code",
   "execution_count": null,
   "metadata": {
    "hidden": true
   },
   "outputs": [],
   "source": [
    "def save_checkpoint(state, is_best, filename, best_filename):\n",
    "    torch.save(state, filename)\n",
    "    if is_best:\n",
    "        shutil.copyfile(filename, best_filename)\n",
    "\n"
   ]
  },
  {
   "cell_type": "markdown",
   "metadata": {
    "heading_collapsed": true
   },
   "source": [
    "# Debug submissions"
   ]
  },
  {
   "cell_type": "code",
   "execution_count": 3,
   "metadata": {
    "ExecuteTime": {
     "end_time": "2018-03-18T16:09:23.717863Z",
     "start_time": "2018-03-18T16:09:22.272036Z"
    },
    "hidden": true
   },
   "outputs": [
    {
     "name": "stderr",
     "output_type": "stream",
     "text": [
      "/opt/conda/lib/python3.5/site-packages/h5py/__init__.py:36: FutureWarning: Conversion of the second argument of issubdtype from `float` to `np.floating` is deprecated. In future, it will be treated as `np.float64 == np.dtype(float).type`.\n",
      "  from ._conv import register_converters as _register_converters\n"
     ]
    }
   ],
   "source": [
    "# Custom tensorboard logging\n",
    "from TbLogger import Logger\n",
    "\n",
    "import os\n",
    "import time\n",
    "import tqdm\n",
    "import shutil\n",
    "import argparse\n",
    "import numpy as np\n",
    "import pandas as pd\n",
    "from math import sqrt\n",
    "from sklearn import  metrics\n",
    " \n",
    "# custom utils and random forest scripts\n",
    "from Utils import ETL_emb, count_test_period,preprocess_seq2seq,interpolate\n",
    "\n",
    "# torch imports\n",
    "import torch\n",
    "import torch.optim\n",
    "import torch.nn as nn\n",
    "import torch.utils.data\n",
    "import torch.nn.parallel\n",
    "import torchvision.models as models\n",
    "import torch.backends.cudnn as cudnn\n",
    "import torchvision.datasets as datasets\n",
    "import torchvision.transforms as transforms\n",
    "from torch.optim.lr_scheduler import ReduceLROnPlateau,MultiStepLR\n",
    "\n",
    "# custom classes\n",
    "from SDataset import S2SDataset\n",
    "from ELstm import E2ELSTM,WMSELoss,E2ELSTM_day\n",
    "\n",
    "import pandas as pd\n",
    "import numpy as np\n",
    "from math import sqrt\n",
    "\n",
    "from Utils import WRMSE\n",
    "\n",
    "LOGNUMBER = 'e2e_seq2seq_bl'\n",
    "\n"
   ]
  },
  {
   "cell_type": "code",
   "execution_count": 2,
   "metadata": {
    "ExecuteTime": {
     "end_time": "2018-03-18T16:09:20.935542Z",
     "start_time": "2018-03-18T16:09:20.911244Z"
    },
    "code_folding": [],
    "hidden": true
   },
   "outputs": [],
   "source": [
    "def preprocess_data():\n",
    "    print('Starting the ETL process')\n",
    "\n",
    "    start_time = time.time()\n",
    "    df_train,df_sub = ETL_emb()\n",
    "    test_lengths = count_test_period(df_sub)\n",
    "    elapsed_time = time.time() - start_time \n",
    "\n",
    "    print('Time taken to complete the ETL process {}'.format(elapsed_time))\n",
    "\n",
    "    forecast_ids = list(test_lengths.keys())\n",
    "    site_ids = list(df_sub.SiteId.unique())\n",
    "\n",
    "    # suppress pandas warnings\n",
    "    # do not do this in production!\n",
    "    pd.set_option('mode.chained_assignment', None)\n",
    "\n",
    "    data_df = preprocess_seq2seq(df_train,df_sub)\n",
    "    # reset index to make sure we do not have double indexes and for easier indexing\n",
    "    data_df = data_df.reset_index()\n",
    "    del data_df['index']\n",
    "\n",
    "    # leave only the first holiday\n",
    "    data_df = data_df[(data_df['obs_id'].shift(+1) != data_df['obs_id'])]\n",
    "    data_df = data_df.reset_index()\n",
    "    del data_df['index']\n",
    "    # fill days wo holidays with -1\n",
    "    data_df['Holiday'] = data_df['Holiday'].fillna(value=-1)\n",
    "\n",
    "    data_df,train_forecast_ids,normal_forecast_ids,linear_interpolation,last_window,submit_zeroes,submit_averages = interpolate(data_df)\n",
    "    \n",
    "    return data_df,train_forecast_ids,normal_forecast_ids,linear_interpolation,last_window,submit_zeroes,submit_averages"
   ]
  },
  {
   "cell_type": "code",
   "execution_count": 4,
   "metadata": {
    "ExecuteTime": {
     "end_time": "2018-03-18T16:13:02.877124Z",
     "start_time": "2018-03-18T16:09:45.822881Z"
    },
    "hidden": true
   },
   "outputs": [
    {
     "name": "stdout",
     "output_type": "stream",
     "text": [
      "Starting the ETL process\n",
      "Time taken to complete the ETL process 165.8938820362091\n"
     ]
    },
    {
     "name": "stderr",
     "output_type": "stream",
     "text": [
      " 17%|█▋        | 1/6 [00:00<00:00,  7.59it/s]"
     ]
    },
    {
     "name": "stdout",
     "output_type": "stream",
     "text": [
      "Removing drastic outliers ... \n"
     ]
    },
    {
     "name": "stderr",
     "output_type": "stream",
     "text": [
      "100%|██████████| 6/6 [00:00<00:00,  7.51it/s]\n"
     ]
    }
   ],
   "source": [
    "data_df,train_forecast_ids,normal_forecast_ids,linear_interpolation,use_last_window,submit_zeroes,submit_averages = preprocess_data()"
   ]
  },
  {
   "cell_type": "code",
   "execution_count": 7,
   "metadata": {
    "ExecuteTime": {
     "end_time": "2018-03-18T16:14:04.443344Z",
     "start_time": "2018-03-18T16:14:04.440224Z"
    },
    "hidden": true
   },
   "outputs": [],
   "source": [
    "with open('use_last_window.pkl', 'wb') as output:\n",
    "    pickle.dump(use_last_window, output, pickle.HIGHEST_PROTOCOL)"
   ]
  },
  {
   "cell_type": "code",
   "execution_count": 1,
   "metadata": {
    "ExecuteTime": {
     "end_time": "2018-03-18T16:08:19.427825Z",
     "start_time": "2018-03-18T16:08:19.376290Z"
    },
    "hidden": true
   },
   "outputs": [
    {
     "ename": "NameError",
     "evalue": "name 'pd' is not defined",
     "output_type": "error",
     "traceback": [
      "\u001b[0;31m---------------------------------------------------------------------------\u001b[0m",
      "\u001b[0;31mNameError\u001b[0m                                 Traceback (most recent call last)",
      "\u001b[0;32m<ipython-input-1-b1ede9e0fa8e>\u001b[0m in \u001b[0;36m<module>\u001b[0;34m()\u001b[0m\n\u001b[1;32m      3\u001b[0m \u001b[0;31m# suppress pandas warnings\u001b[0m\u001b[0;34m\u001b[0m\u001b[0;34m\u001b[0m\u001b[0m\n\u001b[1;32m      4\u001b[0m \u001b[0;31m# do not do this in production!\u001b[0m\u001b[0;34m\u001b[0m\u001b[0;34m\u001b[0m\u001b[0m\n\u001b[0;32m----> 5\u001b[0;31m \u001b[0mpd\u001b[0m\u001b[0;34m.\u001b[0m\u001b[0mset_option\u001b[0m\u001b[0;34m(\u001b[0m\u001b[0;34m'mode.chained_assignment'\u001b[0m\u001b[0;34m,\u001b[0m \u001b[0;32mNone\u001b[0m\u001b[0;34m)\u001b[0m\u001b[0;34m\u001b[0m\u001b[0m\n\u001b[0m\u001b[1;32m      6\u001b[0m \u001b[0;34m\u001b[0m\u001b[0m\n\u001b[1;32m      7\u001b[0m \u001b[0;31m# read all pre-calculated objects\u001b[0m\u001b[0;34m\u001b[0m\u001b[0;34m\u001b[0m\u001b[0m\n",
      "\u001b[0;31mNameError\u001b[0m: name 'pd' is not defined"
     ]
    }
   ],
   "source": [
    "import pickle \n",
    "\n",
    "# suppress pandas warnings\n",
    "# do not do this in production!\n",
    "pd.set_option('mode.chained_assignment', None)\n",
    "\n",
    "# read all pre-calculated objects\n",
    "data_df = pd.read_feather('../data/forecast/data_df_feather')\n",
    "with open('train_forecast_ids.pkl', 'rb') as input:\n",
    "    train_forecast_ids = pickle.load(input)\n",
    "with open('normal_forecast_ids.pkl', 'rb') as input:\n",
    "    normal_forecast_ids = pickle.load(input)\n",
    "with open('linear_interpolation.pkl', 'rb') as input:\n",
    "    linear_interpolation = pickle.load(input)\n",
    "with open('last_window.pkl', 'rb') as input:\n",
    "    last_window = pickle.load(input)\n",
    "with open('submit_zeroes.pkl', 'rb') as input:\n",
    "    submit_zeroes = pickle.load(input)\n",
    "with open('submit_averages.pkl', 'rb') as input:\n",
    "    submit_averages = pickle.load(input)    \n",
    "    \n",
    "train_forecast_ids = normal_forecast_ids + linear_interpolation    "
   ]
  },
  {
   "cell_type": "code",
   "execution_count": 4,
   "metadata": {
    "ExecuteTime": {
     "end_time": "2018-03-18T15:03:07.843800Z",
     "start_time": "2018-03-18T15:03:03.116444Z"
    },
    "code_folding": [
     7,
     18,
     29
    ],
    "hidden": true
   },
   "outputs": [
    {
     "name": "stdout",
     "output_type": "stream",
     "text": [
      "model_1d => loaded checkpoint (epoch 51)\n",
      "model_1h => loaded checkpoint (epoch 71)\n",
      "model_15m => loaded checkpoint (epoch 76)\n"
     ]
    }
   ],
   "source": [
    "# preprocess data / ETL / interpolation / data curation\n",
    "# data_df,train_forecast_ids,normal_forecast_ids,linear_interpolation,last_window,submit_zeroes,submit_averages = preprocess_data()\n",
    "\n",
    "best_1d_model = 'weights/bl_1d_1e2_best.pth.tar'\n",
    "best_1h_model = 'weights/bl_1h_1e2_best.pth.tar'\n",
    "best_15m_model = 'weights/bl_15m_3lyr_best.pth.tar'\n",
    "\n",
    "model_1d = E2ELSTM_day(in_sequence_len = 30,\n",
    "                 out_sequence_len = 30,\n",
    "                 features_meta_total = 43,\n",
    "                 features_ar_total = 1,\n",
    "                 meta_hidden_layer_length = 30,\n",
    "                 ar_hidden_layer_length = 30,\n",
    "                 meta_hidden_layers = 2,\n",
    "                 ar_hidden_layers = 2,\n",
    "                 lstm_dropout = 0,\n",
    "                 classifier_hidden_length = 256)\n",
    "\n",
    "model_1h = E2ELSTM(in_sequence_len = 192,\n",
    "                 out_sequence_len = 192,\n",
    "                 features_meta_total = 72,\n",
    "                 features_ar_total = 1,\n",
    "                 meta_hidden_layer_length = 192,\n",
    "                 ar_hidden_layer_length = 192,\n",
    "                 meta_hidden_layers = 2,\n",
    "                 ar_hidden_layers = 2,\n",
    "                 lstm_dropout = 0,\n",
    "                 classifier_hidden_length = 512)\n",
    "\n",
    "model_15m = E2ELSTM(in_sequence_len = 192,\n",
    "                 out_sequence_len = 192,\n",
    "                 features_meta_total = 72,\n",
    "                 features_ar_total = 1,\n",
    "                 meta_hidden_layer_length = 192,\n",
    "                 ar_hidden_layer_length = 192,\n",
    "                 meta_hidden_layers = 3,\n",
    "                 ar_hidden_layers = 3,\n",
    "                 lstm_dropout = 0,\n",
    "                 classifier_hidden_length = 512)   \n",
    "\n",
    "checkpoint = torch.load(best_1d_model)\n",
    "model_1d.load_state_dict(checkpoint['state_dict'])\n",
    "print(\"model_1d => loaded checkpoint (epoch {})\".format(checkpoint['epoch']))\n",
    "\n",
    "checkpoint = torch.load(best_1h_model)\n",
    "model_1h.load_state_dict(checkpoint['state_dict'])\n",
    "print(\"model_1h => loaded checkpoint (epoch {})\".format(checkpoint['epoch']))\n",
    "\n",
    "checkpoint = torch.load(best_15m_model)\n",
    "model_15m.load_state_dict(checkpoint['state_dict'])\n",
    "print(\"model_15m => loaded checkpoint (epoch {})\".format(checkpoint['epoch']))    \n",
    "\n",
    "\n",
    "submission_df = pd.read_csv('../data/forecast/submission_format.csv')\n",
    "submission_df = submission_df.set_index('obs_id')\n",
    "\n",
    "model_1d.cuda()\n",
    "model_1h.cuda()\n",
    "model_15m.cuda()\n",
    "model_1d.eval()\n",
    "model_1h.eval()\n",
    "model_15m.eval()    \n",
    "\n",
    "stat_cols = ['forecast_id','wrmse_val','r2_val']\n",
    "stat_df = pd.DataFrame(columns = stat_cols)\n",
    "\n",
    "# select only series we marked as trainable\n",
    "# negation is for speed only\n",
    "trainable_df = data_df[(~data_df.ForecastId.isin(list(set(data_df.ForecastId.unique()) - set(train_forecast_ids))))]    "
   ]
  },
  {
   "cell_type": "code",
   "execution_count": 5,
   "metadata": {
    "ExecuteTime": {
     "end_time": "2018-03-18T15:03:36.511622Z",
     "start_time": "2018-03-18T15:03:26.582752Z"
    },
    "code_folding": [
     92
    ],
    "hidden": true
   },
   "outputs": [
    {
     "name": "stdout",
     "output_type": "stream",
     "text": [
      "Predicting for 1 day series ...\n",
      "Creating dataset object ...\n",
      "Normalizing features ...\n",
      "Creating dataset object ...\n"
     ]
    },
    {
     "name": "stderr",
     "output_type": "stream",
     "text": [
      "\r",
      "  0%|          | 0/224 [00:00<?, ?it/s]"
     ]
    },
    {
     "name": "stdout",
     "output_type": "stream",
     "text": [
      "Normalizing features ...\n",
      "Dataset length is 224\n"
     ]
    },
    {
     "name": "stderr",
     "output_type": "stream",
     "text": [
      "100%|██████████| 224/224 [00:05<00:00, 37.92it/s]\n",
      "100%|██████████| 224/224 [00:02<00:00, 88.80it/s]\n"
     ]
    }
   ],
   "source": [
    "print('Predicting for 1 day series ...')\n",
    "\n",
    "temp_features = ['Temperature']\n",
    "hol_emb_features = ['Holiday']\n",
    "time_emb_features = ['month','day','dow']\n",
    "target = ['Value']\n",
    "predictors = temp_features + hol_emb_features + time_emb_features\n",
    "        \n",
    "predict_dataset = S2SDataset(df = trainable_df,\n",
    "                     series_type = '1_day',\n",
    "                     in_sequence_len = 30,\n",
    "                     out_sequence_len = 30,\n",
    "                     target = 'Value',\n",
    "                     mode = 'test',\n",
    "                     split_mode = 'random',\n",
    "                     predictors = predictors)\n",
    "\n",
    "predict_dataset_wrmse = S2SDataset(df = trainable_df,\n",
    "                     series_type = '1_day',\n",
    "                     in_sequence_len = 30,\n",
    "                     out_sequence_len = 30,\n",
    "                     target = 'Value',\n",
    "                     mode = 'evaluate_wrmse',\n",
    "                     split_mode = 'random',\n",
    "                     predictors = predictors)    \n",
    "\n",
    "print('Dataset length is {}'.format(len(predict_dataset.forecast_ids)))\n",
    "\n",
    "with tqdm.tqdm(total=len(predict_dataset.forecast_ids)) as pbar:    \n",
    "    for i,forecast_id in enumerate(predict_dataset.forecast_ids):\n",
    "        i = predict_dataset.forecast_ids.index(forecast_id)\n",
    "\n",
    "        test_X_sequences_meta,test_X_sequences_ar,len_diff = predict_dataset.__getitem__(i)\n",
    "\n",
    "        # into PyTorch format\n",
    "        test_X_sequences_meta = torch.from_numpy(test_X_sequences_meta).view(1,-1,5)\n",
    "        test_X_sequences_ar = torch.from_numpy(test_X_sequences_ar).view(1,-1,1)    \n",
    "\n",
    "        # transform data from Batch x Window x Etc into Batch x Etc format\n",
    "        test_X_sequences_ar = test_X_sequences_ar.float()\n",
    "        test_X_sequences_temp = test_X_sequences_meta[:,:,0:1].float()\n",
    "        test_X_sequences_meta = test_X_sequences_meta[:,:,1:].long()\n",
    "\n",
    "        x_temp_var = torch.autograd.Variable(test_X_sequences_temp).cuda(async=True)\n",
    "        x_meta_var = torch.autograd.Variable(test_X_sequences_meta).cuda(async=True)\n",
    "        x_ar_var = torch.autograd.Variable(test_X_sequences_ar).cuda(async=True)\n",
    "\n",
    "        # compute output\n",
    "        output = model_1d(x_temp_var,x_meta_var,x_ar_var)    \n",
    "        output = output[0,:].data.cpu().numpy()\n",
    "        # predict first 30 time points\n",
    "        output1 = output\n",
    "\n",
    "        # then predict the remaining points using data we have\n",
    "        predict_len = predict_dataset.df[(predict_dataset.df.ForecastId == forecast_id)\n",
    "                           & (predict_dataset.df.is_train == 0)].shape[0]\n",
    "        remaining_len = predict_len - len(output1)\n",
    "\n",
    "        # use our preds as AR values for final prediction\n",
    "        # predict more values\n",
    "        test_X_sequences_ar = output1\n",
    "        test_X_sequences_meta = predict_dataset.df[(predict_dataset.df.ForecastId == forecast_id)\n",
    "                                                   &(predict_dataset.df.is_train == 0)].iloc[-len(output1) * 2:][predictors].values\n",
    "        test_X_sequences_meta = test_X_sequences_meta.copy()\n",
    "        # into PyTorch format\n",
    "        test_X_sequences_meta = torch.from_numpy(test_X_sequences_meta).view(1,-1,5)\n",
    "        test_X_sequences_ar = torch.from_numpy(test_X_sequences_ar).view(1,-1,1)    \n",
    "\n",
    "        # transform data from Batch x Window x Etc into Batch x Etc format\n",
    "        test_X_sequences_ar = test_X_sequences_ar.float()\n",
    "        test_X_sequences_temp = test_X_sequences_meta[:,:,0:1].float()\n",
    "        test_X_sequences_meta = test_X_sequences_meta[:,:,1:].long()\n",
    "\n",
    "        x_temp_var = torch.autograd.Variable(test_X_sequences_temp).cuda(async=True)\n",
    "        x_meta_var = torch.autograd.Variable(test_X_sequences_meta).cuda(async=True)\n",
    "        x_ar_var = torch.autograd.Variable(test_X_sequences_ar).cuda(async=True)    \n",
    "\n",
    "        # compute output\n",
    "        output = model_1d(x_temp_var,x_meta_var,x_ar_var)    \n",
    "        output = output[0,:].data.cpu().numpy()\n",
    "        # predict first 30 time points\n",
    "        output2 = output    \n",
    "\n",
    "        truncate_len = predict_len - len(output1) - len(output2)\n",
    "        final_output = np.hstack((output1,output2[-truncate_len:]))\n",
    "\n",
    "        final_output = final_output * predict_dataset.std_dict[forecast_id] + predict_dataset.mean_dict[forecast_id]\n",
    "        submission_df.loc[submission_df.ForecastId == forecast_id, 'Value'] =  final_output    \n",
    "\n",
    "        pbar.update(1)\n",
    "\n",
    "# forecast loop - evaluate on the last sequence on trainval dataset\n",
    "with tqdm.tqdm(total=len(predict_dataset.forecast_ids)) as pbar: \n",
    "    for i,forecast_id in enumerate(predict_dataset_wrmse.forecast_ids):\n",
    "        i = predict_dataset_wrmse.forecast_ids.index(forecast_id)\n",
    "\n",
    "        X_sequences_ar,X_sequences_meta,y_sequences = predict_dataset_wrmse.__getitem__(i)        \n",
    "        X_sequences_meta = torch.from_numpy(X_sequences_meta).view(1,-1,5)\n",
    "        X_sequences_ar = torch.from_numpy(X_sequences_ar).view(1,-1,1)\n",
    "\n",
    "        y_true = y_sequences.reshape(-1) * predict_dataset_wrmse.std_dict[forecast_id] + predict_dataset_wrmse.mean_dict[forecast_id]\n",
    "\n",
    "        # transform data from Batch x Window x Etc into Batch x Etc format\n",
    "        X_sequences_ar = X_sequences_ar.float()\n",
    "        X_sequences_temp = X_sequences_meta[:,:,0:1].float()\n",
    "        X_sequences_meta = X_sequences_meta[:,:,1:].long()\n",
    "\n",
    "        x_temp_var = torch.autograd.Variable(test_X_sequences_temp).cuda(async=True)\n",
    "        x_meta_var = torch.autograd.Variable(test_X_sequences_meta).cuda(async=True)\n",
    "        x_ar_var = torch.autograd.Variable(test_X_sequences_ar).cuda(async=True)\n",
    "\n",
    "        # compute output\n",
    "        output = model_1d(x_temp_var,x_meta_var,x_ar_var)    \n",
    "        output = output[0,:].data.cpu().numpy()\n",
    "\n",
    "        output = output * predict_dataset_wrmse.std_dict[forecast_id] + predict_dataset_wrmse.mean_dict[forecast_id]\n",
    "\n",
    "        wrmse_val = WRMSE(y_true, output)\n",
    "        r2_score_val = metrics.r2_score(y_true, output)\n",
    "        stat_df = stat_df.append(pd.DataFrame([dict(zip(stat_cols,[forecast_id,r2_score_val,wrmse_val]))]))\n",
    "\n",
    "        pbar.update(1)    "
   ]
  },
  {
   "cell_type": "code",
   "execution_count": null,
   "metadata": {
    "hidden": true
   },
   "outputs": [],
   "source": []
  },
  {
   "cell_type": "code",
   "execution_count": 26,
   "metadata": {
    "ExecuteTime": {
     "end_time": "2018-03-17T13:23:55.675230Z",
     "start_time": "2018-03-17T13:09:33.070173Z"
    },
    "code_folding": [
     8,
     17,
     28,
     92,
     131,
     140,
     151,
     180,
     212,
     221,
     232,
     261,
     293,
     299
    ],
    "hidden": true
   },
   "outputs": [
    {
     "name": "stdout",
     "output_type": "stream",
     "text": [
      "Predicting for 1 day series ...\n",
      "Creating dataset object ...\n",
      "Normalizing features ...\n",
      "Creating dataset object ...\n"
     ]
    },
    {
     "name": "stderr",
     "output_type": "stream",
     "text": [
      "  2%|▏         | 4/224 [00:00<00:06, 35.00it/s]"
     ]
    },
    {
     "name": "stdout",
     "output_type": "stream",
     "text": [
      "Normalizing features ...\n",
      "Dataset length is 224\n"
     ]
    },
    {
     "name": "stderr",
     "output_type": "stream",
     "text": [
      "100%|██████████| 224/224 [00:05<00:00, 38.68it/s]\n",
      "100%|██████████| 224/224 [00:02<00:00, 92.00it/s]\n"
     ]
    },
    {
     "name": "stdout",
     "output_type": "stream",
     "text": [
      "Predicting for 1 hour series ...\n",
      "Creating dataset object ...\n",
      "Normalizing features ...\n",
      "Creating dataset object ...\n",
      "Normalizing features ...\n"
     ]
    },
    {
     "name": "stderr",
     "output_type": "stream",
     "text": [
      "  0%|          | 2/1294 [00:00<01:13, 17.56it/s]"
     ]
    },
    {
     "name": "stdout",
     "output_type": "stream",
     "text": [
      "Dataset length is 1294\n"
     ]
    },
    {
     "name": "stderr",
     "output_type": "stream",
     "text": [
      "100%|██████████| 1294/1294 [01:14<00:00, 17.40it/s]\n",
      "100%|██████████| 1294/1294 [01:07<00:00, 19.52it/s]\n"
     ]
    },
    {
     "name": "stdout",
     "output_type": "stream",
     "text": [
      "Predicting for 15 min series ...\n",
      "Creating dataset object ...\n",
      "Normalizing features ...\n",
      "Creating dataset object ...\n",
      "Normalizing features ...\n"
     ]
    },
    {
     "name": "stderr",
     "output_type": "stream",
     "text": [
      "  0%|          | 2/5372 [00:00<05:57, 15.02it/s]"
     ]
    },
    {
     "name": "stdout",
     "output_type": "stream",
     "text": [
      "Dataset length is 5372\n"
     ]
    },
    {
     "name": "stderr",
     "output_type": "stream",
     "text": [
      "100%|██████████| 5372/5372 [05:58<00:00, 14.97it/s]\n",
      "100%|██████████| 5372/5372 [05:32<00:00, 16.17it/s]\n",
      "  4%|▍         | 3/74 [00:00<00:03, 21.91it/s]"
     ]
    },
    {
     "name": "stdout",
     "output_type": "stream",
     "text": [
      "Submitting averages ... \n"
     ]
    },
    {
     "name": "stderr",
     "output_type": "stream",
     "text": [
      "100%|██████████| 74/74 [00:01<00:00, 37.74it/s]\n",
      "100%|██████████| 10/10 [00:00<00:00, 159.06it/s]"
     ]
    },
    {
     "name": "stdout",
     "output_type": "stream",
     "text": [
      "Submitting zeroes ... \n"
     ]
    },
    {
     "name": "stderr",
     "output_type": "stream",
     "text": [
      "\n"
     ]
    }
   ],
   "source": [
    "print('Predicting for 1 day series ...')\n",
    "\n",
    "temp_features = ['Temperature']\n",
    "hol_emb_features = ['Holiday']\n",
    "time_emb_features = ['month','day','dow']\n",
    "target = ['Value']\n",
    "predictors = temp_features + hol_emb_features + time_emb_features\n",
    "        \n",
    "predict_dataset = S2SDataset(df = trainable_df,\n",
    "                     series_type = '1_day',\n",
    "                     in_sequence_len = 30,\n",
    "                     out_sequence_len = 30,\n",
    "                     target = 'Value',\n",
    "                     mode = 'test',\n",
    "                     split_mode = 'random',\n",
    "                     predictors = predictors)\n",
    "\n",
    "predict_dataset_wrmse = S2SDataset(df = trainable_df,\n",
    "                     series_type = '1_day',\n",
    "                     in_sequence_len = 30,\n",
    "                     out_sequence_len = 30,\n",
    "                     target = 'Value',\n",
    "                     mode = 'evaluate_wrmse',\n",
    "                     split_mode = 'random',\n",
    "                     predictors = predictors)    \n",
    "\n",
    "print('Dataset length is {}'.format(len(predict_dataset.forecast_ids)))\n",
    "\n",
    "with tqdm.tqdm(total=len(predict_dataset.forecast_ids)) as pbar:    \n",
    "    for i,forecast_id in enumerate(predict_dataset.forecast_ids):\n",
    "        i = predict_dataset.forecast_ids.index(forecast_id)\n",
    "\n",
    "        test_X_sequences_meta,test_X_sequences_ar,len_diff = predict_dataset.__getitem__(i)\n",
    "\n",
    "        # into PyTorch format\n",
    "        test_X_sequences_meta = torch.from_numpy(test_X_sequences_meta).view(1,-1,5)\n",
    "        test_X_sequences_ar = torch.from_numpy(test_X_sequences_ar).view(1,-1,1)    \n",
    "\n",
    "        # transform data from Batch x Window x Etc into Batch x Etc format\n",
    "        test_X_sequences_ar = test_X_sequences_ar.float()\n",
    "        test_X_sequences_temp = test_X_sequences_meta[:,:,0:1].float()\n",
    "        test_X_sequences_meta = test_X_sequences_meta[:,:,1:].long()\n",
    "\n",
    "        x_temp_var = torch.autograd.Variable(test_X_sequences_temp).cuda(async=True)\n",
    "        x_meta_var = torch.autograd.Variable(test_X_sequences_meta).cuda(async=True)\n",
    "        x_ar_var = torch.autograd.Variable(test_X_sequences_ar).cuda(async=True)\n",
    "\n",
    "        # compute output\n",
    "        output = model_1d(x_temp_var,x_meta_var,x_ar_var)    \n",
    "        output = output[0,:].data.cpu().numpy()\n",
    "        # predict first 30 time points\n",
    "        output1 = output\n",
    "\n",
    "        # then predict the remaining points using data we have\n",
    "        predict_len = predict_dataset.df[(predict_dataset.df.ForecastId == forecast_id)\n",
    "                           & (predict_dataset.df.is_train == 0)].shape[0]\n",
    "        remaining_len = predict_len - len(output1)\n",
    "\n",
    "        # use our preds as AR values for final prediction\n",
    "        # predict more values\n",
    "        test_X_sequences_ar = output1\n",
    "        test_X_sequences_meta = predict_dataset.df[(predict_dataset.df.ForecastId == forecast_id)\n",
    "                                                   &(predict_dataset.df.is_train == 0)].iloc[-len(output1) * 2:][predictors].values\n",
    "        test_X_sequences_meta = test_X_sequences_meta.copy()\n",
    "        # into PyTorch format\n",
    "        test_X_sequences_meta = torch.from_numpy(test_X_sequences_meta).view(1,-1,5)\n",
    "        test_X_sequences_ar = torch.from_numpy(test_X_sequences_ar).view(1,-1,1)    \n",
    "\n",
    "        # transform data from Batch x Window x Etc into Batch x Etc format\n",
    "        test_X_sequences_ar = test_X_sequences_ar.float()\n",
    "        test_X_sequences_temp = test_X_sequences_meta[:,:,0:1].float()\n",
    "        test_X_sequences_meta = test_X_sequences_meta[:,:,1:].long()\n",
    "\n",
    "        x_temp_var = torch.autograd.Variable(test_X_sequences_temp).cuda(async=True)\n",
    "        x_meta_var = torch.autograd.Variable(test_X_sequences_meta).cuda(async=True)\n",
    "        x_ar_var = torch.autograd.Variable(test_X_sequences_ar).cuda(async=True)    \n",
    "\n",
    "        # compute output\n",
    "        output = model_1d(x_temp_var,x_meta_var,x_ar_var)    \n",
    "        output = output[0,:].data.cpu().numpy()\n",
    "        # predict first 30 time points\n",
    "        output2 = output    \n",
    "\n",
    "        truncate_len = predict_len - len(output1) - len(output2)\n",
    "        final_output = np.hstack((output1,output2[-truncate_len:]))\n",
    "\n",
    "        final_output = final_output * predict_dataset.std_dict[forecast_id] + predict_dataset.mean_dict[forecast_id]\n",
    "        submission_df.loc[submission_df.ForecastId == forecast_id, 'Value'] =  final_output    \n",
    "\n",
    "        pbar.update(1)\n",
    "\n",
    "# forecast loop - evaluate on the last sequence on trainval dataset\n",
    "with tqdm.tqdm(total=len(predict_dataset.forecast_ids)) as pbar: \n",
    "    for i,forecast_id in enumerate(predict_dataset_wrmse.forecast_ids):\n",
    "        i = predict_dataset_wrmse.forecast_ids.index(forecast_id)\n",
    "\n",
    "        X_sequences_ar,X_sequences_meta,y_sequences = predict_dataset_wrmse.__getitem__(i)        \n",
    "        X_sequences_meta = torch.from_numpy(X_sequences_meta).view(1,-1,5)\n",
    "        X_sequences_ar = torch.from_numpy(X_sequences_ar).view(1,-1,1)\n",
    "\n",
    "        y_true = y_sequences.reshape(-1) * predict_dataset_wrmse.std_dict[forecast_id] + predict_dataset_wrmse.mean_dict[forecast_id]\n",
    "\n",
    "        # transform data from Batch x Window x Etc into Batch x Etc format\n",
    "        X_sequences_ar = X_sequences_ar.float()\n",
    "        X_sequences_temp = X_sequences_meta[:,:,0:1].float()\n",
    "        X_sequences_meta = X_sequences_meta[:,:,1:].long()\n",
    "\n",
    "        x_temp_var = torch.autograd.Variable(test_X_sequences_temp).cuda(async=True)\n",
    "        x_meta_var = torch.autograd.Variable(test_X_sequences_meta).cuda(async=True)\n",
    "        x_ar_var = torch.autograd.Variable(test_X_sequences_ar).cuda(async=True)\n",
    "\n",
    "        # compute output\n",
    "        output = model_1d(x_temp_var,x_meta_var,x_ar_var)    \n",
    "        output = output[0,:].data.cpu().numpy()\n",
    "\n",
    "        output = output * predict_dataset_wrmse.std_dict[forecast_id] + predict_dataset_wrmse.mean_dict[forecast_id]\n",
    "\n",
    "        wrmse_val = WRMSE(y_true, output)\n",
    "        r2_score_val = metrics.r2_score(y_true, output)\n",
    "        stat_df = stat_df.append(pd.DataFrame([dict(zip(stat_cols,[forecast_id,r2_score_val,wrmse_val]))]))\n",
    "\n",
    "        pbar.update(1)    \n",
    "\n",
    "print('Predicting for 1 hour series ...')  \n",
    "\n",
    "temp_features = ['Temperature']\n",
    "hol_emb_features = ['Holiday']\n",
    "time_emb_features = ['year', 'month', 'day', 'hour', 'minute','dow']\n",
    "target = ['Value']\n",
    "predictors = temp_features + hol_emb_features + time_emb_features\n",
    "\n",
    "predict_dataset = S2SDataset(df = trainable_df,\n",
    "                     series_type = '1_hour',\n",
    "                     in_sequence_len = 192,\n",
    "                     out_sequence_len = 192,\n",
    "                     target = 'Value',\n",
    "                     mode = 'test',\n",
    "                     split_mode = 'random',\n",
    "                     predictors = predictors)\n",
    "\n",
    "predict_dataset_wrmse = S2SDataset(df = trainable_df,\n",
    "                     series_type = '1_hour',\n",
    "                     in_sequence_len = 192,\n",
    "                     out_sequence_len = 192,\n",
    "                     target = 'Value',\n",
    "                     mode = 'evaluate_wrmse',\n",
    "                     split_mode = 'random',\n",
    "                     predictors = predictors)                      \n",
    "\n",
    "print('Dataset length is {}'.format(len(predict_dataset.forecast_ids)))\n",
    "\n",
    "with tqdm.tqdm(total=len(predict_dataset.forecast_ids)) as pbar:\n",
    "    for i,forecast_id in enumerate(predict_dataset.forecast_ids):\n",
    "        i = predict_dataset.forecast_ids.index(forecast_id)\n",
    "\n",
    "        test_X_sequences_meta,test_X_sequences_ar,len_diff = predict_dataset.__getitem__(i)\n",
    "\n",
    "        # into PyTorch format\n",
    "        test_X_sequences_meta = torch.from_numpy(test_X_sequences_meta).view(1,-1,8)\n",
    "        test_X_sequences_ar = torch.from_numpy(test_X_sequences_ar).view(1,-1,1)    \n",
    "\n",
    "        # transform data from Batch x Window x Etc into Batch x Etc format\n",
    "        test_X_sequences_ar = test_X_sequences_ar.float()\n",
    "        test_X_sequences_temp = test_X_sequences_meta[:,:,0:1].float()\n",
    "        test_X_sequences_meta = test_X_sequences_meta[:,:,1:].long()\n",
    "\n",
    "        x_temp_var = torch.autograd.Variable(test_X_sequences_temp).cuda(async=True)\n",
    "        x_meta_var = torch.autograd.Variable(test_X_sequences_meta).cuda(async=True)\n",
    "        x_ar_var = torch.autograd.Variable(test_X_sequences_ar).cuda(async=True)\n",
    "\n",
    "        # compute output\n",
    "        output = model_1h(x_temp_var,x_meta_var,x_ar_var)    \n",
    "        output = output[0,:].data.cpu().numpy()\n",
    "        # only the necessary length\n",
    "        output = output[-len_diff:]\n",
    "\n",
    "        output = output * predict_dataset.std_dict[forecast_id] + predict_dataset.mean_dict[forecast_id]\n",
    "        submission_df.loc[submission_df.ForecastId == forecast_id, 'Value'] =  output \n",
    "        pbar.update(1)\n",
    "\n",
    "with tqdm.tqdm(total=len(predict_dataset.forecast_ids)) as pbar:\n",
    "    for i,forecast_id in enumerate(predict_dataset_wrmse.forecast_ids):\n",
    "        i = predict_dataset_wrmse.forecast_ids.index(forecast_id)\n",
    "\n",
    "        X_sequences_ar,X_sequences_meta,y_sequences = predict_dataset_wrmse.__getitem__(i)        \n",
    "        X_sequences_meta = torch.from_numpy(X_sequences_meta).view(1,-1,8)\n",
    "        X_sequences_ar = torch.from_numpy(X_sequences_ar).view(1,-1,1)\n",
    "\n",
    "        y_true = y_sequences.reshape(-1) * predict_dataset_wrmse.std_dict[forecast_id] + predict_dataset_wrmse.mean_dict[forecast_id]\n",
    "\n",
    "        # transform data from Batch x Window x Etc into Batch x Etc format\n",
    "        X_sequences_ar = X_sequences_ar.float()\n",
    "        X_sequences_temp = X_sequences_meta[:,:,0:1].float()\n",
    "        X_sequences_meta = X_sequences_meta[:,:,1:].long()\n",
    "\n",
    "        x_temp_var = torch.autograd.Variable(test_X_sequences_temp).cuda(async=True)\n",
    "        x_meta_var = torch.autograd.Variable(test_X_sequences_meta).cuda(async=True)\n",
    "        x_ar_var = torch.autograd.Variable(test_X_sequences_ar).cuda(async=True)\n",
    "\n",
    "        # compute output\n",
    "        output = model_1h(x_temp_var,x_meta_var,x_ar_var)    \n",
    "        output = output[0,:].data.cpu().numpy()\n",
    "\n",
    "        output = output * predict_dataset_wrmse.std_dict[forecast_id] + predict_dataset_wrmse.mean_dict[forecast_id]\n",
    "\n",
    "        wrmse_val = WRMSE(y_true, output)\n",
    "        r2_score_val = metrics.r2_score(y_true, output)\n",
    "        stat_df = stat_df.append(pd.DataFrame([dict(zip(stat_cols,[forecast_id,r2_score_val,wrmse_val]))]))\n",
    "        pbar.update(1)\n",
    "\n",
    "print('Predicting for 15 min series ...')                       \n",
    "\n",
    "predict_dataset = S2SDataset(df = trainable_df,\n",
    "                     series_type = '15_mins',\n",
    "                     in_sequence_len = 192,\n",
    "                     out_sequence_len = 192,\n",
    "                     target = 'Value',\n",
    "                     mode = 'test',\n",
    "                     split_mode = 'random',\n",
    "                     predictors = predictors)\n",
    "\n",
    "predict_dataset_wrmse = S2SDataset(df = trainable_df,\n",
    "                     series_type = '15_mins',\n",
    "                     in_sequence_len = 192,\n",
    "                     out_sequence_len = 192,\n",
    "                     target = 'Value',\n",
    "                     mode = 'evaluate_wrmse',\n",
    "                     split_mode = 'random',\n",
    "                     predictors = predictors)                      \n",
    "\n",
    "print('Dataset length is {}'.format(len(predict_dataset.forecast_ids)))\n",
    "\n",
    "with tqdm.tqdm(total=len(predict_dataset.forecast_ids)) as pbar:\n",
    "    for i,forecast_id in enumerate(predict_dataset.forecast_ids):\n",
    "        i = predict_dataset.forecast_ids.index(forecast_id)\n",
    "\n",
    "        test_X_sequences_meta,test_X_sequences_ar,len_diff = predict_dataset.__getitem__(i)\n",
    "\n",
    "        # into PyTorch format\n",
    "        test_X_sequences_meta = torch.from_numpy(test_X_sequences_meta).view(1,-1,8)\n",
    "        test_X_sequences_ar = torch.from_numpy(test_X_sequences_ar).view(1,-1,1)    \n",
    "\n",
    "        # transform data from Batch x Window x Etc into Batch x Etc format\n",
    "        test_X_sequences_ar = test_X_sequences_ar.float()\n",
    "        test_X_sequences_temp = test_X_sequences_meta[:,:,0:1].float()\n",
    "        test_X_sequences_meta = test_X_sequences_meta[:,:,1:].long()\n",
    "\n",
    "        x_temp_var = torch.autograd.Variable(test_X_sequences_temp).cuda(async=True)\n",
    "        x_meta_var = torch.autograd.Variable(test_X_sequences_meta).cuda(async=True)\n",
    "        x_ar_var = torch.autograd.Variable(test_X_sequences_ar).cuda(async=True)\n",
    "\n",
    "        # compute output\n",
    "        output = model_15m(x_temp_var,x_meta_var,x_ar_var)    \n",
    "        output = output[0,:].data.cpu().numpy()\n",
    "        # only the necessary length\n",
    "        output = output[-len_diff:]\n",
    "\n",
    "        output = output * predict_dataset.std_dict[forecast_id] + predict_dataset.mean_dict[forecast_id]\n",
    "        submission_df.loc[submission_df.ForecastId == forecast_id, 'Value'] =  output \n",
    "        pbar.update(1)\n",
    "\n",
    "with tqdm.tqdm(total=len(predict_dataset.forecast_ids)) as pbar:\n",
    "    for i,forecast_id in enumerate(predict_dataset_wrmse.forecast_ids):\n",
    "        i = predict_dataset_wrmse.forecast_ids.index(forecast_id)\n",
    "\n",
    "        X_sequences_ar,X_sequences_meta,y_sequences = predict_dataset_wrmse.__getitem__(i)        \n",
    "        X_sequences_meta = torch.from_numpy(X_sequences_meta).view(1,-1,8)\n",
    "        X_sequences_ar = torch.from_numpy(X_sequences_ar).view(1,-1,1)\n",
    "\n",
    "        y_true = y_sequences.reshape(-1) * predict_dataset_wrmse.std_dict[forecast_id] + predict_dataset_wrmse.mean_dict[forecast_id]\n",
    "\n",
    "        # transform data from Batch x Window x Etc into Batch x Etc format\n",
    "        X_sequences_ar = X_sequences_ar.float()\n",
    "        X_sequences_temp = X_sequences_meta[:,:,0:1].float()\n",
    "        X_sequences_meta = X_sequences_meta[:,:,1:].long()\n",
    "\n",
    "        x_temp_var = torch.autograd.Variable(test_X_sequences_temp).cuda(async=True)\n",
    "        x_meta_var = torch.autograd.Variable(test_X_sequences_meta).cuda(async=True)\n",
    "        x_ar_var = torch.autograd.Variable(test_X_sequences_ar).cuda(async=True)\n",
    "\n",
    "        # compute output\n",
    "        output = model_15m(x_temp_var,x_meta_var,x_ar_var)    \n",
    "        output = output[0,:].data.cpu().numpy()\n",
    "\n",
    "        output = output * predict_dataset_wrmse.std_dict[forecast_id] + predict_dataset_wrmse.mean_dict[forecast_id]\n",
    "\n",
    "        wrmse_val = WRMSE(y_true, output)\n",
    "        r2_score_val = metrics.r2_score(y_true, output)\n",
    "        stat_df = stat_df.append(pd.DataFrame([dict(zip(stat_cols,[forecast_id,r2_score_val,wrmse_val]))]))\n",
    "        pbar.update(1)                   \n",
    "\n",
    "# submit zeroes and averages\n",
    "print('Submitting averages ... ')\n",
    "with tqdm.tqdm(total=len(submit_averages)) as pbar:\n",
    "    for forecast_id in submit_averages:\n",
    "        submission_df.loc[submission_df.ForecastId == forecast_id, 'Value'] = data_df[data_df.ForecastId == forecast_id].mean()\n",
    "        pbar.update(1)\n",
    "\n",
    "print('Submitting zeroes ... ')\n",
    "with tqdm.tqdm(total=len(submit_zeroes)) as pbar:\n",
    "    for forecast_id in submit_zeroes:\n",
    "        submission_df.loc[submission_df.ForecastId == forecast_id, 'Value'] = 0\n",
    "        pbar.update(1)"
   ]
  },
  {
   "cell_type": "code",
   "execution_count": 28,
   "metadata": {
    "ExecuteTime": {
     "end_time": "2018-03-17T13:23:58.828654Z",
     "start_time": "2018-03-17T13:23:58.823356Z"
    },
    "hidden": true
   },
   "outputs": [
    {
     "data": {
      "text/plain": [
       "6890"
      ]
     },
     "execution_count": 28,
     "metadata": {},
     "output_type": "execute_result"
    }
   ],
   "source": [
    "5372 + 1294 + 224"
   ]
  },
  {
   "cell_type": "code",
   "execution_count": 33,
   "metadata": {
    "ExecuteTime": {
     "end_time": "2018-03-17T13:24:54.966733Z",
     "start_time": "2018-03-17T13:24:54.951337Z"
    },
    "hidden": true
   },
   "outputs": [
    {
     "data": {
      "text/html": [
       "<div>\n",
       "<style scoped>\n",
       "    .dataframe tbody tr th:only-of-type {\n",
       "        vertical-align: middle;\n",
       "    }\n",
       "\n",
       "    .dataframe tbody tr th {\n",
       "        vertical-align: top;\n",
       "    }\n",
       "\n",
       "    .dataframe thead th {\n",
       "        text-align: right;\n",
       "    }\n",
       "</style>\n",
       "<table border=\"1\" class=\"dataframe\">\n",
       "  <thead>\n",
       "    <tr style=\"text-align: right;\">\n",
       "      <th></th>\n",
       "      <th>forecast_id</th>\n",
       "      <th>r2_val</th>\n",
       "      <th>wrmse_val</th>\n",
       "    </tr>\n",
       "  </thead>\n",
       "  <tbody>\n",
       "    <tr>\n",
       "      <th>0</th>\n",
       "      <td>1</td>\n",
       "      <td>0.434941</td>\n",
       "      <td>-1.210618</td>\n",
       "    </tr>\n",
       "    <tr>\n",
       "      <th>0</th>\n",
       "      <td>2</td>\n",
       "      <td>0.472015</td>\n",
       "      <td>-0.743531</td>\n",
       "    </tr>\n",
       "    <tr>\n",
       "      <th>0</th>\n",
       "      <td>3</td>\n",
       "      <td>1.865952</td>\n",
       "      <td>-2.231367</td>\n",
       "    </tr>\n",
       "    <tr>\n",
       "      <th>0</th>\n",
       "      <td>4</td>\n",
       "      <td>0.639187</td>\n",
       "      <td>-0.418527</td>\n",
       "    </tr>\n",
       "    <tr>\n",
       "      <th>0</th>\n",
       "      <td>41</td>\n",
       "      <td>0.518941</td>\n",
       "      <td>0.048318</td>\n",
       "    </tr>\n",
       "  </tbody>\n",
       "</table>\n",
       "</div>"
      ],
      "text/plain": [
       "  forecast_id    r2_val  wrmse_val\n",
       "0           1  0.434941  -1.210618\n",
       "0           2  0.472015  -0.743531\n",
       "0           3  1.865952  -2.231367\n",
       "0           4  0.639187  -0.418527\n",
       "0          41  0.518941   0.048318"
      ]
     },
     "execution_count": 33,
     "metadata": {},
     "output_type": "execute_result"
    }
   ],
   "source": [
    "stat_df.head()"
   ]
  },
  {
   "cell_type": "code",
   "execution_count": 49,
   "metadata": {
    "ExecuteTime": {
     "end_time": "2018-03-17T13:30:57.500581Z",
     "start_time": "2018-03-17T13:30:57.491206Z"
    },
    "hidden": true
   },
   "outputs": [],
   "source": [
    "stat_df.loc[stat_df.wrmse_val<0,'wrmse_val'] = -1"
   ]
  },
  {
   "cell_type": "code",
   "execution_count": 50,
   "metadata": {
    "ExecuteTime": {
     "end_time": "2018-03-17T13:31:01.783393Z",
     "start_time": "2018-03-17T13:31:01.601455Z"
    },
    "hidden": true
   },
   "outputs": [
    {
     "data": {
      "image/png": "[encoded data removed]",
      "text/plain": [
       "<matplotlib.figure.Figure at 0x7fa93c3acf60>"
      ]
     },
     "metadata": {},
     "output_type": "display_data"
    }
   ],
   "source": [
    "import matplotlib.pyplot as plt\n",
    "stat_df[stat_df.wrmse_val>-2].drop_duplicates().wrmse_val.plot(kind='hist')\n",
    "plt.show()"
   ]
  },
  {
   "cell_type": "code",
   "execution_count": 45,
   "metadata": {
    "ExecuteTime": {
     "end_time": "2018-03-17T13:29:29.420274Z",
     "start_time": "2018-03-17T13:29:29.257031Z"
    },
    "hidden": true
   },
   "outputs": [
    {
     "data": {
      "image/png": "[encoded data removed]",
      "text/plain": [
       "<matplotlib.figure.Figure at 0x7fa93c5b4be0>"
      ]
     },
     "metadata": {},
     "output_type": "display_data"
    }
   ],
   "source": [
    "import matplotlib.pyplot as plt\n",
    "stat_df[stat_df.r2_val<5].drop_duplicates().r2_val.plot(kind='hist')\n",
    "plt.show()"
   ]
  },
  {
   "cell_type": "code",
   "execution_count": 51,
   "metadata": {
    "ExecuteTime": {
     "end_time": "2018-03-17T13:32:24.064229Z",
     "start_time": "2018-03-17T13:32:24.049304Z"
    },
    "hidden": true
   },
   "outputs": [
    {
     "data": {
      "text/plain": [
       "count    7.338000e+03\n",
       "mean     7.850621e-01\n",
       "std      3.668791e+00\n",
       "min      1.651082e-10\n",
       "25%      2.533180e-01\n",
       "50%      4.837395e-01\n",
       "75%      8.379434e-01\n",
       "max      1.884769e+02\n",
       "Name: r2_val, dtype: float64"
      ]
     },
     "execution_count": 51,
     "metadata": {},
     "output_type": "execute_result"
    }
   ],
   "source": [
    "stat_df.r2_val.describe()"
   ]
  },
  {
   "cell_type": "code",
   "execution_count": 35,
   "metadata": {
    "ExecuteTime": {
     "end_time": "2018-03-17T13:25:31.871955Z",
     "start_time": "2018-03-17T13:25:31.855610Z"
    },
    "hidden": true
   },
   "outputs": [
    {
     "data": {
      "text/html": [
       "<div>\n",
       "<style scoped>\n",
       "    .dataframe tbody tr th:only-of-type {\n",
       "        vertical-align: middle;\n",
       "    }\n",
       "\n",
       "    .dataframe tbody tr th {\n",
       "        vertical-align: top;\n",
       "    }\n",
       "\n",
       "    .dataframe thead th {\n",
       "        text-align: right;\n",
       "    }\n",
       "</style>\n",
       "<table border=\"1\" class=\"dataframe\">\n",
       "  <thead>\n",
       "    <tr style=\"text-align: right;\">\n",
       "      <th></th>\n",
       "      <th>forecast_id</th>\n",
       "      <th>r2_val</th>\n",
       "      <th>wrmse_val</th>\n",
       "    </tr>\n",
       "  </thead>\n",
       "  <tbody>\n",
       "    <tr>\n",
       "      <th>0</th>\n",
       "      <td>6966</td>\n",
       "      <td>0.036638</td>\n",
       "      <td>-6.832434</td>\n",
       "    </tr>\n",
       "    <tr>\n",
       "      <th>0</th>\n",
       "      <td>6966</td>\n",
       "      <td>0.036638</td>\n",
       "      <td>-6.832434</td>\n",
       "    </tr>\n",
       "    <tr>\n",
       "      <th>0</th>\n",
       "      <td>6966</td>\n",
       "      <td>0.036638</td>\n",
       "      <td>-6.832434</td>\n",
       "    </tr>\n",
       "  </tbody>\n",
       "</table>\n",
       "</div>"
      ],
      "text/plain": [
       "  forecast_id    r2_val  wrmse_val\n",
       "0        6966  0.036638  -6.832434\n",
       "0        6966  0.036638  -6.832434\n",
       "0        6966  0.036638  -6.832434"
      ]
     },
     "execution_count": 35,
     "metadata": {},
     "output_type": "execute_result"
    }
   ],
   "source": [
    "stat_df[stat_df.forecast_id == 6966]"
   ]
  },
  {
   "cell_type": "code",
   "execution_count": 34,
   "metadata": {
    "ExecuteTime": {
     "end_time": "2018-03-17T13:25:12.323977Z",
     "start_time": "2018-03-17T13:25:12.305113Z"
    },
    "hidden": true
   },
   "outputs": [
    {
     "data": {
      "text/plain": [
       "forecast_id\n",
       "1       3\n",
       "2       3\n",
       "3       3\n",
       "4       3\n",
       "5       1\n",
       "6       1\n",
       "7       1\n",
       "8       1\n",
       "9       1\n",
       "10      1\n",
       "11      1\n",
       "12      1\n",
       "13      1\n",
       "14      1\n",
       "15      1\n",
       "16      1\n",
       "17      1\n",
       "18      1\n",
       "19      1\n",
       "20      1\n",
       "21      1\n",
       "22      1\n",
       "23      1\n",
       "24      1\n",
       "25      1\n",
       "26      1\n",
       "27      1\n",
       "28      1\n",
       "29      1\n",
       "30      1\n",
       "       ..\n",
       "6945    1\n",
       "6946    1\n",
       "6947    1\n",
       "6948    1\n",
       "6949    1\n",
       "6950    1\n",
       "6951    1\n",
       "6952    1\n",
       "6953    1\n",
       "6954    1\n",
       "6955    1\n",
       "6956    1\n",
       "6957    1\n",
       "6958    1\n",
       "6959    1\n",
       "6960    1\n",
       "6961    1\n",
       "6962    3\n",
       "6963    3\n",
       "6964    3\n",
       "6965    3\n",
       "6966    3\n",
       "6967    3\n",
       "6968    3\n",
       "6969    3\n",
       "6970    3\n",
       "6971    3\n",
       "6972    3\n",
       "6973    3\n",
       "6974    1\n",
       "Name: r2_val, Length: 6890, dtype: int64"
      ]
     },
     "execution_count": 34,
     "metadata": {},
     "output_type": "execute_result"
    }
   ],
   "source": [
    "stat_df.groupby(['forecast_id'])['r2_val'].count()"
   ]
  },
  {
   "cell_type": "code",
   "execution_count": 32,
   "metadata": {
    "ExecuteTime": {
     "end_time": "2018-03-17T13:24:29.733274Z",
     "start_time": "2018-03-17T13:24:29.727050Z"
    },
    "hidden": true
   },
   "outputs": [
    {
     "data": {
      "text/plain": [
       "6890"
      ]
     },
     "execution_count": 32,
     "metadata": {},
     "output_type": "execute_result"
    }
   ],
   "source": [
    "len(stat_df.forecast_id.unique())"
   ]
  },
  {
   "cell_type": "code",
   "execution_count": null,
   "metadata": {
    "hidden": true
   },
   "outputs": [],
   "source": []
  },
  {
   "cell_type": "code",
   "execution_count": 71,
   "metadata": {
    "ExecuteTime": {
     "end_time": "2018-03-17T13:36:06.598885Z",
     "start_time": "2018-03-17T13:36:06.450760Z"
    },
    "hidden": true
   },
   "outputs": [
    {
     "data": {
      "text/plain": [
       "<matplotlib.axes._subplots.AxesSubplot at 0x7fa93c095c50>"
      ]
     },
     "execution_count": 71,
     "metadata": {},
     "output_type": "execute_result"
    },
    {
     "data": {
      "image/png": "[encoded data removed]",
      "text/plain": [
       "<matplotlib.figure.Figure at 0x7fa93c100128>"
      ]
     },
     "metadata": {},
     "output_type": "display_data"
    }
   ],
   "source": [
    "submission_df[submission_df.ForecastId==forecast_id][['Value','Timestamp']].plot(by='Timestamp')"
   ]
  },
  {
   "cell_type": "code",
   "execution_count": 38,
   "metadata": {
    "ExecuteTime": {
     "end_time": "2018-03-20T16:14:34.236321Z",
     "start_time": "2018-03-20T16:14:33.105181Z"
    },
    "hidden": true
   },
   "outputs": [],
   "source": [
    "import pandas as pd\n",
    "\n",
    "submission_df = pd.read_csv('../submissions/forecast_encoder_decoder_grus_ar_features.csv')"
   ]
  },
  {
   "cell_type": "code",
   "execution_count": 2,
   "metadata": {
    "ExecuteTime": {
     "end_time": "2018-03-20T16:12:05.369585Z",
     "start_time": "2018-03-20T16:12:04.312999Z"
    },
    "hidden": true
   },
   "outputs": [],
   "source": [
    "submission_df2 = pd.read_csv('../submissions/forecast_8_models_wrmse_train_val_average_or_last.csv')"
   ]
  },
  {
   "cell_type": "code",
   "execution_count": 3,
   "metadata": {
    "ExecuteTime": {
     "end_time": "2018-03-20T16:12:08.632693Z",
     "start_time": "2018-03-20T16:12:07.584294Z"
    },
    "hidden": true
   },
   "outputs": [],
   "source": [
    "data_df = pd.read_feather('../data/forecast/data_df_feather')"
   ]
  },
  {
   "cell_type": "code",
   "execution_count": 22,
   "metadata": {
    "ExecuteTime": {
     "end_time": "2018-03-20T16:13:32.039303Z",
     "start_time": "2018-03-20T16:13:32.025532Z"
    },
    "hidden": true
   },
   "outputs": [
    {
     "data": {
      "text/html": [
       "<div>\n",
       "<style scoped>\n",
       "    .dataframe tbody tr th:only-of-type {\n",
       "        vertical-align: middle;\n",
       "    }\n",
       "\n",
       "    .dataframe tbody tr th {\n",
       "        vertical-align: top;\n",
       "    }\n",
       "\n",
       "    .dataframe thead th {\n",
       "        text-align: right;\n",
       "    }\n",
       "</style>\n",
       "<table border=\"1\" class=\"dataframe\">\n",
       "  <thead>\n",
       "    <tr style=\"text-align: right;\">\n",
       "      <th></th>\n",
       "      <th>obs_id</th>\n",
       "      <th>SiteId</th>\n",
       "      <th>Timestamp</th>\n",
       "      <th>ForecastId</th>\n",
       "      <th>Value</th>\n",
       "    </tr>\n",
       "  </thead>\n",
       "  <tbody>\n",
       "    <tr>\n",
       "      <th>0</th>\n",
       "      <td>1677832</td>\n",
       "      <td>1</td>\n",
       "      <td>2015-08-29 00:00:00</td>\n",
       "      <td>1</td>\n",
       "      <td>6792436.0</td>\n",
       "    </tr>\n",
       "    <tr>\n",
       "      <th>1</th>\n",
       "      <td>5379616</td>\n",
       "      <td>1</td>\n",
       "      <td>2015-08-30 00:00:00</td>\n",
       "      <td>1</td>\n",
       "      <td>6828514.0</td>\n",
       "    </tr>\n",
       "    <tr>\n",
       "      <th>2</th>\n",
       "      <td>496261</td>\n",
       "      <td>1</td>\n",
       "      <td>2015-08-31 00:00:00</td>\n",
       "      <td>1</td>\n",
       "      <td>6803222.5</td>\n",
       "    </tr>\n",
       "    <tr>\n",
       "      <th>3</th>\n",
       "      <td>4567147</td>\n",
       "      <td>1</td>\n",
       "      <td>2015-09-01 00:00:00</td>\n",
       "      <td>1</td>\n",
       "      <td>6803647.0</td>\n",
       "    </tr>\n",
       "    <tr>\n",
       "      <th>4</th>\n",
       "      <td>3684873</td>\n",
       "      <td>1</td>\n",
       "      <td>2015-09-02 00:00:00</td>\n",
       "      <td>1</td>\n",
       "      <td>6791129.0</td>\n",
       "    </tr>\n",
       "  </tbody>\n",
       "</table>\n",
       "</div>"
      ],
      "text/plain": [
       "    obs_id  SiteId            Timestamp  ForecastId      Value\n",
       "0  1677832       1  2015-08-29 00:00:00           1  6792436.0\n",
       "1  5379616       1  2015-08-30 00:00:00           1  6828514.0\n",
       "2   496261       1  2015-08-31 00:00:00           1  6803222.5\n",
       "3  4567147       1  2015-09-01 00:00:00           1  6803647.0\n",
       "4  3684873       1  2015-09-02 00:00:00           1  6791129.0"
      ]
     },
     "execution_count": 22,
     "metadata": {},
     "output_type": "execute_result"
    }
   ],
   "source": [
    "submission_df.head()"
   ]
  },
  {
   "cell_type": "code",
   "execution_count": 37,
   "metadata": {
    "ExecuteTime": {
     "end_time": "2018-03-20T16:14:25.472694Z",
     "start_time": "2018-03-20T16:14:25.467122Z"
    },
    "hidden": true
   },
   "outputs": [
    {
     "data": {
      "text/plain": [
       "6001"
      ]
     },
     "execution_count": 37,
     "metadata": {},
     "output_type": "execute_result"
    }
   ],
   "source": [
    "forecast_id"
   ]
  },
  {
   "cell_type": "code",
   "execution_count": 44,
   "metadata": {
    "ExecuteTime": {
     "end_time": "2018-03-20T16:22:18.768964Z",
     "start_time": "2018-03-20T16:22:17.489311Z"
    },
    "hidden": true
   },
   "outputs": [
    {
     "data": {
      "image/png": "[encoded data removed]",
      "text/plain": [
       "<matplotlib.figure.Figure at 0x7f21530eab70>"
      ]
     },
     "metadata": {},
     "output_type": "display_data"
    }
   ],
   "source": [
    "import random\n",
    "import matplotlib.pyplot as plt\n",
    "\n",
    "idx = random.randint(0,len(list(submission_df.ForecastId.unique())))\n",
    "forecast_id = list(submission_df.ForecastId.unique())[idx]\n",
    "# forecast_id = 6001\n",
    "\n",
    "plot_df = data_df[data_df.is_train==1].iloc[:][data_df[data_df.is_train==1].ForecastId==forecast_id].sort_values(by='Timestamp',ascending=True)[['Value','Timestamp']]\n",
    "plot_df.columns = ['Value_or','Timestamp']\n",
    "\n",
    "\n",
    "plot_df = plot_df.append(submission_df.iloc[:][submission_df.ForecastId==forecast_id].sort_values(by='Timestamp',ascending=True)[['Value','Timestamp']])\n",
    "plot_df.loc[pd.notnull(plot_df.Value),'Value_old'] = submission_df2[submission_df2.ForecastId==forecast_id].Value\n",
    "\n",
    "plot_df['Timestamp'] = pd.to_datetime(plot_df['Timestamp'])\n",
    "plot_df[['Value','Value_old','Value_or','Timestamp']].plot(x = 'Timestamp',figsize=(24, 8 * 1))\n",
    "\n",
    "plt.show()"
   ]
  },
  {
   "cell_type": "code",
   "execution_count": 27,
   "metadata": {
    "ExecuteTime": {
     "end_time": "2018-03-19T16:14:39.959778Z",
     "start_time": "2018-03-19T16:14:39.954912Z"
    },
    "hidden": true
   },
   "outputs": [
    {
     "data": {
      "text/plain": [
       "(1309176, 5)"
      ]
     },
     "execution_count": 27,
     "metadata": {},
     "output_type": "execute_result"
    }
   ],
   "source": [
    "submission_df.shape"
   ]
  },
  {
   "cell_type": "code",
   "execution_count": 114,
   "metadata": {
    "ExecuteTime": {
     "end_time": "2018-03-17T13:41:39.838216Z",
     "start_time": "2018-03-17T13:41:39.811198Z"
    },
    "hidden": true
   },
   "outputs": [],
   "source": [
    "stat_df.to_csv('forest_stats_{}.csv'.format(LOGNUMBER))"
   ]
  },
  {
   "cell_type": "code",
   "execution_count": 113,
   "metadata": {
    "ExecuteTime": {
     "end_time": "2018-03-17T13:40:08.178142Z",
     "start_time": "2018-03-17T13:40:03.387804Z"
    },
    "hidden": true
   },
   "outputs": [],
   "source": [
    "stat_df.to_csv('forest_stats_{}.csv'.format(LOGNUMBER))\n",
    "submission_df['Value'] = submission_df['Value'].fillna(value=0)\n",
    "submission_df.to_csv('../submissions/forecast_{}.csv'.format(LOGNUMBER))"
   ]
  },
  {
   "cell_type": "code",
   "execution_count": 65,
   "metadata": {
    "ExecuteTime": {
     "end_time": "2018-03-18T16:51:50.115875Z",
     "start_time": "2018-03-18T16:51:47.550538Z"
    },
    "hidden": true
   },
   "outputs": [],
   "source": [
    "submission_df_forests = pd.read_csv('../submissions/forecast_8_models_wrmse_train_val_average_or_last.csv')\n",
    "submission_df_lstm_192 = pd.read_csv('../submissions/forecast_e2e_seq2seq_bl.csv')\n",
    "submission_df_lstm_700 = pd.read_csv('../submissions/forecast_best_rnn_models.csv')"
   ]
  },
  {
   "cell_type": "code",
   "execution_count": 70,
   "metadata": {
    "ExecuteTime": {
     "end_time": "2018-03-18T16:54:51.874643Z",
     "start_time": "2018-03-18T16:54:46.571655Z"
    },
    "hidden": true
   },
   "outputs": [],
   "source": [
    "blend_df = submission_df_lstm_700\n",
    "blend_df.Value = submission_df_forests.Value/2 + submission_df_lstm_700.Value/2\n",
    "blend_df = blend_df.set_index('obs_id')\n",
    "blend_df.to_csv('../submissions/blended_lstm700_forests.csv')"
   ]
  },
  {
   "cell_type": "code",
   "execution_count": 71,
   "metadata": {
    "ExecuteTime": {
     "end_time": "2018-03-18T16:55:19.966672Z",
     "start_time": "2018-03-18T16:55:14.797974Z"
    },
    "hidden": true
   },
   "outputs": [],
   "source": [
    "blend_df = submission_df_lstm_700\n",
    "blend_df.Value = submission_df_forests.Value/3 + submission_df_lstm_700.Value/3 + submission_df_lstm_192.Value/3\n",
    "blend_df = blend_df.set_index('obs_id')\n",
    "blend_df.to_csv('../submissions/blended_lstm700_lstm_192_forests.csv')"
   ]
  },
  {
   "cell_type": "code",
   "execution_count": 147,
   "metadata": {
    "ExecuteTime": {
     "end_time": "2018-03-17T13:52:32.501311Z",
     "start_time": "2018-03-17T13:52:32.464661Z"
    },
    "hidden": true
   },
   "outputs": [],
   "source": [
    "submission_df2 = submission_df2.set_index('obs_id')"
   ]
  },
  {
   "cell_type": "code",
   "execution_count": 151,
   "metadata": {
    "ExecuteTime": {
     "end_time": "2018-03-17T13:53:31.175953Z",
     "start_time": "2018-03-17T13:53:31.159036Z"
    },
    "hidden": true
   },
   "outputs": [],
   "source": [
    "submission_df3 = submission_df2\n",
    "submission_df3.Value = submission_df2.Value/2 + submission_df.Value/2\n"
   ]
  },
  {
   "cell_type": "code",
   "execution_count": 154,
   "metadata": {
    "ExecuteTime": {
     "end_time": "2018-03-17T13:54:06.414572Z",
     "start_time": "2018-03-17T13:54:01.365924Z"
    },
    "hidden": true
   },
   "outputs": [],
   "source": [
    "submission_df3.to_csv('../submissions/blended_lstm_forests.csv')"
   ]
  },
  {
   "cell_type": "markdown",
   "metadata": {
    "heading_collapsed": true
   },
   "source": [
    "# Try to feather"
   ]
  },
  {
   "cell_type": "code",
   "execution_count": 1,
   "metadata": {
    "ExecuteTime": {
     "end_time": "2018-03-17T19:04:19.750883Z",
     "start_time": "2018-03-17T19:04:19.365438Z"
    },
    "hidden": true
   },
   "outputs": [],
   "source": [
    "# custom utils and random forest scripts\n",
    "from Utils import ETL_emb, count_test_period,preprocess_seq2seq,interpolate"
   ]
  },
  {
   "cell_type": "code",
   "execution_count": 2,
   "metadata": {
    "ExecuteTime": {
     "end_time": "2018-03-17T19:04:20.751922Z",
     "start_time": "2018-03-17T19:04:20.719777Z"
    },
    "code_folding": [
     3
    ],
    "hidden": true
   },
   "outputs": [],
   "source": [
    "import time\n",
    "import pandas as pd \n",
    "\n",
    "def preprocess_data():\n",
    "    print('Starting the ETL process')\n",
    "\n",
    "    start_time = time.time()\n",
    "    df_train,df_sub = ETL_emb()\n",
    "    test_lengths = count_test_period(df_sub)\n",
    "    elapsed_time = time.time() - start_time \n",
    "\n",
    "    print('Time taken to complete the ETL process {}'.format(elapsed_time))\n",
    "\n",
    "    forecast_ids = list(test_lengths.keys())\n",
    "    site_ids = list(df_sub.SiteId.unique())\n",
    "\n",
    "    # suppress pandas warnings\n",
    "    # do not do this in production!\n",
    "    pd.set_option('mode.chained_assignment', None)\n",
    "\n",
    "    submission_df = pd.read_csv('../data/forecast/submission_format.csv')\n",
    "    submission_df = submission_df.set_index('obs_id')\n",
    "\n",
    "    data_df = preprocess_seq2seq(df_train,df_sub)\n",
    "    # reset index to make sure we do not have double indexes and for easier indexing\n",
    "    data_df = data_df.reset_index()\n",
    "    del data_df['index']\n",
    "\n",
    "    # leave only the first holiday\n",
    "    data_df = data_df[(data_df['obs_id'].shift(+1) != data_df['obs_id'])]\n",
    "    data_df = data_df.reset_index()\n",
    "    del data_df['index']\n",
    "    # fill days wo holidays with -1\n",
    "    data_df['Holiday'] = data_df['Holiday'].fillna(value=-1)\n",
    "\n",
    "    data_df,train_forecast_ids,normal_forecast_ids,linear_interpolation,last_window,submit_zeroes,submit_averages = interpolate(data_df)\n",
    "    \n",
    "    return data_df,train_forecast_ids,normal_forecast_ids,linear_interpolation,last_window,submit_zeroes,submit_averages"
   ]
  },
  {
   "cell_type": "code",
   "execution_count": 3,
   "metadata": {
    "ExecuteTime": {
     "end_time": "2018-03-17T19:08:04.236104Z",
     "start_time": "2018-03-17T19:04:22.181776Z"
    },
    "hidden": true
   },
   "outputs": [
    {
     "name": "stdout",
     "output_type": "stream",
     "text": [
      "Starting the ETL process\n",
      "Time taken to complete the ETL process 186.76800799369812\n"
     ]
    },
    {
     "name": "stderr",
     "output_type": "stream",
     "text": [
      " 17%|█▋        | 1/6 [00:00<00:00,  6.63it/s]"
     ]
    },
    {
     "name": "stdout",
     "output_type": "stream",
     "text": [
      "Removing drastic outliers ... \n"
     ]
    },
    {
     "name": "stderr",
     "output_type": "stream",
     "text": [
      "100%|██████████| 6/6 [00:00<00:00,  6.36it/s]\n"
     ]
    }
   ],
   "source": [
    "data_df,train_forecast_ids,normal_forecast_ids,linear_interpolation,last_window,submit_zeroes,submit_averages = preprocess_data()"
   ]
  },
  {
   "cell_type": "code",
   "execution_count": 8,
   "metadata": {
    "ExecuteTime": {
     "end_time": "2018-03-17T19:12:41.016316Z",
     "start_time": "2018-03-17T19:12:40.685257Z"
    },
    "hidden": true
   },
   "outputs": [],
   "source": [
    "data_df = data_df.reset_index()"
   ]
  },
  {
   "cell_type": "code",
   "execution_count": 11,
   "metadata": {
    "ExecuteTime": {
     "end_time": "2018-03-17T19:13:07.953043Z",
     "start_time": "2018-03-17T19:13:07.733363Z"
    },
    "hidden": true
   },
   "outputs": [
    {
     "name": "stdout",
     "output_type": "stream",
     "text": [
      "-rw-r--r-- 1 keras users 1.5G Mar 17 19:12 ../data/forecast/data_df_feather\r\n"
     ]
    }
   ],
   "source": [
    "!ls -laht ../data/forecast/data_df_feather"
   ]
  },
  {
   "cell_type": "code",
   "execution_count": 9,
   "metadata": {
    "ExecuteTime": {
     "end_time": "2018-03-17T19:12:44.106282Z",
     "start_time": "2018-03-17T19:12:42.886904Z"
    },
    "hidden": true
   },
   "outputs": [],
   "source": [
    "data_df.to_feather('../data/forecast/data_df_feather')"
   ]
  },
  {
   "cell_type": "code",
   "execution_count": 15,
   "metadata": {
    "ExecuteTime": {
     "end_time": "2018-03-17T19:14:25.313260Z",
     "start_time": "2018-03-17T19:14:25.311000Z"
    },
    "hidden": true
   },
   "outputs": [
    {
     "data": {
      "text/plain": [
       "(7858005, 24)"
      ]
     },
     "execution_count": 15,
     "metadata": {},
     "output_type": "execute_result"
    }
   ],
   "source": [
    "data_df.shape"
   ]
  },
  {
   "cell_type": "code",
   "execution_count": 14,
   "metadata": {
    "ExecuteTime": {
     "end_time": "2018-03-17T19:14:24.114753Z",
     "start_time": "2018-03-17T19:14:23.396997Z"
    },
    "hidden": true
   },
   "outputs": [],
   "source": [
    "data_df = pd.read_feather('../data/forecast/data_df_feather')"
   ]
  },
  {
   "cell_type": "code",
   "execution_count": 17,
   "metadata": {
    "ExecuteTime": {
     "end_time": "2018-03-17T19:17:23.044879Z",
     "start_time": "2018-03-17T19:17:23.013969Z"
    },
    "hidden": true
   },
   "outputs": [],
   "source": [
    "import pickle \n",
    "\n",
    "with open('train_forecast_ids.pkl', 'wb') as output:\n",
    "    pickle.dump(train_forecast_ids, output, pickle.HIGHEST_PROTOCOL)\n",
    "    \n",
    "with open('normal_forecast_ids.pkl', 'wb') as output:\n",
    "    pickle.dump(normal_forecast_ids, output, pickle.HIGHEST_PROTOCOL)\n",
    "    \n",
    "with open('linear_interpolation.pkl', 'wb') as output:\n",
    "    pickle.dump(linear_interpolation, output, pickle.HIGHEST_PROTOCOL)\n",
    "    \n",
    "with open('last_window.pkl', 'wb') as output:\n",
    "    pickle.dump(last_window, output, pickle.HIGHEST_PROTOCOL)\n",
    "    \n",
    "with open('submit_zeroes.pkl', 'wb') as output:\n",
    "    pickle.dump(submit_zeroes, output, pickle.HIGHEST_PROTOCOL)\n",
    "    \n",
    "with open('submit_averages.pkl', 'wb') as output:\n",
    "    pickle.dump(submit_averages, output, pickle.HIGHEST_PROTOCOL)    "
   ]
  },
  {
   "cell_type": "code",
   "execution_count": 19,
   "metadata": {
    "ExecuteTime": {
     "end_time": "2018-03-17T19:18:46.156821Z",
     "start_time": "2018-03-17T19:18:46.133446Z"
    },
    "hidden": true
   },
   "outputs": [],
   "source": [
    "import pickle \n",
    "\n",
    "# read all pre-calculated objects\n",
    "data_df = pd.read_feather('../data/forecast/data_df_feather')\n",
    "with open('train_forecast_ids.pkl', 'rb') as input:\n",
    "    train_forecast_ids = pickle.load(input)\n",
    "with open('normal_forecast_ids.pkl', 'rb') as input:\n",
    "    normal_forecast_ids = pickle.load(input)\n",
    "with open('linear_interpolation.pkl', 'rb') as input:\n",
    "    linear_interpolation = pickle.load(input)\n",
    "with open('last_window.pkl', 'rb') as input:\n",
    "    last_window = pickle.load(input)\n",
    "with open('submit_zeroes.pkl', 'rb') as input:\n",
    "    submit_zeroes = pickle.load(input)\n",
    "with open('submit_averages.pkl', 'rb') as input:\n",
    "    submit_averages = pickle.load(input)\n",
    "  "
   ]
  },
  {
   "cell_type": "code",
   "execution_count": 26,
   "metadata": {
    "ExecuteTime": {
     "end_time": "2018-03-17T19:19:10.887672Z",
     "start_time": "2018-03-17T19:19:10.885127Z"
    },
    "hidden": true
   },
   "outputs": [
    {
     "data": {
      "text/plain": [
       "74"
      ]
     },
     "execution_count": 26,
     "metadata": {},
     "output_type": "execute_result"
    }
   ],
   "source": [
    "len(submit_averages)"
   ]
  },
  {
   "cell_type": "code",
   "execution_count": null,
   "metadata": {
    "hidden": true
   },
   "outputs": [],
   "source": [
    "train_forecast_ids,normal_forecast_ids,linear_interpolation,last_window,submit_zeroes,submit_averages"
   ]
  },
  {
   "cell_type": "markdown",
   "metadata": {},
   "source": [
    "# Add shift features to data_df"
   ]
  },
  {
   "cell_type": "code",
   "execution_count": 1,
   "metadata": {
    "ExecuteTime": {
     "end_time": "2018-03-21T06:00:10.031769Z",
     "start_time": "2018-03-21T06:00:08.189410Z"
    }
   },
   "outputs": [],
   "source": [
    "import pandas as pd \n",
    "import pickle \n",
    "\n",
    "pd.set_option('mode.chained_assignment', None)    \n",
    "\n",
    "# read all pre-calculated objects\n",
    "data_df = pd.read_feather('../data/forecast/data_df_feather')\n",
    "with open('train_forecast_ids.pkl', 'rb') as input:\n",
    "    train_forecast_ids = pickle.load(input)\n",
    "with open('normal_forecast_ids.pkl', 'rb') as input:\n",
    "    normal_forecast_ids = pickle.load(input)\n",
    "with open('linear_interpolation.pkl', 'rb') as input:\n",
    "    linear_interpolation = pickle.load(input)\n",
    "with open('use_last_window.pkl', 'rb') as input:\n",
    "    use_last_window = pickle.load(input)\n",
    "with open('submit_zeroes.pkl', 'rb') as input:\n",
    "    submit_zeroes = pickle.load(input)\n",
    "with open('submit_averages.pkl', 'rb') as input:\n",
    "    submit_averages = pickle.load(input)    "
   ]
  },
  {
   "cell_type": "code",
   "execution_count": 2,
   "metadata": {
    "ExecuteTime": {
     "end_time": "2018-03-21T06:00:12.901540Z",
     "start_time": "2018-03-21T06:00:12.860841Z"
    }
   },
   "outputs": [],
   "source": [
    "import numpy as np\n",
    "data_df['Value1'] = np.nan\n",
    "data_df['Value4'] = np.nan\n",
    "data_df['Value12'] = np.nan\n",
    "data_df['Value96'] = np.nan"
   ]
  },
  {
   "cell_type": "code",
   "execution_count": 48,
   "metadata": {
    "ExecuteTime": {
     "end_time": "2018-03-19T16:45:48.013517Z",
     "start_time": "2018-03-19T16:45:47.805889Z"
    }
   },
   "outputs": [],
   "source": [
    "data_df.loc[data_df.ForecastId == forecast_id,'Value1'] = data_df.loc[data_df.ForecastId == forecast_id,'Value'].shift(1)\n",
    "data_df.loc[data_df.ForecastId == forecast_id,'Value4'] = data_df.loc[data_df.ForecastId == forecast_id,'Value'].shift(4)\n",
    "data_df.loc[data_df.ForecastId == forecast_id,'Value12'] = data_df.loc[data_df.ForecastId == forecast_id,'Value'].shift(12)\n",
    "data_df.loc[data_df.ForecastId == forecast_id,'Value96'] = data_df.loc[data_df.ForecastId == forecast_id,'Value'].shift(96)"
   ]
  },
  {
   "cell_type": "code",
   "execution_count": 65,
   "metadata": {
    "ExecuteTime": {
     "end_time": "2018-03-19T17:36:07.911027Z",
     "start_time": "2018-03-19T17:36:07.908704Z"
    }
   },
   "outputs": [
    {
     "data": {
      "text/plain": [
       "100"
      ]
     },
     "execution_count": 65,
     "metadata": {},
     "output_type": "execute_result"
    }
   ],
   "source": [
    "484 - 192 - 192"
   ]
  },
  {
   "cell_type": "code",
   "execution_count": 69,
   "metadata": {
    "ExecuteTime": {
     "end_time": "2018-03-19T17:54:07.136362Z",
     "start_time": "2018-03-19T17:54:07.113125Z"
    }
   },
   "outputs": [
    {
     "data": {
      "text/html": [
       "<div>\n",
       "<style scoped>\n",
       "    .dataframe tbody tr th:only-of-type {\n",
       "        vertical-align: middle;\n",
       "    }\n",
       "\n",
       "    .dataframe tbody tr th {\n",
       "        vertical-align: top;\n",
       "    }\n",
       "\n",
       "    .dataframe thead th {\n",
       "        text-align: right;\n",
       "    }\n",
       "</style>\n",
       "<table border=\"1\" class=\"dataframe\">\n",
       "  <thead>\n",
       "    <tr style=\"text-align: right;\">\n",
       "      <th></th>\n",
       "      <th>level_0</th>\n",
       "      <th>index</th>\n",
       "      <th>obs_id</th>\n",
       "      <th>SiteId</th>\n",
       "      <th>Timestamp</th>\n",
       "      <th>ForecastId</th>\n",
       "      <th>Value</th>\n",
       "      <th>ts</th>\n",
       "      <th>year</th>\n",
       "      <th>month</th>\n",
       "      <th>...</th>\n",
       "      <th>Temperature</th>\n",
       "      <th>Holiday</th>\n",
       "      <th>temp_diff</th>\n",
       "      <th>is_train</th>\n",
       "      <th>is_null</th>\n",
       "      <th>Value1</th>\n",
       "      <th>Value4</th>\n",
       "      <th>Value12</th>\n",
       "      <th>Value96</th>\n",
       "      <th>Value672</th>\n",
       "    </tr>\n",
       "  </thead>\n",
       "  <tbody>\n",
       "    <tr>\n",
       "      <th>0</th>\n",
       "      <td>43843</td>\n",
       "      <td>43843</td>\n",
       "      <td>3153527</td>\n",
       "      <td>5</td>\n",
       "      <td>2013-01-08 01:00:00</td>\n",
       "      <td>42</td>\n",
       "      <td>25333.795714</td>\n",
       "      <td>2013-01-08 01:00:00</td>\n",
       "      <td>2013</td>\n",
       "      <td>1</td>\n",
       "      <td>...</td>\n",
       "      <td>17.9</td>\n",
       "      <td>-1.0</td>\n",
       "      <td>0.1</td>\n",
       "      <td>1</td>\n",
       "      <td>0</td>\n",
       "      <td>25302.049103</td>\n",
       "      <td>26413.180494</td>\n",
       "      <td>26667.153383</td>\n",
       "      <td>22413.107486</td>\n",
       "      <td>24190.917712</td>\n",
       "    </tr>\n",
       "    <tr>\n",
       "      <th>1</th>\n",
       "      <td>43844</td>\n",
       "      <td>43844</td>\n",
       "      <td>5086881</td>\n",
       "      <td>5</td>\n",
       "      <td>2013-01-08 01:15:00</td>\n",
       "      <td>42</td>\n",
       "      <td>25175.062658</td>\n",
       "      <td>2013-01-08 01:15:00</td>\n",
       "      <td>2013</td>\n",
       "      <td>1</td>\n",
       "      <td>...</td>\n",
       "      <td>17.9</td>\n",
       "      <td>-1.0</td>\n",
       "      <td>0.1</td>\n",
       "      <td>1</td>\n",
       "      <td>0</td>\n",
       "      <td>25333.795714</td>\n",
       "      <td>25841.741492</td>\n",
       "      <td>26349.687271</td>\n",
       "      <td>22413.107486</td>\n",
       "      <td>24095.677878</td>\n",
       "    </tr>\n",
       "    <tr>\n",
       "      <th>2</th>\n",
       "      <td>43845</td>\n",
       "      <td>43845</td>\n",
       "      <td>5499388</td>\n",
       "      <td>5</td>\n",
       "      <td>2013-01-08 01:30:00</td>\n",
       "      <td>42</td>\n",
       "      <td>25016.329602</td>\n",
       "      <td>2013-01-08 01:30:00</td>\n",
       "      <td>2013</td>\n",
       "      <td>1</td>\n",
       "      <td>...</td>\n",
       "      <td>17.9</td>\n",
       "      <td>-1.0</td>\n",
       "      <td>0.1</td>\n",
       "      <td>1</td>\n",
       "      <td>0</td>\n",
       "      <td>25175.062658</td>\n",
       "      <td>25270.302491</td>\n",
       "      <td>26032.221159</td>\n",
       "      <td>22413.107486</td>\n",
       "      <td>24000.438045</td>\n",
       "    </tr>\n",
       "    <tr>\n",
       "      <th>3</th>\n",
       "      <td>43846</td>\n",
       "      <td>43846</td>\n",
       "      <td>4763666</td>\n",
       "      <td>5</td>\n",
       "      <td>2013-01-08 01:45:00</td>\n",
       "      <td>42</td>\n",
       "      <td>25238.555880</td>\n",
       "      <td>2013-01-08 01:45:00</td>\n",
       "      <td>2013</td>\n",
       "      <td>1</td>\n",
       "      <td>...</td>\n",
       "      <td>17.9</td>\n",
       "      <td>-1.0</td>\n",
       "      <td>0.1</td>\n",
       "      <td>1</td>\n",
       "      <td>0</td>\n",
       "      <td>25016.329602</td>\n",
       "      <td>25302.049103</td>\n",
       "      <td>25778.248270</td>\n",
       "      <td>22635.333764</td>\n",
       "      <td>24032.184656</td>\n",
       "    </tr>\n",
       "    <tr>\n",
       "      <th>4</th>\n",
       "      <td>43847</td>\n",
       "      <td>43847</td>\n",
       "      <td>2263139</td>\n",
       "      <td>5</td>\n",
       "      <td>2013-01-08 02:00:00</td>\n",
       "      <td>42</td>\n",
       "      <td>25460.782158</td>\n",
       "      <td>2013-01-08 02:00:00</td>\n",
       "      <td>2013</td>\n",
       "      <td>1</td>\n",
       "      <td>...</td>\n",
       "      <td>18.0</td>\n",
       "      <td>-1.0</td>\n",
       "      <td>0.0</td>\n",
       "      <td>1</td>\n",
       "      <td>0</td>\n",
       "      <td>25238.555880</td>\n",
       "      <td>25333.795714</td>\n",
       "      <td>25524.275381</td>\n",
       "      <td>22857.560042</td>\n",
       "      <td>24063.931267</td>\n",
       "    </tr>\n",
       "  </tbody>\n",
       "</table>\n",
       "<p>5 rows × 30 columns</p>\n",
       "</div>"
      ],
      "text/plain": [
       "   level_0  index   obs_id  SiteId           Timestamp  ForecastId  \\\n",
       "0    43843  43843  3153527       5 2013-01-08 01:00:00          42   \n",
       "1    43844  43844  5086881       5 2013-01-08 01:15:00          42   \n",
       "2    43845  43845  5499388       5 2013-01-08 01:30:00          42   \n",
       "3    43846  43846  4763666       5 2013-01-08 01:45:00          42   \n",
       "4    43847  43847  2263139       5 2013-01-08 02:00:00          42   \n",
       "\n",
       "          Value                  ts  year  month      ...       Temperature  \\\n",
       "0  25333.795714 2013-01-08 01:00:00  2013      1      ...              17.9   \n",
       "1  25175.062658 2013-01-08 01:15:00  2013      1      ...              17.9   \n",
       "2  25016.329602 2013-01-08 01:30:00  2013      1      ...              17.9   \n",
       "3  25238.555880 2013-01-08 01:45:00  2013      1      ...              17.9   \n",
       "4  25460.782158 2013-01-08 02:00:00  2013      1      ...              18.0   \n",
       "\n",
       "   Holiday  temp_diff  is_train  is_null        Value1        Value4  \\\n",
       "0     -1.0        0.1         1        0  25302.049103  26413.180494   \n",
       "1     -1.0        0.1         1        0  25333.795714  25841.741492   \n",
       "2     -1.0        0.1         1        0  25175.062658  25270.302491   \n",
       "3     -1.0        0.1         1        0  25016.329602  25302.049103   \n",
       "4     -1.0        0.0         1        0  25238.555880  25333.795714   \n",
       "\n",
       "        Value12       Value96      Value672  \n",
       "0  26667.153383  22413.107486  24190.917712  \n",
       "1  26349.687271  22413.107486  24095.677878  \n",
       "2  26032.221159  22413.107486  24000.438045  \n",
       "3  25778.248270  22635.333764  24032.184656  \n",
       "4  25524.275381  22857.560042  24063.931267  \n",
       "\n",
       "[5 rows x 30 columns]"
      ]
     },
     "execution_count": 69,
     "metadata": {},
     "output_type": "execute_result"
    }
   ],
   "source": [
    "data_df.iloc[0:5]"
   ]
  },
  {
   "cell_type": "code",
   "execution_count": 4,
   "metadata": {
    "ExecuteTime": {
     "end_time": "2018-03-21T06:01:09.712721Z",
     "start_time": "2018-03-21T06:01:08.414899Z"
    }
   },
   "outputs": [
    {
     "data": {
      "text/plain": [
       "6750"
      ]
     },
     "execution_count": 4,
     "metadata": {},
     "output_type": "execute_result"
    }
   ],
   "source": [
    "\n",
    "len(forecast_ids)"
   ]
  },
  {
   "cell_type": "code",
   "execution_count": null,
   "metadata": {
    "ExecuteTime": {
     "start_time": "2018-03-21T06:03:36.044Z"
    }
   },
   "outputs": [
    {
     "name": "stderr",
     "output_type": "stream",
     "text": [
      " 48%|████▊     | 3261/6750 [14:56<17:12,  3.38it/s]"
     ]
    }
   ],
   "source": [
    "import tqdm\n",
    "\n",
    "forecast_ids = list(data_df[data_df.ForecastId_type.isin(['15_mins','1_hour'])].ForecastId.unique())\n",
    "\n",
    "with tqdm.tqdm(total=len(forecast_ids)) as pbar:  \n",
    "    for forecast_id in forecast_ids:\n",
    "        data_df.loc[data_df.ForecastId == forecast_id,'Value1'] = data_df.loc[data_df.ForecastId == forecast_id,'Value'].shift(1)\n",
    "        data_df.loc[data_df.ForecastId == forecast_id,'Value4'] = data_df.loc[data_df.ForecastId == forecast_id,'Value'].shift(4)\n",
    "        data_df.loc[data_df.ForecastId == forecast_id,'Value12'] = data_df.loc[data_df.ForecastId == forecast_id,'Value'].shift(12)\n",
    "        data_df.loc[data_df.ForecastId == forecast_id,'Value24'] = data_df.loc[data_df.ForecastId == forecast_id,'Value'].shift(24)\n",
    "        data_df.loc[data_df.ForecastId == forecast_id,'Value96'] = data_df.loc[data_df.ForecastId == forecast_id,'Value'].shift(96)\n",
    "        data_df.loc[data_df.ForecastId == forecast_id,'Value168'] = data_df.loc[data_df.ForecastId == forecast_id,'Value'].shift(168)        \n",
    "        pbar.update(1)\n",
    "        \n",
    "data_df.to_feather('../data/forecast/data_df_feather_ar_values')        "
   ]
  },
  {
   "cell_type": "code",
   "execution_count": 10,
   "metadata": {
    "ExecuteTime": {
     "end_time": "2018-03-20T14:14:02.427159Z",
     "start_time": "2018-03-20T14:14:02.303423Z"
    }
   },
   "outputs": [
    {
     "data": {
      "text/plain": [
       "637285"
      ]
     },
     "execution_count": 10,
     "metadata": {},
     "output_type": "execute_result"
    }
   ],
   "source": [
    "len(data_df.Timestamp.unique())"
   ]
  },
  {
   "cell_type": "code",
   "execution_count": 63,
   "metadata": {
    "ExecuteTime": {
     "end_time": "2018-03-19T17:32:19.021897Z",
     "start_time": "2018-03-19T17:32:18.859800Z"
    }
   },
   "outputs": [],
   "source": [
    "data_df = data_df.reset_index()"
   ]
  },
  {
   "cell_type": "code",
   "execution_count": null,
   "metadata": {},
   "outputs": [],
   "source": [
    "'Value1','Value4','Value12','Value96','Value672'\n"
   ]
  },
  {
   "cell_type": "code",
   "execution_count": 58,
   "metadata": {
    "ExecuteTime": {
     "end_time": "2018-03-19T17:13:06.943922Z",
     "start_time": "2018-03-19T17:13:03.490386Z"
    }
   },
   "outputs": [],
   "source": [
    "data_df = data_df.dropna()"
   ]
  },
  {
   "cell_type": "code",
   "execution_count": 5,
   "metadata": {
    "ExecuteTime": {
     "end_time": "2018-03-20T13:22:43.981315Z",
     "start_time": "2018-03-20T13:22:42.528067Z"
    }
   },
   "outputs": [],
   "source": [
    "data_df.to_feather('../data/forecast/data_df_feather_ar_values_moar')"
   ]
  },
  {
   "cell_type": "code",
   "execution_count": null,
   "metadata": {},
   "outputs": [],
   "source": [
    "data_df = data_df."
   ]
  },
  {
   "cell_type": "code",
   "execution_count": 41,
   "metadata": {
    "ExecuteTime": {
     "end_time": "2018-03-19T16:40:53.911356Z",
     "start_time": "2018-03-19T16:40:53.005961Z"
    }
   },
   "outputs": [],
   "source": []
  },
  {
   "cell_type": "code",
   "execution_count": null,
   "metadata": {},
   "outputs": [],
   "source": [
    "data_df['Value1'] = "
   ]
  },
  {
   "cell_type": "markdown",
   "metadata": {},
   "source": [
    "# Predictions for the AR encoder-decoder models"
   ]
  },
  {
   "cell_type": "code",
   "execution_count": 1,
   "metadata": {
    "ExecuteTime": {
     "end_time": "2018-03-21T05:36:35.256835Z",
     "start_time": "2018-03-21T05:36:28.394691Z"
    },
    "code_folding": []
   },
   "outputs": [
    {
     "name": "stderr",
     "output_type": "stream",
     "text": [
      "/opt/conda/lib/python3.5/site-packages/h5py/__init__.py:36: FutureWarning: Conversion of the second argument of issubdtype from `float` to `np.floating` is deprecated. In future, it will be treated as `np.float64 == np.dtype(float).type`.\n",
      "  from ._conv import register_converters as _register_converters\n"
     ]
    },
    {
     "name": "stdout",
     "output_type": "stream",
     "text": [
      "model_15m => loaded checkpoint (epoch 39)\n"
     ]
    },
    {
     "data": {
      "text/plain": [
       "DataParallel(\n",
       "  (module): EncoderDecoderGRU(\n",
       "    (hol_emb): Embedding(100, 22)\n",
       "    (year_emb): Embedding(100, 3)\n",
       "    (month_emb): Embedding(100, 4)\n",
       "    (day_emb): Embedding(100, 11)\n",
       "    (hour_emb): Embedding(100, 8)\n",
       "    (min_emb): Embedding(100, 20)\n",
       "    (dow_emb): Embedding(100, 3)\n",
       "    (encoder_gru_meta): GRU(76, 512, num_layers=2, batch_first=True)\n",
       "    (encoder_gru_ar): GRU(1, 512, num_layers=2, batch_first=True)\n",
       "    (decoder_gru_meta): GRU(512, 512, num_layers=2, batch_first=True)\n",
       "    (decoder_gru_ar): GRU(512, 512, num_layers=2, batch_first=True)\n",
       "    (classifier): Sequential(\n",
       "      (0): Linear(in_features=1024, out_features=1024)\n",
       "      (1): BatchNorm2d(1024, eps=1e-05, momentum=0.1, affine=True)\n",
       "      (2): ReLU(inplace)\n",
       "      (3): Dropout(p=0.5)\n",
       "      (4): Linear(in_features=1024, out_features=1024)\n",
       "      (5): BatchNorm2d(1024, eps=1e-05, momentum=0.1, affine=True)\n",
       "      (6): ReLU(inplace)\n",
       "      (7): Dropout(p=0.5)\n",
       "      (8): Linear(in_features=1024, out_features=192)\n",
       "    )\n",
       "  )\n",
       ")"
      ]
     },
     "execution_count": 1,
     "metadata": {},
     "output_type": "execute_result"
    }
   ],
   "source": [
    "# Custom tensorboard logging\n",
    "from TbLogger import Logger\n",
    "\n",
    "import os\n",
    "import time\n",
    "import tqdm\n",
    "import shutil\n",
    "import argparse\n",
    "import numpy as np\n",
    "import pandas as pd\n",
    "from math import sqrt\n",
    "from sklearn import  metrics\n",
    " \n",
    "# custom utils and random forest scripts\n",
    "from Utils import ETL_emb, count_test_period,preprocess_seq2seq,interpolate\n",
    "\n",
    "# torch imports\n",
    "import torch\n",
    "import torch.optim\n",
    "import torch.nn as nn\n",
    "import torch.utils.data\n",
    "import torch.nn.parallel\n",
    "import torchvision.models as models\n",
    "import torch.backends.cudnn as cudnn\n",
    "import torchvision.datasets as datasets\n",
    "import torchvision.transforms as transforms\n",
    "from torch.optim.lr_scheduler import ReduceLROnPlateau,MultiStepLR\n",
    "\n",
    "# custom classes\n",
    "from SDataset import S2SDataset\n",
    "from ELstm import E2ELSTM,WMSELoss,E2ELSTM_day,EncoderDecoderGRU,E2EGRU\n",
    "\n",
    "import pandas as pd\n",
    "import numpy as np\n",
    "from math import sqrt\n",
    "\n",
    "from Utils import WRMSE\n",
    "import pickle\n",
    "\n",
    "\n",
    "# suppress pandas warnings\n",
    "# do not do this in production!\n",
    "pd.set_option('mode.chained_assignment', None)\n",
    "\n",
    "# read all pre-calculated objects\n",
    "data_df = pd.read_feather('../data/forecast/data_df_feather_ar_values')\n",
    "with open('train_forecast_ids.pkl', 'rb') as input:\n",
    "    train_forecast_ids = pickle.load(input)\n",
    "with open('normal_forecast_ids.pkl', 'rb') as input:\n",
    "    normal_forecast_ids = pickle.load(input)\n",
    "with open('linear_interpolation.pkl', 'rb') as input:\n",
    "    linear_interpolation = pickle.load(input)\n",
    "with open('use_last_window.pkl', 'rb') as input:\n",
    "    use_last_window = pickle.load(input)\n",
    "with open('submit_zeroes.pkl', 'rb') as input:\n",
    "    submit_zeroes = pickle.load(input)\n",
    "with open('submit_averages.pkl', 'rb') as input:\n",
    "    submit_averages = pickle.load(input)    \n",
    "\n",
    "# override - exclude last window series\n",
    "train_forecast_ids = normal_forecast_ids + linear_interpolation\n",
    "\n",
    "# take last window from previous submit\n",
    "\n",
    "best_15m_model = 'weights/15m1d_encoder_decoder_w192_hid512_2lyr_5ar_val01_60_ep_best.pth.tar'\n",
    "\n",
    "\n",
    "model_15m = EncoderDecoderGRU(in_sequence_len = 192,\n",
    "                 out_sequence_len = 192,\n",
    "                 features_meta_total = 76,\n",
    "                 features_ar_total = 1,\n",
    "                 meta_hidden_layer_length = 512,\n",
    "                 ar_hidden_layer_length = 512,\n",
    "                 meta_hidden_layers = 2,\n",
    "                 ar_hidden_layers = 2,\n",
    "                 lstm_dropout = 0,\n",
    "                 classifier_hidden_length = 1024)\n",
    "\n",
    "model_15m = torch.nn.DataParallel(model_15m)\n",
    "\n",
    "\n",
    "checkpoint = torch.load(best_15m_model)\n",
    "model_15m.load_state_dict(checkpoint['state_dict'])\n",
    "print(\"model_15m => loaded checkpoint (epoch {})\".format(checkpoint['epoch']))    \n",
    "\n",
    "model_15m.cuda()"
   ]
  },
  {
   "cell_type": "code",
   "execution_count": 2,
   "metadata": {
    "ExecuteTime": {
     "end_time": "2018-03-21T05:36:54.484498Z",
     "start_time": "2018-03-21T05:36:53.425606Z"
    }
   },
   "outputs": [],
   "source": [
    "trainable_df = data_df[(~data_df.ForecastId.isin(list(set(data_df.ForecastId.unique()) - set(train_forecast_ids))))]    "
   ]
  },
  {
   "cell_type": "code",
   "execution_count": 12,
   "metadata": {
    "ExecuteTime": {
     "end_time": "2018-03-21T05:41:09.116369Z",
     "start_time": "2018-03-21T05:41:09.089418Z"
    }
   },
   "outputs": [
    {
     "data": {
      "text/plain": [
       "(868, 28)"
      ]
     },
     "execution_count": 12,
     "metadata": {},
     "output_type": "execute_result"
    }
   ],
   "source": [
    "data_df[(data_df.ForecastId == 1500)\n",
    "       & (data_df.is_train == 1)].shape"
   ]
  },
  {
   "cell_type": "code",
   "execution_count": 4,
   "metadata": {
    "ExecuteTime": {
     "end_time": "2018-03-21T05:37:17.253674Z",
     "start_time": "2018-03-21T05:37:17.096586Z"
    }
   },
   "outputs": [],
   "source": [
    "del data_df['Value672']\n",
    "data_df = data_df.dropna()"
   ]
  },
  {
   "cell_type": "code",
   "execution_count": 5,
   "metadata": {
    "ExecuteTime": {
     "end_time": "2018-03-21T05:37:32.079848Z",
     "start_time": "2018-03-21T05:37:32.071193Z"
    }
   },
   "outputs": [],
   "source": [
    "temp_features = ['Temperature']\n",
    "ar_features = ['Value1','Value4','Value12','Value96']\n",
    "hol_emb_features = ['Holiday']\n",
    "time_emb_features = ['year', 'month', 'day', 'hour', 'minute','dow']\n",
    "target = ['Value']\n",
    "predictors = temp_features + ar_features + hol_emb_features + time_emb_features"
   ]
  },
  {
   "cell_type": "code",
   "execution_count": 15,
   "metadata": {
    "ExecuteTime": {
     "end_time": "2018-03-21T05:44:11.480579Z",
     "start_time": "2018-03-21T05:44:10.561294Z"
    },
    "code_folding": [
     7,
     12,
     13,
     63,
     99,
     128,
     140,
     142,
     160
    ]
   },
   "outputs": [],
   "source": [
    "import torch.utils.data as data\n",
    "from sklearn.preprocessing import StandardScaler\n",
    "from sklearn.model_selection import train_test_split \n",
    "from multiprocessing import Pool\n",
    "from Utils import process_categorical_features\n",
    "import numpy as np\n",
    "\n",
    "class S2VDataset(data.Dataset):\n",
    "    def __init__(self,\n",
    "                 ):\n",
    "        pass\n",
    "\n",
    "class S2SDataset(data.Dataset):\n",
    "    def __init__(self,\n",
    "                 df = None,\n",
    "                 series_type =  '15_mins', # '1_hour' '1_day'\n",
    "                 in_sequence_len = 192,\n",
    "                 out_sequence_len = 192,\n",
    "                 target = 'Value',\n",
    "                 mode = 'train', # train, val or test\n",
    "                 split_mode = 'random', # random or left or right\n",
    "                 predictors = [],\n",
    "                 val_size = 0.25\n",
    "                 ):\n",
    "        \n",
    "        \n",
    "        print('Creating dataset object ...')\n",
    "        self.mode = mode\n",
    "        # select only one type of series\n",
    "        if series_type == '15m_1d':\n",
    "            self.df = df[df.ForecastId_type.isin(['15_mins','1_hour'])]\n",
    "        else:\n",
    "            self.df = df[df.ForecastId_type == series_type]\n",
    "        \n",
    "        # factorize features even further\n",
    "        self.df = process_categorical_features(self.df,['Holiday','year', 'month', 'day', 'hour', 'minute','dow'])\n",
    "        \n",
    "        \n",
    "        # order of predictors is important for CNNs\n",
    "        self.predictors = predictors\n",
    "        self.in_sequence_len = in_sequence_len\n",
    "        self.out_sequence_len = out_sequence_len\n",
    "        self.target = target\n",
    "        self.mode = mode\n",
    "        self.split_mode = split_mode\n",
    "        \n",
    "        # store the selected time series' site_ids and forecast_ids\n",
    "        self.forecast_ids = list(self.df.ForecastId.unique())\n",
    "        \n",
    "        # do simple train test split based on forecast_ids\n",
    "        self.train_f_ids, self.val_f_ids = train_test_split(self.forecast_ids,\n",
    "                                                 test_size = val_size,\n",
    "                                                 random_state = 42,\n",
    "                                                 )\n",
    "        \n",
    "        self.site_ids = list(self.df.SiteId.unique())\n",
    "        \n",
    "        # store the averages and std of series in dictionaries\n",
    "        self.mean_dict = {}\n",
    "        self.std_dict = {}\n",
    "\n",
    "        self.__normalize__()\n",
    "        \n",
    "    def __produce_idx_one__(self,\n",
    "                            forecast_id):\n",
    "\n",
    "        slice_df = self.df[self.df.ForecastId == forecast_id]\n",
    "        slice_df = slice_df.reset_index()\n",
    "\n",
    "        # how many training data we have\n",
    "        trainval_len = slice_df[slice_df.is_train == 1].shape[0]\n",
    "        # calculate how many rolling windows we have\n",
    "        trainval_window_count =  trainval_len - self.in_sequence_len - self.out_sequence_len\n",
    "\n",
    "        slice_df_predictors = slice_df[self.predictors].values\n",
    "        slice_df_targets = slice_df[self.target].values\n",
    "\n",
    "        # idx of the trainval subset\n",
    "        trainval_idx = list(slice_df[(slice_df.is_train == 1)].index)\n",
    "        # idx of the test subset\n",
    "        test_idx = list(slice_df[(slice_df.is_train == 0)].index)\n",
    "\n",
    "        # we always have enough data for several rolling windows for trainval\n",
    "        trainval_X_sequences_ar = np.asarray( [(slice_df_targets[trainval_idx[window:window+self.in_sequence_len]]) for window in range(0,trainval_window_count)] )\n",
    "        trainval_X_sequences_meta = np.asarray( [(slice_df_predictors[trainval_idx[window : window+self.in_sequence_len+self.out_sequence_len]]) for window in range(0,trainval_window_count)] ) \n",
    "        trainval_y_sequences = np.asarray( [(slice_df_targets[trainval_idx[window+self.in_sequence_len : window+self.in_sequence_len+self.out_sequence_len]]) for window in range(0,trainval_window_count)] )\n",
    "\n",
    "        len_diff = len(test_idx) - self.out_sequence_len\n",
    "        # if the test set has standard length\n",
    "        if len(test_idx) == self.out_sequence_len:\n",
    "            test_X_sequences_meta = slice_df_predictors[trainval_idx[-self.in_sequence_len:] + test_idx]\n",
    "            test_X_sequences_ar = slice_df_targets[trainval_idx[-self.in_sequence_len:]]\n",
    "        # otherwise add several points from the train dataset\n",
    "        else:\n",
    "            test_X_sequences_meta = slice_df_predictors[trainval_idx[- self.out_sequence_len - len_diff:] + test_idx]\n",
    "            test_X_sequences_ar = slice_df_targets[trainval_idx[- self.out_sequence_len - len_diff:]]         \n",
    "\n",
    "        return trainval_X_sequences_ar,trainval_X_sequences_meta,trainval_y_sequences,test_X_sequences_meta,test_X_sequences_ar,len_diff\n",
    "    \n",
    "    def __normalize__(self):\n",
    "        # normalize all series, store their means and stds\n",
    "        print('Normalizing features ...')\n",
    "        \n",
    "        self.mean_dict = self.df[self.df.is_train==1].groupby(by=['ForecastId'])['Value'].mean().to_dict()\n",
    "        self.std_dict = self.df[self.df.is_train==1].groupby(by=['ForecastId'])['Value'].std().to_dict()\n",
    "        \n",
    "        # isolate series where all values are equal to one value\n",
    "        # preprocess them separately\n",
    "        flat_forecast_ids = [(k) for k, v in self.std_dict.items() if v == 0]\n",
    "        \n",
    "        # insert means for all series\n",
    "        self.df['mean'] = self.df.ForecastId.apply(lambda x: self.mean_dict[x])\n",
    "        # std for zero-std series is 1 by default\n",
    "        self.df['std'] = 1\n",
    "        # insert stds only for other series with non-zero std\n",
    "        self.df.loc[~self.df['ForecastId'].isin(flat_forecast_ids),'std'] = self.df[~self.df['ForecastId'].isin(flat_forecast_ids)].ForecastId.apply(lambda x: self.std_dict[x])\n",
    "\n",
    "        \n",
    "        self.df['Value'] = (self.df['Value'] - self.df['mean']) / self.df['std']\n",
    "        \n",
    "        for col_norm in ['Value1','Value4','Value12','Value96']:\n",
    "            if col_norm in self.df.columns:\n",
    "                self.df[col_norm] = (self.df[col_norm] - self.df['mean']) / self.df['std']\n",
    "                print('Column {} normalized'.format(col_norm))\n",
    "\n",
    "        # set test set values back to 0\n",
    "        self.df.loc[self.df.is_train==0,'Value'] = 0\n",
    "            \n",
    "    def __len__(self):\n",
    "        if self.mode == 'train':\n",
    "            return len(self.train_f_ids)\n",
    "        elif self.mode == 'val':\n",
    "            return len(self.val_f_ids)\n",
    "        elif self.mode == 'test':\n",
    "            # test set length is equal to the number of forecast ids\n",
    "            return len(self.forecast_ids)\n",
    "        elif self.mode == 'evaluate_wrmse':\n",
    "            # test set length is equal to the number of forecast ids\n",
    "            return len(self.forecast_ids)        \n",
    "\n",
    "    def __getitem__(self, idx):\n",
    "        if self.split_mode in ['random']:\n",
    "            if self.mode == 'train':\n",
    "                trainval_X_sequences_ar,trainval_X_sequences_meta,trainval_y_sequences,_,_,_ = self.__produce_idx_one__(self.train_f_ids[idx])\n",
    "                # sample a random index of data, e.g. 16 sequences\n",
    "                # if we have a truncated sample, then pull the same sample 16 times\n",
    "                if trainval_X_sequences_ar.shape[0] < 16:\n",
    "                    idx = list(range(0,16))\n",
    "                    trainval_X_sequences_ar = np.vstack([trainval_X_sequences_ar] * 16)\n",
    "                    trainval_X_sequences_meta = np.vstack([trainval_X_sequences_meta] * 16)\n",
    "                    trainval_y_sequences = np.vstack([trainval_y_sequences] * 16)\n",
    "                else:\n",
    "                    idx = np.random.randint(trainval_X_sequences_ar.shape[0], size=16)                \n",
    "                \n",
    "                return trainval_X_sequences_ar[idx],trainval_X_sequences_meta[idx],trainval_y_sequences[idx]\n",
    "            elif self.mode == 'evaluate_wrmse':\n",
    "                trainval_X_sequences_ar,trainval_X_sequences_meta,trainval_y_sequences,_,_,_ = self.__produce_idx_one__(self.forecast_ids[idx])\n",
    "                idx = -1\n",
    "                # just use the last available window\n",
    "                return trainval_X_sequences_ar[idx],trainval_X_sequences_meta[idx],trainval_y_sequences[idx] \n",
    "            elif self.mode == 'val':\n",
    "                trainval_X_sequences_ar,trainval_X_sequences_meta,trainval_y_sequences,_,_,_ = self.__produce_idx_one__(self.val_f_ids[idx])\n",
    "                # sample a random index of data, e.g. 16 sequences\n",
    "                # if we have a truncated sample, then pull the same sample 16 times\n",
    "                if trainval_X_sequences_ar.shape[0] < 16:\n",
    "                    idx = list(range(0,16))\n",
    "                    trainval_X_sequences_ar = np.vstack([trainval_X_sequences_ar] * 16)\n",
    "                    trainval_X_sequences_meta = np.vstack([trainval_X_sequences_meta] * 16)\n",
    "                    trainval_y_sequences = np.vstack([trainval_y_sequences] * 16)\n",
    "                else:\n",
    "                    idx = np.random.randint(trainval_X_sequences_ar.shape[0], size=16)                \n",
    "                \n",
    "                return trainval_X_sequences_ar[idx],trainval_X_sequences_meta[idx],trainval_y_sequences[idx]\n",
    "            elif self.mode == 'test':\n",
    "                _,_,_,test_X_sequences_meta,test_X_sequences_ar,len_diff = self.__produce_idx_one__(self.forecast_ids[idx])\n",
    "                return test_X_sequences_meta,test_X_sequences_ar,len_diff\n",
    "        else:\n",
    "            raise ValueError('getitem method not implemented for this split mode {}'.format(self.split_mode))"
   ]
  },
  {
   "cell_type": "code",
   "execution_count": 18,
   "metadata": {
    "ExecuteTime": {
     "end_time": "2018-03-21T05:46:27.738105Z",
     "start_time": "2018-03-21T05:46:27.734334Z"
    }
   },
   "outputs": [],
   "source": [
    "del train_dataset"
   ]
  },
  {
   "cell_type": "code",
   "execution_count": 20,
   "metadata": {
    "ExecuteTime": {
     "end_time": "2018-03-21T05:48:55.935447Z",
     "start_time": "2018-03-21T05:48:46.700678Z"
    },
    "code_folding": []
   },
   "outputs": [
    {
     "name": "stdout",
     "output_type": "stream",
     "text": [
      "Predicting for 15 min series ...\n",
      "Creating dataset object ...\n",
      "Normalizing features ...\n",
      "Column Value1 normalized\n",
      "Column Value4 normalized\n",
      "Column Value12 normalized\n",
      "Column Value96 normalized\n"
     ]
    }
   ],
   "source": [
    "print('Predicting for 15 min series ...')                       \n",
    "\n",
    "predict_dataset = S2SDataset(df = trainable_df,\n",
    "                     series_type = '15m_1d',\n",
    "                     in_sequence_len = 192,\n",
    "                     out_sequence_len = 192,\n",
    "                     target = 'Value',\n",
    "                     mode = 'evaluate_wrmse',\n",
    "                     split_mode = 'random',\n",
    "                     predictors = predictors)\n",
    "    \n",
    "predict_loader = torch.utils.data.DataLoader(\n",
    "    predict_dataset,\n",
    "    batch_size=100,        \n",
    "    shuffle=False,\n",
    "    num_workers=1,\n",
    "    pin_memory=False,\n",
    "    drop_last=False)    \n",
    "\n",
    "# print('Dataset length is {}'.format(len(train_dataset.forecast_ids)))"
   ]
  },
  {
   "cell_type": "code",
   "execution_count": 22,
   "metadata": {
    "ExecuteTime": {
     "end_time": "2018-03-21T05:49:00.990910Z",
     "start_time": "2018-03-21T05:49:00.987366Z"
    }
   },
   "outputs": [
    {
     "name": "stdout",
     "output_type": "stream",
     "text": [
      "Dataset length is 67\n"
     ]
    }
   ],
   "source": [
    "print('Dataset length is {}'.format(len(predict_loader)))"
   ]
  },
  {
   "cell_type": "code",
   "execution_count": 61,
   "metadata": {
    "ExecuteTime": {
     "end_time": "2018-03-21T05:57:40.954604Z",
     "start_time": "2018-03-21T05:57:40.838622Z"
    }
   },
   "outputs": [
    {
     "data": {
      "text/html": [
       "<div>\n",
       "<style scoped>\n",
       "    .dataframe tbody tr th:only-of-type {\n",
       "        vertical-align: middle;\n",
       "    }\n",
       "\n",
       "    .dataframe tbody tr th {\n",
       "        vertical-align: top;\n",
       "    }\n",
       "\n",
       "    .dataframe thead th {\n",
       "        text-align: right;\n",
       "    }\n",
       "</style>\n",
       "<table border=\"1\" class=\"dataframe\">\n",
       "  <thead>\n",
       "    <tr style=\"text-align: right;\">\n",
       "      <th></th>\n",
       "      <th>index</th>\n",
       "      <th>obs_id</th>\n",
       "      <th>SiteId</th>\n",
       "      <th>Timestamp</th>\n",
       "      <th>ForecastId</th>\n",
       "      <th>Value</th>\n",
       "      <th>ts</th>\n",
       "      <th>year</th>\n",
       "      <th>month</th>\n",
       "      <th>day</th>\n",
       "      <th>...</th>\n",
       "      <th>temp_diff</th>\n",
       "      <th>is_train</th>\n",
       "      <th>is_null</th>\n",
       "      <th>Value1</th>\n",
       "      <th>Value4</th>\n",
       "      <th>Value12</th>\n",
       "      <th>Value96</th>\n",
       "      <th>Value672</th>\n",
       "      <th>mean</th>\n",
       "      <th>std</th>\n",
       "    </tr>\n",
       "  </thead>\n",
       "  <tbody>\n",
       "    <tr>\n",
       "      <th>1138</th>\n",
       "      <td>1138</td>\n",
       "      <td>4382312</td>\n",
       "      <td>2</td>\n",
       "      <td>2013-01-01 01:00:00</td>\n",
       "      <td>5</td>\n",
       "      <td>-0.734405</td>\n",
       "      <td>2013-01-01 01:00:00</td>\n",
       "      <td>0</td>\n",
       "      <td>0</td>\n",
       "      <td>0</td>\n",
       "      <td>...</td>\n",
       "      <td>19.00</td>\n",
       "      <td>1</td>\n",
       "      <td>0</td>\n",
       "      <td>NaN</td>\n",
       "      <td>NaN</td>\n",
       "      <td>NaN</td>\n",
       "      <td>NaN</td>\n",
       "      <td>NaN</td>\n",
       "      <td>87848.018629</td>\n",
       "      <td>78550.73414</td>\n",
       "    </tr>\n",
       "    <tr>\n",
       "      <th>1139</th>\n",
       "      <td>1139</td>\n",
       "      <td>2016541</td>\n",
       "      <td>2</td>\n",
       "      <td>2013-01-01 02:00:00</td>\n",
       "      <td>5</td>\n",
       "      <td>-0.739070</td>\n",
       "      <td>2013-01-01 02:00:00</td>\n",
       "      <td>0</td>\n",
       "      <td>0</td>\n",
       "      <td>0</td>\n",
       "      <td>...</td>\n",
       "      <td>19.00</td>\n",
       "      <td>1</td>\n",
       "      <td>0</td>\n",
       "      <td>NaN</td>\n",
       "      <td>NaN</td>\n",
       "      <td>NaN</td>\n",
       "      <td>NaN</td>\n",
       "      <td>NaN</td>\n",
       "      <td>87848.018629</td>\n",
       "      <td>78550.73414</td>\n",
       "    </tr>\n",
       "    <tr>\n",
       "      <th>1140</th>\n",
       "      <td>1140</td>\n",
       "      <td>78869</td>\n",
       "      <td>2</td>\n",
       "      <td>2013-01-01 03:00:00</td>\n",
       "      <td>5</td>\n",
       "      <td>-0.715023</td>\n",
       "      <td>2013-01-01 03:00:00</td>\n",
       "      <td>0</td>\n",
       "      <td>0</td>\n",
       "      <td>0</td>\n",
       "      <td>...</td>\n",
       "      <td>19.00</td>\n",
       "      <td>1</td>\n",
       "      <td>0</td>\n",
       "      <td>NaN</td>\n",
       "      <td>NaN</td>\n",
       "      <td>NaN</td>\n",
       "      <td>NaN</td>\n",
       "      <td>NaN</td>\n",
       "      <td>87848.018629</td>\n",
       "      <td>78550.73414</td>\n",
       "    </tr>\n",
       "    <tr>\n",
       "      <th>1141</th>\n",
       "      <td>1141</td>\n",
       "      <td>1361014</td>\n",
       "      <td>2</td>\n",
       "      <td>2013-01-01 04:00:00</td>\n",
       "      <td>5</td>\n",
       "      <td>-0.737946</td>\n",
       "      <td>2013-01-01 04:00:00</td>\n",
       "      <td>0</td>\n",
       "      <td>0</td>\n",
       "      <td>0</td>\n",
       "      <td>...</td>\n",
       "      <td>19.00</td>\n",
       "      <td>1</td>\n",
       "      <td>0</td>\n",
       "      <td>NaN</td>\n",
       "      <td>NaN</td>\n",
       "      <td>NaN</td>\n",
       "      <td>NaN</td>\n",
       "      <td>NaN</td>\n",
       "      <td>87848.018629</td>\n",
       "      <td>78550.73414</td>\n",
       "    </tr>\n",
       "    <tr>\n",
       "      <th>1142</th>\n",
       "      <td>1142</td>\n",
       "      <td>129169</td>\n",
       "      <td>2</td>\n",
       "      <td>2013-01-01 05:00:00</td>\n",
       "      <td>5</td>\n",
       "      <td>-0.729308</td>\n",
       "      <td>2013-01-01 05:00:00</td>\n",
       "      <td>0</td>\n",
       "      <td>0</td>\n",
       "      <td>0</td>\n",
       "      <td>...</td>\n",
       "      <td>19.00</td>\n",
       "      <td>1</td>\n",
       "      <td>0</td>\n",
       "      <td>NaN</td>\n",
       "      <td>NaN</td>\n",
       "      <td>NaN</td>\n",
       "      <td>NaN</td>\n",
       "      <td>NaN</td>\n",
       "      <td>87848.018629</td>\n",
       "      <td>78550.73414</td>\n",
       "    </tr>\n",
       "    <tr>\n",
       "      <th>1143</th>\n",
       "      <td>1143</td>\n",
       "      <td>1950837</td>\n",
       "      <td>2</td>\n",
       "      <td>2013-01-01 06:00:00</td>\n",
       "      <td>5</td>\n",
       "      <td>-0.716036</td>\n",
       "      <td>2013-01-01 06:00:00</td>\n",
       "      <td>0</td>\n",
       "      <td>0</td>\n",
       "      <td>0</td>\n",
       "      <td>...</td>\n",
       "      <td>19.00</td>\n",
       "      <td>1</td>\n",
       "      <td>0</td>\n",
       "      <td>NaN</td>\n",
       "      <td>NaN</td>\n",
       "      <td>NaN</td>\n",
       "      <td>NaN</td>\n",
       "      <td>NaN</td>\n",
       "      <td>87848.018629</td>\n",
       "      <td>78550.73414</td>\n",
       "    </tr>\n",
       "    <tr>\n",
       "      <th>1144</th>\n",
       "      <td>1144</td>\n",
       "      <td>2016591</td>\n",
       "      <td>2</td>\n",
       "      <td>2013-01-01 07:00:00</td>\n",
       "      <td>5</td>\n",
       "      <td>-0.706406</td>\n",
       "      <td>2013-01-01 07:00:00</td>\n",
       "      <td>0</td>\n",
       "      <td>0</td>\n",
       "      <td>0</td>\n",
       "      <td>...</td>\n",
       "      <td>19.00</td>\n",
       "      <td>1</td>\n",
       "      <td>0</td>\n",
       "      <td>NaN</td>\n",
       "      <td>NaN</td>\n",
       "      <td>NaN</td>\n",
       "      <td>NaN</td>\n",
       "      <td>NaN</td>\n",
       "      <td>87848.018629</td>\n",
       "      <td>78550.73414</td>\n",
       "    </tr>\n",
       "    <tr>\n",
       "      <th>1145</th>\n",
       "      <td>1145</td>\n",
       "      <td>3251271</td>\n",
       "      <td>2</td>\n",
       "      <td>2013-01-01 08:00:00</td>\n",
       "      <td>5</td>\n",
       "      <td>-0.651349</td>\n",
       "      <td>2013-01-01 08:00:00</td>\n",
       "      <td>0</td>\n",
       "      <td>0</td>\n",
       "      <td>0</td>\n",
       "      <td>...</td>\n",
       "      <td>19.00</td>\n",
       "      <td>1</td>\n",
       "      <td>0</td>\n",
       "      <td>NaN</td>\n",
       "      <td>NaN</td>\n",
       "      <td>NaN</td>\n",
       "      <td>NaN</td>\n",
       "      <td>NaN</td>\n",
       "      <td>87848.018629</td>\n",
       "      <td>78550.73414</td>\n",
       "    </tr>\n",
       "    <tr>\n",
       "      <th>1146</th>\n",
       "      <td>1146</td>\n",
       "      <td>2457410</td>\n",
       "      <td>2</td>\n",
       "      <td>2013-01-01 09:00:00</td>\n",
       "      <td>5</td>\n",
       "      <td>-0.476465</td>\n",
       "      <td>2013-01-01 09:00:00</td>\n",
       "      <td>0</td>\n",
       "      <td>0</td>\n",
       "      <td>0</td>\n",
       "      <td>...</td>\n",
       "      <td>19.00</td>\n",
       "      <td>1</td>\n",
       "      <td>0</td>\n",
       "      <td>NaN</td>\n",
       "      <td>NaN</td>\n",
       "      <td>NaN</td>\n",
       "      <td>NaN</td>\n",
       "      <td>NaN</td>\n",
       "      <td>87848.018629</td>\n",
       "      <td>78550.73414</td>\n",
       "    </tr>\n",
       "    <tr>\n",
       "      <th>1147</th>\n",
       "      <td>1147</td>\n",
       "      <td>2038868</td>\n",
       "      <td>2</td>\n",
       "      <td>2013-01-01 10:00:00</td>\n",
       "      <td>5</td>\n",
       "      <td>-0.398361</td>\n",
       "      <td>2013-01-01 10:00:00</td>\n",
       "      <td>0</td>\n",
       "      <td>0</td>\n",
       "      <td>0</td>\n",
       "      <td>...</td>\n",
       "      <td>19.00</td>\n",
       "      <td>1</td>\n",
       "      <td>0</td>\n",
       "      <td>NaN</td>\n",
       "      <td>NaN</td>\n",
       "      <td>NaN</td>\n",
       "      <td>NaN</td>\n",
       "      <td>NaN</td>\n",
       "      <td>87848.018629</td>\n",
       "      <td>78550.73414</td>\n",
       "    </tr>\n",
       "    <tr>\n",
       "      <th>1148</th>\n",
       "      <td>1148</td>\n",
       "      <td>2790038</td>\n",
       "      <td>2</td>\n",
       "      <td>2013-01-01 11:00:00</td>\n",
       "      <td>5</td>\n",
       "      <td>-0.306063</td>\n",
       "      <td>2013-01-01 11:00:00</td>\n",
       "      <td>0</td>\n",
       "      <td>0</td>\n",
       "      <td>0</td>\n",
       "      <td>...</td>\n",
       "      <td>19.00</td>\n",
       "      <td>1</td>\n",
       "      <td>0</td>\n",
       "      <td>NaN</td>\n",
       "      <td>NaN</td>\n",
       "      <td>NaN</td>\n",
       "      <td>NaN</td>\n",
       "      <td>NaN</td>\n",
       "      <td>87848.018629</td>\n",
       "      <td>78550.73414</td>\n",
       "    </tr>\n",
       "    <tr>\n",
       "      <th>1149</th>\n",
       "      <td>1149</td>\n",
       "      <td>7748640</td>\n",
       "      <td>2</td>\n",
       "      <td>2013-01-01 12:00:00</td>\n",
       "      <td>5</td>\n",
       "      <td>-0.367354</td>\n",
       "      <td>2013-01-01 12:00:00</td>\n",
       "      <td>0</td>\n",
       "      <td>0</td>\n",
       "      <td>0</td>\n",
       "      <td>...</td>\n",
       "      <td>19.00</td>\n",
       "      <td>1</td>\n",
       "      <td>0</td>\n",
       "      <td>NaN</td>\n",
       "      <td>NaN</td>\n",
       "      <td>NaN</td>\n",
       "      <td>NaN</td>\n",
       "      <td>NaN</td>\n",
       "      <td>87848.018629</td>\n",
       "      <td>78550.73414</td>\n",
       "    </tr>\n",
       "    <tr>\n",
       "      <th>1150</th>\n",
       "      <td>1150</td>\n",
       "      <td>1781671</td>\n",
       "      <td>2</td>\n",
       "      <td>2013-01-01 13:00:00</td>\n",
       "      <td>5</td>\n",
       "      <td>-0.330876</td>\n",
       "      <td>2013-01-01 13:00:00</td>\n",
       "      <td>0</td>\n",
       "      <td>0</td>\n",
       "      <td>0</td>\n",
       "      <td>...</td>\n",
       "      <td>-3.85</td>\n",
       "      <td>1</td>\n",
       "      <td>0</td>\n",
       "      <td>NaN</td>\n",
       "      <td>NaN</td>\n",
       "      <td>NaN</td>\n",
       "      <td>NaN</td>\n",
       "      <td>NaN</td>\n",
       "      <td>87848.018629</td>\n",
       "      <td>78550.73414</td>\n",
       "    </tr>\n",
       "    <tr>\n",
       "      <th>1151</th>\n",
       "      <td>1151</td>\n",
       "      <td>4135987</td>\n",
       "      <td>2</td>\n",
       "      <td>2013-01-01 14:00:00</td>\n",
       "      <td>5</td>\n",
       "      <td>-0.250679</td>\n",
       "      <td>2013-01-01 14:00:00</td>\n",
       "      <td>0</td>\n",
       "      <td>0</td>\n",
       "      <td>0</td>\n",
       "      <td>...</td>\n",
       "      <td>-4.00</td>\n",
       "      <td>1</td>\n",
       "      <td>0</td>\n",
       "      <td>NaN</td>\n",
       "      <td>NaN</td>\n",
       "      <td>NaN</td>\n",
       "      <td>NaN</td>\n",
       "      <td>NaN</td>\n",
       "      <td>87848.018629</td>\n",
       "      <td>78550.73414</td>\n",
       "    </tr>\n",
       "    <tr>\n",
       "      <th>1152</th>\n",
       "      <td>1152</td>\n",
       "      <td>862990</td>\n",
       "      <td>2</td>\n",
       "      <td>2013-01-01 15:00:00</td>\n",
       "      <td>5</td>\n",
       "      <td>-0.275897</td>\n",
       "      <td>2013-01-01 15:00:00</td>\n",
       "      <td>0</td>\n",
       "      <td>0</td>\n",
       "      <td>0</td>\n",
       "      <td>...</td>\n",
       "      <td>-4.00</td>\n",
       "      <td>1</td>\n",
       "      <td>0</td>\n",
       "      <td>NaN</td>\n",
       "      <td>NaN</td>\n",
       "      <td>NaN</td>\n",
       "      <td>NaN</td>\n",
       "      <td>NaN</td>\n",
       "      <td>87848.018629</td>\n",
       "      <td>78550.73414</td>\n",
       "    </tr>\n",
       "    <tr>\n",
       "      <th>1153</th>\n",
       "      <td>1153</td>\n",
       "      <td>4798716</td>\n",
       "      <td>2</td>\n",
       "      <td>2013-01-01 16:00:00</td>\n",
       "      <td>5</td>\n",
       "      <td>-0.414759</td>\n",
       "      <td>2013-01-01 16:00:00</td>\n",
       "      <td>0</td>\n",
       "      <td>0</td>\n",
       "      <td>0</td>\n",
       "      <td>...</td>\n",
       "      <td>-4.70</td>\n",
       "      <td>1</td>\n",
       "      <td>0</td>\n",
       "      <td>NaN</td>\n",
       "      <td>NaN</td>\n",
       "      <td>NaN</td>\n",
       "      <td>NaN</td>\n",
       "      <td>NaN</td>\n",
       "      <td>87848.018629</td>\n",
       "      <td>78550.73414</td>\n",
       "    </tr>\n",
       "    <tr>\n",
       "      <th>1154</th>\n",
       "      <td>1154</td>\n",
       "      <td>6977068</td>\n",
       "      <td>2</td>\n",
       "      <td>2013-01-01 17:00:00</td>\n",
       "      <td>5</td>\n",
       "      <td>-0.466629</td>\n",
       "      <td>2013-01-01 17:00:00</td>\n",
       "      <td>0</td>\n",
       "      <td>0</td>\n",
       "      <td>0</td>\n",
       "      <td>...</td>\n",
       "      <td>-4.00</td>\n",
       "      <td>1</td>\n",
       "      <td>0</td>\n",
       "      <td>NaN</td>\n",
       "      <td>NaN</td>\n",
       "      <td>NaN</td>\n",
       "      <td>NaN</td>\n",
       "      <td>NaN</td>\n",
       "      <td>87848.018629</td>\n",
       "      <td>78550.73414</td>\n",
       "    </tr>\n",
       "    <tr>\n",
       "      <th>1155</th>\n",
       "      <td>1155</td>\n",
       "      <td>4217319</td>\n",
       "      <td>2</td>\n",
       "      <td>2013-01-01 18:00:00</td>\n",
       "      <td>5</td>\n",
       "      <td>-0.417483</td>\n",
       "      <td>2013-01-01 18:00:00</td>\n",
       "      <td>0</td>\n",
       "      <td>0</td>\n",
       "      <td>0</td>\n",
       "      <td>...</td>\n",
       "      <td>-4.00</td>\n",
       "      <td>1</td>\n",
       "      <td>0</td>\n",
       "      <td>NaN</td>\n",
       "      <td>NaN</td>\n",
       "      <td>NaN</td>\n",
       "      <td>NaN</td>\n",
       "      <td>NaN</td>\n",
       "      <td>87848.018629</td>\n",
       "      <td>78550.73414</td>\n",
       "    </tr>\n",
       "    <tr>\n",
       "      <th>1156</th>\n",
       "      <td>1156</td>\n",
       "      <td>7824603</td>\n",
       "      <td>2</td>\n",
       "      <td>2013-01-01 19:00:00</td>\n",
       "      <td>5</td>\n",
       "      <td>-0.502476</td>\n",
       "      <td>2013-01-01 19:00:00</td>\n",
       "      <td>0</td>\n",
       "      <td>0</td>\n",
       "      <td>0</td>\n",
       "      <td>...</td>\n",
       "      <td>-2.75</td>\n",
       "      <td>1</td>\n",
       "      <td>0</td>\n",
       "      <td>NaN</td>\n",
       "      <td>NaN</td>\n",
       "      <td>NaN</td>\n",
       "      <td>NaN</td>\n",
       "      <td>NaN</td>\n",
       "      <td>87848.018629</td>\n",
       "      <td>78550.73414</td>\n",
       "    </tr>\n",
       "    <tr>\n",
       "      <th>1157</th>\n",
       "      <td>1157</td>\n",
       "      <td>1782630</td>\n",
       "      <td>2</td>\n",
       "      <td>2013-01-01 20:00:00</td>\n",
       "      <td>5</td>\n",
       "      <td>-0.783622</td>\n",
       "      <td>2013-01-01 20:00:00</td>\n",
       "      <td>0</td>\n",
       "      <td>0</td>\n",
       "      <td>0</td>\n",
       "      <td>...</td>\n",
       "      <td>-2.00</td>\n",
       "      <td>1</td>\n",
       "      <td>0</td>\n",
       "      <td>NaN</td>\n",
       "      <td>NaN</td>\n",
       "      <td>NaN</td>\n",
       "      <td>NaN</td>\n",
       "      <td>NaN</td>\n",
       "      <td>87848.018629</td>\n",
       "      <td>78550.73414</td>\n",
       "    </tr>\n",
       "    <tr>\n",
       "      <th>1158</th>\n",
       "      <td>1158</td>\n",
       "      <td>7737263</td>\n",
       "      <td>2</td>\n",
       "      <td>2013-01-01 21:00:00</td>\n",
       "      <td>5</td>\n",
       "      <td>-0.813876</td>\n",
       "      <td>2013-01-01 21:00:00</td>\n",
       "      <td>0</td>\n",
       "      <td>0</td>\n",
       "      <td>0</td>\n",
       "      <td>...</td>\n",
       "      <td>1.00</td>\n",
       "      <td>1</td>\n",
       "      <td>0</td>\n",
       "      <td>NaN</td>\n",
       "      <td>NaN</td>\n",
       "      <td>NaN</td>\n",
       "      <td>NaN</td>\n",
       "      <td>NaN</td>\n",
       "      <td>87848.018629</td>\n",
       "      <td>78550.73414</td>\n",
       "    </tr>\n",
       "    <tr>\n",
       "      <th>1159</th>\n",
       "      <td>1159</td>\n",
       "      <td>2705860</td>\n",
       "      <td>2</td>\n",
       "      <td>2013-01-01 22:00:00</td>\n",
       "      <td>5</td>\n",
       "      <td>-0.813880</td>\n",
       "      <td>2013-01-01 22:00:00</td>\n",
       "      <td>0</td>\n",
       "      <td>0</td>\n",
       "      <td>0</td>\n",
       "      <td>...</td>\n",
       "      <td>2.00</td>\n",
       "      <td>1</td>\n",
       "      <td>0</td>\n",
       "      <td>NaN</td>\n",
       "      <td>NaN</td>\n",
       "      <td>NaN</td>\n",
       "      <td>NaN</td>\n",
       "      <td>NaN</td>\n",
       "      <td>87848.018629</td>\n",
       "      <td>78550.73414</td>\n",
       "    </tr>\n",
       "    <tr>\n",
       "      <th>1160</th>\n",
       "      <td>1160</td>\n",
       "      <td>7294397</td>\n",
       "      <td>2</td>\n",
       "      <td>2013-01-01 23:00:00</td>\n",
       "      <td>5</td>\n",
       "      <td>-0.816880</td>\n",
       "      <td>2013-01-01 23:00:00</td>\n",
       "      <td>0</td>\n",
       "      <td>0</td>\n",
       "      <td>0</td>\n",
       "      <td>...</td>\n",
       "      <td>2.00</td>\n",
       "      <td>1</td>\n",
       "      <td>0</td>\n",
       "      <td>NaN</td>\n",
       "      <td>NaN</td>\n",
       "      <td>NaN</td>\n",
       "      <td>NaN</td>\n",
       "      <td>NaN</td>\n",
       "      <td>87848.018629</td>\n",
       "      <td>78550.73414</td>\n",
       "    </tr>\n",
       "    <tr>\n",
       "      <th>1161</th>\n",
       "      <td>1161</td>\n",
       "      <td>3338292</td>\n",
       "      <td>2</td>\n",
       "      <td>2013-01-02 00:00:00</td>\n",
       "      <td>5</td>\n",
       "      <td>-0.657141</td>\n",
       "      <td>2013-01-02 00:00:00</td>\n",
       "      <td>0</td>\n",
       "      <td>0</td>\n",
       "      <td>1</td>\n",
       "      <td>...</td>\n",
       "      <td>3.00</td>\n",
       "      <td>1</td>\n",
       "      <td>0</td>\n",
       "      <td>NaN</td>\n",
       "      <td>NaN</td>\n",
       "      <td>NaN</td>\n",
       "      <td>NaN</td>\n",
       "      <td>NaN</td>\n",
       "      <td>87848.018629</td>\n",
       "      <td>78550.73414</td>\n",
       "    </tr>\n",
       "    <tr>\n",
       "      <th>1162</th>\n",
       "      <td>1162</td>\n",
       "      <td>293134</td>\n",
       "      <td>2</td>\n",
       "      <td>2013-01-02 01:00:00</td>\n",
       "      <td>5</td>\n",
       "      <td>-0.608785</td>\n",
       "      <td>2013-01-02 01:00:00</td>\n",
       "      <td>0</td>\n",
       "      <td>0</td>\n",
       "      <td>1</td>\n",
       "      <td>...</td>\n",
       "      <td>3.00</td>\n",
       "      <td>1</td>\n",
       "      <td>0</td>\n",
       "      <td>NaN</td>\n",
       "      <td>NaN</td>\n",
       "      <td>NaN</td>\n",
       "      <td>NaN</td>\n",
       "      <td>NaN</td>\n",
       "      <td>87848.018629</td>\n",
       "      <td>78550.73414</td>\n",
       "    </tr>\n",
       "    <tr>\n",
       "      <th>1163</th>\n",
       "      <td>1163</td>\n",
       "      <td>5007811</td>\n",
       "      <td>2</td>\n",
       "      <td>2013-01-02 02:00:00</td>\n",
       "      <td>5</td>\n",
       "      <td>-0.643960</td>\n",
       "      <td>2013-01-02 02:00:00</td>\n",
       "      <td>0</td>\n",
       "      <td>0</td>\n",
       "      <td>1</td>\n",
       "      <td>...</td>\n",
       "      <td>3.00</td>\n",
       "      <td>1</td>\n",
       "      <td>0</td>\n",
       "      <td>NaN</td>\n",
       "      <td>NaN</td>\n",
       "      <td>NaN</td>\n",
       "      <td>NaN</td>\n",
       "      <td>NaN</td>\n",
       "      <td>87848.018629</td>\n",
       "      <td>78550.73414</td>\n",
       "    </tr>\n",
       "    <tr>\n",
       "      <th>1164</th>\n",
       "      <td>1164</td>\n",
       "      <td>2042349</td>\n",
       "      <td>2</td>\n",
       "      <td>2013-01-02 03:00:00</td>\n",
       "      <td>5</td>\n",
       "      <td>-0.643650</td>\n",
       "      <td>2013-01-02 03:00:00</td>\n",
       "      <td>0</td>\n",
       "      <td>0</td>\n",
       "      <td>1</td>\n",
       "      <td>...</td>\n",
       "      <td>3.00</td>\n",
       "      <td>1</td>\n",
       "      <td>0</td>\n",
       "      <td>NaN</td>\n",
       "      <td>NaN</td>\n",
       "      <td>NaN</td>\n",
       "      <td>NaN</td>\n",
       "      <td>NaN</td>\n",
       "      <td>87848.018629</td>\n",
       "      <td>78550.73414</td>\n",
       "    </tr>\n",
       "    <tr>\n",
       "      <th>1165</th>\n",
       "      <td>1165</td>\n",
       "      <td>7474455</td>\n",
       "      <td>2</td>\n",
       "      <td>2013-01-02 04:00:00</td>\n",
       "      <td>5</td>\n",
       "      <td>-0.653698</td>\n",
       "      <td>2013-01-02 04:00:00</td>\n",
       "      <td>0</td>\n",
       "      <td>0</td>\n",
       "      <td>1</td>\n",
       "      <td>...</td>\n",
       "      <td>4.05</td>\n",
       "      <td>1</td>\n",
       "      <td>0</td>\n",
       "      <td>NaN</td>\n",
       "      <td>NaN</td>\n",
       "      <td>NaN</td>\n",
       "      <td>NaN</td>\n",
       "      <td>NaN</td>\n",
       "      <td>87848.018629</td>\n",
       "      <td>78550.73414</td>\n",
       "    </tr>\n",
       "    <tr>\n",
       "      <th>1166</th>\n",
       "      <td>1166</td>\n",
       "      <td>6947678</td>\n",
       "      <td>2</td>\n",
       "      <td>2013-01-02 05:00:00</td>\n",
       "      <td>5</td>\n",
       "      <td>-0.664402</td>\n",
       "      <td>2013-01-02 05:00:00</td>\n",
       "      <td>0</td>\n",
       "      <td>0</td>\n",
       "      <td>1</td>\n",
       "      <td>...</td>\n",
       "      <td>3.00</td>\n",
       "      <td>1</td>\n",
       "      <td>0</td>\n",
       "      <td>NaN</td>\n",
       "      <td>NaN</td>\n",
       "      <td>NaN</td>\n",
       "      <td>NaN</td>\n",
       "      <td>NaN</td>\n",
       "      <td>87848.018629</td>\n",
       "      <td>78550.73414</td>\n",
       "    </tr>\n",
       "    <tr>\n",
       "      <th>1167</th>\n",
       "      <td>1167</td>\n",
       "      <td>2616559</td>\n",
       "      <td>2</td>\n",
       "      <td>2013-01-02 06:00:00</td>\n",
       "      <td>5</td>\n",
       "      <td>-0.598345</td>\n",
       "      <td>2013-01-02 06:00:00</td>\n",
       "      <td>0</td>\n",
       "      <td>0</td>\n",
       "      <td>1</td>\n",
       "      <td>...</td>\n",
       "      <td>3.00</td>\n",
       "      <td>1</td>\n",
       "      <td>0</td>\n",
       "      <td>NaN</td>\n",
       "      <td>NaN</td>\n",
       "      <td>NaN</td>\n",
       "      <td>NaN</td>\n",
       "      <td>NaN</td>\n",
       "      <td>87848.018629</td>\n",
       "      <td>78550.73414</td>\n",
       "    </tr>\n",
       "    <tr>\n",
       "      <th>...</th>\n",
       "      <td>...</td>\n",
       "      <td>...</td>\n",
       "      <td>...</td>\n",
       "      <td>...</td>\n",
       "      <td>...</td>\n",
       "      <td>...</td>\n",
       "      <td>...</td>\n",
       "      <td>...</td>\n",
       "      <td>...</td>\n",
       "      <td>...</td>\n",
       "      <td>...</td>\n",
       "      <td>...</td>\n",
       "      <td>...</td>\n",
       "      <td>...</td>\n",
       "      <td>...</td>\n",
       "      <td>...</td>\n",
       "      <td>...</td>\n",
       "      <td>...</td>\n",
       "      <td>...</td>\n",
       "      <td>...</td>\n",
       "      <td>...</td>\n",
       "    </tr>\n",
       "    <tr>\n",
       "      <th>2264</th>\n",
       "      <td>2264</td>\n",
       "      <td>3238361</td>\n",
       "      <td>2</td>\n",
       "      <td>2013-02-16 23:00:00</td>\n",
       "      <td>5</td>\n",
       "      <td>0.000000</td>\n",
       "      <td>2013-02-16 23:00:00</td>\n",
       "      <td>0</td>\n",
       "      <td>1</td>\n",
       "      <td>15</td>\n",
       "      <td>...</td>\n",
       "      <td>0.00</td>\n",
       "      <td>0</td>\n",
       "      <td>0</td>\n",
       "      <td>NaN</td>\n",
       "      <td>NaN</td>\n",
       "      <td>NaN</td>\n",
       "      <td>NaN</td>\n",
       "      <td>NaN</td>\n",
       "      <td>87848.018629</td>\n",
       "      <td>78550.73414</td>\n",
       "    </tr>\n",
       "    <tr>\n",
       "      <th>2265</th>\n",
       "      <td>2265</td>\n",
       "      <td>1769263</td>\n",
       "      <td>2</td>\n",
       "      <td>2013-02-17 00:00:00</td>\n",
       "      <td>5</td>\n",
       "      <td>0.000000</td>\n",
       "      <td>2013-02-17 00:00:00</td>\n",
       "      <td>0</td>\n",
       "      <td>1</td>\n",
       "      <td>16</td>\n",
       "      <td>...</td>\n",
       "      <td>0.00</td>\n",
       "      <td>0</td>\n",
       "      <td>0</td>\n",
       "      <td>NaN</td>\n",
       "      <td>NaN</td>\n",
       "      <td>NaN</td>\n",
       "      <td>NaN</td>\n",
       "      <td>NaN</td>\n",
       "      <td>87848.018629</td>\n",
       "      <td>78550.73414</td>\n",
       "    </tr>\n",
       "    <tr>\n",
       "      <th>2266</th>\n",
       "      <td>2266</td>\n",
       "      <td>846491</td>\n",
       "      <td>2</td>\n",
       "      <td>2013-02-17 01:00:00</td>\n",
       "      <td>5</td>\n",
       "      <td>0.000000</td>\n",
       "      <td>2013-02-17 01:00:00</td>\n",
       "      <td>0</td>\n",
       "      <td>1</td>\n",
       "      <td>16</td>\n",
       "      <td>...</td>\n",
       "      <td>0.00</td>\n",
       "      <td>0</td>\n",
       "      <td>0</td>\n",
       "      <td>NaN</td>\n",
       "      <td>NaN</td>\n",
       "      <td>NaN</td>\n",
       "      <td>NaN</td>\n",
       "      <td>NaN</td>\n",
       "      <td>87848.018629</td>\n",
       "      <td>78550.73414</td>\n",
       "    </tr>\n",
       "    <tr>\n",
       "      <th>2267</th>\n",
       "      <td>2267</td>\n",
       "      <td>2878872</td>\n",
       "      <td>2</td>\n",
       "      <td>2013-02-17 02:00:00</td>\n",
       "      <td>5</td>\n",
       "      <td>0.000000</td>\n",
       "      <td>2013-02-17 02:00:00</td>\n",
       "      <td>0</td>\n",
       "      <td>1</td>\n",
       "      <td>16</td>\n",
       "      <td>...</td>\n",
       "      <td>-1.00</td>\n",
       "      <td>0</td>\n",
       "      <td>0</td>\n",
       "      <td>NaN</td>\n",
       "      <td>NaN</td>\n",
       "      <td>NaN</td>\n",
       "      <td>NaN</td>\n",
       "      <td>NaN</td>\n",
       "      <td>87848.018629</td>\n",
       "      <td>78550.73414</td>\n",
       "    </tr>\n",
       "    <tr>\n",
       "      <th>2268</th>\n",
       "      <td>2268</td>\n",
       "      <td>177924</td>\n",
       "      <td>2</td>\n",
       "      <td>2013-02-17 03:00:00</td>\n",
       "      <td>5</td>\n",
       "      <td>0.000000</td>\n",
       "      <td>2013-02-17 03:00:00</td>\n",
       "      <td>0</td>\n",
       "      <td>1</td>\n",
       "      <td>16</td>\n",
       "      <td>...</td>\n",
       "      <td>-1.00</td>\n",
       "      <td>0</td>\n",
       "      <td>0</td>\n",
       "      <td>NaN</td>\n",
       "      <td>NaN</td>\n",
       "      <td>NaN</td>\n",
       "      <td>NaN</td>\n",
       "      <td>NaN</td>\n",
       "      <td>87848.018629</td>\n",
       "      <td>78550.73414</td>\n",
       "    </tr>\n",
       "    <tr>\n",
       "      <th>2269</th>\n",
       "      <td>2269</td>\n",
       "      <td>7152874</td>\n",
       "      <td>2</td>\n",
       "      <td>2013-02-17 04:00:00</td>\n",
       "      <td>5</td>\n",
       "      <td>0.000000</td>\n",
       "      <td>2013-02-17 04:00:00</td>\n",
       "      <td>0</td>\n",
       "      <td>1</td>\n",
       "      <td>16</td>\n",
       "      <td>...</td>\n",
       "      <td>0.05</td>\n",
       "      <td>0</td>\n",
       "      <td>0</td>\n",
       "      <td>NaN</td>\n",
       "      <td>NaN</td>\n",
       "      <td>NaN</td>\n",
       "      <td>NaN</td>\n",
       "      <td>NaN</td>\n",
       "      <td>87848.018629</td>\n",
       "      <td>78550.73414</td>\n",
       "    </tr>\n",
       "    <tr>\n",
       "      <th>2270</th>\n",
       "      <td>2270</td>\n",
       "      <td>6136229</td>\n",
       "      <td>2</td>\n",
       "      <td>2013-02-17 05:00:00</td>\n",
       "      <td>5</td>\n",
       "      <td>0.000000</td>\n",
       "      <td>2013-02-17 05:00:00</td>\n",
       "      <td>0</td>\n",
       "      <td>1</td>\n",
       "      <td>16</td>\n",
       "      <td>...</td>\n",
       "      <td>0.00</td>\n",
       "      <td>0</td>\n",
       "      <td>0</td>\n",
       "      <td>NaN</td>\n",
       "      <td>NaN</td>\n",
       "      <td>NaN</td>\n",
       "      <td>NaN</td>\n",
       "      <td>NaN</td>\n",
       "      <td>87848.018629</td>\n",
       "      <td>78550.73414</td>\n",
       "    </tr>\n",
       "    <tr>\n",
       "      <th>2271</th>\n",
       "      <td>2271</td>\n",
       "      <td>2436439</td>\n",
       "      <td>2</td>\n",
       "      <td>2013-02-17 06:00:00</td>\n",
       "      <td>5</td>\n",
       "      <td>0.000000</td>\n",
       "      <td>2013-02-17 06:00:00</td>\n",
       "      <td>0</td>\n",
       "      <td>1</td>\n",
       "      <td>16</td>\n",
       "      <td>...</td>\n",
       "      <td>0.00</td>\n",
       "      <td>0</td>\n",
       "      <td>0</td>\n",
       "      <td>NaN</td>\n",
       "      <td>NaN</td>\n",
       "      <td>NaN</td>\n",
       "      <td>NaN</td>\n",
       "      <td>NaN</td>\n",
       "      <td>87848.018629</td>\n",
       "      <td>78550.73414</td>\n",
       "    </tr>\n",
       "    <tr>\n",
       "      <th>2272</th>\n",
       "      <td>2272</td>\n",
       "      <td>2416660</td>\n",
       "      <td>2</td>\n",
       "      <td>2013-02-17 07:00:00</td>\n",
       "      <td>5</td>\n",
       "      <td>0.000000</td>\n",
       "      <td>2013-02-17 07:00:00</td>\n",
       "      <td>0</td>\n",
       "      <td>1</td>\n",
       "      <td>16</td>\n",
       "      <td>...</td>\n",
       "      <td>0.95</td>\n",
       "      <td>0</td>\n",
       "      <td>0</td>\n",
       "      <td>NaN</td>\n",
       "      <td>NaN</td>\n",
       "      <td>NaN</td>\n",
       "      <td>NaN</td>\n",
       "      <td>NaN</td>\n",
       "      <td>87848.018629</td>\n",
       "      <td>78550.73414</td>\n",
       "    </tr>\n",
       "    <tr>\n",
       "      <th>2273</th>\n",
       "      <td>2273</td>\n",
       "      <td>5065916</td>\n",
       "      <td>2</td>\n",
       "      <td>2013-02-17 08:00:00</td>\n",
       "      <td>5</td>\n",
       "      <td>0.000000</td>\n",
       "      <td>2013-02-17 08:00:00</td>\n",
       "      <td>0</td>\n",
       "      <td>1</td>\n",
       "      <td>16</td>\n",
       "      <td>...</td>\n",
       "      <td>0.00</td>\n",
       "      <td>0</td>\n",
       "      <td>0</td>\n",
       "      <td>NaN</td>\n",
       "      <td>NaN</td>\n",
       "      <td>NaN</td>\n",
       "      <td>NaN</td>\n",
       "      <td>NaN</td>\n",
       "      <td>87848.018629</td>\n",
       "      <td>78550.73414</td>\n",
       "    </tr>\n",
       "    <tr>\n",
       "      <th>2274</th>\n",
       "      <td>2274</td>\n",
       "      <td>6247370</td>\n",
       "      <td>2</td>\n",
       "      <td>2013-02-17 09:00:00</td>\n",
       "      <td>5</td>\n",
       "      <td>0.000000</td>\n",
       "      <td>2013-02-17 09:00:00</td>\n",
       "      <td>0</td>\n",
       "      <td>1</td>\n",
       "      <td>16</td>\n",
       "      <td>...</td>\n",
       "      <td>-1.00</td>\n",
       "      <td>0</td>\n",
       "      <td>0</td>\n",
       "      <td>NaN</td>\n",
       "      <td>NaN</td>\n",
       "      <td>NaN</td>\n",
       "      <td>NaN</td>\n",
       "      <td>NaN</td>\n",
       "      <td>87848.018629</td>\n",
       "      <td>78550.73414</td>\n",
       "    </tr>\n",
       "    <tr>\n",
       "      <th>2275</th>\n",
       "      <td>2275</td>\n",
       "      <td>3722134</td>\n",
       "      <td>2</td>\n",
       "      <td>2013-02-17 10:00:00</td>\n",
       "      <td>5</td>\n",
       "      <td>0.000000</td>\n",
       "      <td>2013-02-17 10:00:00</td>\n",
       "      <td>0</td>\n",
       "      <td>1</td>\n",
       "      <td>16</td>\n",
       "      <td>...</td>\n",
       "      <td>-2.00</td>\n",
       "      <td>0</td>\n",
       "      <td>0</td>\n",
       "      <td>NaN</td>\n",
       "      <td>NaN</td>\n",
       "      <td>NaN</td>\n",
       "      <td>NaN</td>\n",
       "      <td>NaN</td>\n",
       "      <td>87848.018629</td>\n",
       "      <td>78550.73414</td>\n",
       "    </tr>\n",
       "    <tr>\n",
       "      <th>2276</th>\n",
       "      <td>2276</td>\n",
       "      <td>5322018</td>\n",
       "      <td>2</td>\n",
       "      <td>2013-02-17 11:00:00</td>\n",
       "      <td>5</td>\n",
       "      <td>0.000000</td>\n",
       "      <td>2013-02-17 11:00:00</td>\n",
       "      <td>0</td>\n",
       "      <td>1</td>\n",
       "      <td>16</td>\n",
       "      <td>...</td>\n",
       "      <td>-3.00</td>\n",
       "      <td>0</td>\n",
       "      <td>0</td>\n",
       "      <td>NaN</td>\n",
       "      <td>NaN</td>\n",
       "      <td>NaN</td>\n",
       "      <td>NaN</td>\n",
       "      <td>NaN</td>\n",
       "      <td>87848.018629</td>\n",
       "      <td>78550.73414</td>\n",
       "    </tr>\n",
       "    <tr>\n",
       "      <th>2277</th>\n",
       "      <td>2277</td>\n",
       "      <td>732573</td>\n",
       "      <td>2</td>\n",
       "      <td>2013-02-17 12:00:00</td>\n",
       "      <td>5</td>\n",
       "      <td>0.000000</td>\n",
       "      <td>2013-02-17 12:00:00</td>\n",
       "      <td>0</td>\n",
       "      <td>1</td>\n",
       "      <td>16</td>\n",
       "      <td>...</td>\n",
       "      <td>-4.00</td>\n",
       "      <td>0</td>\n",
       "      <td>0</td>\n",
       "      <td>NaN</td>\n",
       "      <td>NaN</td>\n",
       "      <td>NaN</td>\n",
       "      <td>NaN</td>\n",
       "      <td>NaN</td>\n",
       "      <td>87848.018629</td>\n",
       "      <td>78550.73414</td>\n",
       "    </tr>\n",
       "    <tr>\n",
       "      <th>2278</th>\n",
       "      <td>2278</td>\n",
       "      <td>5725676</td>\n",
       "      <td>2</td>\n",
       "      <td>2013-02-17 13:00:00</td>\n",
       "      <td>5</td>\n",
       "      <td>0.000000</td>\n",
       "      <td>2013-02-17 13:00:00</td>\n",
       "      <td>0</td>\n",
       "      <td>1</td>\n",
       "      <td>16</td>\n",
       "      <td>...</td>\n",
       "      <td>-3.85</td>\n",
       "      <td>0</td>\n",
       "      <td>0</td>\n",
       "      <td>NaN</td>\n",
       "      <td>NaN</td>\n",
       "      <td>NaN</td>\n",
       "      <td>NaN</td>\n",
       "      <td>NaN</td>\n",
       "      <td>87848.018629</td>\n",
       "      <td>78550.73414</td>\n",
       "    </tr>\n",
       "    <tr>\n",
       "      <th>2279</th>\n",
       "      <td>2279</td>\n",
       "      <td>5575493</td>\n",
       "      <td>2</td>\n",
       "      <td>2013-02-17 14:00:00</td>\n",
       "      <td>5</td>\n",
       "      <td>0.000000</td>\n",
       "      <td>2013-02-17 14:00:00</td>\n",
       "      <td>0</td>\n",
       "      <td>1</td>\n",
       "      <td>16</td>\n",
       "      <td>...</td>\n",
       "      <td>-5.00</td>\n",
       "      <td>0</td>\n",
       "      <td>0</td>\n",
       "      <td>NaN</td>\n",
       "      <td>NaN</td>\n",
       "      <td>NaN</td>\n",
       "      <td>NaN</td>\n",
       "      <td>NaN</td>\n",
       "      <td>87848.018629</td>\n",
       "      <td>78550.73414</td>\n",
       "    </tr>\n",
       "    <tr>\n",
       "      <th>2280</th>\n",
       "      <td>2280</td>\n",
       "      <td>3962054</td>\n",
       "      <td>2</td>\n",
       "      <td>2013-02-17 15:00:00</td>\n",
       "      <td>5</td>\n",
       "      <td>0.000000</td>\n",
       "      <td>2013-02-17 15:00:00</td>\n",
       "      <td>0</td>\n",
       "      <td>1</td>\n",
       "      <td>16</td>\n",
       "      <td>...</td>\n",
       "      <td>-5.00</td>\n",
       "      <td>0</td>\n",
       "      <td>0</td>\n",
       "      <td>NaN</td>\n",
       "      <td>NaN</td>\n",
       "      <td>NaN</td>\n",
       "      <td>NaN</td>\n",
       "      <td>NaN</td>\n",
       "      <td>87848.018629</td>\n",
       "      <td>78550.73414</td>\n",
       "    </tr>\n",
       "    <tr>\n",
       "      <th>2281</th>\n",
       "      <td>2281</td>\n",
       "      <td>5644750</td>\n",
       "      <td>2</td>\n",
       "      <td>2013-02-17 16:00:00</td>\n",
       "      <td>5</td>\n",
       "      <td>0.000000</td>\n",
       "      <td>2013-02-17 16:00:00</td>\n",
       "      <td>0</td>\n",
       "      <td>1</td>\n",
       "      <td>16</td>\n",
       "      <td>...</td>\n",
       "      <td>-4.30</td>\n",
       "      <td>0</td>\n",
       "      <td>0</td>\n",
       "      <td>NaN</td>\n",
       "      <td>NaN</td>\n",
       "      <td>NaN</td>\n",
       "      <td>NaN</td>\n",
       "      <td>NaN</td>\n",
       "      <td>87848.018629</td>\n",
       "      <td>78550.73414</td>\n",
       "    </tr>\n",
       "    <tr>\n",
       "      <th>2282</th>\n",
       "      <td>2282</td>\n",
       "      <td>4180666</td>\n",
       "      <td>2</td>\n",
       "      <td>2013-02-17 17:00:00</td>\n",
       "      <td>5</td>\n",
       "      <td>0.000000</td>\n",
       "      <td>2013-02-17 17:00:00</td>\n",
       "      <td>0</td>\n",
       "      <td>1</td>\n",
       "      <td>16</td>\n",
       "      <td>...</td>\n",
       "      <td>-4.00</td>\n",
       "      <td>0</td>\n",
       "      <td>0</td>\n",
       "      <td>NaN</td>\n",
       "      <td>NaN</td>\n",
       "      <td>NaN</td>\n",
       "      <td>NaN</td>\n",
       "      <td>NaN</td>\n",
       "      <td>87848.018629</td>\n",
       "      <td>78550.73414</td>\n",
       "    </tr>\n",
       "    <tr>\n",
       "      <th>2283</th>\n",
       "      <td>2283</td>\n",
       "      <td>341896</td>\n",
       "      <td>2</td>\n",
       "      <td>2013-02-17 18:00:00</td>\n",
       "      <td>5</td>\n",
       "      <td>0.000000</td>\n",
       "      <td>2013-02-17 18:00:00</td>\n",
       "      <td>0</td>\n",
       "      <td>1</td>\n",
       "      <td>16</td>\n",
       "      <td>...</td>\n",
       "      <td>-4.00</td>\n",
       "      <td>0</td>\n",
       "      <td>0</td>\n",
       "      <td>NaN</td>\n",
       "      <td>NaN</td>\n",
       "      <td>NaN</td>\n",
       "      <td>NaN</td>\n",
       "      <td>NaN</td>\n",
       "      <td>87848.018629</td>\n",
       "      <td>78550.73414</td>\n",
       "    </tr>\n",
       "    <tr>\n",
       "      <th>2284</th>\n",
       "      <td>2284</td>\n",
       "      <td>6975547</td>\n",
       "      <td>2</td>\n",
       "      <td>2013-02-17 19:00:00</td>\n",
       "      <td>5</td>\n",
       "      <td>0.000000</td>\n",
       "      <td>2013-02-17 19:00:00</td>\n",
       "      <td>0</td>\n",
       "      <td>1</td>\n",
       "      <td>16</td>\n",
       "      <td>...</td>\n",
       "      <td>-2.75</td>\n",
       "      <td>0</td>\n",
       "      <td>0</td>\n",
       "      <td>NaN</td>\n",
       "      <td>NaN</td>\n",
       "      <td>NaN</td>\n",
       "      <td>NaN</td>\n",
       "      <td>NaN</td>\n",
       "      <td>87848.018629</td>\n",
       "      <td>78550.73414</td>\n",
       "    </tr>\n",
       "    <tr>\n",
       "      <th>2285</th>\n",
       "      <td>2285</td>\n",
       "      <td>2796074</td>\n",
       "      <td>2</td>\n",
       "      <td>2013-02-17 20:00:00</td>\n",
       "      <td>5</td>\n",
       "      <td>0.000000</td>\n",
       "      <td>2013-02-17 20:00:00</td>\n",
       "      <td>0</td>\n",
       "      <td>1</td>\n",
       "      <td>16</td>\n",
       "      <td>...</td>\n",
       "      <td>-1.00</td>\n",
       "      <td>0</td>\n",
       "      <td>0</td>\n",
       "      <td>NaN</td>\n",
       "      <td>NaN</td>\n",
       "      <td>NaN</td>\n",
       "      <td>NaN</td>\n",
       "      <td>NaN</td>\n",
       "      <td>87848.018629</td>\n",
       "      <td>78550.73414</td>\n",
       "    </tr>\n",
       "    <tr>\n",
       "      <th>2286</th>\n",
       "      <td>2286</td>\n",
       "      <td>2554016</td>\n",
       "      <td>2</td>\n",
       "      <td>2013-02-17 21:00:00</td>\n",
       "      <td>5</td>\n",
       "      <td>0.000000</td>\n",
       "      <td>2013-02-17 21:00:00</td>\n",
       "      <td>0</td>\n",
       "      <td>1</td>\n",
       "      <td>16</td>\n",
       "      <td>...</td>\n",
       "      <td>0.00</td>\n",
       "      <td>0</td>\n",
       "      <td>0</td>\n",
       "      <td>NaN</td>\n",
       "      <td>NaN</td>\n",
       "      <td>NaN</td>\n",
       "      <td>NaN</td>\n",
       "      <td>NaN</td>\n",
       "      <td>87848.018629</td>\n",
       "      <td>78550.73414</td>\n",
       "    </tr>\n",
       "    <tr>\n",
       "      <th>2287</th>\n",
       "      <td>2287</td>\n",
       "      <td>7384320</td>\n",
       "      <td>2</td>\n",
       "      <td>2013-02-17 22:00:00</td>\n",
       "      <td>5</td>\n",
       "      <td>0.000000</td>\n",
       "      <td>2013-02-17 22:00:00</td>\n",
       "      <td>0</td>\n",
       "      <td>1</td>\n",
       "      <td>16</td>\n",
       "      <td>...</td>\n",
       "      <td>-0.10</td>\n",
       "      <td>0</td>\n",
       "      <td>0</td>\n",
       "      <td>NaN</td>\n",
       "      <td>NaN</td>\n",
       "      <td>NaN</td>\n",
       "      <td>NaN</td>\n",
       "      <td>NaN</td>\n",
       "      <td>87848.018629</td>\n",
       "      <td>78550.73414</td>\n",
       "    </tr>\n",
       "    <tr>\n",
       "      <th>2288</th>\n",
       "      <td>2288</td>\n",
       "      <td>6025211</td>\n",
       "      <td>2</td>\n",
       "      <td>2013-02-17 23:00:00</td>\n",
       "      <td>5</td>\n",
       "      <td>0.000000</td>\n",
       "      <td>2013-02-17 23:00:00</td>\n",
       "      <td>0</td>\n",
       "      <td>1</td>\n",
       "      <td>16</td>\n",
       "      <td>...</td>\n",
       "      <td>1.00</td>\n",
       "      <td>0</td>\n",
       "      <td>0</td>\n",
       "      <td>NaN</td>\n",
       "      <td>NaN</td>\n",
       "      <td>NaN</td>\n",
       "      <td>NaN</td>\n",
       "      <td>NaN</td>\n",
       "      <td>87848.018629</td>\n",
       "      <td>78550.73414</td>\n",
       "    </tr>\n",
       "    <tr>\n",
       "      <th>2289</th>\n",
       "      <td>2289</td>\n",
       "      <td>3187391</td>\n",
       "      <td>2</td>\n",
       "      <td>2013-02-18 00:00:00</td>\n",
       "      <td>5</td>\n",
       "      <td>0.000000</td>\n",
       "      <td>2013-02-18 00:00:00</td>\n",
       "      <td>0</td>\n",
       "      <td>1</td>\n",
       "      <td>17</td>\n",
       "      <td>...</td>\n",
       "      <td>1.00</td>\n",
       "      <td>0</td>\n",
       "      <td>0</td>\n",
       "      <td>NaN</td>\n",
       "      <td>NaN</td>\n",
       "      <td>NaN</td>\n",
       "      <td>NaN</td>\n",
       "      <td>NaN</td>\n",
       "      <td>87848.018629</td>\n",
       "      <td>78550.73414</td>\n",
       "    </tr>\n",
       "    <tr>\n",
       "      <th>2290</th>\n",
       "      <td>2290</td>\n",
       "      <td>837600</td>\n",
       "      <td>2</td>\n",
       "      <td>2013-02-18 01:00:00</td>\n",
       "      <td>5</td>\n",
       "      <td>0.000000</td>\n",
       "      <td>2013-02-18 01:00:00</td>\n",
       "      <td>0</td>\n",
       "      <td>1</td>\n",
       "      <td>17</td>\n",
       "      <td>...</td>\n",
       "      <td>1.15</td>\n",
       "      <td>0</td>\n",
       "      <td>0</td>\n",
       "      <td>NaN</td>\n",
       "      <td>NaN</td>\n",
       "      <td>NaN</td>\n",
       "      <td>NaN</td>\n",
       "      <td>NaN</td>\n",
       "      <td>87848.018629</td>\n",
       "      <td>78550.73414</td>\n",
       "    </tr>\n",
       "    <tr>\n",
       "      <th>2291</th>\n",
       "      <td>2291</td>\n",
       "      <td>4184013</td>\n",
       "      <td>2</td>\n",
       "      <td>2013-02-18 02:00:00</td>\n",
       "      <td>5</td>\n",
       "      <td>0.000000</td>\n",
       "      <td>2013-02-18 02:00:00</td>\n",
       "      <td>0</td>\n",
       "      <td>1</td>\n",
       "      <td>17</td>\n",
       "      <td>...</td>\n",
       "      <td>1.00</td>\n",
       "      <td>0</td>\n",
       "      <td>0</td>\n",
       "      <td>NaN</td>\n",
       "      <td>NaN</td>\n",
       "      <td>NaN</td>\n",
       "      <td>NaN</td>\n",
       "      <td>NaN</td>\n",
       "      <td>87848.018629</td>\n",
       "      <td>78550.73414</td>\n",
       "    </tr>\n",
       "    <tr>\n",
       "      <th>2292</th>\n",
       "      <td>2292</td>\n",
       "      <td>6084849</td>\n",
       "      <td>2</td>\n",
       "      <td>2013-02-18 03:00:00</td>\n",
       "      <td>5</td>\n",
       "      <td>0.000000</td>\n",
       "      <td>2013-02-18 03:00:00</td>\n",
       "      <td>0</td>\n",
       "      <td>1</td>\n",
       "      <td>17</td>\n",
       "      <td>...</td>\n",
       "      <td>1.00</td>\n",
       "      <td>0</td>\n",
       "      <td>0</td>\n",
       "      <td>NaN</td>\n",
       "      <td>NaN</td>\n",
       "      <td>NaN</td>\n",
       "      <td>NaN</td>\n",
       "      <td>NaN</td>\n",
       "      <td>87848.018629</td>\n",
       "      <td>78550.73414</td>\n",
       "    </tr>\n",
       "    <tr>\n",
       "      <th>2293</th>\n",
       "      <td>2293</td>\n",
       "      <td>2348713</td>\n",
       "      <td>2</td>\n",
       "      <td>2013-02-18 04:00:00</td>\n",
       "      <td>5</td>\n",
       "      <td>0.000000</td>\n",
       "      <td>2013-02-18 04:00:00</td>\n",
       "      <td>0</td>\n",
       "      <td>1</td>\n",
       "      <td>17</td>\n",
       "      <td>...</td>\n",
       "      <td>1.95</td>\n",
       "      <td>0</td>\n",
       "      <td>0</td>\n",
       "      <td>NaN</td>\n",
       "      <td>NaN</td>\n",
       "      <td>NaN</td>\n",
       "      <td>NaN</td>\n",
       "      <td>NaN</td>\n",
       "      <td>87848.018629</td>\n",
       "      <td>78550.73414</td>\n",
       "    </tr>\n",
       "  </tbody>\n",
       "</table>\n",
       "<p>1156 rows × 31 columns</p>\n",
       "</div>"
      ],
      "text/plain": [
       "      index   obs_id  SiteId           Timestamp  ForecastId     Value  \\\n",
       "1138   1138  4382312       2 2013-01-01 01:00:00           5 -0.734405   \n",
       "1139   1139  2016541       2 2013-01-01 02:00:00           5 -0.739070   \n",
       "1140   1140    78869       2 2013-01-01 03:00:00           5 -0.715023   \n",
       "1141   1141  1361014       2 2013-01-01 04:00:00           5 -0.737946   \n",
       "1142   1142   129169       2 2013-01-01 05:00:00           5 -0.729308   \n",
       "1143   1143  1950837       2 2013-01-01 06:00:00           5 -0.716036   \n",
       "1144   1144  2016591       2 2013-01-01 07:00:00           5 -0.706406   \n",
       "1145   1145  3251271       2 2013-01-01 08:00:00           5 -0.651349   \n",
       "1146   1146  2457410       2 2013-01-01 09:00:00           5 -0.476465   \n",
       "1147   1147  2038868       2 2013-01-01 10:00:00           5 -0.398361   \n",
       "1148   1148  2790038       2 2013-01-01 11:00:00           5 -0.306063   \n",
       "1149   1149  7748640       2 2013-01-01 12:00:00           5 -0.367354   \n",
       "1150   1150  1781671       2 2013-01-01 13:00:00           5 -0.330876   \n",
       "1151   1151  4135987       2 2013-01-01 14:00:00           5 -0.250679   \n",
       "1152   1152   862990       2 2013-01-01 15:00:00           5 -0.275897   \n",
       "1153   1153  4798716       2 2013-01-01 16:00:00           5 -0.414759   \n",
       "1154   1154  6977068       2 2013-01-01 17:00:00           5 -0.466629   \n",
       "1155   1155  4217319       2 2013-01-01 18:00:00           5 -0.417483   \n",
       "1156   1156  7824603       2 2013-01-01 19:00:00           5 -0.502476   \n",
       "1157   1157  1782630       2 2013-01-01 20:00:00           5 -0.783622   \n",
       "1158   1158  7737263       2 2013-01-01 21:00:00           5 -0.813876   \n",
       "1159   1159  2705860       2 2013-01-01 22:00:00           5 -0.813880   \n",
       "1160   1160  7294397       2 2013-01-01 23:00:00           5 -0.816880   \n",
       "1161   1161  3338292       2 2013-01-02 00:00:00           5 -0.657141   \n",
       "1162   1162   293134       2 2013-01-02 01:00:00           5 -0.608785   \n",
       "1163   1163  5007811       2 2013-01-02 02:00:00           5 -0.643960   \n",
       "1164   1164  2042349       2 2013-01-02 03:00:00           5 -0.643650   \n",
       "1165   1165  7474455       2 2013-01-02 04:00:00           5 -0.653698   \n",
       "1166   1166  6947678       2 2013-01-02 05:00:00           5 -0.664402   \n",
       "1167   1167  2616559       2 2013-01-02 06:00:00           5 -0.598345   \n",
       "...     ...      ...     ...                 ...         ...       ...   \n",
       "2264   2264  3238361       2 2013-02-16 23:00:00           5  0.000000   \n",
       "2265   2265  1769263       2 2013-02-17 00:00:00           5  0.000000   \n",
       "2266   2266   846491       2 2013-02-17 01:00:00           5  0.000000   \n",
       "2267   2267  2878872       2 2013-02-17 02:00:00           5  0.000000   \n",
       "2268   2268   177924       2 2013-02-17 03:00:00           5  0.000000   \n",
       "2269   2269  7152874       2 2013-02-17 04:00:00           5  0.000000   \n",
       "2270   2270  6136229       2 2013-02-17 05:00:00           5  0.000000   \n",
       "2271   2271  2436439       2 2013-02-17 06:00:00           5  0.000000   \n",
       "2272   2272  2416660       2 2013-02-17 07:00:00           5  0.000000   \n",
       "2273   2273  5065916       2 2013-02-17 08:00:00           5  0.000000   \n",
       "2274   2274  6247370       2 2013-02-17 09:00:00           5  0.000000   \n",
       "2275   2275  3722134       2 2013-02-17 10:00:00           5  0.000000   \n",
       "2276   2276  5322018       2 2013-02-17 11:00:00           5  0.000000   \n",
       "2277   2277   732573       2 2013-02-17 12:00:00           5  0.000000   \n",
       "2278   2278  5725676       2 2013-02-17 13:00:00           5  0.000000   \n",
       "2279   2279  5575493       2 2013-02-17 14:00:00           5  0.000000   \n",
       "2280   2280  3962054       2 2013-02-17 15:00:00           5  0.000000   \n",
       "2281   2281  5644750       2 2013-02-17 16:00:00           5  0.000000   \n",
       "2282   2282  4180666       2 2013-02-17 17:00:00           5  0.000000   \n",
       "2283   2283   341896       2 2013-02-17 18:00:00           5  0.000000   \n",
       "2284   2284  6975547       2 2013-02-17 19:00:00           5  0.000000   \n",
       "2285   2285  2796074       2 2013-02-17 20:00:00           5  0.000000   \n",
       "2286   2286  2554016       2 2013-02-17 21:00:00           5  0.000000   \n",
       "2287   2287  7384320       2 2013-02-17 22:00:00           5  0.000000   \n",
       "2288   2288  6025211       2 2013-02-17 23:00:00           5  0.000000   \n",
       "2289   2289  3187391       2 2013-02-18 00:00:00           5  0.000000   \n",
       "2290   2290   837600       2 2013-02-18 01:00:00           5  0.000000   \n",
       "2291   2291  4184013       2 2013-02-18 02:00:00           5  0.000000   \n",
       "2292   2292  6084849       2 2013-02-18 03:00:00           5  0.000000   \n",
       "2293   2293  2348713       2 2013-02-18 04:00:00           5  0.000000   \n",
       "\n",
       "                      ts  year  month  day     ...       temp_diff  is_train  \\\n",
       "1138 2013-01-01 01:00:00     0      0    0     ...           19.00         1   \n",
       "1139 2013-01-01 02:00:00     0      0    0     ...           19.00         1   \n",
       "1140 2013-01-01 03:00:00     0      0    0     ...           19.00         1   \n",
       "1141 2013-01-01 04:00:00     0      0    0     ...           19.00         1   \n",
       "1142 2013-01-01 05:00:00     0      0    0     ...           19.00         1   \n",
       "1143 2013-01-01 06:00:00     0      0    0     ...           19.00         1   \n",
       "1144 2013-01-01 07:00:00     0      0    0     ...           19.00         1   \n",
       "1145 2013-01-01 08:00:00     0      0    0     ...           19.00         1   \n",
       "1146 2013-01-01 09:00:00     0      0    0     ...           19.00         1   \n",
       "1147 2013-01-01 10:00:00     0      0    0     ...           19.00         1   \n",
       "1148 2013-01-01 11:00:00     0      0    0     ...           19.00         1   \n",
       "1149 2013-01-01 12:00:00     0      0    0     ...           19.00         1   \n",
       "1150 2013-01-01 13:00:00     0      0    0     ...           -3.85         1   \n",
       "1151 2013-01-01 14:00:00     0      0    0     ...           -4.00         1   \n",
       "1152 2013-01-01 15:00:00     0      0    0     ...           -4.00         1   \n",
       "1153 2013-01-01 16:00:00     0      0    0     ...           -4.70         1   \n",
       "1154 2013-01-01 17:00:00     0      0    0     ...           -4.00         1   \n",
       "1155 2013-01-01 18:00:00     0      0    0     ...           -4.00         1   \n",
       "1156 2013-01-01 19:00:00     0      0    0     ...           -2.75         1   \n",
       "1157 2013-01-01 20:00:00     0      0    0     ...           -2.00         1   \n",
       "1158 2013-01-01 21:00:00     0      0    0     ...            1.00         1   \n",
       "1159 2013-01-01 22:00:00     0      0    0     ...            2.00         1   \n",
       "1160 2013-01-01 23:00:00     0      0    0     ...            2.00         1   \n",
       "1161 2013-01-02 00:00:00     0      0    1     ...            3.00         1   \n",
       "1162 2013-01-02 01:00:00     0      0    1     ...            3.00         1   \n",
       "1163 2013-01-02 02:00:00     0      0    1     ...            3.00         1   \n",
       "1164 2013-01-02 03:00:00     0      0    1     ...            3.00         1   \n",
       "1165 2013-01-02 04:00:00     0      0    1     ...            4.05         1   \n",
       "1166 2013-01-02 05:00:00     0      0    1     ...            3.00         1   \n",
       "1167 2013-01-02 06:00:00     0      0    1     ...            3.00         1   \n",
       "...                  ...   ...    ...  ...     ...             ...       ...   \n",
       "2264 2013-02-16 23:00:00     0      1   15     ...            0.00         0   \n",
       "2265 2013-02-17 00:00:00     0      1   16     ...            0.00         0   \n",
       "2266 2013-02-17 01:00:00     0      1   16     ...            0.00         0   \n",
       "2267 2013-02-17 02:00:00     0      1   16     ...           -1.00         0   \n",
       "2268 2013-02-17 03:00:00     0      1   16     ...           -1.00         0   \n",
       "2269 2013-02-17 04:00:00     0      1   16     ...            0.05         0   \n",
       "2270 2013-02-17 05:00:00     0      1   16     ...            0.00         0   \n",
       "2271 2013-02-17 06:00:00     0      1   16     ...            0.00         0   \n",
       "2272 2013-02-17 07:00:00     0      1   16     ...            0.95         0   \n",
       "2273 2013-02-17 08:00:00     0      1   16     ...            0.00         0   \n",
       "2274 2013-02-17 09:00:00     0      1   16     ...           -1.00         0   \n",
       "2275 2013-02-17 10:00:00     0      1   16     ...           -2.00         0   \n",
       "2276 2013-02-17 11:00:00     0      1   16     ...           -3.00         0   \n",
       "2277 2013-02-17 12:00:00     0      1   16     ...           -4.00         0   \n",
       "2278 2013-02-17 13:00:00     0      1   16     ...           -3.85         0   \n",
       "2279 2013-02-17 14:00:00     0      1   16     ...           -5.00         0   \n",
       "2280 2013-02-17 15:00:00     0      1   16     ...           -5.00         0   \n",
       "2281 2013-02-17 16:00:00     0      1   16     ...           -4.30         0   \n",
       "2282 2013-02-17 17:00:00     0      1   16     ...           -4.00         0   \n",
       "2283 2013-02-17 18:00:00     0      1   16     ...           -4.00         0   \n",
       "2284 2013-02-17 19:00:00     0      1   16     ...           -2.75         0   \n",
       "2285 2013-02-17 20:00:00     0      1   16     ...           -1.00         0   \n",
       "2286 2013-02-17 21:00:00     0      1   16     ...            0.00         0   \n",
       "2287 2013-02-17 22:00:00     0      1   16     ...           -0.10         0   \n",
       "2288 2013-02-17 23:00:00     0      1   16     ...            1.00         0   \n",
       "2289 2013-02-18 00:00:00     0      1   17     ...            1.00         0   \n",
       "2290 2013-02-18 01:00:00     0      1   17     ...            1.15         0   \n",
       "2291 2013-02-18 02:00:00     0      1   17     ...            1.00         0   \n",
       "2292 2013-02-18 03:00:00     0      1   17     ...            1.00         0   \n",
       "2293 2013-02-18 04:00:00     0      1   17     ...            1.95         0   \n",
       "\n",
       "      is_null  Value1 Value4  Value12  Value96  Value672          mean  \\\n",
       "1138        0     NaN    NaN      NaN      NaN       NaN  87848.018629   \n",
       "1139        0     NaN    NaN      NaN      NaN       NaN  87848.018629   \n",
       "1140        0     NaN    NaN      NaN      NaN       NaN  87848.018629   \n",
       "1141        0     NaN    NaN      NaN      NaN       NaN  87848.018629   \n",
       "1142        0     NaN    NaN      NaN      NaN       NaN  87848.018629   \n",
       "1143        0     NaN    NaN      NaN      NaN       NaN  87848.018629   \n",
       "1144        0     NaN    NaN      NaN      NaN       NaN  87848.018629   \n",
       "1145        0     NaN    NaN      NaN      NaN       NaN  87848.018629   \n",
       "1146        0     NaN    NaN      NaN      NaN       NaN  87848.018629   \n",
       "1147        0     NaN    NaN      NaN      NaN       NaN  87848.018629   \n",
       "1148        0     NaN    NaN      NaN      NaN       NaN  87848.018629   \n",
       "1149        0     NaN    NaN      NaN      NaN       NaN  87848.018629   \n",
       "1150        0     NaN    NaN      NaN      NaN       NaN  87848.018629   \n",
       "1151        0     NaN    NaN      NaN      NaN       NaN  87848.018629   \n",
       "1152        0     NaN    NaN      NaN      NaN       NaN  87848.018629   \n",
       "1153        0     NaN    NaN      NaN      NaN       NaN  87848.018629   \n",
       "1154        0     NaN    NaN      NaN      NaN       NaN  87848.018629   \n",
       "1155        0     NaN    NaN      NaN      NaN       NaN  87848.018629   \n",
       "1156        0     NaN    NaN      NaN      NaN       NaN  87848.018629   \n",
       "1157        0     NaN    NaN      NaN      NaN       NaN  87848.018629   \n",
       "1158        0     NaN    NaN      NaN      NaN       NaN  87848.018629   \n",
       "1159        0     NaN    NaN      NaN      NaN       NaN  87848.018629   \n",
       "1160        0     NaN    NaN      NaN      NaN       NaN  87848.018629   \n",
       "1161        0     NaN    NaN      NaN      NaN       NaN  87848.018629   \n",
       "1162        0     NaN    NaN      NaN      NaN       NaN  87848.018629   \n",
       "1163        0     NaN    NaN      NaN      NaN       NaN  87848.018629   \n",
       "1164        0     NaN    NaN      NaN      NaN       NaN  87848.018629   \n",
       "1165        0     NaN    NaN      NaN      NaN       NaN  87848.018629   \n",
       "1166        0     NaN    NaN      NaN      NaN       NaN  87848.018629   \n",
       "1167        0     NaN    NaN      NaN      NaN       NaN  87848.018629   \n",
       "...       ...     ...    ...      ...      ...       ...           ...   \n",
       "2264        0     NaN    NaN      NaN      NaN       NaN  87848.018629   \n",
       "2265        0     NaN    NaN      NaN      NaN       NaN  87848.018629   \n",
       "2266        0     NaN    NaN      NaN      NaN       NaN  87848.018629   \n",
       "2267        0     NaN    NaN      NaN      NaN       NaN  87848.018629   \n",
       "2268        0     NaN    NaN      NaN      NaN       NaN  87848.018629   \n",
       "2269        0     NaN    NaN      NaN      NaN       NaN  87848.018629   \n",
       "2270        0     NaN    NaN      NaN      NaN       NaN  87848.018629   \n",
       "2271        0     NaN    NaN      NaN      NaN       NaN  87848.018629   \n",
       "2272        0     NaN    NaN      NaN      NaN       NaN  87848.018629   \n",
       "2273        0     NaN    NaN      NaN      NaN       NaN  87848.018629   \n",
       "2274        0     NaN    NaN      NaN      NaN       NaN  87848.018629   \n",
       "2275        0     NaN    NaN      NaN      NaN       NaN  87848.018629   \n",
       "2276        0     NaN    NaN      NaN      NaN       NaN  87848.018629   \n",
       "2277        0     NaN    NaN      NaN      NaN       NaN  87848.018629   \n",
       "2278        0     NaN    NaN      NaN      NaN       NaN  87848.018629   \n",
       "2279        0     NaN    NaN      NaN      NaN       NaN  87848.018629   \n",
       "2280        0     NaN    NaN      NaN      NaN       NaN  87848.018629   \n",
       "2281        0     NaN    NaN      NaN      NaN       NaN  87848.018629   \n",
       "2282        0     NaN    NaN      NaN      NaN       NaN  87848.018629   \n",
       "2283        0     NaN    NaN      NaN      NaN       NaN  87848.018629   \n",
       "2284        0     NaN    NaN      NaN      NaN       NaN  87848.018629   \n",
       "2285        0     NaN    NaN      NaN      NaN       NaN  87848.018629   \n",
       "2286        0     NaN    NaN      NaN      NaN       NaN  87848.018629   \n",
       "2287        0     NaN    NaN      NaN      NaN       NaN  87848.018629   \n",
       "2288        0     NaN    NaN      NaN      NaN       NaN  87848.018629   \n",
       "2289        0     NaN    NaN      NaN      NaN       NaN  87848.018629   \n",
       "2290        0     NaN    NaN      NaN      NaN       NaN  87848.018629   \n",
       "2291        0     NaN    NaN      NaN      NaN       NaN  87848.018629   \n",
       "2292        0     NaN    NaN      NaN      NaN       NaN  87848.018629   \n",
       "2293        0     NaN    NaN      NaN      NaN       NaN  87848.018629   \n",
       "\n",
       "              std  \n",
       "1138  78550.73414  \n",
       "1139  78550.73414  \n",
       "1140  78550.73414  \n",
       "1141  78550.73414  \n",
       "1142  78550.73414  \n",
       "1143  78550.73414  \n",
       "1144  78550.73414  \n",
       "1145  78550.73414  \n",
       "1146  78550.73414  \n",
       "1147  78550.73414  \n",
       "1148  78550.73414  \n",
       "1149  78550.73414  \n",
       "1150  78550.73414  \n",
       "1151  78550.73414  \n",
       "1152  78550.73414  \n",
       "1153  78550.73414  \n",
       "1154  78550.73414  \n",
       "1155  78550.73414  \n",
       "1156  78550.73414  \n",
       "1157  78550.73414  \n",
       "1158  78550.73414  \n",
       "1159  78550.73414  \n",
       "1160  78550.73414  \n",
       "1161  78550.73414  \n",
       "1162  78550.73414  \n",
       "1163  78550.73414  \n",
       "1164  78550.73414  \n",
       "1165  78550.73414  \n",
       "1166  78550.73414  \n",
       "1167  78550.73414  \n",
       "...           ...  \n",
       "2264  78550.73414  \n",
       "2265  78550.73414  \n",
       "2266  78550.73414  \n",
       "2267  78550.73414  \n",
       "2268  78550.73414  \n",
       "2269  78550.73414  \n",
       "2270  78550.73414  \n",
       "2271  78550.73414  \n",
       "2272  78550.73414  \n",
       "2273  78550.73414  \n",
       "2274  78550.73414  \n",
       "2275  78550.73414  \n",
       "2276  78550.73414  \n",
       "2277  78550.73414  \n",
       "2278  78550.73414  \n",
       "2279  78550.73414  \n",
       "2280  78550.73414  \n",
       "2281  78550.73414  \n",
       "2282  78550.73414  \n",
       "2283  78550.73414  \n",
       "2284  78550.73414  \n",
       "2285  78550.73414  \n",
       "2286  78550.73414  \n",
       "2287  78550.73414  \n",
       "2288  78550.73414  \n",
       "2289  78550.73414  \n",
       "2290  78550.73414  \n",
       "2291  78550.73414  \n",
       "2292  78550.73414  \n",
       "2293  78550.73414  \n",
       "\n",
       "[1156 rows x 31 columns]"
      ]
     },
     "execution_count": 61,
     "metadata": {},
     "output_type": "execute_result"
    }
   ],
   "source": [
    "predict_dataset.df[predict_dataset.df.ForecastId == predict_dataset.forecast_ids[0]]"
   ]
  },
  {
   "cell_type": "code",
   "execution_count": 29,
   "metadata": {
    "ExecuteTime": {
     "end_time": "2018-03-21T05:51:57.468047Z",
     "start_time": "2018-03-21T05:51:57.461728Z"
    }
   },
   "outputs": [
    {
     "data": {
      "text/plain": [
       "torch.Size([100, 384, 7])"
      ]
     },
     "execution_count": 29,
     "metadata": {},
     "output_type": "execute_result"
    }
   ],
   "source": [
    "X_sequences_meta.size()"
   ]
  },
  {
   "cell_type": "code",
   "execution_count": 28,
   "metadata": {
    "ExecuteTime": {
     "end_time": "2018-03-21T05:51:54.214022Z",
     "start_time": "2018-03-21T05:51:49.623385Z"
    }
   },
   "outputs": [],
   "source": [
    "model_15m.eval()\n",
    "\n",
    "for i, (X_sequences_ar,X_sequences_meta,y_sequences) in enumerate(predict_loader):\n",
    "\n",
    "    # transform data from Batch x Window x Etc into Batch x Etc format\n",
    "    # no tranformation required since only 1 batch per series is sourced\n",
    "    # X_sequences_meta = X_sequences_meta.view(-1,X_sequences_meta.size(2),X_sequences_meta.size(3))\n",
    "    # X_sequences_ar = X_sequences_ar.view(-1,X_sequences_ar.size(2),1).float()\n",
    "    # y_sequences = y_sequences.view(-1,y_sequences.size(2)).float()\n",
    "    # modify here\n",
    "    X_sequences_temp = X_sequences_meta[:,:,0:5].float()\n",
    "    X_sequences_meta = X_sequences_meta[:,:,5:].long()\n",
    "\n",
    "    x_temp_var = torch.autograd.Variable(X_sequences_temp.cuda(async=True))\n",
    "    x_meta_var = torch.autograd.Variable(X_sequences_meta.cuda(async=True))\n",
    "    x_ar_var = torch.autograd.Variable(X_sequences_ar.cuda(async=True))\n",
    "    # y_var = torch.autograd.Variable(y_sequences.cuda(async=True))\n",
    "\n",
    "    # compute output\n",
    "    # output = model(x_temp_var,x_meta_var,x_ar_var)\n",
    "    break"
   ]
  },
  {
   "cell_type": "code",
   "execution_count": 32,
   "metadata": {
    "ExecuteTime": {
     "end_time": "2018-03-21T05:52:21.203966Z",
     "start_time": "2018-03-21T05:52:21.197425Z"
    }
   },
   "outputs": [
    {
     "data": {
      "text/plain": [
       "(torch.Size([100, 384, 5]), torch.Size([100, 384, 7]), torch.Size([100, 192]))"
      ]
     },
     "execution_count": 32,
     "metadata": {},
     "output_type": "execute_result"
    }
   ],
   "source": [
    "x_temp_var.size(),x_meta_var.size(),x_ar_var.size()"
   ]
  },
  {
   "cell_type": "code",
   "execution_count": 47,
   "metadata": {
    "ExecuteTime": {
     "end_time": "2018-03-21T05:55:01.389920Z",
     "start_time": "2018-03-21T05:55:01.365551Z"
    }
   },
   "outputs": [
    {
     "data": {
      "text/plain": [
       "Variable containing:\n",
       "nan\n",
       "nan\n",
       "nan\n",
       "nan\n",
       "nan\n",
       "nan\n",
       "nan\n",
       "nan\n",
       "nan\n",
       "nan\n",
       "nan\n",
       "nan\n",
       "nan\n",
       "nan\n",
       "nan\n",
       "nan\n",
       "nan\n",
       "nan\n",
       "nan\n",
       "nan\n",
       "nan\n",
       "nan\n",
       "nan\n",
       "nan\n",
       "nan\n",
       "nan\n",
       "nan\n",
       "nan\n",
       "nan\n",
       "nan\n",
       "nan\n",
       "nan\n",
       "nan\n",
       "nan\n",
       "nan\n",
       "nan\n",
       "nan\n",
       "nan\n",
       "nan\n",
       "nan\n",
       "nan\n",
       "nan\n",
       "nan\n",
       "nan\n",
       "nan\n",
       "nan\n",
       "nan\n",
       "nan\n",
       "nan\n",
       "nan\n",
       "nan\n",
       "nan\n",
       "nan\n",
       "nan\n",
       "nan\n",
       "nan\n",
       "nan\n",
       "nan\n",
       "nan\n",
       "nan\n",
       "nan\n",
       "nan\n",
       "nan\n",
       "nan\n",
       "nan\n",
       "nan\n",
       "nan\n",
       "nan\n",
       "nan\n",
       "nan\n",
       "nan\n",
       "nan\n",
       "nan\n",
       "nan\n",
       "nan\n",
       "nan\n",
       "nan\n",
       "nan\n",
       "nan\n",
       "nan\n",
       "nan\n",
       "nan\n",
       "nan\n",
       "nan\n",
       "nan\n",
       "nan\n",
       "nan\n",
       "nan\n",
       "nan\n",
       "nan\n",
       "nan\n",
       "nan\n",
       "nan\n",
       "nan\n",
       "nan\n",
       "nan\n",
       "nan\n",
       "nan\n",
       "nan\n",
       "nan\n",
       "nan\n",
       "nan\n",
       "nan\n",
       "nan\n",
       "nan\n",
       "nan\n",
       "nan\n",
       "nan\n",
       "nan\n",
       "nan\n",
       "nan\n",
       "nan\n",
       "nan\n",
       "nan\n",
       "nan\n",
       "nan\n",
       "nan\n",
       "nan\n",
       "nan\n",
       "nan\n",
       "nan\n",
       "nan\n",
       "nan\n",
       "nan\n",
       "nan\n",
       "nan\n",
       "nan\n",
       "nan\n",
       "nan\n",
       "nan\n",
       "nan\n",
       "nan\n",
       "nan\n",
       "nan\n",
       "nan\n",
       "nan\n",
       "nan\n",
       "nan\n",
       "nan\n",
       "nan\n",
       "nan\n",
       "nan\n",
       "nan\n",
       "nan\n",
       "nan\n",
       "nan\n",
       "nan\n",
       "nan\n",
       "nan\n",
       "nan\n",
       "nan\n",
       "nan\n",
       "nan\n",
       "nan\n",
       "nan\n",
       "nan\n",
       "nan\n",
       "nan\n",
       "nan\n",
       "nan\n",
       "nan\n",
       "nan\n",
       "nan\n",
       "nan\n",
       "nan\n",
       "nan\n",
       "nan\n",
       "nan\n",
       "nan\n",
       "nan\n",
       "nan\n",
       "nan\n",
       "nan\n",
       "nan\n",
       "nan\n",
       "nan\n",
       "nan\n",
       "nan\n",
       "nan\n",
       "nan\n",
       "nan\n",
       "nan\n",
       "nan\n",
       "nan\n",
       "nan\n",
       "nan\n",
       "nan\n",
       "nan\n",
       "nan\n",
       "nan\n",
       "nan\n",
       "nan\n",
       "nan\n",
       "nan\n",
       "nan\n",
       "nan\n",
       "nan\n",
       "nan\n",
       "nan\n",
       "nan\n",
       "nan\n",
       "nan\n",
       "nan\n",
       "nan\n",
       "nan\n",
       "nan\n",
       "nan\n",
       "nan\n",
       "nan\n",
       "nan\n",
       "nan\n",
       "nan\n",
       "nan\n",
       "nan\n",
       "nan\n",
       "nan\n",
       "nan\n",
       "nan\n",
       "nan\n",
       "nan\n",
       "nan\n",
       "nan\n",
       "nan\n",
       "nan\n",
       "nan\n",
       "nan\n",
       "nan\n",
       "nan\n",
       "nan\n",
       "nan\n",
       "nan\n",
       "nan\n",
       "nan\n",
       "nan\n",
       "nan\n",
       "nan\n",
       "nan\n",
       "nan\n",
       "nan\n",
       "nan\n",
       "nan\n",
       "nan\n",
       "nan\n",
       "nan\n",
       "nan\n",
       "nan\n",
       "nan\n",
       "nan\n",
       "nan\n",
       "nan\n",
       "nan\n",
       "nan\n",
       "nan\n",
       "nan\n",
       "nan\n",
       "nan\n",
       "nan\n",
       "nan\n",
       "nan\n",
       "nan\n",
       "nan\n",
       "nan\n",
       "nan\n",
       "nan\n",
       "nan\n",
       "nan\n",
       "nan\n",
       "nan\n",
       "nan\n",
       "nan\n",
       "nan\n",
       "nan\n",
       "nan\n",
       "nan\n",
       "nan\n",
       "nan\n",
       "nan\n",
       "nan\n",
       "nan\n",
       "nan\n",
       "nan\n",
       "nan\n",
       "nan\n",
       "nan\n",
       "nan\n",
       "nan\n",
       "nan\n",
       "nan\n",
       "nan\n",
       "nan\n",
       "nan\n",
       "nan\n",
       "nan\n",
       "nan\n",
       "nan\n",
       "nan\n",
       "nan\n",
       "nan\n",
       "nan\n",
       "nan\n",
       "nan\n",
       "nan\n",
       "nan\n",
       "nan\n",
       "nan\n",
       "nan\n",
       "nan\n",
       "nan\n",
       "nan\n",
       "nan\n",
       "nan\n",
       "nan\n",
       "nan\n",
       "nan\n",
       "nan\n",
       "nan\n",
       "nan\n",
       "nan\n",
       "nan\n",
       "nan\n",
       "nan\n",
       "nan\n",
       "nan\n",
       "nan\n",
       "nan\n",
       "nan\n",
       "nan\n",
       "nan\n",
       "nan\n",
       "nan\n",
       "nan\n",
       "nan\n",
       "nan\n",
       "nan\n",
       "nan\n",
       "nan\n",
       "nan\n",
       "nan\n",
       "nan\n",
       "nan\n",
       "nan\n",
       "nan\n",
       "nan\n",
       "nan\n",
       "nan\n",
       "nan\n",
       "nan\n",
       "nan\n",
       "nan\n",
       "nan\n",
       "nan\n",
       "nan\n",
       "nan\n",
       "nan\n",
       "nan\n",
       "nan\n",
       "nan\n",
       "nan\n",
       "nan\n",
       "nan\n",
       "nan\n",
       "nan\n",
       "nan\n",
       "nan\n",
       "nan\n",
       "nan\n",
       "nan\n",
       "nan\n",
       "nan\n",
       "nan\n",
       "nan\n",
       "nan\n",
       "nan\n",
       "nan\n",
       "nan\n",
       "nan\n",
       "nan\n",
       "nan\n",
       "nan\n",
       "nan\n",
       "nan\n",
       "nan\n",
       "nan\n",
       "nan\n",
       "[torch.cuda.FloatTensor of size 384 (GPU 0)]"
      ]
     },
     "execution_count": 47,
     "metadata": {},
     "output_type": "execute_result"
    }
   ],
   "source": [
    "x_temp_var[0,:,1]"
   ]
  },
  {
   "cell_type": "code",
   "execution_count": 60,
   "metadata": {
    "ExecuteTime": {
     "end_time": "2018-03-21T05:56:44.425117Z",
     "start_time": "2018-03-21T05:56:44.270388Z"
    }
   },
   "outputs": [
    {
     "data": {
      "image/png": "[encoded data removed]",
      "text/plain": [
       "<matplotlib.figure.Figure at 0x7f71a05ca6a0>"
      ]
     },
     "metadata": {},
     "output_type": "display_data"
    }
   ],
   "source": [
    "import matplotlib.pyplot as plt\n",
    "pd.DataFrame(x_temp_var[3,:,4].data.cpu().numpy()).plot()\n",
    "plt.show()"
   ]
  },
  {
   "cell_type": "code",
   "execution_count": null,
   "metadata": {},
   "outputs": [],
   "source": []
  },
  {
   "cell_type": "code",
   "execution_count": null,
   "metadata": {},
   "outputs": [],
   "source": []
  },
  {
   "cell_type": "code",
   "execution_count": 58,
   "metadata": {
    "ExecuteTime": {
     "end_time": "2018-03-20T16:33:03.839589Z",
     "start_time": "2018-03-20T16:33:03.836039Z"
    }
   },
   "outputs": [
    {
     "data": {
      "text/plain": [
       "((384, 12), (192,), 0)"
      ]
     },
     "execution_count": 58,
     "metadata": {},
     "output_type": "execute_result"
    }
   ],
   "source": [
    "test_X_sequences_meta.shape,test_X_sequences_ar.shape,len_diff"
   ]
  },
  {
   "cell_type": "code",
   "execution_count": null,
   "metadata": {},
   "outputs": [],
   "source": [
    "plot_df = pd.DataFrame(test_X_sequences_meta[:,0]).plot()"
   ]
  },
  {
   "cell_type": "code",
   "execution_count": 73,
   "metadata": {
    "ExecuteTime": {
     "end_time": "2018-03-20T16:37:33.145307Z",
     "start_time": "2018-03-20T16:37:33.141806Z"
    }
   },
   "outputs": [
    {
     "data": {
      "text/plain": [
       "(192,)"
      ]
     },
     "execution_count": 73,
     "metadata": {},
     "output_type": "execute_result"
    }
   ],
   "source": [
    "test_X_sequences_ar.shape"
   ]
  },
  {
   "cell_type": "code",
   "execution_count": 93,
   "metadata": {
    "ExecuteTime": {
     "end_time": "2018-03-20T16:48:37.681579Z",
     "start_time": "2018-03-20T16:48:37.678241Z"
    }
   },
   "outputs": [
    {
     "data": {
      "text/plain": [
       "(16, 384, 12)"
      ]
     },
     "execution_count": 93,
     "metadata": {},
     "output_type": "execute_result"
    }
   ],
   "source": [
    "trainval_X_sequences_meta.shape"
   ]
  },
  {
   "cell_type": "code",
   "execution_count": 125,
   "metadata": {
    "ExecuteTime": {
     "end_time": "2018-03-20T16:57:04.721389Z",
     "start_time": "2018-03-20T16:57:04.537658Z"
    }
   },
   "outputs": [
    {
     "data": {
      "text/plain": [
       "<matplotlib.axes._subplots.AxesSubplot at 0x7f2060544cf8>"
      ]
     },
     "execution_count": 125,
     "metadata": {},
     "output_type": "execute_result"
    },
    {
     "data": {
      "image/png": "[encoded data removed]",
      "text/plain": [
       "<matplotlib.figure.Figure at 0x7f20604ef748>"
      ]
     },
     "metadata": {},
     "output_type": "display_data"
    }
   ],
   "source": [
    "pd.DataFrame(test_X_sequences_ar).plot()"
   ]
  },
  {
   "cell_type": "code",
   "execution_count": 127,
   "metadata": {
    "ExecuteTime": {
     "end_time": "2018-03-20T16:57:25.637121Z",
     "start_time": "2018-03-20T16:57:25.511925Z"
    }
   },
   "outputs": [
    {
     "data": {
      "text/plain": [
       "<matplotlib.axes._subplots.AxesSubplot at 0x7f20604de160>"
      ]
     },
     "execution_count": 127,
     "metadata": {},
     "output_type": "execute_result"
    },
    {
     "data": {
      "image/png": "[encoded data removed]",
      "text/plain": [
       "<matplotlib.figure.Figure at 0x7f2060460400>"
      ]
     },
     "metadata": {},
     "output_type": "display_data"
    }
   ],
   "source": [
    "pd.DataFrame(test_X_sequences_meta[:,4]).plot()"
   ]
  },
  {
   "cell_type": "code",
   "execution_count": 116,
   "metadata": {
    "ExecuteTime": {
     "end_time": "2018-03-20T16:51:28.789883Z",
     "start_time": "2018-03-20T16:51:28.785574Z"
    }
   },
   "outputs": [
    {
     "data": {
      "text/plain": [
       "(384, 12)"
      ]
     },
     "execution_count": 116,
     "metadata": {},
     "output_type": "execute_result"
    }
   ],
   "source": [
    "test_X_sequences_meta.shape"
   ]
  },
  {
   "cell_type": "code",
   "execution_count": null,
   "metadata": {},
   "outputs": [],
   "source": [
    "test_X_sequences_meta\n",
    "test_X_sequences_ar"
   ]
  },
  {
   "cell_type": "code",
   "execution_count": 115,
   "metadata": {
    "ExecuteTime": {
     "end_time": "2018-03-20T16:51:04.170937Z",
     "start_time": "2018-03-20T16:51:04.048518Z"
    }
   },
   "outputs": [
    {
     "data": {
      "text/plain": [
       "<matplotlib.axes._subplots.AxesSubplot at 0x7f2060787748>"
      ]
     },
     "execution_count": 115,
     "metadata": {},
     "output_type": "execute_result"
    },
    {
     "data": {
      "image/png": "[encoded data removed]",
      "text/plain": [
       "<matplotlib.figure.Figure at 0x7f20607a2828>"
      ]
     },
     "metadata": {},
     "output_type": "display_data"
    }
   ],
   "source": [
    "pd.DataFrame(trainval_X_sequences_meta[2,:,7]).plot()"
   ]
  },
  {
   "cell_type": "code",
   "execution_count": 107,
   "metadata": {
    "ExecuteTime": {
     "end_time": "2018-03-20T16:50:32.989638Z",
     "start_time": "2018-03-20T16:50:32.815385Z"
    }
   },
   "outputs": [
    {
     "data": {
      "text/plain": [
       "<matplotlib.axes._subplots.AxesSubplot at 0x7f20a9ea0710>"
      ]
     },
     "execution_count": 107,
     "metadata": {},
     "output_type": "execute_result"
    },
    {
     "data": {
      "image/png": "[encoded data removed]",
      "text/plain": [
       "<matplotlib.figure.Figure at 0x7f20a9ecc390>"
      ]
     },
     "metadata": {},
     "output_type": "display_data"
    }
   ],
   "source": [
    "pd.DataFrame(trainval_X_sequences_ar[2]).plot()"
   ]
  },
  {
   "cell_type": "code",
   "execution_count": 63,
   "metadata": {
    "ExecuteTime": {
     "end_time": "2018-03-20T16:34:03.717764Z",
     "start_time": "2018-03-20T16:34:03.708434Z"
    }
   },
   "outputs": [
    {
     "data": {
      "text/plain": [
       "array([-5.02481398e-02, -1.38612397e-01, -2.26976655e-01, -4.81673632e-01,\n",
       "       -7.36370610e-01, -7.36370610e-01, -7.36370610e-01, -7.36370610e-01,\n",
       "       -7.36370610e-01, -7.25974815e-01, -7.15579020e-01, -7.20776917e-01,\n",
       "       -7.25974815e-01, -7.25974815e-01, -7.25974815e-01, -7.25974815e-01,\n",
       "       -7.25974815e-01, -6.63600045e-01, -6.01225275e-01, -5.70037890e-01,\n",
       "       -5.38850505e-01, -4.66079940e-01, -3.93309375e-01, -1.38612397e-01,\n",
       "        1.16084580e-01,  3.81177353e-01,  6.46270125e-01,  1.01532085e+00,\n",
       "        1.38437157e+00,  1.65986014e+00,  1.93534871e+00,  1.99252558e+00,\n",
       "        2.04970245e+00,  2.07569194e+00,  2.10168143e+00,  2.07569194e+00,\n",
       "        2.04970245e+00,  2.06009825e+00,  2.07049404e+00,  1.97693189e+00,\n",
       "        1.88336973e+00,  1.96133819e+00,  2.03930666e+00,  2.03410876e+00,\n",
       "        2.02891086e+00,  2.13286881e+00,  2.23682676e+00,  2.25242045e+00,\n",
       "        2.26801415e+00,  2.25761835e+00,  2.24722256e+00,  2.22643097e+00,\n",
       "        2.20563938e+00,  2.09648353e+00,  1.98732768e+00,  1.85218235e+00,\n",
       "        1.71703701e+00,  1.63906855e+00,  1.56110009e+00,  1.44674634e+00,\n",
       "        1.33239260e+00,  1.07249772e+00,  8.12602845e-01,  6.72259613e-01,\n",
       "        5.31916380e-01,  4.38354225e-01,  3.44792070e-01,  2.30438325e-01,\n",
       "        1.16084580e-01,  1.47271965e-01,  1.78459350e-01,  1.78459350e-01,\n",
       "        1.78459350e-01,  1.26480375e-01,  7.45014002e-02,  1.73245277e-02,\n",
       "       -3.98523448e-02,  5.37098102e-02,  1.47271965e-01,  1.62865658e-01,\n",
       "        1.78459350e-01,  1.10886683e-01,  4.33140152e-02, -1.38628573e-02,\n",
       "       -7.10397298e-02, -9.70292174e-02, -1.23018705e-01, -8.66334224e-02,\n",
       "       -5.02481398e-02, -5.02481398e-02, -5.02481398e-02, -7.62376273e-02,\n",
       "       -1.02227115e-01, -1.33414500e-01, -1.64601885e-01, -1.59403987e-01,\n",
       "       -1.54206090e-01, -2.37372450e-01, -3.20538810e-01, -5.44048402e-01,\n",
       "       -7.67557995e-01, -7.77953790e-01, -7.88349585e-01, -7.98745380e-01,\n",
       "       -8.09141175e-01, -7.98745380e-01, -7.88349585e-01, -7.88349585e-01,\n",
       "       -7.88349585e-01, -7.77953790e-01, -7.67557995e-01, -7.77953790e-01,\n",
       "       -7.88349585e-01, -7.46766405e-01, -7.05183225e-01, -6.32412660e-01,\n",
       "       -5.59642095e-01, -5.18058915e-01, -4.76475735e-01, -2.06185065e-01,\n",
       "        6.41056052e-02,  3.65583660e-01,  6.67061715e-01,  9.78935565e-01,\n",
       "        1.29080942e+00,  1.54030850e+00,  1.78980758e+00,  1.98732768e+00,\n",
       "        2.18484779e+00,  2.23682676e+00,  2.28880574e+00,  2.29920153e+00,\n",
       "        2.30959733e+00,  2.40315948e+00,  2.49672164e+00,  2.49152374e+00,\n",
       "        2.48632584e+00,  2.56949220e+00,  2.65265856e+00,  2.69424174e+00,\n",
       "        2.73582492e+00,  2.60067959e+00,  2.46553425e+00,  2.54350271e+00,\n",
       "        2.62147118e+00,  2.58508589e+00,  2.54870061e+00,  2.51751323e+00,\n",
       "        2.48632584e+00,  2.31479522e+00,  2.14326461e+00,  2.14846250e+00,\n",
       "        2.15366040e+00,  2.07569194e+00,  1.99772348e+00,  1.80540127e+00,\n",
       "        1.61307906e+00,  1.43115265e+00,  1.24922624e+00,  1.03091454e+00,\n",
       "        8.12602845e-01,  7.19040690e-01,  6.25478535e-01,  5.26718483e-01,\n",
       "        4.27958430e-01,  3.24000480e-01,  2.20042530e-01,  2.04448838e-01,\n",
       "        1.88855145e-01,  1.36876170e-01,  8.48971952e-02,  1.21266302e-02,\n",
       "       -6.06439348e-02,  5.37098102e-02,  1.68063555e-01,  1.52469863e-01,\n",
       "        1.36876170e-01,  1.16084580e-01,  9.52929902e-02,  6.41056052e-02,\n",
       "        3.29182202e-02,  2.25224252e-02,  1.21266302e-02, -3.46706234e-03,\n",
       "       -1.90607548e-02, -8.66495984e-03,  1.73083516e-03,  1.73083516e-03,\n",
       "        1.73083516e-03, -8.66495984e-03, -1.90607548e-02, -1.90607548e-02,\n",
       "       -1.90607548e-02, -1.02227115e-01, -1.85393475e-01, -4.45288350e-01,\n",
       "       -7.05183225e-01, -6.89589532e-01, -6.73995840e-01, -6.73995840e-01,\n",
       "       -6.73995840e-01, -7.20776917e-01, -7.67557995e-01, -7.67557995e-01,\n",
       "       -7.67557995e-01, -7.41568507e-01, -7.15579020e-01, -7.31172712e-01,\n",
       "       -7.46766405e-01, -6.79193737e-01, -6.11621070e-01, -6.27214762e-01,\n",
       "       -6.42808455e-01, -6.01225275e-01, -5.59642095e-01, -2.16580860e-01,\n",
       "        1.26480375e-01,  4.07166840e-01,  6.87853305e-01,  9.89331360e-01,\n",
       "        1.29080942e+00,  1.56110009e+00,  1.83139076e+00,  2.00811927e+00,\n",
       "        2.18484779e+00,  2.35118051e+00,  2.51751323e+00,  2.50711743e+00,\n",
       "        2.49672164e+00,  2.56949220e+00,  2.64226277e+00,  2.64746066e+00,\n",
       "        2.65265856e+00,  2.77740810e+00,  2.90215764e+00,  2.91255344e+00,\n",
       "        2.92294923e+00,  2.82938708e+00,  2.73582492e+00,  2.80339759e+00,\n",
       "        2.87097026e+00,  2.99571980e+00,  3.12046934e+00,  3.13606303e+00,\n",
       "        3.15165672e+00,  2.91775133e+00,  2.68384595e+00,  2.58508589e+00,\n",
       "        2.48632584e+00,  2.54350271e+00,  2.60067959e+00,  2.35118051e+00,\n",
       "        2.10168143e+00,  1.93534871e+00,  1.76901599e+00,  1.38956947e+00,\n",
       "        1.01012295e+00,  8.69779718e-01,  7.29436485e-01,  6.72259613e-01,\n",
       "        6.15082740e-01,  5.78697458e-01,  5.42312175e-01,  5.73499560e-01,\n",
       "        6.04686945e-01,  5.73499560e-01,  5.42312175e-01,  4.69541610e-01,\n",
       "        3.96771045e-01,  4.27958430e-01,  4.59145815e-01,  3.44792070e-01,\n",
       "        2.30438325e-01,  1.36876170e-01,  4.33140152e-02,  2.25224252e-02,\n",
       "        1.73083516e-03,  2.25224252e-02,  4.33140152e-02,  3.29182202e-02,\n",
       "        2.25224252e-02, -8.66495984e-03, -3.98523448e-02, -8.66495984e-03,\n",
       "        2.25224252e-02,  3.29182202e-02,  4.33140152e-02,  7.45014002e-02,\n",
       "       -4.21896194e+00, -4.21896194e+00, -4.21896194e+00, -4.21896194e+00,\n",
       "       -4.21896194e+00, -4.21896194e+00, -4.21896194e+00, -4.21896194e+00,\n",
       "       -4.21896194e+00, -4.21896194e+00, -4.21896194e+00, -4.21896194e+00,\n",
       "       -4.21896194e+00, -4.21896194e+00, -4.21896194e+00, -4.21896194e+00,\n",
       "       -4.21896194e+00, -4.21896194e+00, -4.21896194e+00, -4.21896194e+00,\n",
       "       -4.21896194e+00, -4.21896194e+00, -4.21896194e+00, -4.21896194e+00,\n",
       "       -4.21896194e+00, -4.21896194e+00, -4.21896194e+00, -4.21896194e+00,\n",
       "       -4.21896194e+00, -4.21896194e+00, -4.21896194e+00, -4.21896194e+00,\n",
       "       -4.21896194e+00, -4.21896194e+00, -4.21896194e+00, -4.21896194e+00,\n",
       "       -4.21896194e+00, -4.21896194e+00, -4.21896194e+00, -4.21896194e+00,\n",
       "       -4.21896194e+00, -4.21896194e+00, -4.21896194e+00, -4.21896194e+00,\n",
       "       -4.21896194e+00, -4.21896194e+00, -4.21896194e+00, -4.21896194e+00,\n",
       "       -4.21896194e+00, -4.21896194e+00, -4.21896194e+00, -4.21896194e+00,\n",
       "       -4.21896194e+00, -4.21896194e+00, -4.21896194e+00, -4.21896194e+00,\n",
       "       -4.21896194e+00, -4.21896194e+00, -4.21896194e+00, -4.21896194e+00,\n",
       "       -4.21896194e+00, -4.21896194e+00, -4.21896194e+00, -4.21896194e+00,\n",
       "       -4.21896194e+00, -4.21896194e+00, -4.21896194e+00, -4.21896194e+00,\n",
       "       -4.21896194e+00, -4.21896194e+00, -4.21896194e+00, -4.21896194e+00,\n",
       "       -4.21896194e+00, -4.21896194e+00, -4.21896194e+00, -4.21896194e+00,\n",
       "       -4.21896194e+00, -4.21896194e+00, -4.21896194e+00, -4.21896194e+00,\n",
       "       -4.21896194e+00, -4.21896194e+00, -4.21896194e+00, -4.21896194e+00,\n",
       "       -4.21896194e+00, -4.21896194e+00, -4.21896194e+00, -4.21896194e+00,\n",
       "       -4.21896194e+00, -4.21896194e+00, -4.21896194e+00, -4.21896194e+00,\n",
       "       -4.21896194e+00, -4.21896194e+00, -4.21896194e+00, -4.21896194e+00])"
      ]
     },
     "execution_count": 63,
     "metadata": {},
     "output_type": "execute_result"
    }
   ],
   "source": []
  },
  {
   "cell_type": "code",
   "execution_count": 99,
   "metadata": {
    "ExecuteTime": {
     "end_time": "2018-03-20T16:49:44.913541Z",
     "start_time": "2018-03-20T16:49:44.752396Z"
    }
   },
   "outputs": [
    {
     "name": "stderr",
     "output_type": "stream",
     "text": [
      "  0%|          | 0/5356 [00:00<?, ?it/s]\n"
     ]
    }
   ],
   "source": [
    "with tqdm.tqdm(total=len(predict_dataset.forecast_ids)) as pbar:\n",
    "    for i,forecast_id in enumerate(predict_dataset.forecast_ids):\n",
    "        i = predict_dataset.forecast_ids.index(forecast_id)\n",
    "\n",
    "        forecast_id = 6001\n",
    "        \n",
    "        test_X_sequences_meta,test_X_sequences_ar,len_diff = predict_dataset.__getitem__(i)\n",
    "        trainval_X_sequences_ar,trainval_X_sequences_meta,trainval_y_sequences = train_dataset.__getitem__(i)\n",
    "        \n",
    "        \"\"\"\n",
    "        # into PyTorch format\n",
    "        test_X_sequences_meta = torch.from_numpy(test_X_sequences_meta).view(1,-1,12)\n",
    "        test_X_sequences_ar = torch.from_numpy(test_X_sequences_ar).view(1,-1,1)    \n",
    "\n",
    "        # transform data from Batch x Window x Etc into Batch x Etc format\n",
    "        test_X_sequences_ar = test_X_sequences_ar.float()\n",
    "        test_X_sequences_temp = test_X_sequences_meta[:,:,0:5].float()\n",
    "        test_X_sequences_meta = test_X_sequences_meta[:,:,5:].long()\n",
    "\n",
    "        x_temp_var = torch.autograd.Variable(test_X_sequences_temp).cuda(async=True)\n",
    "        x_meta_var = torch.autograd.Variable(test_X_sequences_meta).cuda(async=True)\n",
    "        x_ar_var = torch.autograd.Variable(test_X_sequences_ar).cuda(async=True)\n",
    "\n",
    "        # compute output\n",
    "        output = model_15m(x_temp_var,x_meta_var,x_ar_var)    \n",
    "        output = output[0,:].data.cpu().numpy()\n",
    "        # only the necessary length\n",
    "        output = output[-len_diff:]\n",
    "\n",
    "        output = output * predict_dataset.std_dict[forecast_id] + predict_dataset.mean_dict[forecast_id]\n",
    "        submission_df.loc[submission_df.ForecastId == forecast_id, 'Value'] =  output \n",
    "        pbar.update(1)\n",
    "        \"\"\"\n",
    "        \n",
    "        break\n",
    "\n"
   ]
  }
 ],
 "metadata": {
  "kernelspec": {
   "display_name": "Python 3",
   "language": "python",
   "name": "python3"
  },
  "language_info": {
   "codemirror_mode": {
    "name": "ipython",
    "version": 3
   },
   "file_extension": ".py",
   "mimetype": "text/x-python",
   "name": "python",
   "nbconvert_exporter": "python",
   "pygments_lexer": "ipython3",
   "version": "3.5.4"
  },
  "toc": {
   "nav_menu": {},
   "number_sections": true,
   "sideBar": true,
   "skip_h1_title": false,
   "title_cell": "Table of Contents",
   "title_sidebar": "Contents",
   "toc_cell": false,
   "toc_position": {
    "height": "702px",
    "left": "307px",
    "top": "111px",
    "width": "195px"
   },
   "toc_section_display": true,
   "toc_window_display": true
  }
 },
 "nbformat": 4,
 "nbformat_minor": 2
}
