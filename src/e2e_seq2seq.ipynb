{
 "cells": [
  {
   "cell_type": "markdown",
   "metadata": {},
   "source": [
    "# Prepare data"
   ]
  },
  {
   "cell_type": "code",
   "execution_count": 1,
   "metadata": {
    "ExecuteTime": {
     "end_time": "2018-03-16T11:42:43.029335Z",
     "start_time": "2018-03-16T11:39:50.228662Z"
    },
    "code_folding": [
     34
    ]
   },
   "outputs": [
    {
     "name": "stdout",
     "output_type": "stream",
     "text": [
      "Starting the ETL process\n",
      "Time taken to complete the ETL process 163.90319728851318\n"
     ]
    },
    {
     "name": "stderr",
     "output_type": "stream",
     "text": [
      " 17%|█▋        | 1/6 [00:00<00:00,  6.71it/s]"
     ]
    },
    {
     "name": "stdout",
     "output_type": "stream",
     "text": [
      "Removing drastic outliers ... \n"
     ]
    },
    {
     "name": "stderr",
     "output_type": "stream",
     "text": [
      "100%|██████████| 6/6 [00:00<00:00,  6.63it/s]\n"
     ]
    }
   ],
   "source": [
    "import tqdm\n",
    "import time\n",
    "import numpy as np\n",
    "import pandas as pd\n",
    "from math import sqrt\n",
    "from sklearn import  metrics\n",
    " \n",
    "# custom utils and random forest scripts\n",
    "from Utils import ETL_emb, count_test_period\n",
    "\n",
    "# dummy variable list            \n",
    "from holidayList import hol_list\n",
    "\n",
    "LOGNUMBER = 'e2e_seq2seq'\n",
    "\n",
    "print('Starting the ETL process')\n",
    "\n",
    "start_time = time.time()\n",
    "df_train,df_sub = ETL_emb()\n",
    "test_lengths = count_test_period(df_sub)\n",
    "elapsed_time = time.time() - start_time \n",
    "\n",
    "print('Time taken to complete the ETL process {}'.format(elapsed_time))\n",
    "\n",
    "forecast_ids = list(test_lengths.keys())\n",
    "site_ids = list(df_sub.SiteId.unique())\n",
    "\n",
    "# suppress pandas warnings\n",
    "# do not do this in production!\n",
    "pd.set_option('mode.chained_assignment', None)\n",
    "\n",
    "submission_df = pd.read_csv('../data/forecast/submission_format.csv')\n",
    "submission_df = submission_df.set_index('obs_id')\n",
    "\n",
    "def preprocess_seq2seq(df_train,df_sub):\n",
    "    # add train / test marker\n",
    "    df_train['is_train'] = 1\n",
    "    df_sub['is_train'] = 0\n",
    "\n",
    "    # merge dataframes together\n",
    "    data_df = df_train.append(df_sub)\n",
    "    del df_train,df_sub\n",
    "    \n",
    "    # sort dataframe by site_id and timestamp \n",
    "    # so that we could easily use ar features \n",
    "    # and do indexing\n",
    "    data_df['Timestamp'] = pd.to_datetime(data_df['Timestamp'] )\n",
    "    data_df = data_df.sort_values(by = ['SiteId','Timestamp'])\n",
    "    \n",
    "    # replace non-existent temperature with base temperature\n",
    "    data_df.loc[(data_df.Temperature == -1),'Temperature'] = data_df.loc[(data_df.Temperature == -1),'BaseTemperature']    \n",
    "    \n",
    "    \n",
    "    # produce future features for temperature\n",
    "    \"\"\"\n",
    "    print('Producing shifted future temperature features ...')\n",
    "    with tqdm.tqdm(total=len(site_ids)) as pbar:\n",
    "        for site_id in site_ids:\n",
    "            data_df.loc[data_df.SiteId == site_id, 'FT1'] = data_df.loc[data_df.SiteId == site_id, 'Temperature'].shift(-1)\n",
    "            data_df.loc[data_df.SiteId == site_id, 'FT5'] = data_df.loc[data_df.SiteId == site_id, 'Temperature'].shift(-5)\n",
    "            data_df.loc[data_df.SiteId == site_id, 'FT10'] = data_df.loc[data_df.SiteId == site_id, 'Temperature'].shift(-10)\n",
    "            data_df.loc[data_df.SiteId == site_id, 'FT50'] = data_df.loc[data_df.SiteId == site_id, 'Temperature'].shift(-50)\n",
    "\n",
    "            data_df.loc[data_df.SiteId == site_id, 'FT1'] = data_df.loc[data_df.SiteId == site_id, 'FT1'].fillna(method='ffill')\n",
    "            data_df.loc[data_df.SiteId == site_id, 'FT5'] = data_df.loc[data_df.SiteId == site_id, 'FT5'].fillna(method='ffill')\n",
    "            data_df.loc[data_df.SiteId == site_id, 'FT10'] = data_df.loc[data_df.SiteId == site_id, 'FT10'].fillna(method='ffill')\n",
    "            data_df.loc[data_df.SiteId == site_id, 'FT50'] = data_df.loc[data_df.SiteId == site_id, 'FT50'].fillna(method='ffill')\n",
    "\n",
    "            pbar.update(1)\n",
    "    \"\"\"\n",
    "    \n",
    "    # remove very drastic outliers \n",
    "    print('Removing drastic outliers ... ')\n",
    "    with tqdm.tqdm(total=len([1964, 1968, 1969, 4325, 5276, 5536])) as pbar:\n",
    "        for forecast_id in [1964, 1968, 1969, 4325, 5276, 5536]:\n",
    "            data_df.loc[(data_df.ForecastId == forecast_id)\n",
    "                        &(data_df.Value>10**8), 'Value'] = np.nan\n",
    "\n",
    "            data_df.loc[data_df.ForecastId == forecast_id, 'Value'] = data_df.loc[data_df.ForecastId == forecast_id, 'Value'].fillna(method='ffill')\n",
    "            data_df.loc[data_df.ForecastId == forecast_id, 'Value'] = data_df.loc[data_df.ForecastId == forecast_id, 'Value'].fillna(method='bfill')\n",
    "\n",
    "            pbar.update(1)\n",
    "            \n",
    "    return data_df\n",
    "\n",
    "data_df = preprocess_seq2seq(df_train,df_sub)\n",
    "# reset index to make sure we do not have double indexes and for easier indexing\n",
    "data_df = data_df.reset_index()\n",
    "del data_df['index']\n",
    "\n",
    "# leave only the first holiday\n",
    "data_df = data_df[(data_df['obs_id'].shift(+1) != data_df['obs_id'])]\n",
    "data_df = data_df.reset_index()\n",
    "del data_df['index']\n",
    "# fill days wo holidays with -1\n",
    "data_df['Holiday'] = data_df['Holiday'].fillna(value=-1)"
   ]
  },
  {
   "cell_type": "code",
   "execution_count": 2,
   "metadata": {
    "ExecuteTime": {
     "end_time": "2018-03-16T11:43:06.565052Z",
     "start_time": "2018-03-16T11:42:43.030645Z"
    },
    "code_folding": []
   },
   "outputs": [],
   "source": [
    "# interpolation pipeline\n",
    "# (1) find normal series\n",
    "# (2) find series with all NaNs => mark as submit zeroes\n",
    "# (3) use linear interpolation for series with < 0.2 NaNs\n",
    "# (4) series with > 0.5 NaNs => submit averages\n",
    "# (5) series with at least one test set worth of data immediately before test set => truncate train data\n",
    "# (6) submit averages for the remaining series\n",
    "# in the end we have\n",
    "# (1) normal or interpolated series\n",
    "# (2) submit zeroes\n",
    "# (3) submit averages\n",
    "\n",
    "\n",
    "data_df['is_null'] = 0\n",
    "data_df.loc[pd.isnull(data_df.Value),'is_null'] = 1\n",
    "\n",
    "# find normal time series\n",
    "null_df = data_df[data_df.is_train == 1].groupby(['ForecastId'])['is_null'].sum()\n",
    "count_df = data_df[data_df.is_train == 1].groupby(['ForecastId'])['is_null'].count()\n",
    "stat_df = pd.DataFrame()\n",
    "stat_df['null_count'] = null_df\n",
    "stat_df['count'] = count_df\n",
    "stat_df['percent_null'] = stat_df['null_count']/stat_df['count']\n",
    "# stat_df[stat_df.percent_null>0].percent_null.plot(kind='hist')\n",
    "normal_forecast_ids = list(stat_df[(stat_df.percent_null==0)].index.values)\n",
    "\n",
    "# all non-normal series\n",
    "# that have all the train dataset values equal to NAs\n",
    "submit_zeroes = list(stat_df[(stat_df.percent_null==1)].index)\n",
    "# that have the majority of values equal to NAs\n",
    "submit_averages = list(stat_df[(stat_df.percent_null>0.5)\n",
    "                               &(stat_df.percent_null<1)].index)\n",
    "# use linear interpolation for values between 0 and 0.2\n",
    "linear_interpolation = list(stat_df[(stat_df.percent_null>0)\n",
    "                               &(stat_df.percent_null<0.2)].index)\n",
    "\n",
    "data_df.loc[data_df.ForecastId.isin(linear_interpolation),'Value'] = data_df.loc[data_df.ForecastId.isin(linear_interpolation),'Value'].interpolate(method='linear')\n",
    "\n",
    "try_truncating = list(stat_df[(stat_df.percent_null>0.2)\n",
    "                               &(stat_df.percent_null<0.5)].index)\n",
    "\n",
    "use_last_window = []\n",
    "\n",
    "for forecast_id in try_truncating:\n",
    "    test_len = data_df[(data_df.ForecastId==forecast_id)\n",
    "                        &(data_df.is_train==0)].shape[0]\n",
    "    \n",
    "    last_window = data_df[(data_df.ForecastId==forecast_id)\n",
    "                        &(data_df.is_train==1)].iloc[-test_len * 2 - 1:]\n",
    "    \n",
    "    non_blank_last_window = last_window[pd.notnull(last_window.Value)].shape[0] / last_window.shape[0]\n",
    "    \n",
    "    if (non_blank_last_window == 1):\n",
    "        use_last_window.append(forecast_id)\n",
    "    else:\n",
    "        submit_averages.append(forecast_id)\n",
    "        \n",
    "# drop non-last values for these forecast_ids\n",
    "for forecast_id in use_last_window:\n",
    "    \n",
    "    test_len = data_df[(data_df.ForecastId==forecast_id)\n",
    "                        &(data_df.is_train==0)].shape[0]\n",
    "\n",
    "    drop_index = data_df[data_df.ForecastId == forecast_id].index[:-test_len * 3 - 1]\n",
    "\n",
    "    data_df.drop(index=drop_index,inplace=True,axis=0)         \n",
    "    \n",
    "train_forecast_ids = normal_forecast_ids + linear_interpolation + use_last_window    "
   ]
  },
  {
   "cell_type": "markdown",
   "metadata": {},
   "source": [
    "# Try e2e models"
   ]
  },
  {
   "cell_type": "code",
   "execution_count": 3,
   "metadata": {
    "ExecuteTime": {
     "end_time": "2018-03-16T11:43:07.258073Z",
     "start_time": "2018-03-16T11:43:06.566223Z"
    },
    "code_folding": [
     24,
     66,
     99
    ]
   },
   "outputs": [],
   "source": [
    "import torch\n",
    "import torch.nn as nn\n",
    "import torch.nn.parallel\n",
    "import torch.backends.cudnn as cudnn\n",
    "import torch.optim\n",
    "from torch.optim.lr_scheduler import ReduceLROnPlateau,MultiStepLR\n",
    "import torch.utils.data\n",
    "import torchvision.transforms as transforms\n",
    "import torchvision.datasets as datasets\n",
    "import torchvision.models as models\n",
    "\n",
    "# custom classes\n",
    "from SDataset import S2SDataset\n",
    "from ELstm import E2ELSTM,WMSELoss\n",
    "\n",
    "import torch.utils.data as data\n",
    "from sklearn.preprocessing import StandardScaler\n",
    "from sklearn.model_selection import train_test_split\n",
    "from sklearn import metrics\n",
    "\n",
    "import pandas as pd\n",
    "import numpy as np\n",
    "from math import sqrt\n",
    "\n",
    "def train(train_loader,\n",
    "          model,\n",
    "          criterion,\n",
    "          optimizer,\n",
    "          epoch):\n",
    "    losses = AverageMeter()\n",
    "    # switch to train mode\n",
    "    model.train()\n",
    "\n",
    "    for i, (X_sequences_ar,X_sequences_meta,y_sequences) in enumerate(train_loader):\n",
    "        \n",
    "        # transform data from Batch x Window x Etc into Batch x Etc format\n",
    "        X_sequences_meta = X_sequences_meta.view(-1,X_sequences_meta.size(2),X_sequences_meta.size(3))\n",
    "        X_sequences_ar = X_sequences_ar.view(-1,X_sequences_ar.size(2),1).float()\n",
    "        y_sequences = y_sequences.view(-1,y_sequences.size(2)).float()\n",
    "        X_sequences_temp = X_sequences_meta[:,:,0:1].float()\n",
    "        X_sequences_meta = X_sequences_meta[:,:,1:].long()\n",
    "\n",
    "        x_temp_var = torch.autograd.Variable(X_sequences_temp.cuda(async=True))\n",
    "        x_meta_var = torch.autograd.Variable(X_sequences_meta.cuda(async=True))\n",
    "        x_ar_var = torch.autograd.Variable(X_sequences_ar.cuda(async=True))\n",
    "        y_var = torch.autograd.Variable(y_sequences.cuda(async=True))\n",
    "\n",
    "        # compute output\n",
    "        output = model(x_temp_var,x_meta_var,x_ar_var)\n",
    "        loss = criterion(output, y_var)\n",
    "\n",
    "        # measure accuracy and record loss\n",
    "        losses.update(loss.data[0], X_sequences_meta.size(0))\n",
    "\n",
    "        # compute gradient and do SGD step\n",
    "        optimizer.zero_grad()\n",
    "        loss.backward()\n",
    "        optimizer.step()\n",
    "        \n",
    "        if i % 10 == 0:\n",
    "            print('Epoch: [{0}][{1}/{2}]\\t'\n",
    "                  'Loss {loss.val:.4f} ({loss.avg:.4f})\\t'.format(\n",
    "                   epoch, i, len(train_loader), loss=losses))        \n",
    "           \n",
    "    return losses.avg\n",
    "\n",
    "def validate(val_loader, model, criterion):\n",
    "    losses = AverageMeter()\n",
    "    # switch to evaluate mode\n",
    "    model.eval()\n",
    "\n",
    "    for i, (X_sequences_ar,X_sequences_meta,y_sequences) in enumerate(val_loader):\n",
    "        \n",
    "        # transform data from Batch x Window x Etc into Batch x Etc format\n",
    "        X_sequences_meta = X_sequences_meta.view(-1,X_sequences_meta.size(2),X_sequences_meta.size(3))\n",
    "        X_sequences_ar = X_sequences_ar.view(-1,X_sequences_ar.size(2),1).float()\n",
    "        y_sequences = y_sequences.view(-1,y_sequences.size(2)).float()\n",
    "        X_sequences_temp = X_sequences_meta[:,:,0:1].float()\n",
    "        X_sequences_meta = X_sequences_meta[:,:,1:].long()\n",
    "\n",
    "        x_temp_var = torch.autograd.Variable(X_sequences_temp.cuda(async=True))\n",
    "        x_meta_var = torch.autograd.Variable(X_sequences_meta.cuda(async=True))\n",
    "        x_ar_var = torch.autograd.Variable(X_sequences_ar.cuda(async=True))\n",
    "        y_var = torch.autograd.Variable(y_sequences.cuda(async=True))\n",
    "\n",
    "        # compute output\n",
    "        output = model(x_temp_var,x_meta_var,x_ar_var)\n",
    "        loss = criterion(output, y_var)\n",
    "        \n",
    "        # measure accuracy and record loss\n",
    "        losses.update(loss.data[0], X_sequences_meta.size(0))\n",
    "        \n",
    "        if i % 10 == 0:\n",
    "            print('Test: [{0}/{1}]\\t'\n",
    "                  'Loss {loss.val:.4f} ({loss.avg:.4f})\\t'.format(\n",
    "                   i, len(val_loader), loss=losses))      \n",
    "            \n",
    "    return losses.avg\n",
    "\n",
    "class AverageMeter(object):\n",
    "    \"\"\"Computes and stores the average and current value\"\"\"\n",
    "    def __init__(self):\n",
    "        self.reset()\n",
    "\n",
    "    def reset(self):\n",
    "        self.val = 0\n",
    "        self.avg = 0\n",
    "        self.sum = 0\n",
    "        self.count = 0\n",
    "\n",
    "    def update(self, val, n=1):\n",
    "        self.val = val\n",
    "        self.sum += val * n\n",
    "        self.count += n\n",
    "        self.avg = self.sum / self.count"
   ]
  },
  {
   "cell_type": "code",
   "execution_count": 4,
   "metadata": {
    "ExecuteTime": {
     "end_time": "2018-03-16T11:43:07.266650Z",
     "start_time": "2018-03-16T11:43:07.259423Z"
    }
   },
   "outputs": [],
   "source": [
    "# key params\n",
    "lr = 1e-3\n",
    "start_epoch = 0\n",
    "epochs = 40\n",
    "# 16 samples per batch\n",
    "batch_size = 20\n",
    "# lstm params\n",
    "in_sequence_len = 192\n",
    "out_sequence_len = 192\n",
    "features_meta_total = 72\n",
    "features_ar_total = 1\n",
    "meta_hidden_layer_length = 192\n",
    "ar_hidden_layer_length = 192\n",
    "meta_hidden_layers = 2\n",
    "ar_hidden_layers = 2\n",
    "lstm_dropout = 0\n",
    "# MLP model end params\n",
    "# B x meta_hidden_layer_length || B x ar_hidden_layer_length => classifier_hidden_length => out_sequence_len\n",
    "classifier_hidden_length = 512"
   ]
  },
  {
   "cell_type": "code",
   "execution_count": null,
   "metadata": {
    "ExecuteTime": {
     "start_time": "2018-03-16T11:39:50.094Z"
    },
    "code_folding": []
   },
   "outputs": [
    {
     "name": "stdout",
     "output_type": "stream",
     "text": [
      "Creating dataset object ...\n",
      "Normalizing features ...\n",
      "Creating dataset object ...\n",
      "Normalizing features ...\n"
     ]
    }
   ],
   "source": [
    "# PyTorch training loop sugar\n",
    "\n",
    "temp_features = ['Temperature']\n",
    "hol_emb_features = ['Holiday']\n",
    "time_emb_features = ['year', 'month', 'day', 'hour', 'minute','dow']\n",
    "target = ['Value']\n",
    "predictors = temp_features + hol_emb_features + time_emb_features\n",
    "\n",
    "model = E2ELSTM(in_sequence_len = in_sequence_len,\n",
    "                 out_sequence_len = out_sequence_len,\n",
    "                 features_meta_total = features_meta_total,\n",
    "                 features_ar_total = features_ar_total,\n",
    "                 meta_hidden_layer_length = meta_hidden_layer_length,\n",
    "                 ar_hidden_layer_length = ar_hidden_layer_length,\n",
    "                 meta_hidden_layers = meta_hidden_layers,\n",
    "                 ar_hidden_layers = ar_hidden_layers,\n",
    "                 lstm_dropout =lstm_dropout,\n",
    "                 classifier_hidden_length = classifier_hidden_length)\n",
    "\n",
    "model.cuda()\n",
    "\n",
    "train_dataset = S2SDataset(df = data_df[(~data_df.ForecastId.isin(list(set(data_df.ForecastId.unique()) - set(train_forecast_ids))))],\n",
    "                     series_type = '15_mins',\n",
    "                     in_sequence_len = 192,\n",
    "                     out_sequence_len = 192,\n",
    "                     target = 'Value',\n",
    "                     mode = 'train',\n",
    "                     split_mode = 'random',\n",
    "                     predictors = predictors)\n",
    "\n",
    "val_dataset = S2SDataset(df = data_df[(~data_df.ForecastId.isin(list(set(data_df.ForecastId.unique()) - set(train_forecast_ids))))],\n",
    "                     series_type = '15_mins',\n",
    "                     in_sequence_len = 192,\n",
    "                     out_sequence_len = 192,\n",
    "                     target = 'Value',\n",
    "                     mode = 'val',\n",
    "                     split_mode = 'random',\n",
    "                     predictors = predictors)  \n",
    "\n",
    "train_loader = torch.utils.data.DataLoader(\n",
    "    train_dataset,\n",
    "    batch_size=batch_size,        \n",
    "    shuffle=True,\n",
    "    num_workers=1,\n",
    "    pin_memory=True,\n",
    "    drop_last=True)\n",
    "\n",
    "val_loader = torch.utils.data.DataLoader(\n",
    "    val_dataset,\n",
    "    batch_size=batch_size,        \n",
    "    shuffle=True,\n",
    "    num_workers=1,\n",
    "    pin_memory=True,\n",
    "    drop_last=True)\n",
    "\n",
    "criterion = nn.MSELoss().cuda()\n",
    "\n",
    "optimizer = torch.optim.Adam(filter(lambda p: p.requires_grad, model.parameters()),\n",
    "                             lr = lr)\n",
    "\n",
    "scheduler = ReduceLROnPlateau(optimizer = optimizer,\n",
    "                                          mode = 'min',\n",
    "                                          factor = 0.1,\n",
    "                                          patience = 4,\n",
    "                                          verbose = True,\n",
    "                                          threshold = 1e-3,\n",
    "                                          min_lr = 1e-7\n",
    "                                          )"
   ]
  },
  {
   "cell_type": "code",
   "execution_count": null,
   "metadata": {
    "ExecuteTime": {
     "start_time": "2018-03-16T11:39:51.799Z"
    }
   },
   "outputs": [
    {
     "name": "stderr",
     "output_type": "stream",
     "text": [
      "\r",
      "  0%|          | 0/40 [00:00<?, ?it/s]"
     ]
    },
    {
     "name": "stdout",
     "output_type": "stream",
     "text": [
      "Epoch: [0][0/201]\tLoss 0.9957 (0.9957)\t\n",
      "Epoch: [0][10/201]\tLoss 0.9188 (0.9618)\t\n",
      "Epoch: [0][20/201]\tLoss 0.8098 (0.9084)\t\n",
      "Epoch: [0][30/201]\tLoss 0.6052 (0.8643)\t\n",
      "Epoch: [0][40/201]\tLoss 0.6887 (0.8391)\t\n",
      "Epoch: [0][50/201]\tLoss 0.6163 (0.8236)\t\n",
      "Epoch: [0][60/201]\tLoss 0.7668 (0.8087)\t\n",
      "Epoch: [0][70/201]\tLoss 0.6858 (0.7936)\t\n",
      "Epoch: [0][80/201]\tLoss 0.5149 (0.7777)\t\n",
      "Epoch: [0][90/201]\tLoss 0.6222 (0.7643)\t\n",
      "Epoch: [0][100/201]\tLoss 0.5568 (0.7533)\t\n",
      "Epoch: [0][110/201]\tLoss 0.5606 (0.7438)\t\n",
      "Epoch: [0][120/201]\tLoss 0.6146 (0.7354)\t\n",
      "Epoch: [0][130/201]\tLoss 0.7160 (0.7265)\t\n",
      "Epoch: [0][140/201]\tLoss 0.5118 (0.7162)\t\n",
      "Epoch: [0][150/201]\tLoss 0.6854 (0.7093)\t\n",
      "Epoch: [0][160/201]\tLoss 0.6047 (0.7040)\t\n",
      "Epoch: [0][170/201]\tLoss 0.6434 (0.7003)\t\n",
      "Epoch: [0][180/201]\tLoss 0.6379 (0.6941)\t\n",
      "Epoch: [0][190/201]\tLoss 0.5656 (0.6885)\t\n",
      "Epoch: [0][200/201]\tLoss 0.6233 (0.6865)\t\n",
      "Test: [0/67]\tLoss 0.5311 (0.5311)\t\n",
      "Test: [10/67]\tLoss 0.5372 (0.5838)\t\n",
      "Test: [20/67]\tLoss 0.5431 (0.5628)\t\n",
      "Test: [30/67]\tLoss 0.6986 (0.5841)\t\n",
      "Test: [40/67]\tLoss 0.5955 (0.5880)\t\n",
      "Test: [50/67]\tLoss 0.6272 (0.5941)\t\n",
      "Test: [60/67]\tLoss 0.5795 (0.5926)\t\n"
     ]
    },
    {
     "name": "stderr",
     "output_type": "stream",
     "text": [
      "\r",
      "Epoch [000/040]:   2%|▎         | 1/40 [03:27<2:15:07, 207.88s/it, train_loss=0.687, val_loss=0.588]"
     ]
    },
    {
     "name": "stdout",
     "output_type": "stream",
     "text": [
      "Epoch: [1][0/201]\tLoss 0.4920 (0.4920)\t\n",
      "Epoch: [1][10/201]\tLoss 0.5322 (0.5798)\t\n",
      "Epoch: [1][20/201]\tLoss 0.5464 (0.5927)\t\n",
      "Epoch: [1][30/201]\tLoss 0.4597 (0.5920)\t\n",
      "Epoch: [1][40/201]\tLoss 0.4333 (0.5783)\t\n",
      "Epoch: [1][50/201]\tLoss 0.5976 (0.5789)\t\n",
      "Epoch: [1][60/201]\tLoss 0.5852 (0.5833)\t\n",
      "Epoch: [1][70/201]\tLoss 0.5613 (0.5791)\t\n",
      "Epoch: [1][80/201]\tLoss 0.5519 (0.5807)\t\n",
      "Epoch: [1][90/201]\tLoss 0.5451 (0.5777)\t\n",
      "Epoch: [1][100/201]\tLoss 0.4812 (0.5745)\t\n",
      "Epoch: [1][110/201]\tLoss 0.6168 (0.5727)\t\n",
      "Epoch: [1][120/201]\tLoss 0.5158 (0.5690)\t\n",
      "Epoch: [1][130/201]\tLoss 0.4834 (0.5676)\t\n",
      "Epoch: [1][140/201]\tLoss 0.6271 (0.5676)\t\n",
      "Epoch: [1][150/201]\tLoss 0.6409 (0.5684)\t\n",
      "Epoch: [1][160/201]\tLoss 0.4710 (0.5671)\t\n",
      "Epoch: [1][170/201]\tLoss 0.6379 (0.5672)\t\n",
      "Epoch: [1][180/201]\tLoss 0.4924 (0.5680)\t\n",
      "Epoch: [1][190/201]\tLoss 0.5336 (0.5665)\t\n",
      "Epoch: [1][200/201]\tLoss 0.5551 (0.5680)\t\n",
      "Test: [0/67]\tLoss 0.4050 (0.4050)\t\n",
      "Test: [10/67]\tLoss 0.5773 (0.5072)\t\n",
      "Test: [20/67]\tLoss 0.8238 (0.5345)\t\n",
      "Test: [30/67]\tLoss 0.5276 (0.5275)\t\n",
      "Test: [40/67]\tLoss 0.5187 (0.5287)\t\n",
      "Test: [50/67]\tLoss 0.5875 (0.5305)\t\n",
      "Test: [60/67]\tLoss 0.5921 (0.5319)\t\n"
     ]
    },
    {
     "name": "stderr",
     "output_type": "stream",
     "text": [
      "\r",
      "Epoch [001/040]:   5%|▌         | 2/40 [06:54<2:11:29, 207.63s/it, train_loss=0.568, val_loss=0.529]"
     ]
    },
    {
     "name": "stdout",
     "output_type": "stream",
     "text": [
      "Epoch: [2][0/201]\tLoss 0.6255 (0.6255)\t\n",
      "Epoch: [2][10/201]\tLoss 0.5469 (0.5876)\t\n",
      "Epoch: [2][20/201]\tLoss 0.5002 (0.5529)\t\n",
      "Epoch: [2][30/201]\tLoss 0.5700 (0.5598)\t\n",
      "Epoch: [2][40/201]\tLoss 0.6534 (0.5565)\t\n",
      "Epoch: [2][50/201]\tLoss 0.4314 (0.5419)\t\n",
      "Epoch: [2][60/201]\tLoss 0.6078 (0.5433)\t\n",
      "Epoch: [2][70/201]\tLoss 0.5188 (0.5434)\t\n",
      "Epoch: [2][80/201]\tLoss 0.5961 (0.5433)\t\n",
      "Epoch: [2][90/201]\tLoss 0.4690 (0.5406)\t\n",
      "Epoch: [2][100/201]\tLoss 0.4646 (0.5417)\t\n",
      "Epoch: [2][110/201]\tLoss 0.5701 (0.5442)\t\n",
      "Epoch: [2][120/201]\tLoss 0.5243 (0.5450)\t\n",
      "Epoch: [2][130/201]\tLoss 0.6614 (0.5476)\t\n",
      "Epoch: [2][140/201]\tLoss 0.4928 (0.5459)\t\n",
      "Epoch: [2][150/201]\tLoss 0.6210 (0.5446)\t\n",
      "Epoch: [2][160/201]\tLoss 0.5682 (0.5449)\t\n",
      "Epoch: [2][170/201]\tLoss 0.4363 (0.5428)\t\n",
      "Epoch: [2][180/201]\tLoss 0.7017 (0.5430)\t\n",
      "Epoch: [2][190/201]\tLoss 0.4820 (0.5421)\t\n",
      "Epoch: [2][200/201]\tLoss 0.4657 (0.5424)\t\n",
      "Test: [0/67]\tLoss 0.5320 (0.5320)\t\n",
      "Test: [10/67]\tLoss 0.4634 (0.5220)\t\n",
      "Test: [20/67]\tLoss 0.5599 (0.5191)\t\n",
      "Test: [30/67]\tLoss 0.5917 (0.5194)\t\n",
      "Test: [40/67]\tLoss 0.6920 (0.5219)\t\n",
      "Test: [50/67]\tLoss 0.4791 (0.5237)\t\n",
      "Test: [60/67]\tLoss 0.4745 (0.5210)\t\n"
     ]
    },
    {
     "name": "stderr",
     "output_type": "stream",
     "text": [
      "\r",
      "Epoch [002/040]:   8%|▊         | 3/40 [10:26<2:08:44, 208.76s/it, train_loss=0.542, val_loss=0.52] "
     ]
    },
    {
     "name": "stdout",
     "output_type": "stream",
     "text": [
      "Epoch: [3][0/201]\tLoss 0.6012 (0.6012)\t\n",
      "Epoch: [3][10/201]\tLoss 0.5966 (0.5523)\t\n",
      "Epoch: [3][20/201]\tLoss 0.4061 (0.5542)\t\n",
      "Epoch: [3][30/201]\tLoss 0.4999 (0.5491)\t\n",
      "Epoch: [3][40/201]\tLoss 0.5731 (0.5493)\t\n",
      "Epoch: [3][50/201]\tLoss 0.5497 (0.5446)\t\n",
      "Epoch: [3][60/201]\tLoss 0.5655 (0.5375)\t\n",
      "Epoch: [3][70/201]\tLoss 0.3848 (0.5351)\t\n",
      "Epoch: [3][80/201]\tLoss 0.5179 (0.5413)\t\n",
      "Epoch: [3][90/201]\tLoss 0.5620 (0.5387)\t\n",
      "Epoch: [3][100/201]\tLoss 0.6301 (0.5386)\t\n",
      "Epoch: [3][110/201]\tLoss 0.5219 (0.5377)\t\n",
      "Epoch: [3][120/201]\tLoss 0.6143 (0.5367)\t\n",
      "Epoch: [3][130/201]\tLoss 0.5486 (0.5338)\t\n",
      "Epoch: [3][140/201]\tLoss 0.6794 (0.5324)\t\n",
      "Epoch: [3][150/201]\tLoss 0.4962 (0.5320)\t\n",
      "Epoch: [3][160/201]\tLoss 0.5304 (0.5330)\t\n",
      "Epoch: [3][170/201]\tLoss 0.4837 (0.5308)\t\n",
      "Epoch: [3][180/201]\tLoss 0.5715 (0.5308)\t\n",
      "Epoch: [3][190/201]\tLoss 0.5105 (0.5317)\t\n",
      "Epoch: [3][200/201]\tLoss 0.4779 (0.5289)\t\n",
      "Test: [0/67]\tLoss 0.4735 (0.4735)\t\n",
      "Test: [10/67]\tLoss 0.3504 (0.4958)\t\n",
      "Test: [20/67]\tLoss 0.4604 (0.4916)\t\n",
      "Test: [30/67]\tLoss 0.5055 (0.4938)\t\n",
      "Test: [40/67]\tLoss 0.5397 (0.4865)\t\n",
      "Test: [50/67]\tLoss 0.4225 (0.4940)\t\n",
      "Test: [60/67]\tLoss 0.4929 (0.4977)\t\n"
     ]
    },
    {
     "name": "stderr",
     "output_type": "stream",
     "text": [
      "\r",
      "Epoch [003/040]:  10%|█         | 4/40 [13:57<2:05:37, 209.37s/it, train_loss=0.529, val_loss=0.497]"
     ]
    },
    {
     "name": "stdout",
     "output_type": "stream",
     "text": [
      "Epoch: [4][0/201]\tLoss 0.5182 (0.5182)\t\n",
      "Epoch: [4][10/201]\tLoss 0.6432 (0.5667)\t\n",
      "Epoch: [4][20/201]\tLoss 0.5081 (0.5312)\t\n",
      "Epoch: [4][30/201]\tLoss 0.4857 (0.5249)\t\n",
      "Epoch: [4][40/201]\tLoss 0.5333 (0.5254)\t\n",
      "Epoch: [4][50/201]\tLoss 0.5423 (0.5274)\t\n",
      "Epoch: [4][60/201]\tLoss 0.4479 (0.5260)\t\n",
      "Epoch: [4][70/201]\tLoss 0.5345 (0.5282)\t\n",
      "Epoch: [4][80/201]\tLoss 0.4826 (0.5262)\t\n",
      "Epoch: [4][90/201]\tLoss 0.6473 (0.5269)\t\n",
      "Epoch: [4][100/201]\tLoss 0.5654 (0.5247)\t\n",
      "Epoch: [4][110/201]\tLoss 0.5616 (0.5210)\t\n",
      "Epoch: [4][120/201]\tLoss 0.4191 (0.5199)\t\n",
      "Epoch: [4][130/201]\tLoss 0.5443 (0.5195)\t\n",
      "Epoch: [4][140/201]\tLoss 0.5103 (0.5210)\t\n",
      "Epoch: [4][150/201]\tLoss 0.5948 (0.5212)\t\n",
      "Epoch: [4][160/201]\tLoss 0.5392 (0.5212)\t\n",
      "Epoch: [4][170/201]\tLoss 0.4830 (0.5217)\t\n",
      "Epoch: [4][180/201]\tLoss 0.4592 (0.5209)\t\n",
      "Epoch: [4][190/201]\tLoss 0.5423 (0.5194)\t\n",
      "Epoch: [4][200/201]\tLoss 0.5066 (0.5207)\t\n",
      "Test: [0/67]\tLoss 0.3379 (0.3379)\t\n",
      "Test: [10/67]\tLoss 0.4985 (0.5042)\t\n",
      "Test: [20/67]\tLoss 0.4622 (0.4924)\t\n",
      "Test: [30/67]\tLoss 0.5757 (0.4941)\t\n",
      "Test: [40/67]\tLoss 0.4545 (0.4955)\t\n",
      "Test: [50/67]\tLoss 0.4754 (0.4975)\t\n",
      "Test: [60/67]\tLoss 0.5161 (0.4998)\t\n"
     ]
    },
    {
     "name": "stderr",
     "output_type": "stream",
     "text": [
      "\r",
      "Epoch [004/040]:  12%|█▎        | 5/40 [17:28<2:02:33, 210.11s/it, train_loss=0.521, val_loss=0.505]"
     ]
    },
    {
     "name": "stdout",
     "output_type": "stream",
     "text": [
      "Epoch: [5][0/201]\tLoss 0.5775 (0.5775)\t\n",
      "Epoch: [5][10/201]\tLoss 0.5281 (0.5010)\t\n",
      "Epoch: [5][20/201]\tLoss 0.5346 (0.4874)\t\n",
      "Epoch: [5][30/201]\tLoss 0.3781 (0.4917)\t\n",
      "Epoch: [5][40/201]\tLoss 0.4945 (0.5051)\t\n",
      "Epoch: [5][50/201]\tLoss 0.4669 (0.5101)\t\n",
      "Epoch: [5][60/201]\tLoss 0.5235 (0.5100)\t\n",
      "Epoch: [5][70/201]\tLoss 0.4338 (0.5095)\t\n",
      "Epoch: [5][80/201]\tLoss 0.5512 (0.5118)\t\n",
      "Epoch: [5][90/201]\tLoss 0.5508 (0.5121)\t\n",
      "Epoch: [5][100/201]\tLoss 0.4673 (0.5120)\t\n",
      "Epoch: [5][110/201]\tLoss 0.4120 (0.5092)\t\n",
      "Epoch: [5][120/201]\tLoss 0.6613 (0.5090)\t\n",
      "Epoch: [5][130/201]\tLoss 0.5531 (0.5086)\t\n",
      "Epoch: [5][140/201]\tLoss 0.5452 (0.5092)\t\n",
      "Epoch: [5][150/201]\tLoss 0.4810 (0.5090)\t\n",
      "Epoch: [5][160/201]\tLoss 0.5812 (0.5109)\t\n",
      "Epoch: [5][170/201]\tLoss 0.4289 (0.5110)\t\n",
      "Epoch: [5][180/201]\tLoss 0.3894 (0.5104)\t\n",
      "Epoch: [5][190/201]\tLoss 0.6011 (0.5109)\t\n",
      "Epoch: [5][200/201]\tLoss 0.4662 (0.5117)\t\n",
      "Test: [0/67]\tLoss 0.5674 (0.5674)\t\n",
      "Test: [10/67]\tLoss 0.4979 (0.4714)\t\n",
      "Test: [20/67]\tLoss 0.4166 (0.4772)\t\n",
      "Test: [30/67]\tLoss 0.4133 (0.4717)\t\n",
      "Test: [40/67]\tLoss 0.4619 (0.4798)\t\n",
      "Test: [50/67]\tLoss 0.4154 (0.4792)\t\n",
      "Test: [60/67]\tLoss 0.5274 (0.4836)\t\n"
     ]
    },
    {
     "name": "stderr",
     "output_type": "stream",
     "text": [
      "\r",
      "Epoch [005/040]:  15%|█▌        | 6/40 [21:01<1:59:29, 210.88s/it, train_loss=0.512, val_loss=0.483]"
     ]
    },
    {
     "name": "stdout",
     "output_type": "stream",
     "text": [
      "Epoch: [6][0/201]\tLoss 0.5448 (0.5448)\t\n",
      "Epoch: [6][10/201]\tLoss 0.4803 (0.5032)\t\n",
      "Epoch: [6][20/201]\tLoss 0.5953 (0.5027)\t\n",
      "Epoch: [6][30/201]\tLoss 0.5060 (0.4968)\t\n",
      "Epoch: [6][40/201]\tLoss 0.6273 (0.5015)\t\n",
      "Epoch: [6][50/201]\tLoss 0.4217 (0.5073)\t\n",
      "Epoch: [6][60/201]\tLoss 0.5476 (0.5114)\t\n",
      "Epoch: [6][70/201]\tLoss 0.4479 (0.5053)\t\n",
      "Epoch: [6][80/201]\tLoss 0.6205 (0.5058)\t\n",
      "Epoch: [6][90/201]\tLoss 0.4233 (0.5026)\t\n",
      "Epoch: [6][100/201]\tLoss 0.5699 (0.5046)\t\n",
      "Epoch: [6][110/201]\tLoss 0.5054 (0.5062)\t\n",
      "Epoch: [6][120/201]\tLoss 0.5414 (0.5053)\t\n",
      "Epoch: [6][130/201]\tLoss 0.4098 (0.5056)\t\n",
      "Epoch: [6][140/201]\tLoss 0.6174 (0.5074)\t\n",
      "Epoch: [6][150/201]\tLoss 0.5602 (0.5088)\t\n",
      "Epoch: [6][160/201]\tLoss 0.5238 (0.5068)\t\n",
      "Epoch: [6][170/201]\tLoss 0.4687 (0.5092)\t\n",
      "Epoch: [6][180/201]\tLoss 0.5621 (0.5092)\t\n",
      "Epoch: [6][190/201]\tLoss 0.5044 (0.5085)\t\n",
      "Epoch: [6][200/201]\tLoss 0.5424 (0.5087)\t\n",
      "Test: [0/67]\tLoss 0.5163 (0.5163)\t\n",
      "Test: [10/67]\tLoss 0.4254 (0.4552)\t\n",
      "Test: [20/67]\tLoss 0.5151 (0.4765)\t\n",
      "Test: [30/67]\tLoss 0.4799 (0.4819)\t\n",
      "Test: [40/67]\tLoss 0.4954 (0.4798)\t\n",
      "Test: [50/67]\tLoss 0.5288 (0.4798)\t\n",
      "Test: [60/67]\tLoss 0.4110 (0.4798)\t\n"
     ]
    },
    {
     "name": "stderr",
     "output_type": "stream",
     "text": [
      "\r",
      "Epoch [006/040]:  18%|█▊        | 7/40 [24:27<1:55:07, 209.31s/it, train_loss=0.509, val_loss=0.476]"
     ]
    },
    {
     "name": "stdout",
     "output_type": "stream",
     "text": [
      "Epoch: [7][0/201]\tLoss 0.4843 (0.4843)\t\n",
      "Epoch: [7][10/201]\tLoss 0.4950 (0.4879)\t\n",
      "Epoch: [7][20/201]\tLoss 0.4458 (0.4733)\t\n",
      "Epoch: [7][30/201]\tLoss 0.4187 (0.4691)\t\n",
      "Epoch: [7][40/201]\tLoss 0.4860 (0.4748)\t\n",
      "Epoch: [7][50/201]\tLoss 0.5247 (0.4772)\t\n",
      "Epoch: [7][60/201]\tLoss 0.4172 (0.4808)\t\n",
      "Epoch: [7][70/201]\tLoss 0.5867 (0.4818)\t\n",
      "Epoch: [7][80/201]\tLoss 0.5503 (0.4850)\t\n",
      "Epoch: [7][90/201]\tLoss 0.5937 (0.4887)\t\n",
      "Epoch: [7][100/201]\tLoss 0.6285 (0.4915)\t\n",
      "Epoch: [7][110/201]\tLoss 0.4700 (0.4930)\t\n",
      "Epoch: [7][120/201]\tLoss 0.5133 (0.4922)\t\n",
      "Epoch: [7][130/201]\tLoss 0.6784 (0.4953)\t\n",
      "Epoch: [7][140/201]\tLoss 0.4681 (0.4948)\t\n",
      "Epoch: [7][150/201]\tLoss 0.7038 (0.4985)\t\n",
      "Epoch: [7][160/201]\tLoss 0.3890 (0.4998)\t\n",
      "Epoch: [7][170/201]\tLoss 0.5266 (0.5008)\t\n",
      "Epoch: [7][180/201]\tLoss 0.5304 (0.5019)\t\n",
      "Epoch: [7][190/201]\tLoss 0.5378 (0.5024)\t\n",
      "Epoch: [7][200/201]\tLoss 0.4517 (0.5018)\t\n",
      "Test: [0/67]\tLoss 0.4102 (0.4102)\t\n",
      "Test: [10/67]\tLoss 0.5020 (0.4602)\t\n",
      "Test: [20/67]\tLoss 0.3857 (0.4702)\t\n",
      "Test: [30/67]\tLoss 0.6884 (0.4743)\t\n",
      "Test: [40/67]\tLoss 0.5232 (0.4763)\t\n",
      "Test: [50/67]\tLoss 0.4169 (0.4741)\t\n",
      "Test: [60/67]\tLoss 0.6433 (0.4783)\t\n"
     ]
    },
    {
     "name": "stderr",
     "output_type": "stream",
     "text": [
      "\r",
      "Epoch [007/040]:  20%|██        | 8/40 [27:59<1:52:01, 210.05s/it, train_loss=0.502, val_loss=0.478]"
     ]
    },
    {
     "name": "stdout",
     "output_type": "stream",
     "text": [
      "Epoch: [8][0/201]\tLoss 0.4015 (0.4015)\t\n",
      "Epoch: [8][10/201]\tLoss 0.6060 (0.4771)\t\n",
      "Epoch: [8][20/201]\tLoss 0.5137 (0.4752)\t\n",
      "Epoch: [8][30/201]\tLoss 0.4847 (0.4832)\t\n",
      "Epoch: [8][40/201]\tLoss 0.5853 (0.4939)\t\n",
      "Epoch: [8][50/201]\tLoss 0.4033 (0.4905)\t\n",
      "Epoch: [8][60/201]\tLoss 0.6971 (0.4981)\t\n",
      "Epoch: [8][70/201]\tLoss 0.6021 (0.5045)\t\n",
      "Epoch: [8][80/201]\tLoss 0.5300 (0.5057)\t\n",
      "Epoch: [8][90/201]\tLoss 0.5523 (0.5050)\t\n",
      "Epoch: [8][100/201]\tLoss 0.3420 (0.5020)\t\n",
      "Epoch: [8][110/201]\tLoss 0.4869 (0.5004)\t\n",
      "Epoch: [8][120/201]\tLoss 0.4593 (0.5013)\t\n",
      "Epoch: [8][130/201]\tLoss 0.5845 (0.5025)\t\n",
      "Epoch: [8][140/201]\tLoss 0.4310 (0.5026)\t\n",
      "Epoch: [8][150/201]\tLoss 0.4346 (0.5032)\t\n",
      "Epoch: [8][160/201]\tLoss 0.4783 (0.5012)\t\n",
      "Epoch: [8][170/201]\tLoss 0.4780 (0.5007)\t\n",
      "Epoch: [8][180/201]\tLoss 0.7180 (0.5018)\t\n",
      "Epoch: [8][190/201]\tLoss 0.4112 (0.5009)\t\n",
      "Epoch: [8][200/201]\tLoss 0.3967 (0.4999)\t\n",
      "Test: [0/67]\tLoss 0.4591 (0.4591)\t\n",
      "Test: [10/67]\tLoss 0.4611 (0.4735)\t\n",
      "Test: [20/67]\tLoss 0.5734 (0.4659)\t\n",
      "Test: [30/67]\tLoss 0.4268 (0.4535)\t\n",
      "Test: [40/67]\tLoss 0.4508 (0.4590)\t\n",
      "Test: [50/67]\tLoss 0.4825 (0.4631)\t\n",
      "Test: [60/67]\tLoss 0.4381 (0.4691)\t\n"
     ]
    },
    {
     "name": "stderr",
     "output_type": "stream",
     "text": [
      "\r",
      "Epoch [008/040]:  22%|██▎       | 9/40 [31:30<1:48:47, 210.55s/it, train_loss=0.5, val_loss=0.471]  "
     ]
    },
    {
     "name": "stdout",
     "output_type": "stream",
     "text": [
      "Epoch: [9][0/201]\tLoss 0.4183 (0.4183)\t\n",
      "Epoch: [9][10/201]\tLoss 0.4324 (0.4873)\t\n",
      "Epoch: [9][20/201]\tLoss 0.4686 (0.4788)\t\n",
      "Epoch: [9][30/201]\tLoss 0.5233 (0.4893)\t\n",
      "Epoch: [9][40/201]\tLoss 0.4621 (0.4905)\t\n",
      "Epoch: [9][50/201]\tLoss 0.4778 (0.4886)\t\n",
      "Epoch: [9][60/201]\tLoss 0.3979 (0.4898)\t\n",
      "Epoch: [9][70/201]\tLoss 0.4462 (0.4927)\t\n",
      "Epoch: [9][80/201]\tLoss 0.5431 (0.4950)\t\n",
      "Epoch: [9][90/201]\tLoss 0.4107 (0.4965)\t\n",
      "Epoch: [9][100/201]\tLoss 0.4540 (0.4958)\t\n",
      "Epoch: [9][110/201]\tLoss 0.4730 (0.4975)\t\n",
      "Epoch: [9][120/201]\tLoss 0.3941 (0.4985)\t\n",
      "Epoch: [9][130/201]\tLoss 0.4184 (0.5002)\t\n",
      "Epoch: [9][140/201]\tLoss 0.6812 (0.5018)\t\n",
      "Epoch: [9][150/201]\tLoss 0.4456 (0.4987)\t\n",
      "Epoch: [9][160/201]\tLoss 0.4561 (0.4966)\t\n",
      "Epoch: [9][170/201]\tLoss 0.5725 (0.4954)\t\n",
      "Epoch: [9][180/201]\tLoss 0.4210 (0.4954)\t\n",
      "Epoch: [9][190/201]\tLoss 0.4744 (0.4955)\t\n",
      "Epoch: [9][200/201]\tLoss 0.5776 (0.4956)\t\n",
      "Test: [0/67]\tLoss 0.4869 (0.4869)\t\n",
      "Test: [10/67]\tLoss 0.4261 (0.4491)\t\n",
      "Test: [20/67]\tLoss 0.4612 (0.4636)\t\n",
      "Test: [30/67]\tLoss 0.4586 (0.4670)\t\n",
      "Test: [40/67]\tLoss 0.4077 (0.4632)\t\n",
      "Test: [50/67]\tLoss 0.5489 (0.4629)\t\n",
      "Test: [60/67]\tLoss 0.3909 (0.4648)\t\n"
     ]
    },
    {
     "name": "stderr",
     "output_type": "stream",
     "text": [
      "\r",
      "Epoch [009/040]:  25%|██▌       | 10/40 [35:03<1:45:32, 211.08s/it, train_loss=0.496, val_loss=0.464]"
     ]
    },
    {
     "name": "stdout",
     "output_type": "stream",
     "text": [
      "Epoch: [10][0/201]\tLoss 0.5889 (0.5889)\t\n",
      "Epoch: [10][10/201]\tLoss 0.4577 (0.5007)\t\n",
      "Epoch: [10][20/201]\tLoss 0.4854 (0.5007)\t\n",
      "Epoch: [10][30/201]\tLoss 0.3644 (0.4858)\t\n",
      "Epoch: [10][40/201]\tLoss 0.6024 (0.4945)\t\n",
      "Epoch: [10][50/201]\tLoss 0.5577 (0.4902)\t\n",
      "Epoch: [10][60/201]\tLoss 0.5579 (0.4876)\t\n",
      "Epoch: [10][70/201]\tLoss 0.4069 (0.4818)\t\n",
      "Epoch: [10][80/201]\tLoss 0.4184 (0.4837)\t\n",
      "Epoch: [10][90/201]\tLoss 0.5418 (0.4876)\t\n",
      "Epoch: [10][100/201]\tLoss 0.5433 (0.4883)\t\n",
      "Epoch: [10][110/201]\tLoss 0.4615 (0.4858)\t\n",
      "Epoch: [10][120/201]\tLoss 0.5465 (0.4878)\t\n",
      "Epoch: [10][130/201]\tLoss 0.4697 (0.4888)\t\n",
      "Epoch: [10][140/201]\tLoss 0.5550 (0.4895)\t\n",
      "Epoch: [10][150/201]\tLoss 0.3695 (0.4882)\t\n",
      "Epoch: [10][160/201]\tLoss 0.5497 (0.4882)\t\n",
      "Epoch: [10][170/201]\tLoss 0.4762 (0.4885)\t\n",
      "Epoch: [10][180/201]\tLoss 0.5051 (0.4877)\t\n",
      "Epoch: [10][190/201]\tLoss 0.5014 (0.4881)\t\n",
      "Epoch: [10][200/201]\tLoss 0.5212 (0.4888)\t\n",
      "Test: [0/67]\tLoss 0.6244 (0.6244)\t\n",
      "Test: [10/67]\tLoss 0.4073 (0.4878)\t\n",
      "Test: [20/67]\tLoss 0.4862 (0.4637)\t\n",
      "Test: [30/67]\tLoss 0.3987 (0.4533)\t\n",
      "Test: [40/67]\tLoss 0.4642 (0.4624)\t\n",
      "Test: [50/67]\tLoss 0.4126 (0.4603)\t\n",
      "Test: [60/67]\tLoss 0.3958 (0.4586)\t\n"
     ]
    },
    {
     "name": "stderr",
     "output_type": "stream",
     "text": [
      "\r",
      "Epoch [010/040]:  28%|██▊       | 11/40 [38:31<1:41:33, 210.13s/it, train_loss=0.489, val_loss=0.457]"
     ]
    },
    {
     "name": "stdout",
     "output_type": "stream",
     "text": [
      "Epoch: [11][0/201]\tLoss 0.6756 (0.6756)\t\n",
      "Epoch: [11][10/201]\tLoss 0.6266 (0.4923)\t\n",
      "Epoch: [11][20/201]\tLoss 0.4265 (0.4794)\t\n",
      "Epoch: [11][30/201]\tLoss 0.5130 (0.4734)\t\n",
      "Epoch: [11][40/201]\tLoss 0.3904 (0.4736)\t\n",
      "Epoch: [11][50/201]\tLoss 0.4013 (0.4720)\t\n",
      "Epoch: [11][60/201]\tLoss 0.5171 (0.4716)\t\n",
      "Epoch: [11][70/201]\tLoss 0.3693 (0.4696)\t\n",
      "Epoch: [11][80/201]\tLoss 0.5337 (0.4691)\t\n",
      "Epoch: [11][90/201]\tLoss 0.5586 (0.4771)\t\n",
      "Epoch: [11][100/201]\tLoss 0.4441 (0.4800)\t\n",
      "Epoch: [11][110/201]\tLoss 0.4947 (0.4778)\t\n",
      "Epoch: [11][120/201]\tLoss 0.5391 (0.4813)\t\n",
      "Epoch: [11][130/201]\tLoss 0.5971 (0.4830)\t\n",
      "Epoch: [11][140/201]\tLoss 0.4340 (0.4822)\t\n",
      "Epoch: [11][150/201]\tLoss 0.5069 (0.4806)\t\n",
      "Epoch: [11][160/201]\tLoss 0.4332 (0.4788)\t\n",
      "Epoch: [11][170/201]\tLoss 0.5845 (0.4818)\t\n",
      "Epoch: [11][180/201]\tLoss 0.3549 (0.4818)\t\n",
      "Epoch: [11][190/201]\tLoss 0.3786 (0.4817)\t\n",
      "Epoch: [11][200/201]\tLoss 0.4246 (0.4837)\t\n",
      "Test: [0/67]\tLoss 0.4074 (0.4074)\t\n",
      "Test: [10/67]\tLoss 0.5152 (0.4949)\t\n",
      "Test: [20/67]\tLoss 0.4859 (0.4780)\t\n",
      "Test: [30/67]\tLoss 0.4328 (0.4705)\t\n",
      "Test: [40/67]\tLoss 0.5460 (0.4731)\t\n",
      "Test: [50/67]\tLoss 0.4017 (0.4633)\t\n",
      "Test: [60/67]\tLoss 0.3665 (0.4604)\t\n"
     ]
    },
    {
     "name": "stderr",
     "output_type": "stream",
     "text": [
      "\r",
      "Epoch [011/040]:  30%|███       | 12/40 [42:02<1:38:18, 210.68s/it, train_loss=0.484, val_loss=0.463]"
     ]
    },
    {
     "name": "stdout",
     "output_type": "stream",
     "text": [
      "Epoch: [12][0/201]\tLoss 0.4204 (0.4204)\t\n",
      "Epoch: [12][10/201]\tLoss 0.4684 (0.5026)\t\n",
      "Epoch: [12][20/201]\tLoss 0.4546 (0.4815)\t\n",
      "Epoch: [12][30/201]\tLoss 0.4944 (0.4788)\t\n",
      "Epoch: [12][40/201]\tLoss 0.4180 (0.4791)\t\n",
      "Epoch: [12][50/201]\tLoss 0.3556 (0.4734)\t\n",
      "Epoch: [12][60/201]\tLoss 0.4519 (0.4717)\t\n",
      "Epoch: [12][70/201]\tLoss 0.5412 (0.4746)\t\n",
      "Epoch: [12][80/201]\tLoss 0.4627 (0.4778)\t\n",
      "Epoch: [12][90/201]\tLoss 0.5380 (0.4756)\t\n",
      "Epoch: [12][100/201]\tLoss 0.5268 (0.4780)\t\n",
      "Epoch: [12][110/201]\tLoss 0.4616 (0.4746)\t\n",
      "Epoch: [12][120/201]\tLoss 0.4813 (0.4744)\t\n",
      "Epoch: [12][130/201]\tLoss 0.5021 (0.4754)\t\n",
      "Epoch: [12][140/201]\tLoss 0.4679 (0.4744)\t\n",
      "Epoch: [12][150/201]\tLoss 0.3385 (0.4727)\t\n",
      "Epoch: [12][160/201]\tLoss 0.5362 (0.4787)\t\n",
      "Epoch: [12][170/201]\tLoss 0.5887 (0.4859)\t\n",
      "Epoch: [12][180/201]\tLoss 0.4931 (0.4898)\t\n",
      "Epoch: [12][190/201]\tLoss 0.4943 (0.4929)\t\n",
      "Epoch: [12][200/201]\tLoss 0.4593 (0.4939)\t\n",
      "Test: [0/67]\tLoss 0.4075 (0.4075)\t\n",
      "Test: [10/67]\tLoss 0.5128 (0.4628)\t\n",
      "Test: [20/67]\tLoss 0.5132 (0.4659)\t\n",
      "Test: [30/67]\tLoss 0.4799 (0.4793)\t\n",
      "Test: [40/67]\tLoss 0.3705 (0.4797)\t\n",
      "Test: [50/67]\tLoss 0.5931 (0.4862)\t\n",
      "Test: [60/67]\tLoss 0.5944 (0.4886)\t\n"
     ]
    },
    {
     "name": "stderr",
     "output_type": "stream",
     "text": [
      "\r",
      "Epoch [012/040]:  32%|███▎      | 13/40 [45:35<1:35:03, 211.24s/it, train_loss=0.494, val_loss=0.491]"
     ]
    },
    {
     "name": "stdout",
     "output_type": "stream",
     "text": [
      "Epoch: [13][0/201]\tLoss 0.4723 (0.4723)\t\n",
      "Epoch: [13][10/201]\tLoss 0.5821 (0.5206)\t\n",
      "Epoch: [13][20/201]\tLoss 0.4395 (0.5148)\t\n",
      "Epoch: [13][30/201]\tLoss 0.5375 (0.5233)\t\n",
      "Epoch: [13][40/201]\tLoss 0.4629 (0.5198)\t\n",
      "Epoch: [13][50/201]\tLoss 0.4911 (0.5168)\t\n",
      "Epoch: [13][60/201]\tLoss 0.5000 (0.5089)\t\n",
      "Epoch: [13][70/201]\tLoss 0.4208 (0.5039)\t\n",
      "Epoch: [13][80/201]\tLoss 0.5044 (0.5033)\t\n",
      "Epoch: [13][90/201]\tLoss 0.5203 (0.5007)\t\n",
      "Epoch: [13][100/201]\tLoss 0.5698 (0.5024)\t\n",
      "Epoch: [13][110/201]\tLoss 0.4937 (0.5009)\t\n",
      "Epoch: [13][120/201]\tLoss 0.5043 (0.4985)\t\n",
      "Epoch: [13][130/201]\tLoss 0.4735 (0.4955)\t\n",
      "Epoch: [13][140/201]\tLoss 0.4210 (0.4948)\t\n",
      "Epoch: [13][150/201]\tLoss 0.4414 (0.4957)\t\n",
      "Epoch: [13][160/201]\tLoss 0.4224 (0.4939)\t\n",
      "Epoch: [13][170/201]\tLoss 0.4372 (0.4921)\t\n",
      "Epoch: [13][180/201]\tLoss 0.5124 (0.4911)\t\n",
      "Epoch: [13][190/201]\tLoss 0.5724 (0.4922)\t\n",
      "Epoch: [13][200/201]\tLoss 0.5230 (0.4922)\t\n",
      "Test: [0/67]\tLoss 0.5648 (0.5648)\t\n",
      "Test: [10/67]\tLoss 0.5179 (0.4739)\t\n",
      "Test: [20/67]\tLoss 0.4649 (0.4621)\t\n",
      "Test: [30/67]\tLoss 0.2950 (0.4462)\t\n",
      "Test: [40/67]\tLoss 0.5172 (0.4554)\t\n",
      "Test: [50/67]\tLoss 0.4777 (0.4587)\t\n",
      "Test: [60/67]\tLoss 0.5422 (0.4688)\t\n"
     ]
    },
    {
     "name": "stderr",
     "output_type": "stream",
     "text": [
      "\r",
      "Epoch [013/040]:  35%|███▌      | 14/40 [49:07<1:31:38, 211.46s/it, train_loss=0.492, val_loss=0.467]"
     ]
    },
    {
     "name": "stdout",
     "output_type": "stream",
     "text": [
      "Epoch: [14][0/201]\tLoss 0.5440 (0.5440)\t\n",
      "Epoch: [14][10/201]\tLoss 0.3172 (0.4654)\t\n",
      "Epoch: [14][20/201]\tLoss 0.4625 (0.4780)\t\n",
      "Epoch: [14][30/201]\tLoss 0.4264 (0.4645)\t\n",
      "Epoch: [14][40/201]\tLoss 0.5424 (0.4673)\t\n",
      "Epoch: [14][50/201]\tLoss 0.4268 (0.4657)\t\n",
      "Epoch: [14][60/201]\tLoss 0.5939 (0.4718)\t\n",
      "Epoch: [14][70/201]\tLoss 0.4391 (0.4676)\t\n",
      "Epoch: [14][80/201]\tLoss 0.3827 (0.4704)\t\n",
      "Epoch: [14][90/201]\tLoss 0.4581 (0.4707)\t\n",
      "Epoch: [14][100/201]\tLoss 0.4783 (0.4721)\t\n",
      "Epoch: [14][110/201]\tLoss 0.4230 (0.4704)\t\n",
      "Epoch: [14][120/201]\tLoss 0.3738 (0.4728)\t\n",
      "Epoch: [14][130/201]\tLoss 0.4339 (0.4739)\t\n",
      "Epoch: [14][140/201]\tLoss 0.4633 (0.4747)\t\n",
      "Epoch: [14][150/201]\tLoss 0.4365 (0.4760)\t\n",
      "Epoch: [14][160/201]\tLoss 0.5199 (0.4769)\t\n",
      "Epoch: [14][170/201]\tLoss 0.5997 (0.4792)\t\n",
      "Epoch: [14][180/201]\tLoss 0.5182 (0.4800)\t\n",
      "Epoch: [14][190/201]\tLoss 0.4642 (0.4810)\t\n",
      "Epoch: [14][200/201]\tLoss 0.5668 (0.4830)\t\n",
      "Test: [0/67]\tLoss 0.3822 (0.3822)\t\n",
      "Test: [10/67]\tLoss 0.3694 (0.4360)\t\n",
      "Test: [20/67]\tLoss 0.4328 (0.4442)\t\n",
      "Test: [30/67]\tLoss 0.5126 (0.4595)\t\n",
      "Test: [40/67]\tLoss 0.4773 (0.4571)\t\n",
      "Test: [50/67]\tLoss 0.4689 (0.4628)\t\n",
      "Test: [60/67]\tLoss 0.5221 (0.4665)\t\n"
     ]
    },
    {
     "name": "stderr",
     "output_type": "stream",
     "text": [
      "\r",
      "Epoch [014/040]:  38%|███▊      | 15/40 [52:40<1:28:15, 211.81s/it, train_loss=0.483, val_loss=0.468]"
     ]
    },
    {
     "name": "stdout",
     "output_type": "stream",
     "text": [
      "Epoch: [15][0/201]\tLoss 0.6895 (0.6895)\t\n",
      "Epoch: [15][10/201]\tLoss 0.5488 (0.4808)\t\n",
      "Epoch: [15][20/201]\tLoss 0.4124 (0.4820)\t\n",
      "Epoch: [15][30/201]\tLoss 0.3887 (0.4667)\t\n",
      "Epoch: [15][40/201]\tLoss 0.4216 (0.4671)\t\n",
      "Epoch: [15][50/201]\tLoss 0.4744 (0.4647)\t\n",
      "Epoch: [15][60/201]\tLoss 0.5060 (0.4684)\t\n",
      "Epoch: [15][70/201]\tLoss 0.4988 (0.4732)\t\n",
      "Epoch: [15][80/201]\tLoss 0.4485 (0.4765)\t\n",
      "Epoch: [15][90/201]\tLoss 0.4973 (0.4771)\t\n",
      "Epoch: [15][100/201]\tLoss 0.4960 (0.4818)\t\n",
      "Epoch: [15][110/201]\tLoss 0.3753 (0.4824)\t\n",
      "Epoch: [15][120/201]\tLoss 0.5247 (0.4833)\t\n",
      "Epoch: [15][130/201]\tLoss 0.3172 (0.4818)\t\n",
      "Epoch: [15][140/201]\tLoss 0.3987 (0.4840)\t\n",
      "Epoch: [15][150/201]\tLoss 0.4469 (0.4822)\t\n",
      "Epoch: [15][160/201]\tLoss 0.4196 (0.4809)\t\n",
      "Epoch: [15][170/201]\tLoss 0.4466 (0.4796)\t\n",
      "Epoch: [15][180/201]\tLoss 0.5018 (0.4769)\t\n",
      "Epoch: [15][190/201]\tLoss 0.6101 (0.4786)\t\n",
      "Epoch: [15][200/201]\tLoss 0.4199 (0.4766)\t\n",
      "Test: [0/67]\tLoss 0.5307 (0.5307)\t\n",
      "Test: [10/67]\tLoss 0.5250 (0.4321)\t\n",
      "Test: [20/67]\tLoss 0.3967 (0.4344)\t\n",
      "Test: [30/67]\tLoss 0.4057 (0.4327)\t\n",
      "Test: [40/67]\tLoss 0.4542 (0.4472)\t\n",
      "Test: [50/67]\tLoss 0.4188 (0.4497)\t\n",
      "Test: [60/67]\tLoss 0.3189 (0.4540)\t\n"
     ]
    },
    {
     "name": "stderr",
     "output_type": "stream",
     "text": [
      "\r",
      "Epoch [015/040]:  40%|████      | 16/40 [56:12<1:24:48, 212.01s/it, train_loss=0.477, val_loss=0.452]"
     ]
    },
    {
     "name": "stdout",
     "output_type": "stream",
     "text": [
      "Epoch: [16][0/201]\tLoss 0.4785 (0.4785)\t\n",
      "Epoch: [16][10/201]\tLoss 0.5615 (0.4700)\t\n",
      "Epoch: [16][20/201]\tLoss 0.4480 (0.4712)\t\n",
      "Epoch: [16][30/201]\tLoss 0.5408 (0.4848)\t\n",
      "Epoch: [16][40/201]\tLoss 0.4650 (0.4837)\t\n",
      "Epoch: [16][50/201]\tLoss 0.5318 (0.4867)\t\n",
      "Epoch: [16][60/201]\tLoss 0.5809 (0.4893)\t\n",
      "Epoch: [16][70/201]\tLoss 0.4826 (0.4894)\t\n",
      "Epoch: [16][80/201]\tLoss 0.3853 (0.4855)\t\n",
      "Epoch: [16][90/201]\tLoss 0.4093 (0.4835)\t\n",
      "Epoch: [16][100/201]\tLoss 0.4199 (0.4795)\t\n",
      "Epoch: [16][110/201]\tLoss 0.4475 (0.4740)\t\n",
      "Epoch: [16][120/201]\tLoss 0.3269 (0.4716)\t\n",
      "Epoch: [16][130/201]\tLoss 0.5306 (0.4692)\t\n",
      "Epoch: [16][140/201]\tLoss 0.5064 (0.4716)\t\n",
      "Epoch: [16][150/201]\tLoss 0.4739 (0.4726)\t\n",
      "Epoch: [16][160/201]\tLoss 0.4841 (0.4715)\t\n",
      "Epoch: [16][170/201]\tLoss 0.5190 (0.4710)\t\n",
      "Epoch: [16][180/201]\tLoss 0.5845 (0.4690)\t\n",
      "Epoch: [16][190/201]\tLoss 0.4444 (0.4715)\t\n",
      "Epoch: [16][200/201]\tLoss 0.5462 (0.4718)\t\n",
      "Test: [0/67]\tLoss 0.4119 (0.4119)\t\n",
      "Test: [10/67]\tLoss 0.3397 (0.4291)\t\n",
      "Test: [20/67]\tLoss 0.4677 (0.4466)\t\n",
      "Test: [30/67]\tLoss 0.4029 (0.4572)\t\n",
      "Test: [40/67]\tLoss 0.4455 (0.4478)\t\n",
      "Test: [50/67]\tLoss 0.4241 (0.4476)\t\n",
      "Test: [60/67]\tLoss 0.4367 (0.4483)\t\n"
     ]
    },
    {
     "name": "stderr",
     "output_type": "stream",
     "text": [
      "\r",
      "Epoch [016/040]:  42%|████▎     | 17/40 [59:44<1:21:18, 212.10s/it, train_loss=0.472, val_loss=0.446]"
     ]
    },
    {
     "name": "stdout",
     "output_type": "stream",
     "text": [
      "Epoch: [17][0/201]\tLoss 0.5800 (0.5800)\t\n",
      "Epoch: [17][10/201]\tLoss 0.5855 (0.4885)\t\n",
      "Epoch: [17][20/201]\tLoss 0.5969 (0.4779)\t\n",
      "Epoch: [17][30/201]\tLoss 0.5655 (0.4816)\t\n",
      "Epoch: [17][40/201]\tLoss 0.4513 (0.4802)\t\n",
      "Epoch: [17][50/201]\tLoss 0.4257 (0.4743)\t\n",
      "Epoch: [17][60/201]\tLoss 0.4560 (0.4724)\t\n",
      "Epoch: [17][70/201]\tLoss 0.3635 (0.4713)\t\n",
      "Epoch: [17][80/201]\tLoss 0.5033 (0.4721)\t\n",
      "Epoch: [17][90/201]\tLoss 0.4581 (0.4704)\t\n",
      "Epoch: [17][100/201]\tLoss 0.5097 (0.4744)\t\n",
      "Epoch: [17][110/201]\tLoss 0.4077 (0.4751)\t\n",
      "Epoch: [17][120/201]\tLoss 0.5367 (0.4752)\t\n",
      "Epoch: [17][130/201]\tLoss 0.3636 (0.4709)\t\n",
      "Epoch: [17][140/201]\tLoss 0.4961 (0.4713)\t\n",
      "Epoch: [17][150/201]\tLoss 0.4458 (0.4696)\t\n",
      "Epoch: [17][160/201]\tLoss 0.4927 (0.4685)\t\n",
      "Epoch: [17][170/201]\tLoss 0.6057 (0.4713)\t\n",
      "Epoch: [17][180/201]\tLoss 0.4595 (0.4693)\t\n",
      "Epoch: [17][190/201]\tLoss 0.4413 (0.4701)\t\n",
      "Epoch: [17][200/201]\tLoss 0.5287 (0.4715)\t\n",
      "Test: [0/67]\tLoss 0.3997 (0.3997)\t\n",
      "Test: [10/67]\tLoss 0.4492 (0.4780)\t\n",
      "Test: [20/67]\tLoss 0.2585 (0.4572)\t\n",
      "Test: [30/67]\tLoss 0.4058 (0.4547)\t\n",
      "Test: [40/67]\tLoss 0.3721 (0.4523)\t\n",
      "Test: [50/67]\tLoss 0.4205 (0.4470)\t\n",
      "Test: [60/67]\tLoss 0.4460 (0.4531)\t\n"
     ]
    },
    {
     "name": "stderr",
     "output_type": "stream",
     "text": [
      "\r",
      "Epoch [017/040]:  45%|████▌     | 18/40 [1:03:17<1:17:50, 212.31s/it, train_loss=0.472, val_loss=0.453]"
     ]
    },
    {
     "name": "stdout",
     "output_type": "stream",
     "text": [
      "Epoch: [18][0/201]\tLoss 0.4889 (0.4889)\t\n",
      "Epoch: [18][10/201]\tLoss 0.4499 (0.4530)\t\n",
      "Epoch: [18][20/201]\tLoss 0.4461 (0.4497)\t\n",
      "Epoch: [18][30/201]\tLoss 0.3787 (0.4459)\t\n",
      "Epoch: [18][40/201]\tLoss 0.5037 (0.4580)\t\n",
      "Epoch: [18][50/201]\tLoss 0.5372 (0.4660)\t\n",
      "Epoch: [18][60/201]\tLoss 0.4829 (0.4636)\t\n",
      "Epoch: [18][70/201]\tLoss 0.6011 (0.4646)\t\n",
      "Epoch: [18][80/201]\tLoss 0.5415 (0.4593)\t\n",
      "Epoch: [18][90/201]\tLoss 0.4623 (0.4583)\t\n",
      "Epoch: [18][100/201]\tLoss 0.5471 (0.4579)\t\n",
      "Epoch: [18][110/201]\tLoss 0.5232 (0.4620)\t\n",
      "Epoch: [18][120/201]\tLoss 0.3088 (0.4638)\t\n",
      "Epoch: [18][130/201]\tLoss 0.4617 (0.4651)\t\n",
      "Epoch: [18][140/201]\tLoss 0.5278 (0.4645)\t\n",
      "Epoch: [18][150/201]\tLoss 0.5109 (0.4649)\t\n",
      "Epoch: [18][160/201]\tLoss 0.4504 (0.4657)\t\n",
      "Epoch: [18][170/201]\tLoss 0.5342 (0.4672)\t\n",
      "Epoch: [18][180/201]\tLoss 0.4398 (0.4668)\t\n",
      "Epoch: [18][190/201]\tLoss 0.5359 (0.4678)\t\n",
      "Epoch: [18][200/201]\tLoss 0.5087 (0.4672)\t\n",
      "Test: [0/67]\tLoss 0.4598 (0.4598)\t\n",
      "Test: [10/67]\tLoss 0.4851 (0.4587)\t\n",
      "Test: [20/67]\tLoss 0.4512 (0.4444)\t\n",
      "Test: [30/67]\tLoss 0.4265 (0.4432)\t\n",
      "Test: [40/67]\tLoss 0.5267 (0.4414)\t\n",
      "Test: [50/67]\tLoss 0.4751 (0.4374)\t\n",
      "Test: [60/67]\tLoss 0.4815 (0.4417)\t\n"
     ]
    },
    {
     "name": "stderr",
     "output_type": "stream",
     "text": [
      "\r",
      "Epoch [018/040]:  48%|████▊     | 19/40 [1:06:50<1:14:19, 212.35s/it, train_loss=0.467, val_loss=0.446]"
     ]
    },
    {
     "name": "stdout",
     "output_type": "stream",
     "text": [
      "Epoch: [19][0/201]\tLoss 0.4407 (0.4407)\t\n",
      "Epoch: [19][10/201]\tLoss 0.4758 (0.4636)\t\n",
      "Epoch: [19][20/201]\tLoss 0.4146 (0.4509)\t\n",
      "Epoch: [19][30/201]\tLoss 0.4919 (0.4404)\t\n",
      "Epoch: [19][40/201]\tLoss 0.3836 (0.4460)\t\n",
      "Epoch: [19][50/201]\tLoss 0.3956 (0.4508)\t\n",
      "Epoch: [19][60/201]\tLoss 0.5469 (0.4541)\t\n",
      "Epoch: [19][70/201]\tLoss 0.5189 (0.4632)\t\n",
      "Epoch: [19][80/201]\tLoss 0.4479 (0.4642)\t\n",
      "Epoch: [19][90/201]\tLoss 0.5069 (0.4622)\t\n",
      "Epoch: [19][100/201]\tLoss 0.4741 (0.4619)\t\n",
      "Epoch: [19][110/201]\tLoss 0.3705 (0.4624)\t\n",
      "Epoch: [19][120/201]\tLoss 0.5525 (0.4614)\t\n",
      "Epoch: [19][130/201]\tLoss 0.4509 (0.4608)\t\n",
      "Epoch: [19][140/201]\tLoss 0.5423 (0.4633)\t\n",
      "Epoch: [19][150/201]\tLoss 0.5334 (0.4644)\t\n",
      "Epoch: [19][160/201]\tLoss 0.4292 (0.4648)\t\n",
      "Epoch: [19][170/201]\tLoss 0.5240 (0.4644)\t\n",
      "Epoch: [19][180/201]\tLoss 0.4636 (0.4644)\t\n",
      "Epoch: [19][190/201]\tLoss 0.5260 (0.4666)\t\n",
      "Epoch: [19][200/201]\tLoss 0.4684 (0.4666)\t\n",
      "Test: [0/67]\tLoss 0.4421 (0.4421)\t\n",
      "Test: [10/67]\tLoss 0.3039 (0.3915)\t\n",
      "Test: [20/67]\tLoss 0.4066 (0.4249)\t\n",
      "Test: [30/67]\tLoss 0.5014 (0.4419)\t\n",
      "Test: [40/67]\tLoss 0.3537 (0.4377)\t\n",
      "Test: [50/67]\tLoss 0.4315 (0.4431)\t\n",
      "Test: [60/67]\tLoss 0.5264 (0.4384)\t\n"
     ]
    },
    {
     "name": "stderr",
     "output_type": "stream",
     "text": [
      "\r",
      "Epoch [019/040]:  50%|█████     | 20/40 [1:10:21<1:10:42, 212.11s/it, train_loss=0.467, val_loss=0.438]"
     ]
    },
    {
     "name": "stdout",
     "output_type": "stream",
     "text": [
      "Epoch: [20][0/201]\tLoss 0.5106 (0.5106)\t\n",
      "Epoch: [20][10/201]\tLoss 0.5611 (0.4635)\t\n",
      "Epoch: [20][20/201]\tLoss 0.4378 (0.4520)\t\n",
      "Epoch: [20][30/201]\tLoss 0.5056 (0.4474)\t\n",
      "Epoch: [20][40/201]\tLoss 0.5739 (0.4594)\t\n",
      "Epoch: [20][50/201]\tLoss 0.5108 (0.4656)\t\n",
      "Epoch: [20][60/201]\tLoss 0.4442 (0.4731)\t\n",
      "Epoch: [20][70/201]\tLoss 0.4646 (0.4720)\t\n",
      "Epoch: [20][80/201]\tLoss 0.3808 (0.4686)\t\n",
      "Epoch: [20][90/201]\tLoss 0.4853 (0.4652)\t\n",
      "Epoch: [20][100/201]\tLoss 0.6108 (0.4684)\t\n",
      "Epoch: [20][110/201]\tLoss 0.4070 (0.4696)\t\n",
      "Epoch: [20][120/201]\tLoss 0.3706 (0.4695)\t\n",
      "Epoch: [20][130/201]\tLoss 0.3805 (0.4680)\t\n",
      "Epoch: [20][140/201]\tLoss 0.4792 (0.4709)\t\n",
      "Epoch: [20][150/201]\tLoss 0.4060 (0.4680)\t\n",
      "Epoch: [20][160/201]\tLoss 0.3960 (0.4662)\t\n",
      "Epoch: [20][170/201]\tLoss 0.3419 (0.4650)\t\n",
      "Epoch: [20][180/201]\tLoss 0.4798 (0.4666)\t\n",
      "Epoch: [20][190/201]\tLoss 0.3737 (0.4679)\t\n",
      "Epoch: [20][200/201]\tLoss 0.3300 (0.4661)\t\n",
      "Test: [0/67]\tLoss 0.5534 (0.5534)\t\n",
      "Test: [10/67]\tLoss 0.4660 (0.4106)\t\n",
      "Test: [20/67]\tLoss 0.4592 (0.4169)\t\n",
      "Test: [30/67]\tLoss 0.4680 (0.4350)\t\n",
      "Test: [40/67]\tLoss 0.3400 (0.4303)\t\n",
      "Test: [50/67]\tLoss 0.3428 (0.4347)\t\n",
      "Test: [60/67]\tLoss 0.3899 (0.4429)\t\n"
     ]
    },
    {
     "name": "stderr",
     "output_type": "stream",
     "text": [
      "\r",
      "Epoch [020/040]:  52%|█████▎    | 21/40 [1:13:48<1:06:42, 210.66s/it, train_loss=0.466, val_loss=0.439]"
     ]
    },
    {
     "name": "stdout",
     "output_type": "stream",
     "text": [
      "Epoch: [21][0/201]\tLoss 0.5708 (0.5708)\t\n",
      "Epoch: [21][10/201]\tLoss 0.3870 (0.4727)\t\n",
      "Epoch: [21][20/201]\tLoss 0.4402 (0.4587)\t\n",
      "Epoch: [21][30/201]\tLoss 0.4547 (0.4547)\t\n",
      "Epoch: [21][40/201]\tLoss 0.5697 (0.4604)\t\n",
      "Epoch: [21][50/201]\tLoss 0.5054 (0.4616)\t\n",
      "Epoch: [21][60/201]\tLoss 0.4048 (0.4607)\t\n",
      "Epoch: [21][70/201]\tLoss 0.4460 (0.4616)\t\n",
      "Epoch: [21][80/201]\tLoss 0.3871 (0.4597)\t\n",
      "Epoch: [21][90/201]\tLoss 0.4902 (0.4595)\t\n",
      "Epoch: [21][100/201]\tLoss 0.3823 (0.4587)\t\n",
      "Epoch: [21][110/201]\tLoss 0.4362 (0.4605)\t\n",
      "Epoch: [21][120/201]\tLoss 0.4332 (0.4618)\t\n",
      "Epoch: [21][130/201]\tLoss 0.5418 (0.4633)\t\n",
      "Epoch: [21][140/201]\tLoss 0.4799 (0.4630)\t\n",
      "Epoch: [21][150/201]\tLoss 0.4956 (0.4649)\t\n",
      "Epoch: [21][160/201]\tLoss 0.4831 (0.4640)\t\n",
      "Epoch: [21][170/201]\tLoss 0.5012 (0.4639)\t\n",
      "Epoch: [21][180/201]\tLoss 0.4412 (0.4650)\t\n",
      "Epoch: [21][190/201]\tLoss 0.4607 (0.4655)\t\n",
      "Epoch: [21][200/201]\tLoss 0.4410 (0.4646)\t\n",
      "Test: [0/67]\tLoss 0.5155 (0.5155)\t\n",
      "Test: [10/67]\tLoss 0.4508 (0.4507)\t\n",
      "Test: [20/67]\tLoss 0.3927 (0.4218)\t\n"
     ]
    }
   ],
   "source": [
    "with tqdm.tqdm(total=epochs) as pbar:\n",
    "    for epoch in range(start_epoch, epochs):\n",
    "        # train for one epoch\n",
    "        train_loss = train(train_loader, model, criterion, optimizer, epoch)\n",
    "        # evaluate on validation set\n",
    "        val_loss = validate(val_loader, model, criterion)\n",
    "        scheduler.step(val_loss)\n",
    "        pbar.set_description('Epoch [{0}/{1}]'.format(str(epoch).zfill(3),str(epochs).zfill(3)), refresh=False)\n",
    "        pbar.set_postfix(train_loss=train_loss, val_loss=val_loss, refresh=False)\n",
    "        pbar.update(1)"
   ]
  },
  {
   "cell_type": "code",
   "execution_count": 39,
   "metadata": {
    "ExecuteTime": {
     "end_time": "2018-03-16T10:25:22.558761Z",
     "start_time": "2018-03-16T10:25:22.387797Z"
    }
   },
   "outputs": [
    {
     "data": {
      "text/plain": [
       "<matplotlib.axes._subplots.AxesSubplot at 0x7f4cd8250e48>"
      ]
     },
     "execution_count": 39,
     "metadata": {},
     "output_type": "execute_result"
    },
    {
     "data": {
      "image/png": "[encoded data removed]",
      "text/plain": [
       "<matplotlib.figure.Figure at 0x7f4cd824e630>"
      ]
     },
     "metadata": {},
     "output_type": "display_data"
    }
   ],
   "source": [
    "train_dataset.df[train_dataset.df.ForecastId == 359].Value.plot()"
   ]
  },
  {
   "cell_type": "code",
   "execution_count": 18,
   "metadata": {
    "ExecuteTime": {
     "end_time": "2018-03-16T11:10:49.066271Z",
     "start_time": "2018-03-16T11:10:49.063867Z"
    }
   },
   "outputs": [],
   "source": [
    "a = np.random.randint(1,size=(1,192))"
   ]
  },
  {
   "cell_type": "code",
   "execution_count": null,
   "metadata": {},
   "outputs": [],
   "source": [
    "np.vstack([a] * 16)"
   ]
  },
  {
   "cell_type": "code",
   "execution_count": 22,
   "metadata": {
    "ExecuteTime": {
     "end_time": "2018-03-16T11:11:51.283014Z",
     "start_time": "2018-03-16T11:11:51.279124Z"
    }
   },
   "outputs": [
    {
     "data": {
      "text/plain": [
       "[0, 1, 2, 3, 4, 5, 6, 7, 8, 9, 10, 11, 12, 13, 14, 15]"
      ]
     },
     "execution_count": 22,
     "metadata": {},
     "output_type": "execute_result"
    }
   ],
   "source": [
    "list(range(0,16))"
   ]
  },
  {
   "cell_type": "code",
   "execution_count": 21,
   "metadata": {
    "ExecuteTime": {
     "end_time": "2018-03-16T11:11:25.003124Z",
     "start_time": "2018-03-16T11:11:24.998206Z"
    }
   },
   "outputs": [
    {
     "data": {
      "text/plain": [
       "(16, 192)"
      ]
     },
     "execution_count": 21,
     "metadata": {},
     "output_type": "execute_result"
    }
   ],
   "source": [
    "np.vstack([a] * 16).shape"
   ]
  },
  {
   "cell_type": "code",
   "execution_count": 15,
   "metadata": {
    "ExecuteTime": {
     "end_time": "2018-03-16T10:17:45.165489Z",
     "start_time": "2018-03-16T10:17:45.160201Z"
    }
   },
   "outputs": [
    {
     "data": {
      "text/plain": [
       "((64, 192), (64, 384, 8), (64, 192))"
      ]
     },
     "execution_count": 15,
     "metadata": {},
     "output_type": "execute_result"
    }
   ],
   "source": [
    "x1.shape,x2.shape,y.shape"
   ]
  },
  {
   "cell_type": "code",
   "execution_count": 47,
   "metadata": {
    "ExecuteTime": {
     "end_time": "2018-03-16T10:27:21.247960Z",
     "start_time": "2018-03-16T10:27:21.243034Z"
    }
   },
   "outputs": [
    {
     "data": {
      "text/plain": [
       "(8,)"
      ]
     },
     "execution_count": 47,
     "metadata": {},
     "output_type": "execute_result"
    }
   ],
   "source": [
    "x2[idx,0].shape"
   ]
  },
  {
   "cell_type": "code",
   "execution_count": 48,
   "metadata": {
    "ExecuteTime": {
     "end_time": "2018-03-16T10:27:27.183309Z",
     "start_time": "2018-03-16T10:27:27.010938Z"
    }
   },
   "outputs": [
    {
     "data": {
      "image/png": "[encoded data removed]",
      "text/plain": [
       "<matplotlib.figure.Figure at 0x7f4cd82804a8>"
      ]
     },
     "metadata": {},
     "output_type": "display_data"
    }
   ],
   "source": [
    "import matplotlib.pyplot as plt\n",
    "idx = 10\n",
    "plot_df = pd.DataFrame(list(x2[idx,:,0]))\n",
    "plot_df.plot()\n",
    "plt.show()"
   ]
  },
  {
   "cell_type": "code",
   "execution_count": 35,
   "metadata": {
    "ExecuteTime": {
     "end_time": "2018-03-16T10:23:55.646343Z",
     "start_time": "2018-03-16T10:23:55.467965Z"
    }
   },
   "outputs": [
    {
     "data": {
      "image/png": "[encoded data removed]",
      "text/plain": [
       "<matplotlib.figure.Figure at 0x7f4cd827cc18>"
      ]
     },
     "metadata": {},
     "output_type": "display_data"
    }
   ],
   "source": [
    "import matplotlib.pyplot as plt\n",
    "idx = 38\n",
    "plot_df = pd.DataFrame(list(x1[idx,:])+list(y[idx+10,:]))\n",
    "plot_df.plot()\n",
    "plt.show()"
   ]
  },
  {
   "cell_type": "code",
   "execution_count": null,
   "metadata": {},
   "outputs": [],
   "source": [
    "def save_checkpoint(state, is_best, filename, best_filename):\n",
    "    torch.save(state, filename)\n",
    "    if is_best:\n",
    "        shutil.copyfile(filename, best_filename)\n",
    "\n"
   ]
  }
 ],
 "metadata": {
  "kernelspec": {
   "display_name": "Python 3",
   "language": "python",
   "name": "python3"
  },
  "language_info": {
   "codemirror_mode": {
    "name": "ipython",
    "version": 3
   },
   "file_extension": ".py",
   "mimetype": "text/x-python",
   "name": "python",
   "nbconvert_exporter": "python",
   "pygments_lexer": "ipython3",
   "version": "3.5.4"
  },
  "toc": {
   "nav_menu": {},
   "number_sections": true,
   "sideBar": true,
   "skip_h1_title": false,
   "title_cell": "Table of Contents",
   "title_sidebar": "Contents",
   "toc_cell": false,
   "toc_position": {
    "height": "702px",
    "left": "307px",
    "top": "111px",
    "width": "165px"
   },
   "toc_section_display": true,
   "toc_window_display": true
  }
 },
 "nbformat": 4,
 "nbformat_minor": 2
}
