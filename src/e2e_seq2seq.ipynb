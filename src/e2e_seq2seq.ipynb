{
 "cells": [
  {
   "cell_type": "markdown",
   "metadata": {
    "heading_collapsed": true
   },
   "source": [
    "# Prepare data"
   ]
  },
  {
   "cell_type": "code",
   "execution_count": 1,
   "metadata": {
    "ExecuteTime": {
     "end_time": "2018-03-16T15:39:01.647615Z",
     "start_time": "2018-03-16T15:35:53.608740Z"
    },
    "code_folding": [
     34
    ],
    "hidden": true
   },
   "outputs": [
    {
     "name": "stdout",
     "output_type": "stream",
     "text": [
      "Starting the ETL process\n",
      "Time taken to complete the ETL process 178.52322030067444\n"
     ]
    },
    {
     "name": "stderr",
     "output_type": "stream",
     "text": [
      " 17%|█▋        | 1/6 [00:00<00:00,  6.24it/s]"
     ]
    },
    {
     "name": "stdout",
     "output_type": "stream",
     "text": [
      "Removing drastic outliers ... \n"
     ]
    },
    {
     "name": "stderr",
     "output_type": "stream",
     "text": [
      "100%|██████████| 6/6 [00:00<00:00,  6.22it/s]\n"
     ]
    }
   ],
   "source": [
    "import tqdm\n",
    "import time\n",
    "import numpy as np\n",
    "import pandas as pd\n",
    "from math import sqrt\n",
    "from sklearn import  metrics\n",
    " \n",
    "# custom utils and random forest scripts\n",
    "from Utils import ETL_emb, count_test_period\n",
    "\n",
    "# dummy variable list            \n",
    "from holidayList import hol_list\n",
    "\n",
    "LOGNUMBER = 'e2e_seq2seq'\n",
    "\n",
    "print('Starting the ETL process')\n",
    "\n",
    "start_time = time.time()\n",
    "df_train,df_sub = ETL_emb()\n",
    "test_lengths = count_test_period(df_sub)\n",
    "elapsed_time = time.time() - start_time \n",
    "\n",
    "print('Time taken to complete the ETL process {}'.format(elapsed_time))\n",
    "\n",
    "forecast_ids = list(test_lengths.keys())\n",
    "site_ids = list(df_sub.SiteId.unique())\n",
    "\n",
    "# suppress pandas warnings\n",
    "# do not do this in production!\n",
    "pd.set_option('mode.chained_assignment', None)\n",
    "\n",
    "submission_df = pd.read_csv('../data/forecast/submission_format.csv')\n",
    "submission_df = submission_df.set_index('obs_id')\n",
    "\n",
    "def preprocess_seq2seq(df_train,df_sub):\n",
    "    # add train / test marker\n",
    "    df_train['is_train'] = 1\n",
    "    df_sub['is_train'] = 0\n",
    "\n",
    "    # merge dataframes together\n",
    "    data_df = df_train.append(df_sub)\n",
    "    del df_train,df_sub\n",
    "    \n",
    "    # sort dataframe by site_id and timestamp \n",
    "    # so that we could easily use ar features \n",
    "    # and do indexing\n",
    "    data_df['Timestamp'] = pd.to_datetime(data_df['Timestamp'] )\n",
    "    data_df = data_df.sort_values(by = ['SiteId','Timestamp'])\n",
    "    \n",
    "    # replace non-existent temperature with base temperature\n",
    "    data_df.loc[(data_df.Temperature == -1),'Temperature'] = data_df.loc[(data_df.Temperature == -1),'BaseTemperature']    \n",
    "    \n",
    "    \n",
    "    # produce future features for temperature\n",
    "    \"\"\"\n",
    "    print('Producing shifted future temperature features ...')\n",
    "    with tqdm.tqdm(total=len(site_ids)) as pbar:\n",
    "        for site_id in site_ids:\n",
    "            data_df.loc[data_df.SiteId == site_id, 'FT1'] = data_df.loc[data_df.SiteId == site_id, 'Temperature'].shift(-1)\n",
    "            data_df.loc[data_df.SiteId == site_id, 'FT5'] = data_df.loc[data_df.SiteId == site_id, 'Temperature'].shift(-5)\n",
    "            data_df.loc[data_df.SiteId == site_id, 'FT10'] = data_df.loc[data_df.SiteId == site_id, 'Temperature'].shift(-10)\n",
    "            data_df.loc[data_df.SiteId == site_id, 'FT50'] = data_df.loc[data_df.SiteId == site_id, 'Temperature'].shift(-50)\n",
    "\n",
    "            data_df.loc[data_df.SiteId == site_id, 'FT1'] = data_df.loc[data_df.SiteId == site_id, 'FT1'].fillna(method='ffill')\n",
    "            data_df.loc[data_df.SiteId == site_id, 'FT5'] = data_df.loc[data_df.SiteId == site_id, 'FT5'].fillna(method='ffill')\n",
    "            data_df.loc[data_df.SiteId == site_id, 'FT10'] = data_df.loc[data_df.SiteId == site_id, 'FT10'].fillna(method='ffill')\n",
    "            data_df.loc[data_df.SiteId == site_id, 'FT50'] = data_df.loc[data_df.SiteId == site_id, 'FT50'].fillna(method='ffill')\n",
    "\n",
    "            pbar.update(1)\n",
    "    \"\"\"\n",
    "    \n",
    "    # remove very drastic outliers \n",
    "    print('Removing drastic outliers ... ')\n",
    "    with tqdm.tqdm(total=len([1964, 1968, 1969, 4325, 5276, 5536])) as pbar:\n",
    "        for forecast_id in [1964, 1968, 1969, 4325, 5276, 5536]:\n",
    "            data_df.loc[(data_df.ForecastId == forecast_id)\n",
    "                        &(data_df.Value>10**8), 'Value'] = np.nan\n",
    "\n",
    "            data_df.loc[data_df.ForecastId == forecast_id, 'Value'] = data_df.loc[data_df.ForecastId == forecast_id, 'Value'].fillna(method='ffill')\n",
    "            data_df.loc[data_df.ForecastId == forecast_id, 'Value'] = data_df.loc[data_df.ForecastId == forecast_id, 'Value'].fillna(method='bfill')\n",
    "\n",
    "            pbar.update(1)\n",
    "            \n",
    "    return data_df\n",
    "\n",
    "data_df = preprocess_seq2seq(df_train,df_sub)\n",
    "# reset index to make sure we do not have double indexes and for easier indexing\n",
    "data_df = data_df.reset_index()\n",
    "del data_df['index']\n",
    "\n",
    "# leave only the first holiday\n",
    "data_df = data_df[(data_df['obs_id'].shift(+1) != data_df['obs_id'])]\n",
    "data_df = data_df.reset_index()\n",
    "del data_df['index']\n",
    "# fill days wo holidays with -1\n",
    "data_df['Holiday'] = data_df['Holiday'].fillna(value=-1)"
   ]
  },
  {
   "cell_type": "code",
   "execution_count": 2,
   "metadata": {
    "ExecuteTime": {
     "end_time": "2018-03-16T15:39:25.973355Z",
     "start_time": "2018-03-16T15:39:01.649109Z"
    },
    "code_folding": [],
    "hidden": true
   },
   "outputs": [],
   "source": [
    "# interpolation pipeline\n",
    "# (1) find normal series\n",
    "# (2) find series with all NaNs => mark as submit zeroes\n",
    "# (3) use linear interpolation for series with < 0.2 NaNs\n",
    "# (4) series with > 0.5 NaNs => submit averages\n",
    "# (5) series with at least one test set worth of data immediately before test set => truncate train data\n",
    "# (6) submit averages for the remaining series\n",
    "# in the end we have\n",
    "# (1) normal or interpolated series\n",
    "# (2) submit zeroes\n",
    "# (3) submit averages\n",
    "\n",
    "\n",
    "data_df['is_null'] = 0\n",
    "data_df.loc[pd.isnull(data_df.Value),'is_null'] = 1\n",
    "\n",
    "# find normal time series\n",
    "null_df = data_df[data_df.is_train == 1].groupby(['ForecastId'])['is_null'].sum()\n",
    "count_df = data_df[data_df.is_train == 1].groupby(['ForecastId'])['is_null'].count()\n",
    "stat_df = pd.DataFrame()\n",
    "stat_df['null_count'] = null_df\n",
    "stat_df['count'] = count_df\n",
    "stat_df['percent_null'] = stat_df['null_count']/stat_df['count']\n",
    "# stat_df[stat_df.percent_null>0].percent_null.plot(kind='hist')\n",
    "normal_forecast_ids = list(stat_df[(stat_df.percent_null==0)].index.values)\n",
    "\n",
    "# all non-normal series\n",
    "# that have all the train dataset values equal to NAs\n",
    "submit_zeroes = list(stat_df[(stat_df.percent_null==1)].index)\n",
    "# that have the majority of values equal to NAs\n",
    "submit_averages = list(stat_df[(stat_df.percent_null>0.5)\n",
    "                               &(stat_df.percent_null<1)].index)\n",
    "# use linear interpolation for values between 0 and 0.2\n",
    "linear_interpolation = list(stat_df[(stat_df.percent_null>0)\n",
    "                               &(stat_df.percent_null<0.2)].index)\n",
    "\n",
    "data_df.loc[data_df.ForecastId.isin(linear_interpolation),'Value'] = data_df.loc[data_df.ForecastId.isin(linear_interpolation),'Value'].interpolate(method='linear')\n",
    "\n",
    "try_truncating = list(stat_df[(stat_df.percent_null>0.2)\n",
    "                               &(stat_df.percent_null<0.5)].index)\n",
    "\n",
    "use_last_window = []\n",
    "\n",
    "for forecast_id in try_truncating:\n",
    "    test_len = data_df[(data_df.ForecastId==forecast_id)\n",
    "                        &(data_df.is_train==0)].shape[0]\n",
    "    \n",
    "    last_window = data_df[(data_df.ForecastId==forecast_id)\n",
    "                        &(data_df.is_train==1)].iloc[-test_len * 2 - 1:]\n",
    "    \n",
    "    non_blank_last_window = last_window[pd.notnull(last_window.Value)].shape[0] / last_window.shape[0]\n",
    "    \n",
    "    if (non_blank_last_window == 1):\n",
    "        use_last_window.append(forecast_id)\n",
    "    else:\n",
    "        submit_averages.append(forecast_id)\n",
    "        \n",
    "# drop non-last values for these forecast_ids\n",
    "for forecast_id in use_last_window:\n",
    "    \n",
    "    test_len = data_df[(data_df.ForecastId==forecast_id)\n",
    "                        &(data_df.is_train==0)].shape[0]\n",
    "\n",
    "    drop_index = data_df[data_df.ForecastId == forecast_id].index[:-test_len * 3 - 1]\n",
    "\n",
    "    data_df.drop(index=drop_index,inplace=True,axis=0)         \n",
    "    \n",
    "train_forecast_ids = normal_forecast_ids + linear_interpolation + use_last_window    "
   ]
  },
  {
   "cell_type": "markdown",
   "metadata": {},
   "source": [
    "# Try e2e models"
   ]
  },
  {
   "cell_type": "code",
   "execution_count": 4,
   "metadata": {
    "ExecuteTime": {
     "end_time": "2018-03-16T15:06:16.351459Z",
     "start_time": "2018-03-16T15:06:15.900512Z"
    },
    "code_folding": [
     24,
     72,
     105
    ]
   },
   "outputs": [],
   "source": [
    "import torch\n",
    "import torch.nn as nn\n",
    "import torch.nn.parallel\n",
    "import torch.backends.cudnn as cudnn\n",
    "import torch.optim\n",
    "from torch.optim.lr_scheduler import ReduceLROnPlateau,MultiStepLR\n",
    "import torch.utils.data\n",
    "import torchvision.transforms as transforms\n",
    "import torchvision.datasets as datasets\n",
    "import torchvision.models as models\n",
    "\n",
    "# custom classes\n",
    "from SDataset import S2SDataset\n",
    "from ELstm import E2ELSTM,WMSELoss,E2ELSTM_day\n",
    "\n",
    "import torch.utils.data as data\n",
    "from sklearn.preprocessing import StandardScaler\n",
    "from sklearn.model_selection import train_test_split\n",
    "from sklearn import metrics\n",
    "\n",
    "import pandas as pd\n",
    "import numpy as np\n",
    "from math import sqrt\n",
    "\n",
    "def train(train_loader,\n",
    "          model,\n",
    "          criterion,\n",
    "          optimizer,\n",
    "          epoch):\n",
    "    losses = AverageMeter()\n",
    "    # switch to train mode\n",
    "    model.train()\n",
    "\n",
    "    for i, (X_sequences_ar,X_sequences_meta,y_sequences) in enumerate(train_loader):\n",
    "        \n",
    "        # transform data from Batch x Window x Etc into Batch x Etc format\n",
    "        X_sequences_meta = X_sequences_meta.view(-1,X_sequences_meta.size(2),X_sequences_meta.size(3))\n",
    "        X_sequences_ar = X_sequences_ar.view(-1,X_sequences_ar.size(2),1).float()\n",
    "        y_sequences = y_sequences.view(-1,y_sequences.size(2)).float()\n",
    "        X_sequences_temp = X_sequences_meta[:,:,0:1].float()\n",
    "        X_sequences_meta = X_sequences_meta[:,:,1:].long()\n",
    "\n",
    "        \n",
    "        x_temp_var = torch.autograd.Variable(X_sequences_temp)\n",
    "        x_meta_var = torch.autograd.Variable(X_sequences_meta)\n",
    "        x_ar_var = torch.autograd.Variable(X_sequences_ar)\n",
    "        y_var = torch.autograd.Variable(y_sequences)\n",
    "        \n",
    "        # x_temp_var = torch.autograd.Variable(X_sequences_temp.cuda(async=True))\n",
    "        # x_meta_var = torch.autograd.Variable(X_sequences_meta.cuda(async=True))\n",
    "        # x_ar_var = torch.autograd.Variable(X_sequences_ar.cuda(async=True))\n",
    "        # y_var = torch.autograd.Variable(y_sequences.cuda(async=True))\n",
    "\n",
    "        # compute output\n",
    "        output = model(x_temp_var,x_meta_var,x_ar_var)\n",
    "        loss = criterion(output, y_var)\n",
    "\n",
    "        # measure accuracy and record loss\n",
    "        losses.update(loss.data[0], X_sequences_meta.size(0))\n",
    "\n",
    "        # compute gradient and do SGD step\n",
    "        optimizer.zero_grad()\n",
    "        loss.backward()\n",
    "        optimizer.step()\n",
    "        \n",
    "        if i % 10 == 0:\n",
    "            print('Epoch: [{0}][{1}/{2}]\\t'\n",
    "                  'Loss {loss.val:.4f} ({loss.avg:.4f})\\t'.format(\n",
    "                   epoch, i, len(train_loader), loss=losses))        \n",
    "           \n",
    "    return losses.avg\n",
    "\n",
    "def validate(val_loader, model, criterion):\n",
    "    losses = AverageMeter()\n",
    "    # switch to evaluate mode\n",
    "    model.eval()\n",
    "\n",
    "    for i, (X_sequences_ar,X_sequences_meta,y_sequences) in enumerate(val_loader):\n",
    "        \n",
    "        # transform data from Batch x Window x Etc into Batch x Etc format\n",
    "        X_sequences_meta = X_sequences_meta.view(-1,X_sequences_meta.size(2),X_sequences_meta.size(3))\n",
    "        X_sequences_ar = X_sequences_ar.view(-1,X_sequences_ar.size(2),1).float()\n",
    "        y_sequences = y_sequences.view(-1,y_sequences.size(2)).float()\n",
    "        X_sequences_temp = X_sequences_meta[:,:,0:1].float()\n",
    "        X_sequences_meta = X_sequences_meta[:,:,1:].long()\n",
    "\n",
    "        x_temp_var = torch.autograd.Variable(X_sequences_temp.cuda(async=True))\n",
    "        x_meta_var = torch.autograd.Variable(X_sequences_meta.cuda(async=True))\n",
    "        x_ar_var = torch.autograd.Variable(X_sequences_ar.cuda(async=True))\n",
    "        y_var = torch.autograd.Variable(y_sequences.cuda(async=True))\n",
    "\n",
    "        # compute output\n",
    "        output = model(x_temp_var,x_meta_var,x_ar_var)\n",
    "        loss = criterion(output, y_var)\n",
    "        \n",
    "        # measure accuracy and record loss\n",
    "        losses.update(loss.data[0], X_sequences_meta.size(0))\n",
    "        \n",
    "        if i % 10 == 0:\n",
    "            print('Test: [{0}/{1}]\\t'\n",
    "                  'Loss {loss.val:.4f} ({loss.avg:.4f})\\t'.format(\n",
    "                   i, len(val_loader), loss=losses))      \n",
    "            \n",
    "    return losses.avg\n",
    "\n",
    "class AverageMeter(object):\n",
    "    \"\"\"Computes and stores the average and current value\"\"\"\n",
    "    def __init__(self):\n",
    "        self.reset()\n",
    "\n",
    "    def reset(self):\n",
    "        self.val = 0\n",
    "        self.avg = 0\n",
    "        self.sum = 0\n",
    "        self.count = 0\n",
    "\n",
    "    def update(self, val, n=1):\n",
    "        self.val = val\n",
    "        self.sum += val * n\n",
    "        self.count += n\n",
    "        self.avg = self.sum / self.count"
   ]
  },
  {
   "cell_type": "code",
   "execution_count": 35,
   "metadata": {
    "ExecuteTime": {
     "end_time": "2018-03-16T15:21:51.712468Z",
     "start_time": "2018-03-16T15:21:51.432505Z"
    },
    "code_folding": []
   },
   "outputs": [],
   "source": [
    "import torch\n",
    "import torch.nn as nn\n",
    "from torch.autograd import Variable\n",
    "\n",
    "def create_emb(cat_size = 7,\n",
    "               max_emb_size = 50,\n",
    "               output_size = 10,\n",
    "               non_trainable=False):\n",
    "\n",
    "    emb_size = min([(cat_size+2)//3, max_emb_size])    \n",
    "    emb = nn.Embedding(output_size, emb_size)\n",
    "\n",
    "    if non_trainable:\n",
    "        for param in emb.parameters(): \n",
    "            param.requires_grad = False\n",
    "    return emb, emb_size, output_size\n",
    "\n",
    "class E2ELSTM_day(nn.Module):\n",
    "    def __init__(self,\n",
    "                 in_sequence_len = 192,\n",
    "                 out_sequence_len = 192,\n",
    "                 features_meta_total = 8,\n",
    "                 features_ar_total = 1,\n",
    "                 meta_hidden_layer_length = 192,\n",
    "                 ar_hidden_layer_length = 192,\n",
    "                 meta_hidden_layers = 2,\n",
    "                 ar_hidden_layers = 1,\n",
    "                 lstm_dropout = 0.5,\n",
    "                 classifier_hidden_length = 192 * 2):\n",
    "        \n",
    "        super(E2ELSTM_day, self).__init__()\n",
    "\n",
    "        self.meta_hidden_layer_length = meta_hidden_layer_length\n",
    "        self.ar_hidden_layer_length = ar_hidden_layer_length\n",
    "        self.meta_hidden_layers = meta_hidden_layers\n",
    "        self.ar_hidden_layers = ar_hidden_layers      \n",
    "        \n",
    "        # create an embedding for each categorical feature\n",
    "        self.hol_emb, emb_size, output_size = create_emb(cat_size = 73,\n",
    "                                                       max_emb_size = 50,\n",
    "                                                       output_size = 75)\n",
    "        \n",
    "        self.month_emb, emb_size, output_size = create_emb(cat_size = 12,\n",
    "                                                       max_emb_size = 50,\n",
    "                                                       output_size = in_sequence_len+out_sequence_len)  \n",
    "        \n",
    "        self.day_emb, emb_size, output_size = create_emb(cat_size = 31,\n",
    "                                                       max_emb_size = 50,\n",
    "                                                       output_size = in_sequence_len+out_sequence_len)\n",
    "        \n",
    "        self.dow_emb, emb_size, output_size = create_emb(cat_size = 7,\n",
    "                                                       max_emb_size = 50,\n",
    "                                                       output_size = in_sequence_len+out_sequence_len)          \n",
    "   \n",
    "        self.lstm_meta = nn.LSTM(features_meta_total,\n",
    "                            meta_hidden_layer_length,\n",
    "                            meta_hidden_layers,\n",
    "                            batch_first=True,\n",
    "                            dropout=lstm_dropout,\n",
    "                            bidirectional=False)\n",
    "        \n",
    "        self.lstm_ar = nn.LSTM(features_ar_total,\n",
    "                            ar_hidden_layer_length,\n",
    "                            ar_hidden_layers,\n",
    "                            batch_first=True,\n",
    "                            dropout=lstm_dropout,\n",
    "                            bidirectional=False)  \n",
    "\n",
    "\n",
    "        self.classifier = nn.Sequential(\n",
    "            nn.Linear(meta_hidden_layer_length + ar_hidden_layer_length, classifier_hidden_length),\n",
    "            nn.BatchNorm2d(classifier_hidden_length),\n",
    "            nn.ReLU(True),\n",
    "            nn.Dropout(),\n",
    "            nn.Linear(classifier_hidden_length, classifier_hidden_length),\n",
    "            nn.BatchNorm2d(classifier_hidden_length),\n",
    "            nn.ReLU(True),\n",
    "            nn.Dropout(),\n",
    "            nn.Linear(classifier_hidden_length, out_sequence_len),\n",
    "        )\n",
    "        \n",
    "        \"\"\" \n",
    "        self.classifier = nn.Sequential(\n",
    "            nn.Linear(meta_hidden_layer_length + ar_hidden_layer_length, classifier_hidden_length),\n",
    "            nn.ReLU(True),\n",
    "            nn.Linear(classifier_hidden_length, classifier_hidden_length),\n",
    "            nn.ReLU(True),\n",
    "            nn.Linear(classifier_hidden_length, out_sequence_len),\n",
    "            nn.ReLU(True)\n",
    "        ) \n",
    "        \"\"\"\n",
    "\n",
    "\n",
    "    \n",
    "    def forward(self,\n",
    "                x_temp,\n",
    "                x_meta,\n",
    "                x_ar):\n",
    "        \n",
    "        # embed and extract various features\n",
    "        \n",
    "        print(x_meta[:,:,0].size())\n",
    "        print(x_meta[:,:,0].max())\n",
    "        \n",
    "        x_hol = self.hol_emb(x_meta[:,:,0])\n",
    "        x_month = self.month_emb(x_meta[:,:,1])\n",
    "        x_day = self.day_emb(x_meta[:,:,2])\n",
    "        x_dow = self.dow_emb(x_meta[:,:,3])        \n",
    "\n",
    "        x_meta = torch.cat([x_temp,x_hol,x_month,x_day,x_dow],dim=2)\n",
    "        \n",
    "        print(x_meta.size())\n",
    "        \n",
    "        # initial values for LSTMs\n",
    "        h0_meta = Variable(torch.zeros(self.meta_hidden_layers, x_meta.size(0), self.meta_hidden_layer_length)) #.cuda()) \n",
    "        c0_meta = Variable(torch.zeros(self.meta_hidden_layers, x_meta.size(0), self.meta_hidden_layer_length)) #.cuda())\n",
    "        \n",
    "        h0_ar = Variable(torch.zeros(self.ar_hidden_layers, x_ar.size(0), self.ar_hidden_layer_length)) #.cuda()) \n",
    "        c0_ar = Variable(torch.zeros(self.ar_hidden_layers, x_ar.size(0), self.ar_hidden_layer_length)) #.cuda())         \n",
    "        \n",
    "        # Forward propagate LSTMs\n",
    "        out_meta, _ = self.lstm_meta(x_meta, (h0_meta, c0_meta))  \n",
    "        out_meta = out_meta[:, -1, :]\n",
    "        \n",
    "        out_ar, _ = self.lstm_ar(x_ar, (h0_ar, c0_ar))  \n",
    "        out_ar = out_ar[:, -1, :]    \n",
    "        \n",
    "        out = torch.cat([out_meta,out_ar],dim=1)\n",
    "       \n",
    "        out = self.classifier(out)\n",
    "\n",
    "        return out\n"
   ]
  },
  {
   "cell_type": "code",
   "execution_count": 34,
   "metadata": {
    "ExecuteTime": {
     "end_time": "2018-03-16T15:21:48.432939Z",
     "start_time": "2018-03-16T15:21:48.415652Z"
    }
   },
   "outputs": [],
   "source": [
    "# key params\n",
    "lr = 1e-3\n",
    "start_epoch = 0\n",
    "epochs = 40\n",
    "# 16 samples per batch\n",
    "batch_size = 20\n",
    "# lstm params\n",
    "in_sequence_len = 30\n",
    "out_sequence_len = 30\n",
    "features_meta_total = 44\n",
    "features_ar_total = 1\n",
    "meta_hidden_layer_length = 30\n",
    "ar_hidden_layer_length = 30\n",
    "meta_hidden_layers = 2\n",
    "ar_hidden_layers = 2\n",
    "lstm_dropout = 0\n",
    "# MLP model end params\n",
    "# B x meta_hidden_layer_length || B x ar_hidden_layer_length => classifier_hidden_length => out_sequence_len\n",
    "classifier_hidden_length = 256"
   ]
  },
  {
   "cell_type": "code",
   "execution_count": 25,
   "metadata": {
    "ExecuteTime": {
     "end_time": "2018-03-16T14:11:35.231364Z",
     "start_time": "2018-03-16T14:11:35.214125Z"
    }
   },
   "outputs": [
    {
     "ename": "RuntimeError",
     "evalue": "cuda runtime error (59) : device-side assert triggered at torch/csrc/cuda/Module.cpp:321",
     "output_type": "error",
     "traceback": [
      "\u001b[0;31m---------------------------------------------------------------------------\u001b[0m",
      "\u001b[0;31mRuntimeError\u001b[0m                              Traceback (most recent call last)",
      "\u001b[0;32m<ipython-input-25-18bf08814031>\u001b[0m in \u001b[0;36m<module>\u001b[0;34m()\u001b[0m\n\u001b[0;32m----> 1\u001b[0;31m \u001b[0mtorch\u001b[0m\u001b[0;34m.\u001b[0m\u001b[0mcuda\u001b[0m\u001b[0;34m.\u001b[0m\u001b[0mempty_cache\u001b[0m\u001b[0;34m(\u001b[0m\u001b[0;34m)\u001b[0m\u001b[0;34m\u001b[0m\u001b[0m\n\u001b[0m",
      "\u001b[0;32m/opt/conda/lib/python3.5/site-packages/torch/cuda/__init__.py\u001b[0m in \u001b[0;36mempty_cache\u001b[0;34m()\u001b[0m\n\u001b[1;32m    306\u001b[0m     \u001b[0mallocator\u001b[0m \u001b[0mso\u001b[0m \u001b[0mthat\u001b[0m \u001b[0mthose\u001b[0m \u001b[0mcan\u001b[0m \u001b[0mbe\u001b[0m \u001b[0mused\u001b[0m \u001b[0;32min\u001b[0m \u001b[0mother\u001b[0m \u001b[0mGPU\u001b[0m \u001b[0mapplication\u001b[0m \u001b[0;32mand\u001b[0m \u001b[0mvisible\u001b[0m \u001b[0;32min\u001b[0m\u001b[0;34m\u001b[0m\u001b[0m\n\u001b[1;32m    307\u001b[0m     `nvidia-smi`.\"\"\"\n\u001b[0;32m--> 308\u001b[0;31m     \u001b[0;32mreturn\u001b[0m \u001b[0mtorch\u001b[0m\u001b[0;34m.\u001b[0m\u001b[0m_C\u001b[0m\u001b[0;34m.\u001b[0m\u001b[0m_cuda_emptyCache\u001b[0m\u001b[0;34m(\u001b[0m\u001b[0;34m)\u001b[0m\u001b[0;34m\u001b[0m\u001b[0m\n\u001b[0m\u001b[1;32m    309\u001b[0m \u001b[0;34m\u001b[0m\u001b[0m\n\u001b[1;32m    310\u001b[0m \u001b[0;34m\u001b[0m\u001b[0m\n",
      "\u001b[0;31mRuntimeError\u001b[0m: cuda runtime error (59) : device-side assert triggered at torch/csrc/cuda/Module.cpp:321"
     ]
    }
   ],
   "source": [
    "torch.cuda.empty_cache()"
   ]
  },
  {
   "cell_type": "code",
   "execution_count": 13,
   "metadata": {
    "ExecuteTime": {
     "end_time": "2018-03-16T14:07:50.256063Z",
     "start_time": "2018-03-16T14:07:49.990242Z"
    }
   },
   "outputs": [],
   "source": [
    "for i, (X_sequences_ar,X_sequences_meta,y_sequences) in enumerate(train_loader):\n",
    "    \n",
    "    break"
   ]
  },
  {
   "cell_type": "code",
   "execution_count": 15,
   "metadata": {
    "ExecuteTime": {
     "end_time": "2018-03-16T14:08:51.399296Z",
     "start_time": "2018-03-16T14:08:51.393591Z"
    }
   },
   "outputs": [],
   "source": [
    "# transform data from Batch x Window x Etc into Batch x Etc format\n",
    "X_sequences_meta = X_sequences_meta.view(-1,X_sequences_meta.size(2),X_sequences_meta.size(3))\n",
    "X_sequences_meta = X_sequences_meta[:,:,1:].long()"
   ]
  },
  {
   "cell_type": "code",
   "execution_count": 17,
   "metadata": {
    "ExecuteTime": {
     "end_time": "2018-03-16T14:09:27.567240Z",
     "start_time": "2018-03-16T14:09:27.541981Z"
    },
    "scrolled": true
   },
   "outputs": [
    {
     "data": {
      "text/plain": [
       "\n",
       "    0     0     0  ...      0     0     0\n",
       "    0     0     0  ...      0     0     0\n",
       "    0     0     0  ...      0     0     0\n",
       "       ...          ⋱          ...       \n",
       "    1     1     1  ...      1     1     1\n",
       "    1     1     1  ...      1     1     1\n",
       "    1     1     1  ...      1     1     1\n",
       "[torch.LongTensor of size 320x60]"
      ]
     },
     "execution_count": 17,
     "metadata": {},
     "output_type": "execute_result"
    }
   ],
   "source": [
    "X_sequences_meta[:,:,5]"
   ]
  },
  {
   "cell_type": "code",
   "execution_count": 16,
   "metadata": {
    "ExecuteTime": {
     "end_time": "2018-03-16T14:09:24.908869Z",
     "start_time": "2018-03-16T14:09:24.903170Z"
    }
   },
   "outputs": [
    {
     "data": {
      "text/plain": [
       "torch.Size([20, 16, 30])"
      ]
     },
     "execution_count": 16,
     "metadata": {},
     "output_type": "execute_result"
    }
   ],
   "source": [
    "X_sequences_ar.size()"
   ]
  },
  {
   "cell_type": "code",
   "execution_count": 11,
   "metadata": {
    "ExecuteTime": {
     "end_time": "2018-03-16T13:37:57.000961Z",
     "start_time": "2018-03-16T13:37:56.991623Z"
    }
   },
   "outputs": [
    {
     "data": {
      "text/plain": [
       "[3320,\n",
       " 6152,\n",
       " 6466,\n",
       " 410,\n",
       " 650,\n",
       " 540,\n",
       " 6151,\n",
       " 6964,\n",
       " 3707,\n",
       " 6727,\n",
       " 189,\n",
       " 1905,\n",
       " 3400,\n",
       " 4294,\n",
       " 3399,\n",
       " 2358,\n",
       " 3738,\n",
       " 6462,\n",
       " 5236,\n",
       " 877,\n",
       " 413,\n",
       " 982,\n",
       " 649,\n",
       " 1390,\n",
       " 6011,\n",
       " 4394,\n",
       " 5233,\n",
       " 1534,\n",
       " 6008,\n",
       " 6972,\n",
       " 2925,\n",
       " 1319,\n",
       " 4323,\n",
       " 2977,\n",
       " 4270,\n",
       " 547,\n",
       " 5229,\n",
       " 5600,\n",
       " 4325,\n",
       " 1,\n",
       " 3,\n",
       " 2926,\n",
       " 1529,\n",
       " 6969,\n",
       " 4293,\n",
       " 4196,\n",
       " 3310,\n",
       " 3171,\n",
       " 5239,\n",
       " 6722,\n",
       " 3318,\n",
       " 983,\n",
       " 6698,\n",
       " 2264,\n",
       " 543,\n",
       " 4698,\n",
       " 3901,\n",
       " 879,\n",
       " 412,\n",
       " 6968,\n",
       " 6009,\n",
       " 190,\n",
       " 648,\n",
       " 4324,\n",
       " 6965,\n",
       " 5234,\n",
       " 41,\n",
       " 3899,\n",
       " 878,\n",
       " 4264,\n",
       " 5255,\n",
       " 5256,\n",
       " 6467,\n",
       " 2265,\n",
       " 4266,\n",
       " 6699,\n",
       " 6967,\n",
       " 2805,\n",
       " 6005,\n",
       " 2267,\n",
       " 1512,\n",
       " 5231,\n",
       " 1318,\n",
       " 3900,\n",
       " 544,\n",
       " 5599,\n",
       " 5330,\n",
       " 2980,\n",
       " 1277,\n",
       " 6256,\n",
       " 1530,\n",
       " 3314,\n",
       " 5979,\n",
       " 1391,\n",
       " 4599,\n",
       " 5235,\n",
       " 4,\n",
       " 3396,\n",
       " 1649,\n",
       " 4271,\n",
       " 6729,\n",
       " 6006,\n",
       " 6725,\n",
       " 1532,\n",
       " 2979,\n",
       " 880,\n",
       " 407,\n",
       " 3401,\n",
       " 3311,\n",
       " 3155,\n",
       " 6471,\n",
       " 6721,\n",
       " 3235,\n",
       " 408,\n",
       " 414,\n",
       " 2043,\n",
       " 6470,\n",
       " 4269,\n",
       " 514,\n",
       " 5598,\n",
       " 2807,\n",
       " 6468,\n",
       " 4292,\n",
       " 6254,\n",
       " 6723,\n",
       " 2266,\n",
       " 1650,\n",
       " 3398,\n",
       " 1533,\n",
       " 6007,\n",
       " 6970,\n",
       " 6469,\n",
       " 5601,\n",
       " 1977,\n",
       " 1531,\n",
       " 3234,\n",
       " 542,\n",
       " 1906,\n",
       " 5254,\n",
       " 6966,\n",
       " 6460,\n",
       " 6464,\n",
       " 4267,\n",
       " 1153,\n",
       " 5238,\n",
       " 6963,\n",
       " 2,\n",
       " 1535,\n",
       " 5230,\n",
       " 4268,\n",
       " 5232,\n",
       " 3338,\n",
       " 3319,\n",
       " 3708,\n",
       " 3233,\n",
       " 6720,\n",
       " 2877,\n",
       " 6728,\n",
       " 3898,\n",
       " 6973,\n",
       " 541,\n",
       " 6461,\n",
       " 2806,\n",
       " 3397,\n",
       " 415,\n",
       " 3312,\n",
       " 6149,\n",
       " 3337]"
      ]
     },
     "execution_count": 11,
     "metadata": {},
     "output_type": "execute_result"
    }
   ],
   "source": [
    "train_dataset.tra"
   ]
  },
  {
   "cell_type": "code",
   "execution_count": 15,
   "metadata": {
    "ExecuteTime": {
     "end_time": "2018-03-16T15:09:27.667272Z",
     "start_time": "2018-03-16T15:09:27.662674Z"
    }
   },
   "outputs": [
    {
     "data": {
      "text/plain": [
       "72"
      ]
     },
     "execution_count": 15,
     "metadata": {},
     "output_type": "execute_result"
    }
   ],
   "source": [
    "len(train_dataset.df.Holiday.unique())"
   ]
  },
  {
   "cell_type": "code",
   "execution_count": 23,
   "metadata": {
    "ExecuteTime": {
     "end_time": "2018-03-16T13:41:54.368159Z",
     "start_time": "2018-03-16T13:41:54.362805Z"
    }
   },
   "outputs": [
    {
     "data": {
      "text/plain": [
       "(240, 120, 8)"
      ]
     },
     "execution_count": 23,
     "metadata": {},
     "output_type": "execute_result"
    }
   ],
   "source": [
    "trainval_X_sequences_meta.shape"
   ]
  },
  {
   "cell_type": "code",
   "execution_count": 34,
   "metadata": {
    "ExecuteTime": {
     "end_time": "2018-03-16T13:45:03.263000Z",
     "start_time": "2018-03-16T13:45:03.072227Z"
    }
   },
   "outputs": [
    {
     "ename": "NameError",
     "evalue": "name 'plt' is not defined",
     "output_type": "error",
     "traceback": [
      "\u001b[0;31m---------------------------------------------------------------------------\u001b[0m",
      "\u001b[0;31mNameError\u001b[0m                                 Traceback (most recent call last)",
      "\u001b[0;32m<ipython-input-34-66cb6b251bcd>\u001b[0m in \u001b[0;36m<module>\u001b[0;34m()\u001b[0m\n\u001b[1;32m      1\u001b[0m \u001b[0mtrain_dataset\u001b[0m\u001b[0;34m.\u001b[0m\u001b[0mdf\u001b[0m\u001b[0;34m[\u001b[0m\u001b[0mtrain_dataset\u001b[0m\u001b[0;34m.\u001b[0m\u001b[0mdf\u001b[0m\u001b[0;34m.\u001b[0m\u001b[0mForecastId\u001b[0m \u001b[0;34m==\u001b[0m \u001b[0;36m6152\u001b[0m\u001b[0;34m]\u001b[0m\u001b[0;34m.\u001b[0m\u001b[0mValue\u001b[0m\u001b[0;34m.\u001b[0m\u001b[0mplot\u001b[0m\u001b[0;34m(\u001b[0m\u001b[0;34m)\u001b[0m\u001b[0;34m\u001b[0m\u001b[0m\n\u001b[0;32m----> 2\u001b[0;31m \u001b[0mplt\u001b[0m\u001b[0;34m.\u001b[0m\u001b[0mshow\u001b[0m\u001b[0;34m(\u001b[0m\u001b[0;34m)\u001b[0m\u001b[0;34m\u001b[0m\u001b[0m\n\u001b[0m",
      "\u001b[0;31mNameError\u001b[0m: name 'plt' is not defined"
     ]
    },
    {
     "data": {
      "image/png": "[encoded data removed]",
      "text/plain": [
       "<matplotlib.figure.Figure at 0x7f71b2b94ac8>"
      ]
     },
     "metadata": {},
     "output_type": "display_data"
    }
   ],
   "source": [
    "train_dataset.df[train_dataset.df.ForecastId == 6152].Value.plot()\n",
    "plt.show()"
   ]
  },
  {
   "cell_type": "code",
   "execution_count": 36,
   "metadata": {
    "ExecuteTime": {
     "end_time": "2018-03-16T13:45:26.882741Z",
     "start_time": "2018-03-16T13:45:25.758273Z"
    }
   },
   "outputs": [
    {
     "name": "stdout",
     "output_type": "stream",
     "text": [
      "3320 (300, 30) (300, 30)\n",
      "6152 (30, 30) (30, 30)\n",
      "6466 (300, 30) (300, 30)\n",
      "410 (30, 30) (30, 30)\n",
      "650 (300, 30) (300, 30)\n",
      "540 (300, 30) (300, 30)\n",
      "6151 (300, 30) (300, 30)\n",
      "6964 (300, 30) (300, 30)\n",
      "3707 (300, 30) (300, 30)\n",
      "6727 (30, 30) (30, 30)\n",
      "189 (300, 30) (300, 30)\n",
      "1905 (300, 30) (300, 30)\n",
      "3400 (300, 30) (300, 30)\n",
      "4294 (300, 30) (300, 30)\n",
      "3399 (30, 30) (30, 30)\n",
      "2358 (300, 30) (300, 30)\n",
      "3738 (30, 30) (30, 30)\n",
      "6462 (300, 30) (300, 30)\n",
      "5236 (30, 30) (30, 30)\n",
      "877 (300, 30) (300, 30)\n",
      "413 (30, 30) (30, 30)\n",
      "982 (300, 30) (300, 30)\n",
      "649 (30, 30) (30, 30)\n",
      "1390 (300, 30) (300, 30)\n",
      "6011 (30, 30) (30, 30)\n",
      "4394 (30, 30) (30, 30)\n",
      "5233 (300, 30) (300, 30)\n",
      "1534 (300, 30) (300, 30)\n",
      "6008 (300, 30) (300, 30)\n",
      "6972 (300, 30) (300, 30)\n",
      "2925 (300, 30) (300, 30)\n",
      "1319 (30, 30) (30, 30)\n",
      "4323 (300, 30) (300, 30)\n",
      "2977 (300, 30) (300, 30)\n",
      "4270 (300, 30) (300, 30)\n",
      "547 (30, 30) (30, 30)\n",
      "5229 (300, 30) (300, 30)\n",
      "5600 (300, 30) (300, 30)\n",
      "4325 (300, 30) (300, 30)\n",
      "1 (300, 30) (300, 30)\n",
      "3 (300, 30) (300, 30)\n",
      "2926 (30, 30) (30, 30)\n",
      "1529 (300, 30) (300, 30)\n",
      "6969 (30, 30) (30, 30)\n",
      "4293 (30, 30) (30, 30)\n",
      "4196 (300, 30) (300, 30)\n",
      "3310 (300, 30) (300, 30)\n",
      "3171 (30, 30) (30, 30)\n",
      "5239 (30, 30) (30, 30)\n",
      "6722 (300, 30) (300, 30)\n",
      "3318 (300, 30) (300, 30)\n",
      "983 (30, 30) (30, 30)\n",
      "6698 (300, 30) (300, 30)\n",
      "2264 (300, 30) (300, 30)\n",
      "543 (30, 30) (30, 30)\n",
      "4698 (300, 30) (300, 30)\n",
      "3901 (30, 30) (30, 30)\n",
      "879 (300, 30) (300, 30)\n",
      "412 (300, 30) (300, 30)\n",
      "6968 (300, 30) (300, 30)\n",
      "6009 (30, 30) (30, 30)\n",
      "190 (30, 30) (30, 30)\n",
      "648 (300, 30) (300, 30)\n",
      "4324 (30, 30) (30, 30)\n",
      "6965 (30, 30) (30, 30)\n",
      "5234 (30, 30) (30, 30)\n",
      "41 (300, 30) (300, 30)\n",
      "3899 (30, 30) (30, 30)\n",
      "878 (30, 30) (30, 30)\n",
      "4264 (300, 30) (300, 30)\n",
      "5255 (300, 30) (300, 30)\n",
      "5256 (30, 30) (30, 30)\n",
      "6467 (30, 30) (30, 30)\n",
      "2265 (30, 30) (30, 30)\n",
      "4266 (300, 30) (300, 30)\n",
      "6699 (30, 30) (30, 30)\n",
      "6967 (30, 30) (30, 30)\n",
      "2805 (30, 30) (30, 30)\n",
      "6005 (30, 30) (30, 30)\n",
      "2267 (30, 30) (30, 30)\n",
      "1512 (300, 30) (300, 30)\n",
      "5231 (300, 30) (300, 30)\n",
      "1318 (300, 30) (300, 30)\n",
      "3900 (300, 30) (300, 30)\n",
      "544 (300, 30) (300, 30)\n",
      "5599 (30, 30) (30, 30)\n",
      "5330 (300, 30) (300, 30)\n",
      "2980 (30, 30) (30, 30)\n",
      "1277 (30, 30) (30, 30)\n",
      "6256 (30, 30) (30, 30)\n",
      "1530 (30, 30) (30, 30)\n",
      "3314 (300, 30) (300, 30)\n",
      "5979 (300, 30) (300, 30)\n",
      "1391 (30, 30) (30, 30)\n",
      "4599 (300, 30) (300, 30)\n",
      "5235 (300, 30) (300, 30)\n",
      "4 (30, 30) (30, 30)\n",
      "3396 (300, 30) (300, 30)\n",
      "1649 (300, 30) (300, 30)\n",
      "4271 (30, 30) (30, 30)\n",
      "6729 (30, 30) (30, 30)\n",
      "6006 (300, 30) (300, 30)\n",
      "6725 (30, 30) (30, 30)\n",
      "1532 (300, 30) (300, 30)\n",
      "2979 (300, 30) (300, 30)\n",
      "880 (30, 30) (30, 30)\n",
      "407 (300, 30) (300, 30)\n",
      "3401 (30, 30) (30, 30)\n",
      "3311 (30, 30) (30, 30)\n",
      "3155 (30, 30) (30, 30)\n",
      "6471 (30, 30) (30, 30)\n",
      "6721 (30, 30) (30, 30)\n",
      "3235 (30, 30) (30, 30)\n",
      "408 (30, 30) (30, 30)\n",
      "414 (300, 30) (300, 30)\n",
      "2043 (300, 30) (300, 30)\n",
      "6470 (300, 30) (300, 30)\n",
      "4269 (30, 30) (30, 30)\n",
      "514 (300, 30) (300, 30)\n",
      "5598 (300, 30) (300, 30)\n",
      "2807 (30, 30) (30, 30)\n",
      "6468 (300, 30) (300, 30)\n",
      "4292 (300, 30) (300, 30)\n",
      "6254 (30, 30) (30, 30)\n",
      "6723 (30, 30) (30, 30)\n",
      "2266 (300, 30) (300, 30)\n",
      "1650 (300, 30) (300, 30)\n",
      "3398 (300, 30) (300, 30)\n",
      "1533 (30, 30) (30, 30)\n",
      "6007 (30, 30) (30, 30)\n",
      "6970 (300, 30) (300, 30)\n",
      "6469 (30, 30) (30, 30)\n",
      "5601 (30, 30) (30, 30)\n",
      "1977 (300, 30) (300, 30)\n",
      "1531 (300, 30) (300, 30)\n",
      "3234 (300, 30) (300, 30)\n",
      "542 (300, 30) (300, 30)\n",
      "1906 (30, 30) (30, 30)\n",
      "5254 (30, 30) (30, 30)\n",
      "6966 (300, 30) (300, 30)\n",
      "6460 (300, 30) (300, 30)\n",
      "6464 (300, 30) (300, 30)\n",
      "4267 (30, 30) (30, 30)\n",
      "1153 (300, 30) (300, 30)\n",
      "5238 (300, 30) (300, 30)\n",
      "6963 (30, 30) (30, 30)\n",
      "2 (30, 30) (30, 30)\n",
      "1535 (30, 30) (30, 30)\n",
      "5230 (30, 30) (30, 30)\n",
      "4268 (300, 30) (300, 30)\n",
      "5232 (30, 30) (30, 30)\n",
      "3338 (30, 30) (30, 30)\n",
      "3319 (30, 30) (30, 30)\n",
      "3708 (30, 30) (30, 30)\n",
      "3233 (30, 30) (30, 30)\n",
      "6720 (300, 30) (300, 30)\n",
      "2877 (30, 30) (30, 30)\n",
      "6728 (300, 30) (300, 30)\n",
      "3898 (300, 30) (300, 30)\n",
      "6973 (30, 30) (30, 30)\n",
      "541 (30, 30) (30, 30)\n",
      "6461 (30, 30) (30, 30)\n",
      "2806 (300, 30) (300, 30)\n",
      "3397 (30, 30) (30, 30)\n",
      "415 (30, 30) (30, 30)\n",
      "3312 (300, 30) (300, 30)\n",
      "6149 (300, 30) (300, 30)\n",
      "3337 (300, 30) (300, 30)\n"
     ]
    }
   ],
   "source": [
    "idx = 0\n",
    "\n",
    "for idx in train_dataset.train_f_ids:\n",
    "    trainval_X_sequences_ar,trainval_X_sequences_meta,trainval_y_sequences,_,_,_ = train_dataset.__produce_idx_one__(forecast_id=idx)\n",
    "    print(idx,trainval_y_sequences.shape,trainval_X_sequences_ar.shape)"
   ]
  },
  {
   "cell_type": "code",
   "execution_count": 22,
   "metadata": {
    "ExecuteTime": {
     "end_time": "2018-03-16T14:11:05.897278Z",
     "start_time": "2018-03-16T14:11:05.813832Z"
    }
   },
   "outputs": [
    {
     "data": {
      "text/plain": [
       "2677"
      ]
     },
     "execution_count": 22,
     "metadata": {},
     "output_type": "execute_result"
    }
   ],
   "source": [
    "import gc\n",
    "\n",
    "\n",
    "gc.collect()"
   ]
  },
  {
   "cell_type": "code",
   "execution_count": 36,
   "metadata": {
    "ExecuteTime": {
     "end_time": "2018-03-16T15:21:59.686387Z",
     "start_time": "2018-03-16T15:21:56.642905Z"
    },
    "code_folding": []
   },
   "outputs": [
    {
     "name": "stdout",
     "output_type": "stream",
     "text": [
      "Creating dataset object ...\n",
      "Normalizing features ...\n",
      "Creating dataset object ...\n",
      "Normalizing features ...\n"
     ]
    }
   ],
   "source": [
    "# PyTorch training loop sugar\n",
    "\n",
    "temp_features = ['Temperature']\n",
    "hol_emb_features = ['Holiday']\n",
    "time_emb_features = ['year', 'month', 'day', 'hour', 'minute','dow']\n",
    "target = ['Value']\n",
    "predictors = temp_features + hol_emb_features + time_emb_features\n",
    "\n",
    "model = E2ELSTM_day(in_sequence_len = in_sequence_len,\n",
    "                 out_sequence_len = out_sequence_len,\n",
    "                 features_meta_total = features_meta_total,\n",
    "                 features_ar_total = features_ar_total,\n",
    "                 meta_hidden_layer_length = meta_hidden_layer_length,\n",
    "                 ar_hidden_layer_length = ar_hidden_layer_length,\n",
    "                 meta_hidden_layers = meta_hidden_layers,\n",
    "                 ar_hidden_layers = ar_hidden_layers,\n",
    "                 lstm_dropout =lstm_dropout,\n",
    "                 classifier_hidden_length = classifier_hidden_length)\n",
    "\n",
    "# model.cuda()\n",
    "\n",
    "train_dataset = S2SDataset(df = data_df[(~data_df.ForecastId.isin(list(set(data_df.ForecastId.unique()) - set(train_forecast_ids))))],\n",
    "                     series_type = '1_day',\n",
    "                     in_sequence_len = 30,\n",
    "                     out_sequence_len = 30,\n",
    "                     target = 'Value',\n",
    "                     mode = 'train',\n",
    "                     split_mode = 'random',\n",
    "                     predictors = predictors)\n",
    "\n",
    "val_dataset = S2SDataset(df = data_df[(~data_df.ForecastId.isin(list(set(data_df.ForecastId.unique()) - set(train_forecast_ids))))],\n",
    "                     series_type = '1_day',\n",
    "                     in_sequence_len = 30,\n",
    "                     out_sequence_len = 30,\n",
    "                     target = 'Value',\n",
    "                     mode = 'val',\n",
    "                     split_mode = 'random',\n",
    "                     predictors = predictors)  \n",
    "\n",
    "train_loader = torch.utils.data.DataLoader(\n",
    "    train_dataset,\n",
    "    batch_size=batch_size,        \n",
    "    shuffle=False,\n",
    "    num_workers=1,\n",
    "    pin_memory=True,\n",
    "    drop_last=False)\n",
    "\n",
    "val_loader = torch.utils.data.DataLoader(\n",
    "    val_dataset,\n",
    "    batch_size=batch_size,        \n",
    "    shuffle=True,\n",
    "    num_workers=1,\n",
    "    pin_memory=True,\n",
    "    drop_last=False)\n",
    "\n",
    "criterion = nn.MSELoss().cuda()\n",
    "\n",
    "optimizer = torch.optim.Adam(filter(lambda p: p.requires_grad, model.parameters()),\n",
    "                             lr = lr)\n",
    "\n",
    "scheduler = ReduceLROnPlateau(optimizer = optimizer,\n",
    "                                          mode = 'min',\n",
    "                                          factor = 0.1,\n",
    "                                          patience = 4,\n",
    "                                          verbose = True,\n",
    "                                          threshold = 1e-3,\n",
    "                                          min_lr = 1e-7\n",
    "                                          )"
   ]
  },
  {
   "cell_type": "code",
   "execution_count": 37,
   "metadata": {
    "ExecuteTime": {
     "end_time": "2018-03-16T15:22:03.453364Z",
     "start_time": "2018-03-16T15:21:59.687481Z"
    },
    "scrolled": false
   },
   "outputs": [
    {
     "name": "stderr",
     "output_type": "stream",
     "text": [
      "\r",
      "  0%|          | 0/40 [00:00<?, ?it/s]"
     ]
    },
    {
     "name": "stdout",
     "output_type": "stream",
     "text": [
      "torch.Size([320, 60])\n",
      "Variable containing:\n",
      " 66\n",
      "[torch.LongTensor of size 1]\n",
      "\n",
      "torch.Size([320, 60, 44])\n",
      "Epoch: [0][0/9]\tLoss 0.9687 (0.9687)\t\n",
      "torch.Size([320, 60])\n",
      "Variable containing:\n",
      " 68\n",
      "[torch.LongTensor of size 1]\n",
      "\n",
      "torch.Size([320, 60, 44])\n",
      "torch.Size([320, 60])\n",
      "Variable containing:\n",
      " 71\n",
      "[torch.LongTensor of size 1]\n",
      "\n",
      "torch.Size([320, 60, 44])\n",
      "torch.Size([320, 60])\n",
      "Variable containing:\n",
      " 71\n",
      "[torch.LongTensor of size 1]\n",
      "\n",
      "torch.Size([320, 60, 44])\n",
      "torch.Size([320, 60])\n",
      "Variable containing:\n",
      " 68\n",
      "[torch.LongTensor of size 1]\n",
      "\n",
      "torch.Size([320, 60, 44])\n",
      "torch.Size([320, 60])\n",
      "Variable containing:\n",
      " 63\n",
      "[torch.LongTensor of size 1]\n",
      "\n",
      "torch.Size([320, 60, 44])\n",
      "torch.Size([320, 60])\n",
      "Variable containing:\n",
      " 71\n",
      "[torch.LongTensor of size 1]\n",
      "\n",
      "torch.Size([320, 60, 44])\n",
      "torch.Size([320, 60])\n",
      "Variable containing:\n",
      " 68\n",
      "[torch.LongTensor of size 1]\n",
      "\n",
      "torch.Size([320, 60, 44])\n",
      "torch.Size([128, 60])\n",
      "Variable containing:\n",
      " 51\n",
      "[torch.LongTensor of size 1]\n",
      "\n",
      "torch.Size([128, 60, 44])\n",
      "torch.Size([320, 60])\n",
      "Variable containing:\n",
      " 68\n",
      "[torch.cuda.LongTensor of size 1 (GPU 0)]\n",
      "\n"
     ]
    },
    {
     "name": "stderr",
     "output_type": "stream",
     "text": [
      "\n"
     ]
    },
    {
     "ename": "TypeError",
     "evalue": "torch.index_select received an invalid combination of arguments - got (\u001b[32;1mtorch.FloatTensor\u001b[0m, \u001b[32;1mint\u001b[0m, \u001b[31;1mtorch.cuda.LongTensor\u001b[0m), but expected (torch.FloatTensor source, int dim, torch.LongTensor index)",
     "output_type": "error",
     "traceback": [
      "\u001b[0;31m---------------------------------------------------------------------------\u001b[0m",
      "\u001b[0;31mTypeError\u001b[0m                                 Traceback (most recent call last)",
      "\u001b[0;32m<ipython-input-37-7a5a55e822b6>\u001b[0m in \u001b[0;36m<module>\u001b[0;34m()\u001b[0m\n\u001b[1;32m      4\u001b[0m         \u001b[0mtrain_loss\u001b[0m \u001b[0;34m=\u001b[0m \u001b[0mtrain\u001b[0m\u001b[0;34m(\u001b[0m\u001b[0mtrain_loader\u001b[0m\u001b[0;34m,\u001b[0m \u001b[0mmodel\u001b[0m\u001b[0;34m,\u001b[0m \u001b[0mcriterion\u001b[0m\u001b[0;34m,\u001b[0m \u001b[0moptimizer\u001b[0m\u001b[0;34m,\u001b[0m \u001b[0mepoch\u001b[0m\u001b[0;34m)\u001b[0m\u001b[0;34m\u001b[0m\u001b[0m\n\u001b[1;32m      5\u001b[0m         \u001b[0;31m# evaluate on validation set\u001b[0m\u001b[0;34m\u001b[0m\u001b[0;34m\u001b[0m\u001b[0m\n\u001b[0;32m----> 6\u001b[0;31m         \u001b[0mval_loss\u001b[0m \u001b[0;34m=\u001b[0m \u001b[0mvalidate\u001b[0m\u001b[0;34m(\u001b[0m\u001b[0mval_loader\u001b[0m\u001b[0;34m,\u001b[0m \u001b[0mmodel\u001b[0m\u001b[0;34m,\u001b[0m \u001b[0mcriterion\u001b[0m\u001b[0;34m)\u001b[0m\u001b[0;34m\u001b[0m\u001b[0m\n\u001b[0m\u001b[1;32m      7\u001b[0m         \u001b[0mscheduler\u001b[0m\u001b[0;34m.\u001b[0m\u001b[0mstep\u001b[0m\u001b[0;34m(\u001b[0m\u001b[0mval_loss\u001b[0m\u001b[0;34m)\u001b[0m\u001b[0;34m\u001b[0m\u001b[0m\n\u001b[1;32m      8\u001b[0m         \u001b[0mpbar\u001b[0m\u001b[0;34m.\u001b[0m\u001b[0mset_description\u001b[0m\u001b[0;34m(\u001b[0m\u001b[0;34m'Epoch [{0}/{1}]'\u001b[0m\u001b[0;34m.\u001b[0m\u001b[0mformat\u001b[0m\u001b[0;34m(\u001b[0m\u001b[0mstr\u001b[0m\u001b[0;34m(\u001b[0m\u001b[0mepoch\u001b[0m\u001b[0;34m)\u001b[0m\u001b[0;34m.\u001b[0m\u001b[0mzfill\u001b[0m\u001b[0;34m(\u001b[0m\u001b[0;36m3\u001b[0m\u001b[0;34m)\u001b[0m\u001b[0;34m,\u001b[0m\u001b[0mstr\u001b[0m\u001b[0;34m(\u001b[0m\u001b[0mepochs\u001b[0m\u001b[0;34m)\u001b[0m\u001b[0;34m.\u001b[0m\u001b[0mzfill\u001b[0m\u001b[0;34m(\u001b[0m\u001b[0;36m3\u001b[0m\u001b[0;34m)\u001b[0m\u001b[0;34m)\u001b[0m\u001b[0;34m,\u001b[0m \u001b[0mrefresh\u001b[0m\u001b[0;34m=\u001b[0m\u001b[0;32mFalse\u001b[0m\u001b[0;34m)\u001b[0m\u001b[0;34m\u001b[0m\u001b[0m\n",
      "\u001b[0;32m<ipython-input-4-4d70033aed85>\u001b[0m in \u001b[0;36mvalidate\u001b[0;34m(val_loader, model, criterion)\u001b[0m\n\u001b[1;32m     91\u001b[0m \u001b[0;34m\u001b[0m\u001b[0m\n\u001b[1;32m     92\u001b[0m         \u001b[0;31m# compute output\u001b[0m\u001b[0;34m\u001b[0m\u001b[0;34m\u001b[0m\u001b[0m\n\u001b[0;32m---> 93\u001b[0;31m         \u001b[0moutput\u001b[0m \u001b[0;34m=\u001b[0m \u001b[0mmodel\u001b[0m\u001b[0;34m(\u001b[0m\u001b[0mx_temp_var\u001b[0m\u001b[0;34m,\u001b[0m\u001b[0mx_meta_var\u001b[0m\u001b[0;34m,\u001b[0m\u001b[0mx_ar_var\u001b[0m\u001b[0;34m)\u001b[0m\u001b[0;34m\u001b[0m\u001b[0m\n\u001b[0m\u001b[1;32m     94\u001b[0m         \u001b[0mloss\u001b[0m \u001b[0;34m=\u001b[0m \u001b[0mcriterion\u001b[0m\u001b[0;34m(\u001b[0m\u001b[0moutput\u001b[0m\u001b[0;34m,\u001b[0m \u001b[0my_var\u001b[0m\u001b[0;34m)\u001b[0m\u001b[0;34m\u001b[0m\u001b[0m\n\u001b[1;32m     95\u001b[0m \u001b[0;34m\u001b[0m\u001b[0m\n",
      "\u001b[0;32m/opt/conda/lib/python3.5/site-packages/torch/nn/modules/module.py\u001b[0m in \u001b[0;36m__call__\u001b[0;34m(self, *input, **kwargs)\u001b[0m\n\u001b[1;32m    323\u001b[0m         \u001b[0;32mfor\u001b[0m \u001b[0mhook\u001b[0m \u001b[0;32min\u001b[0m \u001b[0mself\u001b[0m\u001b[0;34m.\u001b[0m\u001b[0m_forward_pre_hooks\u001b[0m\u001b[0;34m.\u001b[0m\u001b[0mvalues\u001b[0m\u001b[0;34m(\u001b[0m\u001b[0;34m)\u001b[0m\u001b[0;34m:\u001b[0m\u001b[0;34m\u001b[0m\u001b[0m\n\u001b[1;32m    324\u001b[0m             \u001b[0mhook\u001b[0m\u001b[0;34m(\u001b[0m\u001b[0mself\u001b[0m\u001b[0;34m,\u001b[0m \u001b[0minput\u001b[0m\u001b[0;34m)\u001b[0m\u001b[0;34m\u001b[0m\u001b[0m\n\u001b[0;32m--> 325\u001b[0;31m         \u001b[0mresult\u001b[0m \u001b[0;34m=\u001b[0m \u001b[0mself\u001b[0m\u001b[0;34m.\u001b[0m\u001b[0mforward\u001b[0m\u001b[0;34m(\u001b[0m\u001b[0;34m*\u001b[0m\u001b[0minput\u001b[0m\u001b[0;34m,\u001b[0m \u001b[0;34m**\u001b[0m\u001b[0mkwargs\u001b[0m\u001b[0;34m)\u001b[0m\u001b[0;34m\u001b[0m\u001b[0m\n\u001b[0m\u001b[1;32m    326\u001b[0m         \u001b[0;32mfor\u001b[0m \u001b[0mhook\u001b[0m \u001b[0;32min\u001b[0m \u001b[0mself\u001b[0m\u001b[0;34m.\u001b[0m\u001b[0m_forward_hooks\u001b[0m\u001b[0;34m.\u001b[0m\u001b[0mvalues\u001b[0m\u001b[0;34m(\u001b[0m\u001b[0;34m)\u001b[0m\u001b[0;34m:\u001b[0m\u001b[0;34m\u001b[0m\u001b[0m\n\u001b[1;32m    327\u001b[0m             \u001b[0mhook_result\u001b[0m \u001b[0;34m=\u001b[0m \u001b[0mhook\u001b[0m\u001b[0;34m(\u001b[0m\u001b[0mself\u001b[0m\u001b[0;34m,\u001b[0m \u001b[0minput\u001b[0m\u001b[0;34m,\u001b[0m \u001b[0mresult\u001b[0m\u001b[0;34m)\u001b[0m\u001b[0;34m\u001b[0m\u001b[0m\n",
      "\u001b[0;32m<ipython-input-35-5ab631caf2f9>\u001b[0m in \u001b[0;36mforward\u001b[0;34m(self, x_temp, x_meta, x_ar)\u001b[0m\n\u001b[1;32m    103\u001b[0m         \u001b[0mprint\u001b[0m\u001b[0;34m(\u001b[0m\u001b[0mx_meta\u001b[0m\u001b[0;34m[\u001b[0m\u001b[0;34m:\u001b[0m\u001b[0;34m,\u001b[0m\u001b[0;34m:\u001b[0m\u001b[0;34m,\u001b[0m\u001b[0;36m0\u001b[0m\u001b[0;34m]\u001b[0m\u001b[0;34m.\u001b[0m\u001b[0mmax\u001b[0m\u001b[0;34m(\u001b[0m\u001b[0;34m)\u001b[0m\u001b[0;34m)\u001b[0m\u001b[0;34m\u001b[0m\u001b[0m\n\u001b[1;32m    104\u001b[0m \u001b[0;34m\u001b[0m\u001b[0m\n\u001b[0;32m--> 105\u001b[0;31m         \u001b[0mx_hol\u001b[0m \u001b[0;34m=\u001b[0m \u001b[0mself\u001b[0m\u001b[0;34m.\u001b[0m\u001b[0mhol_emb\u001b[0m\u001b[0;34m(\u001b[0m\u001b[0mx_meta\u001b[0m\u001b[0;34m[\u001b[0m\u001b[0;34m:\u001b[0m\u001b[0;34m,\u001b[0m\u001b[0;34m:\u001b[0m\u001b[0;34m,\u001b[0m\u001b[0;36m0\u001b[0m\u001b[0;34m]\u001b[0m\u001b[0;34m)\u001b[0m\u001b[0;34m\u001b[0m\u001b[0m\n\u001b[0m\u001b[1;32m    106\u001b[0m         \u001b[0mx_month\u001b[0m \u001b[0;34m=\u001b[0m \u001b[0mself\u001b[0m\u001b[0;34m.\u001b[0m\u001b[0mmonth_emb\u001b[0m\u001b[0;34m(\u001b[0m\u001b[0mx_meta\u001b[0m\u001b[0;34m[\u001b[0m\u001b[0;34m:\u001b[0m\u001b[0;34m,\u001b[0m\u001b[0;34m:\u001b[0m\u001b[0;34m,\u001b[0m\u001b[0;36m1\u001b[0m\u001b[0;34m]\u001b[0m\u001b[0;34m)\u001b[0m\u001b[0;34m\u001b[0m\u001b[0m\n\u001b[1;32m    107\u001b[0m         \u001b[0mx_day\u001b[0m \u001b[0;34m=\u001b[0m \u001b[0mself\u001b[0m\u001b[0;34m.\u001b[0m\u001b[0mday_emb\u001b[0m\u001b[0;34m(\u001b[0m\u001b[0mx_meta\u001b[0m\u001b[0;34m[\u001b[0m\u001b[0;34m:\u001b[0m\u001b[0;34m,\u001b[0m\u001b[0;34m:\u001b[0m\u001b[0;34m,\u001b[0m\u001b[0;36m2\u001b[0m\u001b[0;34m]\u001b[0m\u001b[0;34m)\u001b[0m\u001b[0;34m\u001b[0m\u001b[0m\n",
      "\u001b[0;32m/opt/conda/lib/python3.5/site-packages/torch/nn/modules/module.py\u001b[0m in \u001b[0;36m__call__\u001b[0;34m(self, *input, **kwargs)\u001b[0m\n\u001b[1;32m    323\u001b[0m         \u001b[0;32mfor\u001b[0m \u001b[0mhook\u001b[0m \u001b[0;32min\u001b[0m \u001b[0mself\u001b[0m\u001b[0;34m.\u001b[0m\u001b[0m_forward_pre_hooks\u001b[0m\u001b[0;34m.\u001b[0m\u001b[0mvalues\u001b[0m\u001b[0;34m(\u001b[0m\u001b[0;34m)\u001b[0m\u001b[0;34m:\u001b[0m\u001b[0;34m\u001b[0m\u001b[0m\n\u001b[1;32m    324\u001b[0m             \u001b[0mhook\u001b[0m\u001b[0;34m(\u001b[0m\u001b[0mself\u001b[0m\u001b[0;34m,\u001b[0m \u001b[0minput\u001b[0m\u001b[0;34m)\u001b[0m\u001b[0;34m\u001b[0m\u001b[0m\n\u001b[0;32m--> 325\u001b[0;31m         \u001b[0mresult\u001b[0m \u001b[0;34m=\u001b[0m \u001b[0mself\u001b[0m\u001b[0;34m.\u001b[0m\u001b[0mforward\u001b[0m\u001b[0;34m(\u001b[0m\u001b[0;34m*\u001b[0m\u001b[0minput\u001b[0m\u001b[0;34m,\u001b[0m \u001b[0;34m**\u001b[0m\u001b[0mkwargs\u001b[0m\u001b[0;34m)\u001b[0m\u001b[0;34m\u001b[0m\u001b[0m\n\u001b[0m\u001b[1;32m    326\u001b[0m         \u001b[0;32mfor\u001b[0m \u001b[0mhook\u001b[0m \u001b[0;32min\u001b[0m \u001b[0mself\u001b[0m\u001b[0;34m.\u001b[0m\u001b[0m_forward_hooks\u001b[0m\u001b[0;34m.\u001b[0m\u001b[0mvalues\u001b[0m\u001b[0;34m(\u001b[0m\u001b[0;34m)\u001b[0m\u001b[0;34m:\u001b[0m\u001b[0;34m\u001b[0m\u001b[0m\n\u001b[1;32m    327\u001b[0m             \u001b[0mhook_result\u001b[0m \u001b[0;34m=\u001b[0m \u001b[0mhook\u001b[0m\u001b[0;34m(\u001b[0m\u001b[0mself\u001b[0m\u001b[0;34m,\u001b[0m \u001b[0minput\u001b[0m\u001b[0;34m,\u001b[0m \u001b[0mresult\u001b[0m\u001b[0;34m)\u001b[0m\u001b[0;34m\u001b[0m\u001b[0m\n",
      "\u001b[0;32m/opt/conda/lib/python3.5/site-packages/torch/nn/modules/sparse.py\u001b[0m in \u001b[0;36mforward\u001b[0;34m(self, input)\u001b[0m\n\u001b[1;32m    101\u001b[0m             \u001b[0minput\u001b[0m\u001b[0;34m,\u001b[0m \u001b[0mself\u001b[0m\u001b[0;34m.\u001b[0m\u001b[0mweight\u001b[0m\u001b[0;34m,\u001b[0m\u001b[0;34m\u001b[0m\u001b[0m\n\u001b[1;32m    102\u001b[0m             \u001b[0mpadding_idx\u001b[0m\u001b[0;34m,\u001b[0m \u001b[0mself\u001b[0m\u001b[0;34m.\u001b[0m\u001b[0mmax_norm\u001b[0m\u001b[0;34m,\u001b[0m \u001b[0mself\u001b[0m\u001b[0;34m.\u001b[0m\u001b[0mnorm_type\u001b[0m\u001b[0;34m,\u001b[0m\u001b[0;34m\u001b[0m\u001b[0m\n\u001b[0;32m--> 103\u001b[0;31m             \u001b[0mself\u001b[0m\u001b[0;34m.\u001b[0m\u001b[0mscale_grad_by_freq\u001b[0m\u001b[0;34m,\u001b[0m \u001b[0mself\u001b[0m\u001b[0;34m.\u001b[0m\u001b[0msparse\u001b[0m\u001b[0;34m\u001b[0m\u001b[0m\n\u001b[0m\u001b[1;32m    104\u001b[0m         )\n\u001b[1;32m    105\u001b[0m \u001b[0;34m\u001b[0m\u001b[0m\n",
      "\u001b[0;32m/opt/conda/lib/python3.5/site-packages/torch/nn/_functions/thnn/sparse.py\u001b[0m in \u001b[0;36mforward\u001b[0;34m(cls, ctx, indices, weight, padding_idx, max_norm, norm_type, scale_grad_by_freq, sparse)\u001b[0m\n\u001b[1;32m     57\u001b[0m             \u001b[0moutput\u001b[0m \u001b[0;34m=\u001b[0m \u001b[0mtorch\u001b[0m\u001b[0;34m.\u001b[0m\u001b[0mindex_select\u001b[0m\u001b[0;34m(\u001b[0m\u001b[0mweight\u001b[0m\u001b[0;34m,\u001b[0m \u001b[0;36m0\u001b[0m\u001b[0;34m,\u001b[0m \u001b[0mindices\u001b[0m\u001b[0;34m)\u001b[0m\u001b[0;34m\u001b[0m\u001b[0m\n\u001b[1;32m     58\u001b[0m         \u001b[0;32melse\u001b[0m\u001b[0;34m:\u001b[0m\u001b[0;34m\u001b[0m\u001b[0m\n\u001b[0;32m---> 59\u001b[0;31m             \u001b[0moutput\u001b[0m \u001b[0;34m=\u001b[0m \u001b[0mtorch\u001b[0m\u001b[0;34m.\u001b[0m\u001b[0mindex_select\u001b[0m\u001b[0;34m(\u001b[0m\u001b[0mweight\u001b[0m\u001b[0;34m,\u001b[0m \u001b[0;36m0\u001b[0m\u001b[0;34m,\u001b[0m \u001b[0mindices\u001b[0m\u001b[0;34m.\u001b[0m\u001b[0mview\u001b[0m\u001b[0;34m(\u001b[0m\u001b[0;34m-\u001b[0m\u001b[0;36m1\u001b[0m\u001b[0;34m)\u001b[0m\u001b[0;34m)\u001b[0m\u001b[0;34m\u001b[0m\u001b[0m\n\u001b[0m\u001b[1;32m     60\u001b[0m             \u001b[0moutput\u001b[0m \u001b[0;34m=\u001b[0m \u001b[0moutput\u001b[0m\u001b[0;34m.\u001b[0m\u001b[0mview\u001b[0m\u001b[0;34m(\u001b[0m\u001b[0mindices\u001b[0m\u001b[0;34m.\u001b[0m\u001b[0msize\u001b[0m\u001b[0;34m(\u001b[0m\u001b[0;36m0\u001b[0m\u001b[0;34m)\u001b[0m\u001b[0;34m,\u001b[0m \u001b[0mindices\u001b[0m\u001b[0;34m.\u001b[0m\u001b[0msize\u001b[0m\u001b[0;34m(\u001b[0m\u001b[0;36m1\u001b[0m\u001b[0;34m)\u001b[0m\u001b[0;34m,\u001b[0m \u001b[0mweight\u001b[0m\u001b[0;34m.\u001b[0m\u001b[0msize\u001b[0m\u001b[0;34m(\u001b[0m\u001b[0;36m1\u001b[0m\u001b[0;34m)\u001b[0m\u001b[0;34m)\u001b[0m\u001b[0;34m\u001b[0m\u001b[0m\n\u001b[1;32m     61\u001b[0m \u001b[0;34m\u001b[0m\u001b[0m\n",
      "\u001b[0;31mTypeError\u001b[0m: torch.index_select received an invalid combination of arguments - got (\u001b[32;1mtorch.FloatTensor\u001b[0m, \u001b[32;1mint\u001b[0m, \u001b[31;1mtorch.cuda.LongTensor\u001b[0m), but expected (torch.FloatTensor source, int dim, torch.LongTensor index)"
     ]
    }
   ],
   "source": [
    "with tqdm.tqdm(total=epochs) as pbar:\n",
    "    for epoch in range(start_epoch, epochs):\n",
    "        # train for one epoch\n",
    "        train_loss = train(train_loader, model, criterion, optimizer, epoch)\n",
    "        # evaluate on validation set\n",
    "        val_loss = validate(val_loader, model, criterion)\n",
    "        scheduler.step(val_loss)\n",
    "        pbar.set_description('Epoch [{0}/{1}]'.format(str(epoch).zfill(3),str(epochs).zfill(3)), refresh=False)\n",
    "        pbar.set_postfix(train_loss=train_loss, val_loss=val_loss, refresh=False)\n",
    "        pbar.update(1)"
   ]
  },
  {
   "cell_type": "code",
   "execution_count": 39,
   "metadata": {
    "ExecuteTime": {
     "end_time": "2018-03-16T10:25:22.558761Z",
     "start_time": "2018-03-16T10:25:22.387797Z"
    }
   },
   "outputs": [
    {
     "data": {
      "text/plain": [
       "<matplotlib.axes._subplots.AxesSubplot at 0x7f4cd8250e48>"
      ]
     },
     "execution_count": 39,
     "metadata": {},
     "output_type": "execute_result"
    },
    {
     "data": {
      "image/png": "[encoded data removed]",
      "text/plain": [
       "<matplotlib.figure.Figure at 0x7f4cd824e630>"
      ]
     },
     "metadata": {},
     "output_type": "display_data"
    }
   ],
   "source": [
    "train_dataset.df[train_dataset.df.ForecastId == 359].Value.plot()"
   ]
  },
  {
   "cell_type": "code",
   "execution_count": 18,
   "metadata": {
    "ExecuteTime": {
     "end_time": "2018-03-16T11:10:49.066271Z",
     "start_time": "2018-03-16T11:10:49.063867Z"
    }
   },
   "outputs": [],
   "source": [
    "a = np.random.randint(1,size=(1,192))"
   ]
  },
  {
   "cell_type": "code",
   "execution_count": null,
   "metadata": {},
   "outputs": [],
   "source": [
    "np.vstack([a] * 16)"
   ]
  },
  {
   "cell_type": "code",
   "execution_count": 22,
   "metadata": {
    "ExecuteTime": {
     "end_time": "2018-03-16T11:11:51.283014Z",
     "start_time": "2018-03-16T11:11:51.279124Z"
    }
   },
   "outputs": [
    {
     "data": {
      "text/plain": [
       "[0, 1, 2, 3, 4, 5, 6, 7, 8, 9, 10, 11, 12, 13, 14, 15]"
      ]
     },
     "execution_count": 22,
     "metadata": {},
     "output_type": "execute_result"
    }
   ],
   "source": [
    "list(range(0,16))"
   ]
  },
  {
   "cell_type": "code",
   "execution_count": 21,
   "metadata": {
    "ExecuteTime": {
     "end_time": "2018-03-16T11:11:25.003124Z",
     "start_time": "2018-03-16T11:11:24.998206Z"
    }
   },
   "outputs": [
    {
     "data": {
      "text/plain": [
       "(16, 192)"
      ]
     },
     "execution_count": 21,
     "metadata": {},
     "output_type": "execute_result"
    }
   ],
   "source": [
    "np.vstack([a] * 16).shape"
   ]
  },
  {
   "cell_type": "code",
   "execution_count": 15,
   "metadata": {
    "ExecuteTime": {
     "end_time": "2018-03-16T10:17:45.165489Z",
     "start_time": "2018-03-16T10:17:45.160201Z"
    }
   },
   "outputs": [
    {
     "data": {
      "text/plain": [
       "((64, 192), (64, 384, 8), (64, 192))"
      ]
     },
     "execution_count": 15,
     "metadata": {},
     "output_type": "execute_result"
    }
   ],
   "source": [
    "x1.shape,x2.shape,y.shape"
   ]
  },
  {
   "cell_type": "code",
   "execution_count": 47,
   "metadata": {
    "ExecuteTime": {
     "end_time": "2018-03-16T10:27:21.247960Z",
     "start_time": "2018-03-16T10:27:21.243034Z"
    }
   },
   "outputs": [
    {
     "data": {
      "text/plain": [
       "(8,)"
      ]
     },
     "execution_count": 47,
     "metadata": {},
     "output_type": "execute_result"
    }
   ],
   "source": [
    "x2[idx,0].shape"
   ]
  },
  {
   "cell_type": "code",
   "execution_count": 48,
   "metadata": {
    "ExecuteTime": {
     "end_time": "2018-03-16T10:27:27.183309Z",
     "start_time": "2018-03-16T10:27:27.010938Z"
    }
   },
   "outputs": [
    {
     "data": {
      "image/png": "[encoded data removed]",
      "text/plain": [
       "<matplotlib.figure.Figure at 0x7f4cd82804a8>"
      ]
     },
     "metadata": {},
     "output_type": "display_data"
    }
   ],
   "source": [
    "import matplotlib.pyplot as plt\n",
    "idx = 10\n",
    "plot_df = pd.DataFrame(list(x2[idx,:,0]))\n",
    "plot_df.plot()\n",
    "plt.show()"
   ]
  },
  {
   "cell_type": "code",
   "execution_count": 35,
   "metadata": {
    "ExecuteTime": {
     "end_time": "2018-03-16T10:23:55.646343Z",
     "start_time": "2018-03-16T10:23:55.467965Z"
    }
   },
   "outputs": [
    {
     "data": {
      "image/png": "[encoded data removed]",
      "text/plain": [
       "<matplotlib.figure.Figure at 0x7f4cd827cc18>"
      ]
     },
     "metadata": {},
     "output_type": "display_data"
    }
   ],
   "source": [
    "import matplotlib.pyplot as plt\n",
    "idx = 38\n",
    "plot_df = pd.DataFrame(list(x1[idx,:])+list(y[idx+10,:]))\n",
    "plot_df.plot()\n",
    "plt.show()"
   ]
  },
  {
   "cell_type": "code",
   "execution_count": null,
   "metadata": {},
   "outputs": [],
   "source": [
    "def save_checkpoint(state, is_best, filename, best_filename):\n",
    "    torch.save(state, filename)\n",
    "    if is_best:\n",
    "        shutil.copyfile(filename, best_filename)\n",
    "\n"
   ]
  }
 ],
 "metadata": {
  "kernelspec": {
   "display_name": "Python 3",
   "language": "python",
   "name": "python3"
  },
  "language_info": {
   "codemirror_mode": {
    "name": "ipython",
    "version": 3
   },
   "file_extension": ".py",
   "mimetype": "text/x-python",
   "name": "python",
   "nbconvert_exporter": "python",
   "pygments_lexer": "ipython3",
   "version": "3.5.4"
  },
  "toc": {
   "nav_menu": {},
   "number_sections": true,
   "sideBar": true,
   "skip_h1_title": false,
   "title_cell": "Table of Contents",
   "title_sidebar": "Contents",
   "toc_cell": false,
   "toc_position": {
    "height": "702px",
    "left": "307px",
    "top": "111px",
    "width": "165px"
   },
   "toc_section_display": true,
   "toc_window_display": true
  }
 },
 "nbformat": 4,
 "nbformat_minor": 2
}
